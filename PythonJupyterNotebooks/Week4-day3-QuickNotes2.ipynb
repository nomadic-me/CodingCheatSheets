{
 "cells": [
  {
   "cell_type": "markdown",
   "id": "3e725dcc-5b0e-43f7-b35a-0eb0623c5032",
   "metadata": {},
   "source": [
    "# Deep Equals\n",
    "\n",
    "Suppose you have two lists with the same contents.\n",
    "\n",
    "```python\n",
    "list first = [1, 2, 3];\n",
    "list second = [3, 2, 1];\n",
    "```\n",
    "\n",
    "Write a function that tests if the contents of two lists are equal."
   ]
  },
  {
   "cell_type": "code",
   "execution_count": 26,
   "id": "a120542e-2f49-4cef-b0fb-984122a59f93",
   "metadata": {},
   "outputs": [],
   "source": [
    "#first check if an element in the first list exists in the second list\n",
    "\n",
    "#if yes then pop that element out from both lists\n",
    "\n",
    "first = [1, 2, 3]\n",
    "second = [3, 2, 1, 4]\n",
    "\n",
    "#print(f\"before popping {first}\")\n",
    "#first.pop(first.index(2))\n",
    "#print(f\"after popping {first}\")"
   ]
  },
  {
   "cell_type": "code",
   "execution_count": 27,
   "id": "f20377db-9862-4942-8a4e-543dca107f02",
   "metadata": {},
   "outputs": [
    {
     "name": "stdout",
     "output_type": "stream",
     "text": [
      "[2, 3]\n",
      "[3, 2, 4]\n",
      "[3]\n",
      "[3, 4]\n",
      "[]\n",
      "[4]\n"
     ]
    }
   ],
   "source": [
    "def func_delete_element_from_lists(element):\n",
    "    global first\n",
    "    global second\n",
    "    \n",
    "    for i in first:\n",
    "        if(i == element) :\n",
    "            first.pop(first.index(element))     \n",
    "            print(first)\n",
    "            for j in second:\n",
    "                if(j == element) :\n",
    "                    second.pop(second.index(element))\n",
    "                    print(second)\n",
    "        \n",
    "k = len(first)\n",
    "while k>0:\n",
    "    func_delete_element_from_lists(first[0])\n",
    "    k = k - 1\n",
    "    \n",
    "\n",
    "if len(first) == 0:\n",
    "    if len(second) == 0:\n",
    "        print(\"Equal\")\n",
    "else:\n",
    "    print(\"Not Equal\")\n",
    "\n",
    "        \n"
   ]
  },
  {
   "cell_type": "code",
   "execution_count": null,
   "id": "8e6a8da4-4651-4735-96ec-ba5c74464f86",
   "metadata": {},
   "outputs": [],
   "source": []
  }
 ],
 "metadata": {
  "kernelspec": {
   "display_name": "Python 3 (ipykernel)",
   "language": "python",
   "name": "python3"
  },
  "language_info": {
   "codemirror_mode": {
    "name": "ipython",
    "version": 3
   },
   "file_extension": ".py",
   "mimetype": "text/x-python",
   "name": "python",
   "nbconvert_exporter": "python",
   "pygments_lexer": "ipython3",
   "version": "3.9.7"
  }
 },
 "nbformat": 4,
 "nbformat_minor": 5
}
