{
 "cells": [
  {
   "cell_type": "code",
   "execution_count": 1,
   "id": "b3b8e50f-152a-4a1f-8940-c7f956730bf4",
   "metadata": {},
   "outputs": [],
   "source": [
    "#Imports\n",
    "\n",
    "from dataclasses import dataclass\n",
    "from datetime import datetime\n",
    "from typing import Any"
   ]
  },
  {
   "cell_type": "code",
   "execution_count": 5,
   "id": "dcde59eb-3500-4adb-bfcc-c79edb91aa7b",
   "metadata": {},
   "outputs": [],
   "source": [
    "# Creating the Block data class\n",
    "\n",
    "#this is a decorator with '@' symbol\n",
    "\n",
    "#This means that there is no need to define the __init__ function and define the attibutes\n",
    "#There is no access modifier - there is no Public and Private\n",
    "\n",
    "@dataclass\n",
    "class Block:\n",
    "    data: Any\n",
    "    creator_id: int\n",
    "    timestamp: str = datetime.utcnow().strftime(\"%H:%M:%S\")"
   ]
  },
  {
   "cell_type": "code",
   "execution_count": 6,
   "id": "ae03d512-b816-47b5-9220-959a1ae68275",
   "metadata": {},
   "outputs": [],
   "source": [
    "# Creating a new block\n",
    "new_block = Block(data=\"My First Block!\", creator_id=42)\n"
   ]
  },
  {
   "cell_type": "code",
   "execution_count": 7,
   "id": "06982c2e-a448-4849-96bf-4c28e47bb210",
   "metadata": {},
   "outputs": [
    {
     "name": "stdout",
     "output_type": "stream",
     "text": [
      "Block(data='My First Block!', creator_id=42, timestamp='14:34:11')\n"
     ]
    }
   ],
   "source": [
    "\n",
    "# Print the new block\n",
    "print(new_block)"
   ]
  },
  {
   "cell_type": "code",
   "execution_count": null,
   "id": "18a3de8d-f552-4336-bdab-175600f06e7d",
   "metadata": {},
   "outputs": [],
   "source": []
  }
 ],
 "metadata": {
  "kernelspec": {
   "display_name": "Python 3 (ipykernel)",
   "language": "python",
   "name": "python3"
  },
  "language_info": {
   "codemirror_mode": {
    "name": "ipython",
    "version": 3
   },
   "file_extension": ".py",
   "mimetype": "text/x-python",
   "name": "python",
   "nbconvert_exporter": "python",
   "pygments_lexer": "ipython3",
   "version": "3.8.13"
  }
 },
 "nbformat": 4,
 "nbformat_minor": 5
}
