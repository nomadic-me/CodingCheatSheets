{
 "cells": [
  {
   "cell_type": "code",
   "execution_count": 7,
   "id": "f2942b8b-b5ac-477e-84da-a9bc51cae45c",
   "metadata": {},
   "outputs": [],
   "source": [
    "# Create a function named create_greeting that takes in first_name, last_name, and revenue as \n",
    "# parameters, and returns a dynamic greeting based on revenue conditionals:\n",
    "\n",
    "# Platinum = 3001+\n",
    "# Gold = 2001–3000\n",
    "# Silver = 1001–2000\n",
    "# Bronze = 0–1000\n",
    "\n",
    "# Create a for loop that iterates through customers and prints out the constructed greeting for each customer."
   ]
  },
  {
   "cell_type": "code",
   "execution_count": 14,
   "id": "1e25d1dd-a15f-4a30-9e29-4835ddb5020e",
   "metadata": {},
   "outputs": [],
   "source": [
    "#def create_greeting (first_name, last_name, revenue):\n",
    "\n",
    "\n",
    "    \n",
    "# -*- coding: utf-8 -*-\n",
    "\"\"\"Refresher activity.\n",
    "\n",
    "This script will use variables, conditionals, lists, dicts, and functions\n",
    "to print out different greetings for customers based on their\n",
    "business tier (determined by revenue).\n",
    "\"\"\"\n",
    "\n",
    "# List of dicts\n",
    "customers = [\n",
    "    { \"first_name\": \"Tom\", \"last_name\": \"Bell\", \"revenue\": 0 },\n",
    "    { \"first_name\": \"Maggie\", \"last_name\": \"Johnson\", \"revenue\": 1032 },\n",
    "    { \"first_name\": \"John\", \"last_name\": \"Spectre\", \"revenue\": 2543 },\n",
    "    { \"first_name\": \"Susy\", \"last_name\": \"Simmons\", \"revenue\": 5322 }\n",
    "]\n",
    "\n",
    "# @TODO Define a function that accepts a customer first_name, last_name, and\n",
    "# revenue and returns a custom greeting with the full name.\n",
    "# Use these ranges to determine the business tier (and corresponding message)\n",
    "# for each customer.\n",
    "#   Platinum = 3001+\n",
    "#   Gold = 2001-3000\n",
    "#   Silver = 1001-2000\n",
    "#   Bronze = 0-1000\n",
    "def create_greeting(first_name, last_name, revenue):\n",
    "    # @TODO: YOUR CODE HERE!\n",
    "        if revenue > 3001:\n",
    "            greeting = \"Welcome \" + first_name + \" \" + last_name + \"! You are our Platinum Member!\"\n",
    "        elif revenue > 2001:\n",
    "            greeting = \"Welcome \" + first_name + \" \" + last_name + \"! You are our Gold Member!\"\n",
    "        elif revenue > 1001:\n",
    "            greeting = \"Welcome \" + first_name + \" \" + last_name + \"! You are our Silver Member!\"\n",
    "        else:\n",
    "            greeting = \"Welcome \" + first_name + \" \" + last_name + \"! You are our Bronze Member!\"\n",
    "        # greeting = \"\"\n",
    "        return greeting\n",
    "\n",
    "# @TODO: Loop through the list of customers and use your function to print\n",
    "# custom greetings for each customer.\n",
    "# @TODO: YOUR CODE HERE!\n",
    "\n",
    "\n",
    "    \n",
    "\n",
    "    "
   ]
  },
  {
   "cell_type": "code",
   "execution_count": 19,
   "id": "fd09c0c1-2c0c-4a27-9a05-6fbcd9df6b16",
   "metadata": {},
   "outputs": [
    {
     "name": "stdout",
     "output_type": "stream",
     "text": [
      "Welcome Tom Bell! You are our Bronze Member!\n",
      "Welcome Maggie Johnson! You are our Silver Member!\n",
      "Welcome John Spectre! You are our Gold Member!\n",
      "Welcome Susy Simmons! You are our Platinum Member!\n"
     ]
    }
   ],
   "source": [
    "for i in range(0,len(customers)):\n",
    "    print(create_greeting(customers[i]['first_name'], customers[i]['last_name'],customers[i]['revenue']))"
   ]
  },
  {
   "cell_type": "code",
   "execution_count": null,
   "id": "56cf98c2-8d13-42d1-9087-57c1722eee6f",
   "metadata": {},
   "outputs": [],
   "source": []
  }
 ],
 "metadata": {
  "kernelspec": {
   "display_name": "Python 3 (ipykernel)",
   "language": "python",
   "name": "python3"
  },
  "language_info": {
   "codemirror_mode": {
    "name": "ipython",
    "version": 3
   },
   "file_extension": ".py",
   "mimetype": "text/x-python",
   "name": "python",
   "nbconvert_exporter": "python",
   "pygments_lexer": "ipython3",
   "version": "3.7.11"
  }
 },
 "nbformat": 4,
 "nbformat_minor": 5
}
