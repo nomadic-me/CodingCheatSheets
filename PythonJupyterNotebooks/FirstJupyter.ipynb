{
 "cells": [
  {
   "cell_type": "code",
   "execution_count": 3,
   "id": "05fd9ab3-450d-4bb1-a05d-4325d2b31048",
   "metadata": {},
   "outputs": [
    {
     "name": "stdout",
     "output_type": "stream",
     "text": [
      "hello world 2\n"
     ]
    }
   ],
   "source": [
    "print(\"hello world 2\");"
   ]
  },
  {
   "cell_type": "code",
   "execution_count": 6,
   "id": "b0327312-76c6-4011-980e-48aa00624606",
   "metadata": {},
   "outputs": [],
   "source": [
    "name=\"satish\""
   ]
  },
  {
   "cell_type": "code",
   "execution_count": 7,
   "id": "7f2b3d5a-659e-4763-a6fb-8669b161dae8",
   "metadata": {},
   "outputs": [
    {
     "data": {
      "text/plain": [
       "'satish'"
      ]
     },
     "execution_count": 7,
     "metadata": {},
     "output_type": "execute_result"
    }
   ],
   "source": [
    "name"
   ]
  },
  {
   "cell_type": "code",
   "execution_count": 8,
   "id": "0378e57c-75ed-47f5-b207-bbb75bc6e209",
   "metadata": {},
   "outputs": [
    {
     "data": {
      "text/plain": [
       "str"
      ]
     },
     "execution_count": 8,
     "metadata": {},
     "output_type": "execute_result"
    }
   ],
   "source": [
    "type(name)"
   ]
  },
  {
   "cell_type": "code",
   "execution_count": 9,
   "id": "0191a0ac-6a52-4c47-85e1-3c557d99c5cd",
   "metadata": {},
   "outputs": [
    {
     "data": {
      "text/plain": [
       "21"
      ]
     },
     "execution_count": 9,
     "metadata": {},
     "output_type": "execute_result"
    }
   ],
   "source": [
    "age=21\n",
    "age"
   ]
  },
  {
   "cell_type": "code",
   "execution_count": 10,
   "id": "de9edca0-ecbe-44a9-b0cd-4c87367b4308",
   "metadata": {},
   "outputs": [
    {
     "data": {
      "text/plain": [
       "int"
      ]
     },
     "execution_count": 10,
     "metadata": {},
     "output_type": "execute_result"
    }
   ],
   "source": [
    "type(age)\n"
   ]
  },
  {
   "cell_type": "code",
   "execution_count": 11,
   "id": "89f40297-2249-47b6-b445-f4e39d682f5b",
   "metadata": {},
   "outputs": [
    {
     "data": {
      "text/plain": [
       "float"
      ]
     },
     "execution_count": 11,
     "metadata": {},
     "output_type": "execute_result"
    }
   ],
   "source": [
    "rate=4.3\n",
    "type(rate)"
   ]
  },
  {
   "cell_type": "code",
   "execution_count": 18,
   "id": "544e1837-48a5-4649-bea3-95eec840d724",
   "metadata": {},
   "outputs": [
    {
     "name": "stdout",
     "output_type": "stream",
     "text": [
      "The Speed is 45.0km/hr\n"
     ]
    }
   ],
   "source": [
    "time = 20/60\n",
    "distance = 15\n",
    "speed = distance / time\n",
    "print(f\"The Speed is {speed}km/hr\")\n"
   ]
  },
  {
   "cell_type": "code",
   "execution_count": 22,
   "id": "201be486-bd51-4560-90b0-8b5f118df7c2",
   "metadata": {},
   "outputs": [
    {
     "name": "stdout",
     "output_type": "stream",
     "text": [
      "The Time is 2022-02-26 10:47:59.624037\n"
     ]
    }
   ],
   "source": [
    "from datetime import datetime\n",
    "print(f\"The Time is {datetime.now()}\")"
   ]
  },
  {
   "cell_type": "code",
   "execution_count": 8,
   "id": "a686b9f0-df8f-4cf0-abd5-ac0be6ddc3c5",
   "metadata": {},
   "outputs": [],
   "source": [
    "a=['1','2','hello','two']"
   ]
  },
  {
   "cell_type": "code",
   "execution_count": 9,
   "id": "88e50cd3-35e4-4c4f-80df-3a69f2391b2e",
   "metadata": {},
   "outputs": [
    {
     "name": "stdout",
     "output_type": "stream",
     "text": [
      "1\n"
     ]
    }
   ],
   "source": [
    "print(a[0])\n"
   ]
  },
  {
   "cell_type": "code",
   "execution_count": 10,
   "id": "217fbc72-df96-4378-8588-c132c20c1dfd",
   "metadata": {},
   "outputs": [
    {
     "data": {
      "text/plain": [
       "list"
      ]
     },
     "execution_count": 10,
     "metadata": {},
     "output_type": "execute_result"
    }
   ],
   "source": [
    "type(a)"
   ]
  },
  {
   "cell_type": "code",
   "execution_count": 17,
   "id": "079a21b1-1fda-468a-8a6e-bdffb71e8c88",
   "metadata": {},
   "outputs": [
    {
     "data": {
      "text/plain": [
       "5"
      ]
     },
     "execution_count": 17,
     "metadata": {},
     "output_type": "execute_result"
    }
   ],
   "source": [
    "len(a[2])"
   ]
  },
  {
   "cell_type": "code",
   "execution_count": 19,
   "id": "acfa4ec2-e98f-4978-9d5c-1c27fd4c769e",
   "metadata": {},
   "outputs": [
    {
     "name": "stdout",
     "output_type": "stream",
     "text": [
      "1\n",
      "2\n",
      "hello\n",
      "two\n"
     ]
    }
   ],
   "source": [
    "# More information about Range Funciton: https://www.w3schools.com/python/ref_func_range.asp\n",
    "# \n",
    "# Definition and Usage\n",
    "# The range() function returns a sequence of numbers, starting from 0 by default, \n",
    "# and increments by 1 (by default), and stops before a specified number.\n",
    "# \n",
    "# Syntax\n",
    "# range(start, stop, step)\n",
    "\n",
    "for i in range(0,len(a)):\n",
    "    print(a[i])"
   ]
  },
  {
   "cell_type": "code",
   "execution_count": null,
   "id": "b0dc7691-844a-4de7-ac6f-ccd2487e476a",
   "metadata": {},
   "outputs": [],
   "source": []
  },
  {
   "cell_type": "code",
   "execution_count": null,
   "id": "96d49a43-ee0f-4518-a5a0-3fac67f8b6c9",
   "metadata": {},
   "outputs": [],
   "source": []
  }
 ],
 "metadata": {
  "kernelspec": {
   "display_name": "Python 3 (ipykernel)",
   "language": "python",
   "name": "python3"
  },
  "language_info": {
   "codemirror_mode": {
    "name": "ipython",
    "version": 3
   },
   "file_extension": ".py",
   "mimetype": "text/x-python",
   "name": "python",
   "nbconvert_exporter": "python",
   "pygments_lexer": "ipython3",
   "version": "3.9.7"
  }
 },
 "nbformat": 4,
 "nbformat_minor": 5
}
