{
 "cells": [
  {
   "cell_type": "code",
   "execution_count": 1,
   "id": "230bb3a1-037e-42df-8507-7347816574ea",
   "metadata": {},
   "outputs": [
    {
     "data": {
      "text/html": [
       "<div>\n",
       "<style scoped>\n",
       "    .dataframe tbody tr th:only-of-type {\n",
       "        vertical-align: middle;\n",
       "    }\n",
       "\n",
       "    .dataframe tbody tr th {\n",
       "        vertical-align: top;\n",
       "    }\n",
       "\n",
       "    .dataframe thead th {\n",
       "        text-align: right;\n",
       "    }\n",
       "</style>\n",
       "<table border=\"1\" class=\"dataframe\">\n",
       "  <thead>\n",
       "    <tr style=\"text-align: right;\">\n",
       "      <th></th>\n",
       "      <th>cryptocurrency</th>\n",
       "      <th>data_price</th>\n",
       "      <th>data_date</th>\n",
       "      <th>data_time</th>\n",
       "      <th>timestamp</th>\n",
       "    </tr>\n",
       "  </thead>\n",
       "  <tbody>\n",
       "    <tr>\n",
       "      <th>0</th>\n",
       "      <td>bitcoin</td>\n",
       "      <td>NaN</td>\n",
       "      <td>5/9/17</td>\n",
       "      <td>1.494290e+12</td>\n",
       "      <td>1.557290e+12</td>\n",
       "    </tr>\n",
       "    <tr>\n",
       "      <th>1</th>\n",
       "      <td>bitcoin</td>\n",
       "      <td>1743.723523</td>\n",
       "      <td>5/10/17</td>\n",
       "      <td>1.494370e+12</td>\n",
       "      <td>NaN</td>\n",
       "    </tr>\n",
       "    <tr>\n",
       "      <th>2</th>\n",
       "      <td>bitcoin</td>\n",
       "      <td>1828.678209</td>\n",
       "      <td>5/11/17</td>\n",
       "      <td>1.494460e+12</td>\n",
       "      <td>NaN</td>\n",
       "    </tr>\n",
       "    <tr>\n",
       "      <th>3</th>\n",
       "      <td>bitcoin</td>\n",
       "      <td>1776.443919</td>\n",
       "      <td>5/12/17</td>\n",
       "      <td>1.494550e+12</td>\n",
       "      <td>NaN</td>\n",
       "    </tr>\n",
       "    <tr>\n",
       "      <th>4</th>\n",
       "      <td>bitcoin</td>\n",
       "      <td>1714.964198</td>\n",
       "      <td>5/13/17</td>\n",
       "      <td>1.494630e+12</td>\n",
       "      <td>NaN</td>\n",
       "    </tr>\n",
       "    <tr>\n",
       "      <th>5</th>\n",
       "      <td>bitcoin</td>\n",
       "      <td>1789.278913</td>\n",
       "      <td>5/14/17</td>\n",
       "      <td>1.494720e+12</td>\n",
       "      <td>NaN</td>\n",
       "    </tr>\n",
       "    <tr>\n",
       "      <th>6</th>\n",
       "      <td>bitcoin</td>\n",
       "      <td>1742.722945</td>\n",
       "      <td>5/15/17</td>\n",
       "      <td>1.494810e+12</td>\n",
       "      <td>NaN</td>\n",
       "    </tr>\n",
       "    <tr>\n",
       "      <th>7</th>\n",
       "      <td>bitcoin</td>\n",
       "      <td>NaN</td>\n",
       "      <td>5/16/17</td>\n",
       "      <td>1.494890e+12</td>\n",
       "      <td>NaN</td>\n",
       "    </tr>\n",
       "    <tr>\n",
       "      <th>8</th>\n",
       "      <td>bitcoin</td>\n",
       "      <td>1802.035054</td>\n",
       "      <td>5/17/17</td>\n",
       "      <td>1.494980e+12</td>\n",
       "      <td>NaN</td>\n",
       "    </tr>\n",
       "    <tr>\n",
       "      <th>9</th>\n",
       "      <td>bitcoin</td>\n",
       "      <td>1840.501678</td>\n",
       "      <td>5/18/17</td>\n",
       "      <td>1.495070e+12</td>\n",
       "      <td>NaN</td>\n",
       "    </tr>\n",
       "  </tbody>\n",
       "</table>\n",
       "</div>"
      ],
      "text/plain": [
       "  cryptocurrency   data_price data_date     data_time     timestamp\n",
       "0        bitcoin          NaN    5/9/17  1.494290e+12  1.557290e+12\n",
       "1        bitcoin  1743.723523   5/10/17  1.494370e+12           NaN\n",
       "2        bitcoin  1828.678209   5/11/17  1.494460e+12           NaN\n",
       "3        bitcoin  1776.443919   5/12/17  1.494550e+12           NaN\n",
       "4        bitcoin  1714.964198   5/13/17  1.494630e+12           NaN\n",
       "5        bitcoin  1789.278913   5/14/17  1.494720e+12           NaN\n",
       "6        bitcoin  1742.722945   5/15/17  1.494810e+12           NaN\n",
       "7        bitcoin          NaN   5/16/17  1.494890e+12           NaN\n",
       "8        bitcoin  1802.035054   5/17/17  1.494980e+12           NaN\n",
       "9        bitcoin  1840.501678   5/18/17  1.495070e+12           NaN"
      ]
     },
     "execution_count": 1,
     "metadata": {},
     "output_type": "execute_result"
    }
   ],
   "source": [
    "#Week3-Day3-Activity3-crypto_data.csv\n",
    "\n",
    "import pandas as pd\n",
    "df = pd.read_csv(\"Resources/Week3-Day3-Activity3-crypto_data.csv\")\n",
    "df.head(10)"
   ]
  },
  {
   "cell_type": "code",
   "execution_count": 2,
   "id": "ba7f7d5e-5c3d-40c7-b833-0c90d579ce9a",
   "metadata": {},
   "outputs": [
    {
     "data": {
      "text/plain": [
       "cryptocurrency     object\n",
       "data_price        float64\n",
       "data_date          object\n",
       "data_time         float64\n",
       "timestamp         float64\n",
       "dtype: object"
      ]
     },
     "execution_count": 2,
     "metadata": {},
     "output_type": "execute_result"
    }
   ],
   "source": [
    "df.dtypes\n"
   ]
  },
  {
   "cell_type": "code",
   "execution_count": 3,
   "id": "c745c438-ec3f-4b95-ae11-a6c8423a8239",
   "metadata": {},
   "outputs": [
    {
     "data": {
      "text/html": [
       "<div>\n",
       "<style scoped>\n",
       "    .dataframe tbody tr th:only-of-type {\n",
       "        vertical-align: middle;\n",
       "    }\n",
       "\n",
       "    .dataframe tbody tr th {\n",
       "        vertical-align: top;\n",
       "    }\n",
       "\n",
       "    .dataframe thead th {\n",
       "        text-align: right;\n",
       "    }\n",
       "</style>\n",
       "<table border=\"1\" class=\"dataframe\">\n",
       "  <thead>\n",
       "    <tr style=\"text-align: right;\">\n",
       "      <th></th>\n",
       "      <th>cryptocurrency</th>\n",
       "      <th>data_price</th>\n",
       "      <th>data_date</th>\n",
       "    </tr>\n",
       "  </thead>\n",
       "  <tbody>\n",
       "    <tr>\n",
       "      <th>0</th>\n",
       "      <td>bitcoin</td>\n",
       "      <td>NaN</td>\n",
       "      <td>5/9/17</td>\n",
       "    </tr>\n",
       "    <tr>\n",
       "      <th>1</th>\n",
       "      <td>bitcoin</td>\n",
       "      <td>1743.723523</td>\n",
       "      <td>5/10/17</td>\n",
       "    </tr>\n",
       "    <tr>\n",
       "      <th>2</th>\n",
       "      <td>bitcoin</td>\n",
       "      <td>1828.678209</td>\n",
       "      <td>5/11/17</td>\n",
       "    </tr>\n",
       "    <tr>\n",
       "      <th>3</th>\n",
       "      <td>bitcoin</td>\n",
       "      <td>1776.443919</td>\n",
       "      <td>5/12/17</td>\n",
       "    </tr>\n",
       "    <tr>\n",
       "      <th>4</th>\n",
       "      <td>bitcoin</td>\n",
       "      <td>1714.964198</td>\n",
       "      <td>5/13/17</td>\n",
       "    </tr>\n",
       "    <tr>\n",
       "      <th>...</th>\n",
       "      <td>...</td>\n",
       "      <td>...</td>\n",
       "      <td>...</td>\n",
       "    </tr>\n",
       "    <tr>\n",
       "      <th>3551</th>\n",
       "      <td>litecoin</td>\n",
       "      <td>76.435295</td>\n",
       "      <td>5/3/19</td>\n",
       "    </tr>\n",
       "    <tr>\n",
       "      <th>3552</th>\n",
       "      <td>litecoin</td>\n",
       "      <td>77.011308</td>\n",
       "      <td>5/4/19</td>\n",
       "    </tr>\n",
       "    <tr>\n",
       "      <th>3553</th>\n",
       "      <td>litecoin</td>\n",
       "      <td>75.974875</td>\n",
       "      <td>5/5/19</td>\n",
       "    </tr>\n",
       "    <tr>\n",
       "      <th>3554</th>\n",
       "      <td>litecoin</td>\n",
       "      <td>73.722948</td>\n",
       "      <td>5/6/19</td>\n",
       "    </tr>\n",
       "    <tr>\n",
       "      <th>3555</th>\n",
       "      <td>litecoin</td>\n",
       "      <td>75.566057</td>\n",
       "      <td>5/7/19</td>\n",
       "    </tr>\n",
       "  </tbody>\n",
       "</table>\n",
       "<p>3556 rows × 3 columns</p>\n",
       "</div>"
      ],
      "text/plain": [
       "     cryptocurrency   data_price data_date\n",
       "0           bitcoin          NaN    5/9/17\n",
       "1           bitcoin  1743.723523   5/10/17\n",
       "2           bitcoin  1828.678209   5/11/17\n",
       "3           bitcoin  1776.443919   5/12/17\n",
       "4           bitcoin  1714.964198   5/13/17\n",
       "...             ...          ...       ...\n",
       "3551       litecoin    76.435295    5/3/19\n",
       "3552       litecoin    77.011308    5/4/19\n",
       "3553       litecoin    75.974875    5/5/19\n",
       "3554       litecoin    73.722948    5/6/19\n",
       "3555       litecoin    75.566057    5/7/19\n",
       "\n",
       "[3556 rows x 3 columns]"
      ]
     },
     "execution_count": 3,
     "metadata": {},
     "output_type": "execute_result"
    }
   ],
   "source": [
    "#we wnt to drop the columns \n",
    "df.drop(columns=['data_time','timestamp'],inplace=True)\n",
    "df"
   ]
  },
  {
   "cell_type": "code",
   "execution_count": 4,
   "id": "2fcf4c09-4f17-47a0-a19f-dca767990162",
   "metadata": {},
   "outputs": [
    {
     "data": {
      "text/html": [
       "<div>\n",
       "<style scoped>\n",
       "    .dataframe tbody tr th:only-of-type {\n",
       "        vertical-align: middle;\n",
       "    }\n",
       "\n",
       "    .dataframe tbody tr th {\n",
       "        vertical-align: top;\n",
       "    }\n",
       "\n",
       "    .dataframe thead th {\n",
       "        text-align: right;\n",
       "    }\n",
       "</style>\n",
       "<table border=\"1\" class=\"dataframe\">\n",
       "  <thead>\n",
       "    <tr style=\"text-align: right;\">\n",
       "      <th></th>\n",
       "      <th>cryptocurrency</th>\n",
       "      <th>data_price</th>\n",
       "      <th>data_date</th>\n",
       "    </tr>\n",
       "  </thead>\n",
       "  <tbody>\n",
       "    <tr>\n",
       "      <th>0</th>\n",
       "      <td>bitcoin</td>\n",
       "      <td>NaN</td>\n",
       "      <td>2017-05-09</td>\n",
       "    </tr>\n",
       "    <tr>\n",
       "      <th>1</th>\n",
       "      <td>bitcoin</td>\n",
       "      <td>1743.723523</td>\n",
       "      <td>2017-05-10</td>\n",
       "    </tr>\n",
       "    <tr>\n",
       "      <th>2</th>\n",
       "      <td>bitcoin</td>\n",
       "      <td>1828.678209</td>\n",
       "      <td>2017-05-11</td>\n",
       "    </tr>\n",
       "    <tr>\n",
       "      <th>3</th>\n",
       "      <td>bitcoin</td>\n",
       "      <td>1776.443919</td>\n",
       "      <td>2017-05-12</td>\n",
       "    </tr>\n",
       "    <tr>\n",
       "      <th>4</th>\n",
       "      <td>bitcoin</td>\n",
       "      <td>1714.964198</td>\n",
       "      <td>2017-05-13</td>\n",
       "    </tr>\n",
       "    <tr>\n",
       "      <th>...</th>\n",
       "      <td>...</td>\n",
       "      <td>...</td>\n",
       "      <td>...</td>\n",
       "    </tr>\n",
       "    <tr>\n",
       "      <th>3551</th>\n",
       "      <td>litecoin</td>\n",
       "      <td>76.435295</td>\n",
       "      <td>2019-05-03</td>\n",
       "    </tr>\n",
       "    <tr>\n",
       "      <th>3552</th>\n",
       "      <td>litecoin</td>\n",
       "      <td>77.011308</td>\n",
       "      <td>2019-05-04</td>\n",
       "    </tr>\n",
       "    <tr>\n",
       "      <th>3553</th>\n",
       "      <td>litecoin</td>\n",
       "      <td>75.974875</td>\n",
       "      <td>2019-05-05</td>\n",
       "    </tr>\n",
       "    <tr>\n",
       "      <th>3554</th>\n",
       "      <td>litecoin</td>\n",
       "      <td>73.722948</td>\n",
       "      <td>2019-05-06</td>\n",
       "    </tr>\n",
       "    <tr>\n",
       "      <th>3555</th>\n",
       "      <td>litecoin</td>\n",
       "      <td>75.566057</td>\n",
       "      <td>2019-05-07</td>\n",
       "    </tr>\n",
       "  </tbody>\n",
       "</table>\n",
       "<p>3556 rows × 3 columns</p>\n",
       "</div>"
      ],
      "text/plain": [
       "     cryptocurrency   data_price  data_date\n",
       "0           bitcoin          NaN 2017-05-09\n",
       "1           bitcoin  1743.723523 2017-05-10\n",
       "2           bitcoin  1828.678209 2017-05-11\n",
       "3           bitcoin  1776.443919 2017-05-12\n",
       "4           bitcoin  1714.964198 2017-05-13\n",
       "...             ...          ...        ...\n",
       "3551       litecoin    76.435295 2019-05-03\n",
       "3552       litecoin    77.011308 2019-05-04\n",
       "3553       litecoin    75.974875 2019-05-05\n",
       "3554       litecoin    73.722948 2019-05-06\n",
       "3555       litecoin    75.566057 2019-05-07\n",
       "\n",
       "[3556 rows x 3 columns]"
      ]
     },
     "execution_count": 4,
     "metadata": {},
     "output_type": "execute_result"
    }
   ],
   "source": [
    "#now casting date to datetime\n",
    "df['data_date'] = pd.to_datetime(df['data_date'])\n",
    "df"
   ]
  },
  {
   "cell_type": "code",
   "execution_count": 5,
   "id": "0fcd7b6a-b89a-4bff-8062-9a3e7c951ded",
   "metadata": {},
   "outputs": [
    {
     "data": {
      "text/html": [
       "<div>\n",
       "<style scoped>\n",
       "    .dataframe tbody tr th:only-of-type {\n",
       "        vertical-align: middle;\n",
       "    }\n",
       "\n",
       "    .dataframe tbody tr th {\n",
       "        vertical-align: top;\n",
       "    }\n",
       "\n",
       "    .dataframe thead th {\n",
       "        text-align: right;\n",
       "    }\n",
       "</style>\n",
       "<table border=\"1\" class=\"dataframe\">\n",
       "  <thead>\n",
       "    <tr style=\"text-align: right;\">\n",
       "      <th></th>\n",
       "      <th>cryptocurrency</th>\n",
       "      <th>data_price</th>\n",
       "      <th>data_date</th>\n",
       "    </tr>\n",
       "  </thead>\n",
       "  <tbody>\n",
       "    <tr>\n",
       "      <th>0</th>\n",
       "      <td>bitcoin</td>\n",
       "      <td>NaN</td>\n",
       "      <td>2017-05-09</td>\n",
       "    </tr>\n",
       "    <tr>\n",
       "      <th>1</th>\n",
       "      <td>bitcoin</td>\n",
       "      <td>1743.723523</td>\n",
       "      <td>2017-05-10</td>\n",
       "    </tr>\n",
       "    <tr>\n",
       "      <th>2</th>\n",
       "      <td>bitcoin</td>\n",
       "      <td>1828.678209</td>\n",
       "      <td>2017-05-11</td>\n",
       "    </tr>\n",
       "    <tr>\n",
       "      <th>3</th>\n",
       "      <td>bitcoin</td>\n",
       "      <td>1776.443919</td>\n",
       "      <td>2017-05-12</td>\n",
       "    </tr>\n",
       "    <tr>\n",
       "      <th>4</th>\n",
       "      <td>bitcoin</td>\n",
       "      <td>1714.964198</td>\n",
       "      <td>2017-05-13</td>\n",
       "    </tr>\n",
       "    <tr>\n",
       "      <th>...</th>\n",
       "      <td>...</td>\n",
       "      <td>...</td>\n",
       "      <td>...</td>\n",
       "    </tr>\n",
       "    <tr>\n",
       "      <th>3551</th>\n",
       "      <td>litecoin</td>\n",
       "      <td>76.435295</td>\n",
       "      <td>2019-05-03</td>\n",
       "    </tr>\n",
       "    <tr>\n",
       "      <th>3552</th>\n",
       "      <td>litecoin</td>\n",
       "      <td>77.011308</td>\n",
       "      <td>2019-05-04</td>\n",
       "    </tr>\n",
       "    <tr>\n",
       "      <th>3553</th>\n",
       "      <td>litecoin</td>\n",
       "      <td>75.974875</td>\n",
       "      <td>2019-05-05</td>\n",
       "    </tr>\n",
       "    <tr>\n",
       "      <th>3554</th>\n",
       "      <td>litecoin</td>\n",
       "      <td>73.722948</td>\n",
       "      <td>2019-05-06</td>\n",
       "    </tr>\n",
       "    <tr>\n",
       "      <th>3555</th>\n",
       "      <td>litecoin</td>\n",
       "      <td>75.566057</td>\n",
       "      <td>2019-05-07</td>\n",
       "    </tr>\n",
       "  </tbody>\n",
       "</table>\n",
       "<p>3556 rows × 3 columns</p>\n",
       "</div>"
      ],
      "text/plain": [
       "     cryptocurrency   data_price  data_date\n",
       "0           bitcoin          NaN 2017-05-09\n",
       "1           bitcoin  1743.723523 2017-05-10\n",
       "2           bitcoin  1828.678209 2017-05-11\n",
       "3           bitcoin  1776.443919 2017-05-12\n",
       "4           bitcoin  1714.964198 2017-05-13\n",
       "...             ...          ...        ...\n",
       "3551       litecoin    76.435295 2019-05-03\n",
       "3552       litecoin    77.011308 2019-05-04\n",
       "3553       litecoin    75.974875 2019-05-05\n",
       "3554       litecoin    73.722948 2019-05-06\n",
       "3555       litecoin    75.566057 2019-05-07\n",
       "\n",
       "[3556 rows x 3 columns]"
      ]
     },
     "execution_count": 5,
     "metadata": {},
     "output_type": "execute_result"
    }
   ],
   "source": [
    "#setting the Date as index\n",
    "df.set_index('data_date')\n",
    "df"
   ]
  },
  {
   "cell_type": "code",
   "execution_count": 6,
   "id": "91a848da-c00c-47a3-9d66-7113f277b54b",
   "metadata": {},
   "outputs": [
    {
     "data": {
      "text/html": [
       "<div>\n",
       "<style scoped>\n",
       "    .dataframe tbody tr th:only-of-type {\n",
       "        vertical-align: middle;\n",
       "    }\n",
       "\n",
       "    .dataframe tbody tr th {\n",
       "        vertical-align: top;\n",
       "    }\n",
       "\n",
       "    .dataframe thead th {\n",
       "        text-align: right;\n",
       "    }\n",
       "</style>\n",
       "<table border=\"1\" class=\"dataframe\">\n",
       "  <thead>\n",
       "    <tr style=\"text-align: right;\">\n",
       "      <th></th>\n",
       "      <th>data_price</th>\n",
       "    </tr>\n",
       "    <tr>\n",
       "      <th>cryptocurrency</th>\n",
       "      <th></th>\n",
       "    </tr>\n",
       "  </thead>\n",
       "  <tbody>\n",
       "    <tr>\n",
       "      <th>bitcoin</th>\n",
       "      <td>6323.018445</td>\n",
       "    </tr>\n",
       "    <tr>\n",
       "      <th>bitcoin-cash</th>\n",
       "      <td>733.997564</td>\n",
       "    </tr>\n",
       "    <tr>\n",
       "      <th>ethereum</th>\n",
       "      <td>369.037426</td>\n",
       "    </tr>\n",
       "    <tr>\n",
       "      <th>litecoin</th>\n",
       "      <td>85.618264</td>\n",
       "    </tr>\n",
       "    <tr>\n",
       "      <th>ripple</th>\n",
       "      <td>0.475986</td>\n",
       "    </tr>\n",
       "  </tbody>\n",
       "</table>\n",
       "</div>"
      ],
      "text/plain": [
       "                 data_price\n",
       "cryptocurrency             \n",
       "bitcoin         6323.018445\n",
       "bitcoin-cash     733.997564\n",
       "ethereum         369.037426\n",
       "litecoin          85.618264\n",
       "ripple             0.475986"
      ]
     },
     "execution_count": 6,
     "metadata": {},
     "output_type": "execute_result"
    }
   ],
   "source": [
    "#using the Groupby funciton\n",
    "df.groupby('cryptocurrency').mean()"
   ]
  },
  {
   "cell_type": "code",
   "execution_count": 7,
   "id": "b2ba387a-9263-46b0-b9c9-3cdf326b464c",
   "metadata": {},
   "outputs": [
    {
     "data": {
      "text/html": [
       "<div>\n",
       "<style scoped>\n",
       "    .dataframe tbody tr th:only-of-type {\n",
       "        vertical-align: middle;\n",
       "    }\n",
       "\n",
       "    .dataframe tbody tr th {\n",
       "        vertical-align: top;\n",
       "    }\n",
       "\n",
       "    .dataframe thead th {\n",
       "        text-align: right;\n",
       "    }\n",
       "</style>\n",
       "<table border=\"1\" class=\"dataframe\">\n",
       "  <thead>\n",
       "    <tr style=\"text-align: right;\">\n",
       "      <th></th>\n",
       "      <th>data_price</th>\n",
       "    </tr>\n",
       "    <tr>\n",
       "      <th>cryptocurrency</th>\n",
       "      <th></th>\n",
       "    </tr>\n",
       "  </thead>\n",
       "  <tbody>\n",
       "    <tr>\n",
       "      <th>ripple</th>\n",
       "      <td>0.475986</td>\n",
       "    </tr>\n",
       "    <tr>\n",
       "      <th>litecoin</th>\n",
       "      <td>85.618264</td>\n",
       "    </tr>\n",
       "    <tr>\n",
       "      <th>ethereum</th>\n",
       "      <td>369.037426</td>\n",
       "    </tr>\n",
       "    <tr>\n",
       "      <th>bitcoin-cash</th>\n",
       "      <td>733.997564</td>\n",
       "    </tr>\n",
       "    <tr>\n",
       "      <th>bitcoin</th>\n",
       "      <td>6323.018445</td>\n",
       "    </tr>\n",
       "  </tbody>\n",
       "</table>\n",
       "</div>"
      ],
      "text/plain": [
       "                 data_price\n",
       "cryptocurrency             \n",
       "ripple             0.475986\n",
       "litecoin          85.618264\n",
       "ethereum         369.037426\n",
       "bitcoin-cash     733.997564\n",
       "bitcoin         6323.018445"
      ]
     },
     "execution_count": 7,
     "metadata": {},
     "output_type": "execute_result"
    }
   ],
   "source": [
    "#now lets try to sort it ascending \n",
    "df.groupby('cryptocurrency').mean().sort_values(by='data_price')"
   ]
  },
  {
   "cell_type": "code",
   "execution_count": 8,
   "id": "9f71b5ff-7f13-4442-a3d1-a36c6b297389",
   "metadata": {},
   "outputs": [
    {
     "data": {
      "text/html": [
       "<div>\n",
       "<style scoped>\n",
       "    .dataframe tbody tr th:only-of-type {\n",
       "        vertical-align: middle;\n",
       "    }\n",
       "\n",
       "    .dataframe tbody tr th {\n",
       "        vertical-align: top;\n",
       "    }\n",
       "\n",
       "    .dataframe thead th {\n",
       "        text-align: right;\n",
       "    }\n",
       "</style>\n",
       "<table border=\"1\" class=\"dataframe\">\n",
       "  <thead>\n",
       "    <tr style=\"text-align: right;\">\n",
       "      <th></th>\n",
       "      <th>data_price</th>\n",
       "    </tr>\n",
       "    <tr>\n",
       "      <th>cryptocurrency</th>\n",
       "      <th></th>\n",
       "    </tr>\n",
       "  </thead>\n",
       "  <tbody>\n",
       "    <tr>\n",
       "      <th>bitcoin</th>\n",
       "      <td>6323.018445</td>\n",
       "    </tr>\n",
       "    <tr>\n",
       "      <th>bitcoin-cash</th>\n",
       "      <td>733.997564</td>\n",
       "    </tr>\n",
       "    <tr>\n",
       "      <th>ethereum</th>\n",
       "      <td>369.037426</td>\n",
       "    </tr>\n",
       "    <tr>\n",
       "      <th>litecoin</th>\n",
       "      <td>85.618264</td>\n",
       "    </tr>\n",
       "    <tr>\n",
       "      <th>ripple</th>\n",
       "      <td>0.475986</td>\n",
       "    </tr>\n",
       "  </tbody>\n",
       "</table>\n",
       "</div>"
      ],
      "text/plain": [
       "                 data_price\n",
       "cryptocurrency             \n",
       "bitcoin         6323.018445\n",
       "bitcoin-cash     733.997564\n",
       "ethereum         369.037426\n",
       "litecoin          85.618264\n",
       "ripple             0.475986"
      ]
     },
     "execution_count": 8,
     "metadata": {},
     "output_type": "execute_result"
    }
   ],
   "source": [
    "#now lets try to sort it decending \n",
    "df.groupby('cryptocurrency').mean().sort_values(by='data_price',ascending=False)"
   ]
  },
  {
   "cell_type": "code",
   "execution_count": 9,
   "id": "ce3ee19b-0e73-4b5f-9feb-e626b5b71af6",
   "metadata": {},
   "outputs": [
    {
     "data": {
      "text/html": [
       "<div>\n",
       "<style scoped>\n",
       "    .dataframe tbody tr th:only-of-type {\n",
       "        vertical-align: middle;\n",
       "    }\n",
       "\n",
       "    .dataframe tbody tr th {\n",
       "        vertical-align: top;\n",
       "    }\n",
       "\n",
       "    .dataframe thead th {\n",
       "        text-align: right;\n",
       "    }\n",
       "</style>\n",
       "<table border=\"1\" class=\"dataframe\">\n",
       "  <thead>\n",
       "    <tr style=\"text-align: right;\">\n",
       "      <th></th>\n",
       "      <th>data_price</th>\n",
       "    </tr>\n",
       "    <tr>\n",
       "      <th>cryptocurrency</th>\n",
       "      <th></th>\n",
       "    </tr>\n",
       "  </thead>\n",
       "  <tbody>\n",
       "    <tr>\n",
       "      <th>bitcoin</th>\n",
       "      <td>722</td>\n",
       "    </tr>\n",
       "    <tr>\n",
       "      <th>bitcoin-cash</th>\n",
       "      <td>639</td>\n",
       "    </tr>\n",
       "    <tr>\n",
       "      <th>ethereum</th>\n",
       "      <td>722</td>\n",
       "    </tr>\n",
       "    <tr>\n",
       "      <th>litecoin</th>\n",
       "      <td>728</td>\n",
       "    </tr>\n",
       "    <tr>\n",
       "      <th>ripple</th>\n",
       "      <td>728</td>\n",
       "    </tr>\n",
       "  </tbody>\n",
       "</table>\n",
       "</div>"
      ],
      "text/plain": [
       "                data_price\n",
       "cryptocurrency            \n",
       "bitcoin                722\n",
       "bitcoin-cash           639\n",
       "ethereum               722\n",
       "litecoin               728\n",
       "ripple                 728"
      ]
     },
     "execution_count": 9,
     "metadata": {},
     "output_type": "execute_result"
    }
   ],
   "source": [
    "df.groupby('cryptocurrency')[['data_price']].count()"
   ]
  },
  {
   "cell_type": "code",
   "execution_count": 10,
   "id": "bcaf6814-a580-4c67-8d2c-83d922a9139b",
   "metadata": {},
   "outputs": [
    {
     "data": {
      "text/plain": [
       "cryptocurrency\n",
       "bitcoin         AxesSubplot(0.125,0.125;0.775x0.755)\n",
       "bitcoin-cash    AxesSubplot(0.125,0.125;0.775x0.755)\n",
       "ethereum        AxesSubplot(0.125,0.125;0.775x0.755)\n",
       "litecoin        AxesSubplot(0.125,0.125;0.775x0.755)\n",
       "ripple          AxesSubplot(0.125,0.125;0.775x0.755)\n",
       "dtype: object"
      ]
     },
     "execution_count": 10,
     "metadata": {},
     "output_type": "execute_result"
    },
    {
     "data": {
      "image/png": "[encoded data removed]",
      "text/plain": [
       "<Figure size 432x288 with 1 Axes>"
      ]
     },
     "metadata": {
      "needs_background": "light"
     },
     "output_type": "display_data"
    },
    {
     "data": {
      "image/png": "[encoded data removed]",
      "text/plain": [
       "<Figure size 432x288 with 1 Axes>"
      ]
     },
     "metadata": {
      "needs_background": "light"
     },
     "output_type": "display_data"
    },
    {
     "data": {
      "image/png": "[encoded data removed]",
      "text/plain": [
       "<Figure size 432x288 with 1 Axes>"
      ]
     },
     "metadata": {
      "needs_background": "light"
     },
     "output_type": "display_data"
    },
    {
     "data": {
      "image/png": "[encoded data removed]",
      "text/plain": [
       "<Figure size 432x288 with 1 Axes>"
      ]
     },
     "metadata": {
      "needs_background": "light"
     },
     "output_type": "display_data"
    },
    {
     "data": {
      "image/png": "[encoded data removed]",
      "text/plain": [
       "<Figure size 432x288 with 1 Axes>"
      ]
     },
     "metadata": {
      "needs_background": "light"
     },
     "output_type": "display_data"
    }
   ],
   "source": [
    "df.groupby('cryptocurrency')[['data_price']].plot(legend=True)"
   ]
  },
  {
   "cell_type": "code",
   "execution_count": 11,
   "id": "63a18748-26db-4f9b-af05-c648caa05496",
   "metadata": {},
   "outputs": [
    {
     "data": {
      "text/plain": [
       "cryptocurrency\n",
       "bitcoin         AxesSubplot(0.125,0.125;0.775x0.755)\n",
       "bitcoin-cash    AxesSubplot(0.125,0.125;0.775x0.755)\n",
       "ethereum        AxesSubplot(0.125,0.125;0.775x0.755)\n",
       "litecoin        AxesSubplot(0.125,0.125;0.775x0.755)\n",
       "ripple          AxesSubplot(0.125,0.125;0.775x0.755)\n",
       "Name: data_price, dtype: object"
      ]
     },
     "execution_count": 11,
     "metadata": {},
     "output_type": "execute_result"
    },
    {
     "data": {
      "image/png": "[encoded data removed]",
      "text/plain": [
       "<Figure size 432x288 with 1 Axes>"
      ]
     },
     "metadata": {
      "needs_background": "light"
     },
     "output_type": "display_data"
    }
   ],
   "source": [
    "df.groupby('cryptocurrency')['data_price'].plot(legend=True)"
   ]
  },
  {
   "cell_type": "code",
   "execution_count": null,
   "id": "d1b5c053-a239-4139-affd-86ce64872ffb",
   "metadata": {},
   "outputs": [],
   "source": []
  }
 ],
 "metadata": {
  "kernelspec": {
   "display_name": "Python 3 (ipykernel)",
   "language": "python",
   "name": "python3"
  },
  "language_info": {
   "codemirror_mode": {
    "name": "ipython",
    "version": 3
   },
   "file_extension": ".py",
   "mimetype": "text/x-python",
   "name": "python",
   "nbconvert_exporter": "python",
   "pygments_lexer": "ipython3",
   "version": "3.9.7"
  }
 },
 "nbformat": 4,
 "nbformat_minor": 5
}
