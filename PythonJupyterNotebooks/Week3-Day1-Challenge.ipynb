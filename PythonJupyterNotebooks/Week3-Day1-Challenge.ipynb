{
 "cells": [
  {
   "cell_type": "code",
   "execution_count": 1,
   "id": "72f0f198-5ccd-428a-9536-961e7c452e34",
   "metadata": {},
   "outputs": [],
   "source": [
    "# Suppose we have a list of N numbers and repeate the following operations until we are left with only a single numner:"
   ]
  },
  {
   "cell_type": "code",
   "execution_count": 2,
   "id": "d97d8e8f-41fb-4ce0-bade-bbf0ac3e40ab",
   "metadata": {},
   "outputs": [],
   "source": [
    "# Choose any two numbers and replace them with their sum."
   ]
  },
  {
   "cell_type": "code",
   "execution_count": 3,
   "id": "100b4ac1-cdab-4cb1-b39e-d04c8a3e231c",
   "metadata": {},
   "outputs": [],
   "source": [
    "# Moreover, we associate a penalty with each operation equal to the value of the new number, \n",
    "# and call the penaly for the entire list as the sum of the penalities of each operations\n",
    "# For example given a list of [1,2,3,4,6], we should choose 2 and 3 for the "
   ]
  },
  {
   "cell_type": "code",
   "execution_count": 4,
   "id": "5fd14d30-ddc2-4503-8121-ddd10e7e5ef7",
   "metadata": {},
   "outputs": [],
   "source": [
    "#first operation, which would transform the list into [1,5,4,5] and incur a \n",
    "# penalty of 5. The Goal in this problem is to find the highest possible penaly for a given input \n"
   ]
  },
  {
   "cell_type": "code",
   "execution_count": 6,
   "id": "ebcbf67c-f4c3-4275-a197-2aab1f539ace",
   "metadata": {},
   "outputs": [],
   "source": [
    "# Signature:\n",
    "#int getTotalTime(int[] arr)\n",
    "\n"
   ]
  },
  {
   "cell_type": "code",
   "execution_count": 9,
   "id": "8e17aba0-cf32-4ef0-abef-bf14fbf90e63",
   "metadata": {},
   "outputs": [],
   "source": [
    "#Input: \n",
    "# An Array arr containing N integers denatinf the numbers in the list\n",
    "\n"
   ]
  },
  {
   "cell_type": "code",
   "execution_count": 11,
   "id": "8ecfc002-d354-4339-8dca-ab84fa649539",
   "metadata": {},
   "outputs": [],
   "source": [
    "# Output:\n",
    "# an int representing the highest possible total penalty \n"
   ]
  },
  {
   "cell_type": "code",
   "execution_count": 15,
   "id": "427226fe-f130-4bb5-8eae-118be762c255",
   "metadata": {},
   "outputs": [],
   "source": [
    "#Constrains:\n",
    "# 1 <= N <= 10^6\n",
    "# 1 <= Ai <= 10^7 where *Ai denotes the i-th initial element of an array.\n",
    "# The sum of values of N over all the test cases will not exceed 5*10^6\n"
   ]
  },
  {
   "cell_type": "code",
   "execution_count": 16,
   "id": "08d77e11-2e1b-4372-a441-650e60c9b3ba",
   "metadata": {},
   "outputs": [],
   "source": [
    "# Example\n",
    "# arr [4,2,1,3]\n",
    "# output = 26\n",
    "\n",
    "# first add 4+3 for the penalty of 7 Not array is [7,2,1]\n",
    "# add 7+2 for penaly of 9. Now the array is [9,1]\n",
    "# Add 9+1 for pnalty of 10. The panlaties sum to 26\n",
    "\n"
   ]
  },
  {
   "cell_type": "code",
   "execution_count": 50,
   "id": "a5aeff63-b204-48c1-8a72-773f626199cf",
   "metadata": {},
   "outputs": [],
   "source": [
    "# -------------- Start of program\n",
    "\n",
    "debug = False\n",
    "#lets define function to sort arry, and return the sum of the largest tow numners\n",
    "\n",
    "penaltysum = 0\n",
    "def sum_of_largest_two_numbers(arr):\n",
    "    if(debug):\n",
    "        print(arr)\n",
    "    arr.sort()\n",
    "    if(debug):\n",
    "        print(arr)\n",
    "    sumoflargetwonumbers = arr[len(arr)-1] + arr[len(arr1)-2]\n",
    "    global penaltysum \n",
    "    penaltysum = sumoflargetwonumbers + penaltysum\n",
    "    arr.pop()\n",
    "    arr.pop()\n",
    "    arr.append(sumoflargetwonumbers)\n",
    "    if(debug):\n",
    "        print(arr)\n",
    "    if len(arr)>1:\n",
    "        sum_of_largest_two_numbers(arr)\n",
    "    else:\n",
    "        print(f\" max Penalty sum is: {penaltysum}\")\n",
    "        \n",
    "\n",
    "\n",
    "    "
   ]
  },
  {
   "cell_type": "code",
   "execution_count": 51,
   "id": "89d47a97-67bc-4c55-afbb-28b6aaafb5df",
   "metadata": {},
   "outputs": [
    {
     "name": "stdout",
     "output_type": "stream",
     "text": [
      " max Penalty sum is: 26\n"
     ]
    }
   ],
   "source": [
    "arr1 = [4,2,1,3]\n",
    "sum_of_largest_two_numbers(arr1)"
   ]
  },
  {
   "cell_type": "code",
   "execution_count": null,
   "id": "0b0add55-634b-487c-a602-e9e9dcc3f580",
   "metadata": {},
   "outputs": [],
   "source": []
  },
  {
   "cell_type": "code",
   "execution_count": null,
   "id": "6b83ca0e-519c-4e41-9d7e-ac242f937054",
   "metadata": {},
   "outputs": [],
   "source": []
  }
 ],
 "metadata": {
  "kernelspec": {
   "display_name": "Python 3 (ipykernel)",
   "language": "python",
   "name": "python3"
  },
  "language_info": {
   "codemirror_mode": {
    "name": "ipython",
    "version": 3
   },
   "file_extension": ".py",
   "mimetype": "text/x-python",
   "name": "python",
   "nbconvert_exporter": "python",
   "pygments_lexer": "ipython3",
   "version": "3.9.7"
  }
 },
 "nbformat": 4,
 "nbformat_minor": 5
}
