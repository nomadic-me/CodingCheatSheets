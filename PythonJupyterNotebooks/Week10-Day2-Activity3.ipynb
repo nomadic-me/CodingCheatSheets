{
 "cells": [
  {
   "cell_type": "code",
   "execution_count": 6,
   "id": "8016045d-8735-44ba-b762-7232e38b98a3",
   "metadata": {},
   "outputs": [],
   "source": [
    "# Import libraries and dependencies\n",
    "import pandas as pd\n",
    "import matplotlib.pyplot as plt\n",
    "from pathlib import Path\n",
    "%matplotlib inline\n",
    "import numpy as np\n",
    "import pandas as pd\n",
    "import random\n"
   ]
  },
  {
   "cell_type": "code",
   "execution_count": 5,
   "id": "89d05ff8-dd17-4f50-ada3-486cff913194",
   "metadata": {},
   "outputs": [],
   "source": [
    "# Read CSV, parse dates, and set index\n",
    "csvpath = Path('Resources/Week10-Day2-Activity3-osptx.csv')\n",
    "df = pd.read_csv(csvpath, parse_dates=True, index_col='Date')"
   ]
  },
  {
   "cell_type": "code",
   "execution_count": 7,
   "id": "ca89ce8e-2235-47fd-bc1c-58953ce71778",
   "metadata": {},
   "outputs": [
    {
     "data": {
      "text/plain": [
       "<matplotlib.axes._subplots.AxesSubplot at 0x7fe120d119d0>"
      ]
     },
     "execution_count": 7,
     "metadata": {},
     "output_type": "execute_result"
    },
    {
     "data": {
      "image/png": "[encoded data removed]",
      "text/plain": [
       "<Figure size 432x288 with 1 Axes>"
      ]
     },
     "metadata": {
      "needs_background": "light"
     },
     "output_type": "display_data"
    }
   ],
   "source": [
    "df.plot()"
   ]
  },
  {
   "cell_type": "code",
   "execution_count": 8,
   "id": "d729835c-bf6c-4825-a9e8-d0ee676024cd",
   "metadata": {},
   "outputs": [
    {
     "data": {
      "text/html": [
       "<div>\n",
       "<style scoped>\n",
       "    .dataframe tbody tr th:only-of-type {\n",
       "        vertical-align: middle;\n",
       "    }\n",
       "\n",
       "    .dataframe tbody tr th {\n",
       "        vertical-align: top;\n",
       "    }\n",
       "\n",
       "    .dataframe thead th {\n",
       "        text-align: right;\n",
       "    }\n",
       "</style>\n",
       "<table border=\"1\" class=\"dataframe\">\n",
       "  <thead>\n",
       "    <tr style=\"text-align: right;\">\n",
       "      <th></th>\n",
       "      <th>Open</th>\n",
       "      <th>High</th>\n",
       "      <th>Low</th>\n",
       "      <th>Close</th>\n",
       "      <th>Volume</th>\n",
       "    </tr>\n",
       "    <tr>\n",
       "      <th>Date</th>\n",
       "      <th></th>\n",
       "      <th></th>\n",
       "      <th></th>\n",
       "      <th></th>\n",
       "      <th></th>\n",
       "    </tr>\n",
       "  </thead>\n",
       "  <tbody>\n",
       "    <tr>\n",
       "      <th>2012-01-03 16:00:00</th>\n",
       "      <td>12097.23</td>\n",
       "      <td>12216.76</td>\n",
       "      <td>11955.94</td>\n",
       "      <td>12208.43</td>\n",
       "      <td>162333312</td>\n",
       "    </tr>\n",
       "    <tr>\n",
       "      <th>2012-01-04 16:00:00</th>\n",
       "      <td>12189.71</td>\n",
       "      <td>12234.27</td>\n",
       "      <td>12154.04</td>\n",
       "      <td>12226.47</td>\n",
       "      <td>175575328</td>\n",
       "    </tr>\n",
       "    <tr>\n",
       "      <th>2012-01-05 16:00:00</th>\n",
       "      <td>12196.24</td>\n",
       "      <td>12253.13</td>\n",
       "      <td>12137.11</td>\n",
       "      <td>12237.40</td>\n",
       "      <td>161562816</td>\n",
       "    </tr>\n",
       "    <tr>\n",
       "      <th>2012-01-06 16:00:00</th>\n",
       "      <td>12241.82</td>\n",
       "      <td>12245.99</td>\n",
       "      <td>12148.31</td>\n",
       "      <td>12188.64</td>\n",
       "      <td>144785088</td>\n",
       "    </tr>\n",
       "    <tr>\n",
       "      <th>2012-01-09 16:00:00</th>\n",
       "      <td>12194.98</td>\n",
       "      <td>12210.58</td>\n",
       "      <td>12150.68</td>\n",
       "      <td>12196.72</td>\n",
       "      <td>149905296</td>\n",
       "    </tr>\n",
       "  </tbody>\n",
       "</table>\n",
       "</div>"
      ],
      "text/plain": [
       "                         Open      High       Low     Close     Volume\n",
       "Date                                                                  \n",
       "2012-01-03 16:00:00  12097.23  12216.76  11955.94  12208.43  162333312\n",
       "2012-01-04 16:00:00  12189.71  12234.27  12154.04  12226.47  175575328\n",
       "2012-01-05 16:00:00  12196.24  12253.13  12137.11  12237.40  161562816\n",
       "2012-01-06 16:00:00  12241.82  12245.99  12148.31  12188.64  144785088\n",
       "2012-01-09 16:00:00  12194.98  12210.58  12150.68  12196.72  149905296"
      ]
     },
     "execution_count": 8,
     "metadata": {},
     "output_type": "execute_result"
    }
   ],
   "source": [
    "df.head()"
   ]
  },
  {
   "cell_type": "code",
   "execution_count": 10,
   "id": "89fc2f26-fb7b-463a-9309-0b41068287fe",
   "metadata": {},
   "outputs": [],
   "source": [
    "from statsmodels.tsa.stattools import adfuller\n",
    "\n",
    "def is_stationary(series_x): \n",
    "    \"\"\"\n",
    "    Input expected: Pandas series\n",
    "    \"\"\"\n",
    "    series_x.plot(title=series_x.name)\n",
    "    \n",
    "    result = adfuller(series_x)\n",
    "    # Access the contents of the results:\n",
    "    print('ADF Statistic: %f' % result[0])\n",
    "    print('p-value:        %f ' % result[1])\n",
    "    print('Lags used:      %d' % result[2])\n",
    "    print('Critical Values:')\n",
    "    for key, value in result[4].items():\n",
    "        print((key, value))\n",
    "    \n",
    "\n",
    "    p_value = result[1]\n",
    "    if p_value <= 0.05: \n",
    "        return True \n",
    "    elif p_value > 0.05: \n",
    "        return False"
   ]
  },
  {
   "cell_type": "code",
   "execution_count": 11,
   "id": "a053148b-c97e-4cff-b18b-70d93c96a057",
   "metadata": {},
   "outputs": [
    {
     "name": "stdout",
     "output_type": "stream",
     "text": [
      "ADF Statistic: -1.556289\n",
      "p-value:        0.505505 \n",
      "Lags used:      1\n",
      "Critical Values:\n",
      "('1%', -3.4338349685861806)\n",
      "('5%', -2.8630794170659684)\n",
      "('10%', -2.5675895289750503)\n"
     ]
    },
    {
     "data": {
      "text/plain": [
       "False"
      ]
     },
     "execution_count": 11,
     "metadata": {},
     "output_type": "execute_result"
    },
    {
     "data": {
      "image/png": "[encoded data removed]",
      "text/plain": [
       "<Figure size 432x288 with 1 Axes>"
      ]
     },
     "metadata": {
      "needs_background": "light"
     },
     "output_type": "display_data"
    }
   ],
   "source": [
    "is_stationary(df['Close'])"
   ]
  },
  {
   "cell_type": "code",
   "execution_count": 15,
   "id": "56d23868-f5c6-4956-a9a7-557e1efb0371",
   "metadata": {},
   "outputs": [],
   "source": [
    "df['Returns'] = df['Close'].pct_change()"
   ]
  },
  {
   "cell_type": "code",
   "execution_count": 16,
   "id": "e8845983-9fed-4a87-ae8d-764aaf2d36aa",
   "metadata": {},
   "outputs": [],
   "source": [
    "df.dropna(inplace=True)"
   ]
  },
  {
   "cell_type": "code",
   "execution_count": 18,
   "id": "d97429d8-a7fb-456a-807d-e02170da958c",
   "metadata": {},
   "outputs": [
    {
     "name": "stdout",
     "output_type": "stream",
     "text": [
      "ADF Statistic: -20.879457\n",
      "p-value:        0.000000 \n",
      "Lags used:      4\n",
      "Critical Values:\n",
      "('1%', -3.433844279577887)\n",
      "('5%', -2.8630835276091933)\n",
      "('10%', -2.567591717680237)\n"
     ]
    },
    {
     "data": {
      "text/plain": [
       "True"
      ]
     },
     "execution_count": 18,
     "metadata": {},
     "output_type": "execute_result"
    },
    {
     "data": {
      "image/png": "[encoded data removed]",
      "text/plain": [
       "<Figure size 432x288 with 1 Axes>"
      ]
     },
     "metadata": {
      "needs_background": "light"
     },
     "output_type": "display_data"
    }
   ],
   "source": [
    "is_stationary(df['Returns'])"
   ]
  },
  {
   "cell_type": "code",
   "execution_count": 19,
   "id": "3bb25e12-9ece-4b03-87d6-c220f35f6813",
   "metadata": {},
   "outputs": [],
   "source": [
    "from statsmodels.tsa.arima_model import ARMA"
   ]
  },
  {
   "cell_type": "code",
   "execution_count": 24,
   "id": "c22aef1c-dbc4-4584-8cbb-44288cce02e1",
   "metadata": {},
   "outputs": [],
   "source": [
    "model = ARMA(df['Returns'].values, order=(1,1))"
   ]
  },
  {
   "cell_type": "code",
   "execution_count": 22,
   "id": "edf09707-98e2-436d-8797-37aeabf7d728",
   "metadata": {},
   "outputs": [
    {
     "data": {
      "text/plain": [
       "<statsmodels.tsa.arima_model.ARMA at 0x7fe0f16b41d0>"
      ]
     },
     "execution_count": 22,
     "metadata": {},
     "output_type": "execute_result"
    }
   ],
   "source": [
    "model"
   ]
  },
  {
   "cell_type": "code",
   "execution_count": 26,
   "id": "17cd78d5-32e9-4554-97d4-eabb9f0f79be",
   "metadata": {},
   "outputs": [
    {
     "name": "stdout",
     "output_type": "stream",
     "text": [
      "RUNNING THE L-BFGS-B CODE\n",
      "\n",
      "           * * *\n",
      "\n",
      "Machine precision = 2.220D-16\n",
      " N =            3     M =           12\n",
      "\n",
      "At X0         0 variables are exactly at the bounds\n",
      "\n",
      "At iterate    0    f= -3.56361D+00    |proj g|=  1.56073D-02\n",
      "\n",
      "At iterate    5    f= -3.56361D+00    |proj g|=  2.46736D-04\n",
      "\n",
      "At iterate   10    f= -3.56361D+00    |proj g|=  3.13842D-03\n",
      "\n",
      "At iterate   15    f= -3.56361D+00    |proj g|=  2.20712D-05\n",
      "\n",
      "At iterate   20    f= -3.56361D+00    |proj g|=  2.83951D-04\n",
      "\n",
      "At iterate   25    f= -3.56361D+00    |proj g|=  3.50004D-03\n",
      "\n",
      "At iterate   30    f= -3.56361D+00    |proj g|=  2.37144D-05\n",
      "\n",
      "           * * *\n",
      "\n",
      "Tit   = total number of iterations\n",
      "Tnf   = total number of function evaluations\n",
      "Tnint = total number of segments explored during Cauchy searches\n",
      "Skip  = number of BFGS updates skipped\n",
      "Nact  = number of active bounds at final generalized Cauchy point\n",
      "Projg = norm of the final projected gradient\n",
      "F     = final function value\n",
      "\n",
      "           * * *\n",
      "\n",
      "   N    Tit     Tnf  Tnint  Skip  Nact     Projg        F\n",
      "    3     32     39      1     0     0   0.000D+00  -3.564D+00\n",
      "  F =  -3.5636073239185979     \n",
      "\n",
      "CONVERGENCE: NORM_OF_PROJECTED_GRADIENT_<=_PGTOL            \n"
     ]
    },
    {
     "name": "stderr",
     "output_type": "stream",
     "text": [
      " This problem is unconstrained.\n"
     ]
    }
   ],
   "source": [
    "results = model.fit()"
   ]
  },
  {
   "cell_type": "code",
   "execution_count": 27,
   "id": "aa61361a-4f11-4e32-91f0-08adc6b5153b",
   "metadata": {},
   "outputs": [
    {
     "data": {
      "text/plain": [
       "(array([0.00053204, 0.00014079, 0.00018393, 0.00017917, 0.0001797 ,\n",
       "        0.00017964, 0.00017965, 0.00017965, 0.00017965, 0.00017965]),\n",
       " array([0.00685657, 0.00687851, 0.00687878, 0.00687878, 0.00687878,\n",
       "        0.00687878, 0.00687878, 0.00687878, 0.00687878, 0.00687878]),\n",
       " array([[-0.0129066 ,  0.01397067],\n",
       "        [-0.01334085,  0.01362242],\n",
       "        [-0.01329822,  0.01366609],\n",
       "        [-0.01330299,  0.01366134],\n",
       "        [-0.01330246,  0.01366186],\n",
       "        [-0.01330252,  0.0136618 ],\n",
       "        [-0.01330252,  0.01366181],\n",
       "        [-0.01330252,  0.01366181],\n",
       "        [-0.01330252,  0.01366181],\n",
       "        [-0.01330252,  0.01366181]]))"
      ]
     },
     "execution_count": 27,
     "metadata": {},
     "output_type": "execute_result"
    }
   ],
   "source": [
    "results.forecast(steps=10)"
   ]
  },
  {
   "cell_type": "code",
   "execution_count": 28,
   "id": "61c8ee4c-a832-4992-868c-f25e81262601",
   "metadata": {},
   "outputs": [
    {
     "data": {
      "text/plain": [
       "array([0.00053204, 0.00014079, 0.00018393, 0.00017917, 0.0001797 ,\n",
       "       0.00017964, 0.00017965, 0.00017965, 0.00017965, 0.00017965])"
      ]
     },
     "execution_count": 28,
     "metadata": {},
     "output_type": "execute_result"
    }
   ],
   "source": [
    "results.forecast(steps=10)[0]"
   ]
  },
  {
   "cell_type": "code",
   "execution_count": 29,
   "id": "706b0ee3-f3eb-4d00-9e8b-4c0fe18c36d7",
   "metadata": {},
   "outputs": [],
   "source": [
    "df_results = pd.DataFrame(results.forecast(steps=10)[0])"
   ]
  },
  {
   "cell_type": "code",
   "execution_count": 30,
   "id": "f21d5c73-0c5b-41d5-b19c-2feb7db52631",
   "metadata": {},
   "outputs": [
    {
     "data": {
      "text/plain": [
       "<matplotlib.axes._subplots.AxesSubplot at 0x7fe0f16a7c90>"
      ]
     },
     "execution_count": 30,
     "metadata": {},
     "output_type": "execute_result"
    },
    {
     "data": {
      "image/png": "[encoded data removed]",
      "text/plain": [
       "<Figure size 432x288 with 1 Axes>"
      ]
     },
     "metadata": {
      "needs_background": "light"
     },
     "output_type": "display_data"
    }
   ],
   "source": [
    "df_results.plot()"
   ]
  },
  {
   "cell_type": "code",
   "execution_count": 31,
   "id": "570a5669-2a31-4d4c-899e-923498eeba07",
   "metadata": {},
   "outputs": [
    {
     "data": {
      "text/html": [
       "<table class=\"simpletable\">\n",
       "<caption>ARMA Model Results</caption>\n",
       "<tr>\n",
       "  <th>Dep. Variable:</th>         <td>y</td>        <th>  No. Observations:  </th>    <td>1879</td>   \n",
       "</tr>\n",
       "<tr>\n",
       "  <th>Model:</th>            <td>ARMA(1, 1)</td>    <th>  Log Likelihood     </th>  <td>6696.018</td> \n",
       "</tr>\n",
       "<tr>\n",
       "  <th>Method:</th>             <td>css-mle</td>     <th>  S.D. of innovations</th>    <td>0.007</td>  \n",
       "</tr>\n",
       "<tr>\n",
       "  <th>Date:</th>          <td>Mon, 25 Apr 2022</td> <th>  AIC                </th> <td>-13384.036</td>\n",
       "</tr>\n",
       "<tr>\n",
       "  <th>Time:</th>              <td>20:16:15</td>     <th>  BIC                </th> <td>-13361.882</td>\n",
       "</tr>\n",
       "<tr>\n",
       "  <th>Sample:</th>                <td>0</td>        <th>  HQIC               </th> <td>-13375.876</td>\n",
       "</tr>\n",
       "<tr>\n",
       "  <th></th>                       <td> </td>        <th>                     </th>      <td> </td>    \n",
       "</tr>\n",
       "</table>\n",
       "<table class=\"simpletable\">\n",
       "<tr>\n",
       "     <td></td>        <th>coef</th>     <th>std err</th>      <th>z</th>      <th>P>|z|</th>  <th>[0.025</th>    <th>0.975]</th>  \n",
       "</tr>\n",
       "<tr>\n",
       "  <th>const</th>   <td>    0.0002</td> <td>    0.000</td> <td>    1.059</td> <td> 0.289</td> <td>   -0.000</td> <td>    0.001</td>\n",
       "</tr>\n",
       "<tr>\n",
       "  <th>ar.L1.y</th> <td>   -0.1103</td> <td>    0.278</td> <td>   -0.397</td> <td> 0.692</td> <td>   -0.655</td> <td>    0.435</td>\n",
       "</tr>\n",
       "<tr>\n",
       "  <th>ma.L1.y</th> <td>    0.1903</td> <td>    0.275</td> <td>    0.693</td> <td> 0.488</td> <td>   -0.348</td> <td>    0.728</td>\n",
       "</tr>\n",
       "</table>\n",
       "<table class=\"simpletable\">\n",
       "<caption>Roots</caption>\n",
       "<tr>\n",
       "    <td></td>   <th>            Real</th>  <th>         Imaginary</th> <th>         Modulus</th>  <th>        Frequency</th>\n",
       "</tr>\n",
       "<tr>\n",
       "  <th>AR.1</th> <td>          -9.0686</td> <td>          +0.0000j</td> <td>           9.0686</td> <td>           0.5000</td>\n",
       "</tr>\n",
       "<tr>\n",
       "  <th>MA.1</th> <td>          -5.2540</td> <td>          +0.0000j</td> <td>           5.2540</td> <td>           0.5000</td>\n",
       "</tr>\n",
       "</table>"
      ],
      "text/plain": [
       "<class 'statsmodels.iolib.summary.Summary'>\n",
       "\"\"\"\n",
       "                              ARMA Model Results                              \n",
       "==============================================================================\n",
       "Dep. Variable:                      y   No. Observations:                 1879\n",
       "Model:                     ARMA(1, 1)   Log Likelihood                6696.018\n",
       "Method:                       css-mle   S.D. of innovations              0.007\n",
       "Date:                Mon, 25 Apr 2022   AIC                         -13384.036\n",
       "Time:                        20:16:15   BIC                         -13361.882\n",
       "Sample:                             0   HQIC                        -13375.876\n",
       "                                                                              \n",
       "==============================================================================\n",
       "                 coef    std err          z      P>|z|      [0.025      0.975]\n",
       "------------------------------------------------------------------------------\n",
       "const          0.0002      0.000      1.059      0.289      -0.000       0.001\n",
       "ar.L1.y       -0.1103      0.278     -0.397      0.692      -0.655       0.435\n",
       "ma.L1.y        0.1903      0.275      0.693      0.488      -0.348       0.728\n",
       "                                    Roots                                    \n",
       "=============================================================================\n",
       "                  Real          Imaginary           Modulus         Frequency\n",
       "-----------------------------------------------------------------------------\n",
       "AR.1           -9.0686           +0.0000j            9.0686            0.5000\n",
       "MA.1           -5.2540           +0.0000j            5.2540            0.5000\n",
       "-----------------------------------------------------------------------------\n",
       "\"\"\""
      ]
     },
     "execution_count": 31,
     "metadata": {},
     "output_type": "execute_result"
    }
   ],
   "source": [
    "results.summary()"
   ]
  },
  {
   "cell_type": "code",
   "execution_count": null,
   "id": "24ae4860-4069-4b30-9827-c9a4cce00247",
   "metadata": {},
   "outputs": [],
   "source": []
  }
 ],
 "metadata": {
  "kernelspec": {
   "display_name": "Python [conda env:pyvizenv]",
   "language": "python",
   "name": "conda-env-pyvizenv-py"
  },
  "language_info": {
   "codemirror_mode": {
    "name": "ipython",
    "version": 3
   },
   "file_extension": ".py",
   "mimetype": "text/x-python",
   "name": "python",
   "nbconvert_exporter": "python",
   "pygments_lexer": "ipython3",
   "version": "3.7.11"
  }
 },
 "nbformat": 4,
 "nbformat_minor": 5
}
