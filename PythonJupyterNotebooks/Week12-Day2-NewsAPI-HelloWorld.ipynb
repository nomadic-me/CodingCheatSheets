{
 "cells": [
  {
   "cell_type": "code",
   "execution_count": 1,
   "id": "51fa30db-0ac2-41ad-a288-aaef0756ab6c",
   "metadata": {},
   "outputs": [],
   "source": [
    "from dotenv import load_dotenv\n",
    "import os\n",
    "import requests"
   ]
  },
  {
   "cell_type": "code",
   "execution_count": 2,
   "id": "bef6d439-0c5d-4ce2-b010-151b606b385a",
   "metadata": {},
   "outputs": [
    {
     "data": {
      "text/plain": [
       "True"
      ]
     },
     "execution_count": 2,
     "metadata": {},
     "output_type": "execute_result"
    }
   ],
   "source": [
    "load_dotenv()"
   ]
  },
  {
   "cell_type": "code",
   "execution_count": 3,
   "id": "8a6fd548-ea8b-4ac0-abb8-2f9d87bd5649",
   "metadata": {},
   "outputs": [],
   "source": [
    "api_key=os.getenv(\"NEWSAPI\")"
   ]
  },
  {
   "cell_type": "code",
   "execution_count": 6,
   "id": "554b3a23-212f-4fbd-9fbf-6ecdb984366b",
   "metadata": {},
   "outputs": [],
   "source": [
    "from newsapi import NewsApiClient\n",
    "\n"
   ]
  },
  {
   "cell_type": "code",
   "execution_count": 12,
   "id": "f45ae7b1-8ab5-49a7-aef9-6895ec8413f5",
   "metadata": {},
   "outputs": [],
   "source": [
    "# Init\n",
    "newsapi = NewsApiClient(api_key=api_key)\n",
    "\n",
    "# /v2/top-headlines\n",
    "top_headlines = newsapi.get_top_headlines(q='bitcoin',\n",
    "                                          category='business',\n",
    "                                          language='en',\n",
    "                                          country='us')"
   ]
  },
  {
   "cell_type": "code",
   "execution_count": 13,
   "id": "2da2d3a4-bc8c-47b5-82be-ea6ef9e0b375",
   "metadata": {},
   "outputs": [
    {
     "name": "stdout",
     "output_type": "stream",
     "text": [
      "{'status': 'ok', 'totalResults': 6, 'articles': [{'source': {'id': 'reuters', 'name': 'Reuters'}, 'author': None, 'title': 'Bitcoin drops as Wall Street shares tumble - Reuters', 'description': \"Bitcoin plunged to its lowest level since July 2021 on Monday, dropping in tandem with slumping U.S. equity markets amid concerns about the Federal Reserve's aggressive tightening path.\", 'url': 'https://www.reuters.com/business/finance/bitcoin-falls-lowest-since-january-line-with-tumbling-stock-markets-2022-05-09/', 'urlToImage': 'https://www.reuters.com/resizer/B0qAxA8TjZ596MlWtB1mhDiQ1HM=/1200x628/smart/filters:quality(80)/cloudfront-us-east-2.images.arcpublishing.com/reuters/SBR5WIGRUVJBRNZBI6EL6DOKVA.jpg', 'publishedAt': '2022-05-09T21:13:00Z', 'content': 'HONG KONG/LONDON/NEW YORK, May 9 (Reuters) - Bitcoin plunged to its lowest level since July 2021 on Monday, dropping in tandem with slumping U.S. equity markets amid concerns about the Federal Reserv… [+3004 chars]'}, {'source': {'id': 'the-wall-street-journal', 'name': 'The Wall Street Journal'}, 'author': 'Caitlin Ostroff, Alexander Osipovich', 'title': 'Cryptocurrency TerraUSD Falls Below Fixed Value, Triggering Selloff - The Wall Street Journal', 'description': 'Drop causes ripples in ether and bitcoin, exacerbating recent declines in their dollar values', 'url': 'https://www.wsj.com/articles/cryptocurrency-terrausd-falls-below-fixed-value-triggering-selloff-11652122461', 'urlToImage': 'https://images.wsj.net/im-540632/social', 'publishedAt': '2022-05-09T21:01:00Z', 'content': 'One type of cryptocurrency, a so-called stablecoin, is meant to keep its value at $1. But on Monday, the third-biggest stablecoin, TerraUSD, fell as low as 89 cents, causing a flood of investors to s… [+255 chars]'}, {'source': {'id': None, 'name': 'The Daily Hodl'}, 'author': 'Daily Hodl Staff', 'title': 'Billionaire Mark Cuban Predicts Mass Die-Off of Crypto Projects As Industry Goes Through Same Phase As Inte... - The Daily Hodl', 'description': 'Bitcoin is down over 7% in the last 24 hours in yet another week of heavy losses, and billionaire investor Mark Cuban says the pain might only be getting started for crypto markets.', 'url': 'https://dailyhodl.com/2022/05/09/billionaire-mark-cuban-predicts-mass-die-off-of-crypto-projects-as-industry-goes-through-same-phase-as-internet/', 'urlToImage': 'https://dailyhodl.com/wp-content/uploads/2022/05/cuban-predicts-mass.jpg', 'publishedAt': '2022-05-09T18:15:06Z', 'content': 'Bitcoin is down over 7% in the last 24 hours in yet another week of heavy losses, and billionaire investor Mark Cuban says the pain might only be getting started for crypto markets.\\r\\nThe Shark Tank s… [+2634 chars]'}, {'source': {'id': None, 'name': 'Finbold.com'}, 'author': None, 'title': \"There is 'more pain' for Bitcoin ahead, says billionaire ex-hedge fund manager - Finbold - Finance in Bold\", 'description': 'Mike Novogratz, has predicted that cryptocurrencies would continue to be associated with the Nasdaq for the meantime.', 'url': 'https://finbold.com/there-is-more-pain-for-bitcoin-ahead-says-billionaire-ex-hedge-fund-manager/', 'urlToImage': 'https://finbold.com/wp-content/uploads/2022/05/There-is-more-pain-for-Bitcoin-ahead-says-billionaire-ex-hedge-fund-manager.jpg', 'publishedAt': '2022-05-09T15:05:04Z', 'content': 'Mike Novogratz, a well-known American investor and the current CEO of Galaxy Investment Partners, has predicted that cryptocurrencies will continue to be associated with the Nasdaq in the meantime.\\r\\n… [+1749 chars]'}, {'source': {'id': None, 'name': 'Benzinga'}, 'author': 'Navdeep Yadav', 'title': 'India Not Done: Another 28% Tax On Bitcoin, Ethereum, Dogecoin Could Be Coming - Benzinga - Benzinga', 'description': 'After levying a 30% income tax on profits earned from cryptocurrency trading – the Indian government is now reportedly mulling imposing a 28% Goods and Service Tax (GST) on digital assets.', 'url': 'https://www.benzinga.com/markets/asia/22/05/27068047/india-likely-to-levy-another-28-tax-on-bitcoin-ethereum-and-other-cryptocurrencies', 'urlToImage': 'https://cdn.benzinga.com/files/images/story/2022/05/09/matthew-henry-hnymacpvkzy-unsplash.jpg?width=1200&height=800&fit=crop', 'publishedAt': '2022-05-09T13:18:49Z', 'content': 'After levying a 30% income tax on profits earned from cryptocurrency trading – the Indian government is now reportedly mulling imposing a 28% Goods and Service Tax (GST) on digital assets.\\r\\nAccording… [+1734 chars]'}, {'source': {'id': 'the-wall-street-journal', 'name': 'The Wall Street Journal'}, 'author': 'Jenna Telesca', 'title': 'Crypto Prices Slump Over the Weekend - The Wall Street Journal', 'description': 'Bitcoin falls below $34,000 during Sunday trading to about half of its November high', 'url': 'https://www.wsj.com/articles/crypto-prices-slump-over-weekend-11652011356', 'urlToImage': 'https://images.wsj.net/im-538675/social', 'publishedAt': '2022-05-08T21:16:00Z', 'content': 'The cryptocurrency market fell over the weekend, mirroring the slide of the broader stock market.\\r\\nThe worlds largest cryptocurrency, bitcoin, fell to $34,656 on Sunday afternoon, a 3.9% drop from Fr… [+159 chars]'}]}\n"
     ]
    }
   ],
   "source": [
    "print(top_headlines)"
   ]
  },
  {
   "cell_type": "code",
   "execution_count": null,
   "id": "677443c9-b627-41eb-a430-675e555ded7a",
   "metadata": {},
   "outputs": [],
   "source": []
  }
 ],
 "metadata": {
  "kernelspec": {
   "display_name": "Python [conda env:dev3.7]",
   "language": "python",
   "name": "conda-env-dev3.7-py"
  },
  "language_info": {
   "codemirror_mode": {
    "name": "ipython",
    "version": 3
   },
   "file_extension": ".py",
   "mimetype": "text/x-python",
   "name": "python",
   "nbconvert_exporter": "python",
   "pygments_lexer": "ipython3",
   "version": "3.7.7"
  }
 },
 "nbformat": 4,
 "nbformat_minor": 5
}
