{
 "cells": [
  {
   "cell_type": "code",
   "execution_count": 1,
   "id": "9264b0f9-7604-414f-81b4-2e9317d59dbe",
   "metadata": {},
   "outputs": [],
   "source": [
    "# Imports\n",
    "import hashlib\n",
    "\n"
   ]
  },
  {
   "cell_type": "code",
   "execution_count": 2,
   "id": "bbf04980-167b-4a9a-a63f-9118cece3838",
   "metadata": {},
   "outputs": [],
   "source": [
    "# Create an instance of the sha256 hashing funcion\n",
    "sha = hashlib.sha256()\n"
   ]
  },
  {
   "cell_type": "code",
   "execution_count": 3,
   "id": "7ea0051d-4b99-45d7-a43d-5f1e2673cb88",
   "metadata": {},
   "outputs": [],
   "source": [
    "\n",
    "# Create the data input to be hashed\n",
    "my_data = \"Lorem ipsum dolor sit amet, consectetur adipiscing elit. Pellentesque a nisi et nunc sollicitudin laoreet in sed neque. Proin convallis varius odio, id euismod justo tristique at. Cras at ultricies nisi, sed vulputate ante. Praesent faucibus odio in tortor tincidunt tincidunt. Vivamus interdum, tortor ac semper laoreet, nisl nibh tincidunt ante, vitae iaculis arcu sapien quis turpis. Nunc in ullamcorper enim. Sed in est egestas, pulvinar orci in, laoreet nisl.\"\n",
    "\n"
   ]
  },
  {
   "cell_type": "code",
   "execution_count": 4,
   "id": "3b5a0903-6fb7-4bce-b782-6439374e44ad",
   "metadata": {},
   "outputs": [],
   "source": [
    "# Encode the data using the encode function\n",
    "encoded_data = my_data.encode()\n"
   ]
  },
  {
   "cell_type": "code",
   "execution_count": 5,
   "id": "1f31e619-85af-4058-a542-6298db68fe0c",
   "metadata": {},
   "outputs": [],
   "source": [
    "\n",
    "# Update the encoded data\n",
    "sha.update(encoded_data)\n"
   ]
  },
  {
   "cell_type": "code",
   "execution_count": 6,
   "id": "64ac3c47-be24-4403-ba97-e0e7b02ec60f",
   "metadata": {},
   "outputs": [
    {
     "name": "stdout",
     "output_type": "stream",
     "text": [
      "99d76fef961c38bfe8bc8fb2e80e99b0638cf5420d1d0ff7ef5027551fc52b53\n"
     ]
    }
   ],
   "source": [
    "\n",
    "# Print the hash code resulting from the hexdigest function\n",
    "print(sha.hexdigest())"
   ]
  },
  {
   "cell_type": "code",
   "execution_count": null,
   "id": "0dc83787-2686-4c57-84a0-28b6694d0744",
   "metadata": {},
   "outputs": [],
   "source": []
  }
 ],
 "metadata": {
  "kernelspec": {
   "display_name": "Python 3 (ipykernel)",
   "language": "python",
   "name": "python3"
  },
  "language_info": {
   "codemirror_mode": {
    "name": "ipython",
    "version": 3
   },
   "file_extension": ".py",
   "mimetype": "text/x-python",
   "name": "python",
   "nbconvert_exporter": "python",
   "pygments_lexer": "ipython3",
   "version": "3.7.7"
  }
 },
 "nbformat": 4,
 "nbformat_minor": 5
}
