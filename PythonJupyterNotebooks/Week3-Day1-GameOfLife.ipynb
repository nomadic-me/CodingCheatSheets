{
 "cells": [
  {
   "cell_type": "code",
   "execution_count": 5,
   "id": "3dd638a9-d284-4f7e-bd07-5d7edaeda6c3",
   "metadata": {},
   "outputs": [],
   "source": [
    "# https://leetcode.com/problems/game-of-life/\n",
    "#289. Game of Life\n",
    "#Medium\n",
    "\n",
    "# According to Wikipedia's article: \"The Game of Life, also known simply as Life, \n",
    "# is a cellular automaton devised by the British mathematician John Horton Conway in 1970.\"\n",
    "\n",
    "# The board is made up of an m x n grid of cells, where each cell has an initial state: live (represented by a 1) or dead (represented by a 0). Each cell interacts with its eight neighbors (horizontal, vertical, diagonal) using the following four rules (taken from the above Wikipedia article):\n",
    "\n",
    "# Any live cell with fewer than two live neighbors dies as if caused by under-population.\n",
    "# Any live cell with two or three live neighbors lives on to the next generation.\n",
    "# Any live cell with more than three live neighbors dies, as if by over-population.\n",
    "# Any dead cell with exactly three live neighbors becomes a live cell, as if by reproduction.\n",
    "# The next state is created by applying the above rules simultaneously to every cell in the current state, \n",
    "# where births and deaths occur simultaneously. Given the current state of the m x n grid board, return the next state.\n",
    "\n",
    "\n",
    "# Exmaple1: \n",
    "# Input: board = [[0,1,0],[0,0,1],[1,1,1],[0,0,0]]\n",
    "# Output: [[0,0,0],[1,0,1],[0,1,1],[0,1,0]]\n",
    "\n",
    "# Input: board = [[1,1],[1,0]]\n",
    "# Output: [[1,1],[1,1]]\n",
    " \n",
    "# Constraints:\n",
    "\n",
    "# m == board.length\n",
    "# n == board[i].length\n",
    "# 1 <= m, n <= 25\n",
    "# board[i][j] is 0 or 1.\n"
   ]
  },
  {
   "cell_type": "code",
   "execution_count": 21,
   "id": "562dac30-77aa-4189-96af-044e5c85d632",
   "metadata": {},
   "outputs": [
    {
     "name": "stdout",
     "output_type": "stream",
     "text": [
      " x length 3\n",
      " y length 4\n"
     ]
    }
   ],
   "source": [
    "\n",
    "#initialize the input board\n",
    "board = [[0,1,0],[0,0,1],[1,1,1],[0,0,0]]\n",
    "\n",
    "# Start by understanding the dimensions of the List\n",
    "# Let X be the horizontal length\n",
    "\n",
    "x_len = len(board[0])\n",
    "print (f\" x length {x_len}\")\n",
    "\n",
    "# Let Y be the vertial depth\n",
    "y_len = len(board)\n",
    "print (f\" y length {y_len}\")\n"
   ]
  },
  {
   "cell_type": "code",
   "execution_count": 24,
   "id": "d7f3e7bf-feac-4756-9232-1f09f8822f23",
   "metadata": {},
   "outputs": [
    {
     "name": "stdout",
     "output_type": "stream",
     "text": [
      "\t 0\t 1\t 0\n",
      "\t 0\t 0\t 1\n",
      "\t 1\t 1\t 1\n",
      "\t 0\t 0\t 0\n"
     ]
    }
   ],
   "source": [
    "# funciton to print the grid\n",
    "def print_board():\n",
    "    for y in range(0,y_len):\n",
    "        str = \"\"\n",
    "        for x in range(0,x_len):\n",
    "            str = str + f\"\\t {board[y][x]}\"\n",
    "        print(str)\n",
    "\n",
    "print_board()\n",
    "    "
   ]
  },
  {
   "cell_type": "code",
   "execution_count": 33,
   "id": "8e6f96a0-b14f-439a-a84f-61a5160b558d",
   "metadata": {},
   "outputs": [],
   "source": [
    "\n",
    "debug = True\n",
    "\n",
    "# now we define a function that accepts the the x and y coordinates + state (live or dead) \n",
    "# and outputs the state (live or dead)\n",
    "\n",
    "\n",
    "def func_return_state(x,y):\n",
    "    #Initialize count of live states\n",
    "    live_statecount = 0\n",
    "    \n",
    "    # check states of the following 8 cell\n",
    "    ######## Top Row\n",
    "    #(x-1)(y+1)\n",
    "    \n",
    "    #check if we are not in the first column\n",
    "    if(x>0):\n",
    "        if(board[y+1][x-1]>0):\n",
    "            live_statecount = live_statecount + 1\n",
    "            if (debug):\n",
    "                print(f\"#\\t(x-1)\\t(y+1) = 1\")\n",
    "        else:\n",
    "            if (debug):\n",
    "                print(f\"#\\t(x-1)\\t(y+1) = 0\")\n",
    "    else:\n",
    "        print(f\"#\\t(x-1)\\t(y+1) = Not Defined\")\n",
    "    \n",
    "    #(x)(y+1)\n",
    "    if(board[y+1][x]>0):\n",
    "        live_statecount = live_statecount + 1\n",
    "        if (debug):\n",
    "            print(f\"#\\t(x)\\t(y+1) = 1\")\n",
    "    else:\n",
    "        if (debug):\n",
    "            print(f\"#\\t(x)\\t(y+1) = 0\")\n",
    "\n",
    "    #check if we are not exceeding column\n",
    "    #(x+1)(y+1)\n",
    "    if(x<x_len):\n",
    "        if(board[y+1][x-1]>0):\n",
    "            live_statecount = live_statecount + 1\n",
    "            if (debug):\n",
    "                print(f\"#\\t(x+1)\\t(y+1) = 1\")\n",
    "        else:\n",
    "            if (debug):\n",
    "                print(f\"#\\t(x+1)\\t(y+1) = 0\")\n",
    "    else:\n",
    "        print(f\"#\\t(x+1)\\t(y+1) = Not Defined\")\n",
    "\n",
    "######## At level\n",
    "\n",
    "#(x-1)(y)\n",
    "#(x+1)(y)\n",
    "\n",
    "######## Bottom Row\n",
    "#(x-1)(y-1)\n",
    "#(x)(y-1)\n",
    "#(x+1)(y-1)\n",
    "\n",
    "\n",
    "\n",
    "\n",
    "\n",
    "\n",
    "\n",
    "\n"
   ]
  },
  {
   "cell_type": "code",
   "execution_count": 34,
   "id": "ee0a7af3-f4be-48ab-ad59-0201b145c754",
   "metadata": {},
   "outputs": [
    {
     "name": "stdout",
     "output_type": "stream",
     "text": [
      "#\t(x-1)\t(y+1) = 0\n",
      "#\t(x)\t(y+1) = 1\n",
      "#\t(x+1)\t(y+1) = 0\n"
     ]
    }
   ],
   "source": [
    "func_return_state(2,0)"
   ]
  },
  {
   "cell_type": "code",
   "execution_count": null,
   "id": "fa7d08ac-6668-4d09-8740-0df6f2de5d74",
   "metadata": {},
   "outputs": [],
   "source": []
  }
 ],
 "metadata": {
  "kernelspec": {
   "display_name": "Python 3 (ipykernel)",
   "language": "python",
   "name": "python3"
  },
  "language_info": {
   "codemirror_mode": {
    "name": "ipython",
    "version": 3
   },
   "file_extension": ".py",
   "mimetype": "text/x-python",
   "name": "python",
   "nbconvert_exporter": "python",
   "pygments_lexer": "ipython3",
   "version": "3.9.7"
  }
 },
 "nbformat": 4,
 "nbformat_minor": 5
}
