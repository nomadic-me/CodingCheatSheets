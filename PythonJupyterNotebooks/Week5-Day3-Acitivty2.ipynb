{
 "cells": [
  {
   "cell_type": "code",
   "execution_count": 12,
   "id": "2458d6e9-2f13-4a0e-8bc4-dc019202d1ea",
   "metadata": {},
   "outputs": [],
   "source": [
    "from dotenv import load_dotenv\n",
    "from datetime import datetime\n",
    "import os\n",
    "import requests\n",
    "import pandas as pd\n",
    "import seaborn as sns\n",
    "from alpaca_trade_api.rest import REST, TimeFrame\n",
    "from MCForecastTools import MCSimulation\n"
   ]
  },
  {
   "cell_type": "code",
   "execution_count": 13,
   "id": "59b72c2e-c9d2-4d16-9886-b3bc70e281b0",
   "metadata": {},
   "outputs": [],
   "source": [
    "load_dotenv()\n",
    "api_key=os.getenv(\"ALPACA_API_KEY\")\n",
    "api_secret_key=os.getenv(\"ALPACA_SECRET_KEY\")"
   ]
  },
  {
   "cell_type": "code",
   "execution_count": 14,
   "id": "117d3131-db5c-41e3-be7c-aab70bbe3308",
   "metadata": {},
   "outputs": [],
   "source": [
    "tickers = [\"SPY\",\"LUV\",\"DIS\",\"AAPL\",\"SBUX\",\"WORK\"]\n",
    "api = REST(api_key , api_secret_key, api_version='v2')\n",
    "yearly = api.get_bars(tickers, TimeFrame.Day, \"2021-03-20\", \"2022-03-21\", adjustment='raw').df"
   ]
  },
  {
   "cell_type": "code",
   "execution_count": 15,
   "id": "c03b5780-659e-4d4d-b9ee-c53df465e896",
   "metadata": {},
   "outputs": [
    {
     "data": {
      "text/html": [
       "<div>\n",
       "<style scoped>\n",
       "    .dataframe tbody tr th:only-of-type {\n",
       "        vertical-align: middle;\n",
       "    }\n",
       "\n",
       "    .dataframe tbody tr th {\n",
       "        vertical-align: top;\n",
       "    }\n",
       "\n",
       "    .dataframe thead th {\n",
       "        text-align: right;\n",
       "    }\n",
       "</style>\n",
       "<table border=\"1\" class=\"dataframe\">\n",
       "  <thead>\n",
       "    <tr style=\"text-align: right;\">\n",
       "      <th></th>\n",
       "      <th>close</th>\n",
       "      <th>symbol</th>\n",
       "    </tr>\n",
       "  </thead>\n",
       "  <tbody>\n",
       "    <tr>\n",
       "      <th>2021-03-22</th>\n",
       "      <td>123.39</td>\n",
       "      <td>AAPL</td>\n",
       "    </tr>\n",
       "    <tr>\n",
       "      <th>2021-03-23</th>\n",
       "      <td>122.54</td>\n",
       "      <td>AAPL</td>\n",
       "    </tr>\n",
       "    <tr>\n",
       "      <th>2021-03-24</th>\n",
       "      <td>120.09</td>\n",
       "      <td>AAPL</td>\n",
       "    </tr>\n",
       "    <tr>\n",
       "      <th>2021-03-25</th>\n",
       "      <td>120.59</td>\n",
       "      <td>AAPL</td>\n",
       "    </tr>\n",
       "    <tr>\n",
       "      <th>2021-03-26</th>\n",
       "      <td>121.21</td>\n",
       "      <td>AAPL</td>\n",
       "    </tr>\n",
       "    <tr>\n",
       "      <th>...</th>\n",
       "      <td>...</td>\n",
       "      <td>...</td>\n",
       "    </tr>\n",
       "    <tr>\n",
       "      <th>2021-07-14</th>\n",
       "      <td>44.00</td>\n",
       "      <td>WORK</td>\n",
       "    </tr>\n",
       "    <tr>\n",
       "      <th>2021-07-15</th>\n",
       "      <td>44.57</td>\n",
       "      <td>WORK</td>\n",
       "    </tr>\n",
       "    <tr>\n",
       "      <th>2021-07-16</th>\n",
       "      <td>44.70</td>\n",
       "      <td>WORK</td>\n",
       "    </tr>\n",
       "    <tr>\n",
       "      <th>2021-07-19</th>\n",
       "      <td>45.16</td>\n",
       "      <td>WORK</td>\n",
       "    </tr>\n",
       "    <tr>\n",
       "      <th>2021-07-20</th>\n",
       "      <td>45.20</td>\n",
       "      <td>WORK</td>\n",
       "    </tr>\n",
       "  </tbody>\n",
       "</table>\n",
       "<p>1349 rows × 2 columns</p>\n",
       "</div>"
      ],
      "text/plain": [
       "             close symbol\n",
       "2021-03-22  123.39   AAPL\n",
       "2021-03-23  122.54   AAPL\n",
       "2021-03-24  120.09   AAPL\n",
       "2021-03-25  120.59   AAPL\n",
       "2021-03-26  121.21   AAPL\n",
       "...            ...    ...\n",
       "2021-07-14   44.00   WORK\n",
       "2021-07-15   44.57   WORK\n",
       "2021-07-16   44.70   WORK\n",
       "2021-07-19   45.16   WORK\n",
       "2021-07-20   45.20   WORK\n",
       "\n",
       "[1349 rows x 2 columns]"
      ]
     },
     "execution_count": 15,
     "metadata": {},
     "output_type": "execute_result"
    }
   ],
   "source": [
    "\n",
    "yearly.index=yearly.index.date\n",
    "yearly=yearly[['close', 'symbol']]\n",
    "table = pd.pivot_table(yearly, values='close', index=yearly.index, columns=['symbol'])\n",
    "\n",
    "\n",
    "yearly"
   ]
  },
  {
   "cell_type": "code",
   "execution_count": 16,
   "id": "616eb77d-cc97-4cae-9df7-d38256981c91",
   "metadata": {},
   "outputs": [
    {
     "data": {
      "text/html": [
       "<div>\n",
       "<style scoped>\n",
       "    .dataframe tbody tr th:only-of-type {\n",
       "        vertical-align: middle;\n",
       "    }\n",
       "\n",
       "    .dataframe tbody tr th {\n",
       "        vertical-align: top;\n",
       "    }\n",
       "\n",
       "    .dataframe thead th {\n",
       "        text-align: right;\n",
       "    }\n",
       "</style>\n",
       "<table border=\"1\" class=\"dataframe\">\n",
       "  <thead>\n",
       "    <tr style=\"text-align: right;\">\n",
       "      <th>symbol</th>\n",
       "      <th>AAPL</th>\n",
       "      <th>DIS</th>\n",
       "      <th>LUV</th>\n",
       "      <th>SBUX</th>\n",
       "      <th>SPY</th>\n",
       "      <th>WORK</th>\n",
       "    </tr>\n",
       "  </thead>\n",
       "  <tbody>\n",
       "    <tr>\n",
       "      <th>2021-03-22</th>\n",
       "      <td>123.39</td>\n",
       "      <td>192.86</td>\n",
       "      <td>59.46</td>\n",
       "      <td>107.57</td>\n",
       "      <td>392.59</td>\n",
       "      <td>40.80</td>\n",
       "    </tr>\n",
       "    <tr>\n",
       "      <th>2021-03-23</th>\n",
       "      <td>122.54</td>\n",
       "      <td>188.73</td>\n",
       "      <td>57.62</td>\n",
       "      <td>106.25</td>\n",
       "      <td>389.50</td>\n",
       "      <td>40.97</td>\n",
       "    </tr>\n",
       "    <tr>\n",
       "      <th>2021-03-24</th>\n",
       "      <td>120.09</td>\n",
       "      <td>184.72</td>\n",
       "      <td>57.70</td>\n",
       "      <td>104.97</td>\n",
       "      <td>387.52</td>\n",
       "      <td>40.45</td>\n",
       "    </tr>\n",
       "    <tr>\n",
       "      <th>2021-03-25</th>\n",
       "      <td>120.59</td>\n",
       "      <td>186.91</td>\n",
       "      <td>59.91</td>\n",
       "      <td>107.35</td>\n",
       "      <td>389.70</td>\n",
       "      <td>40.05</td>\n",
       "    </tr>\n",
       "    <tr>\n",
       "      <th>2021-03-26</th>\n",
       "      <td>121.21</td>\n",
       "      <td>185.92</td>\n",
       "      <td>61.29</td>\n",
       "      <td>109.90</td>\n",
       "      <td>395.98</td>\n",
       "      <td>40.37</td>\n",
       "    </tr>\n",
       "    <tr>\n",
       "      <th>...</th>\n",
       "      <td>...</td>\n",
       "      <td>...</td>\n",
       "      <td>...</td>\n",
       "      <td>...</td>\n",
       "      <td>...</td>\n",
       "      <td>...</td>\n",
       "    </tr>\n",
       "    <tr>\n",
       "      <th>2022-03-15</th>\n",
       "      <td>155.09</td>\n",
       "      <td>134.20</td>\n",
       "      <td>42.06</td>\n",
       "      <td>83.12</td>\n",
       "      <td>426.17</td>\n",
       "      <td>NaN</td>\n",
       "    </tr>\n",
       "    <tr>\n",
       "      <th>2022-03-16</th>\n",
       "      <td>159.59</td>\n",
       "      <td>138.14</td>\n",
       "      <td>43.12</td>\n",
       "      <td>87.41</td>\n",
       "      <td>435.55</td>\n",
       "      <td>NaN</td>\n",
       "    </tr>\n",
       "    <tr>\n",
       "      <th>2022-03-17</th>\n",
       "      <td>160.62</td>\n",
       "      <td>139.47</td>\n",
       "      <td>42.78</td>\n",
       "      <td>87.66</td>\n",
       "      <td>441.07</td>\n",
       "      <td>NaN</td>\n",
       "    </tr>\n",
       "    <tr>\n",
       "      <th>2022-03-18</th>\n",
       "      <td>163.98</td>\n",
       "      <td>140.30</td>\n",
       "      <td>43.24</td>\n",
       "      <td>89.60</td>\n",
       "      <td>444.31</td>\n",
       "      <td>NaN</td>\n",
       "    </tr>\n",
       "    <tr>\n",
       "      <th>2022-03-21</th>\n",
       "      <td>165.38</td>\n",
       "      <td>138.62</td>\n",
       "      <td>42.78</td>\n",
       "      <td>86.86</td>\n",
       "      <td>444.30</td>\n",
       "      <td>NaN</td>\n",
       "    </tr>\n",
       "  </tbody>\n",
       "</table>\n",
       "<p>253 rows × 6 columns</p>\n",
       "</div>"
      ],
      "text/plain": [
       "symbol        AAPL     DIS    LUV    SBUX     SPY   WORK\n",
       "2021-03-22  123.39  192.86  59.46  107.57  392.59  40.80\n",
       "2021-03-23  122.54  188.73  57.62  106.25  389.50  40.97\n",
       "2021-03-24  120.09  184.72  57.70  104.97  387.52  40.45\n",
       "2021-03-25  120.59  186.91  59.91  107.35  389.70  40.05\n",
       "2021-03-26  121.21  185.92  61.29  109.90  395.98  40.37\n",
       "...            ...     ...    ...     ...     ...    ...\n",
       "2022-03-15  155.09  134.20  42.06   83.12  426.17    NaN\n",
       "2022-03-16  159.59  138.14  43.12   87.41  435.55    NaN\n",
       "2022-03-17  160.62  139.47  42.78   87.66  441.07    NaN\n",
       "2022-03-18  163.98  140.30  43.24   89.60  444.31    NaN\n",
       "2022-03-21  165.38  138.62  42.78   86.86  444.30    NaN\n",
       "\n",
       "[253 rows x 6 columns]"
      ]
     },
     "execution_count": 16,
     "metadata": {},
     "output_type": "execute_result"
    }
   ],
   "source": [
    "table"
   ]
  },
  {
   "cell_type": "code",
   "execution_count": 19,
   "id": "d6a3680a-02e0-4d80-a591-ddf3974a9010",
   "metadata": {},
   "outputs": [
    {
     "data": {
      "text/html": [
       "<div>\n",
       "<style scoped>\n",
       "    .dataframe tbody tr th:only-of-type {\n",
       "        vertical-align: middle;\n",
       "    }\n",
       "\n",
       "    .dataframe tbody tr th {\n",
       "        vertical-align: top;\n",
       "    }\n",
       "\n",
       "    .dataframe thead th {\n",
       "        text-align: right;\n",
       "    }\n",
       "</style>\n",
       "<table border=\"1\" class=\"dataframe\">\n",
       "  <thead>\n",
       "    <tr style=\"text-align: right;\">\n",
       "      <th>symbol</th>\n",
       "      <th>AAPL</th>\n",
       "      <th>DIS</th>\n",
       "      <th>LUV</th>\n",
       "      <th>SBUX</th>\n",
       "      <th>SPY</th>\n",
       "      <th>WORK</th>\n",
       "    </tr>\n",
       "  </thead>\n",
       "  <tbody>\n",
       "    <tr>\n",
       "      <th>2021-03-23</th>\n",
       "      <td>-0.006889</td>\n",
       "      <td>-0.021414</td>\n",
       "      <td>-0.030945</td>\n",
       "      <td>-0.012271</td>\n",
       "      <td>-0.007871</td>\n",
       "      <td>0.004167</td>\n",
       "    </tr>\n",
       "    <tr>\n",
       "      <th>2021-03-24</th>\n",
       "      <td>-0.019993</td>\n",
       "      <td>-0.021247</td>\n",
       "      <td>0.001388</td>\n",
       "      <td>-0.012047</td>\n",
       "      <td>-0.005083</td>\n",
       "      <td>-0.012692</td>\n",
       "    </tr>\n",
       "    <tr>\n",
       "      <th>2021-03-25</th>\n",
       "      <td>0.004164</td>\n",
       "      <td>0.011856</td>\n",
       "      <td>0.038302</td>\n",
       "      <td>0.022673</td>\n",
       "      <td>0.005626</td>\n",
       "      <td>-0.009889</td>\n",
       "    </tr>\n",
       "    <tr>\n",
       "      <th>2021-03-26</th>\n",
       "      <td>0.005141</td>\n",
       "      <td>-0.005297</td>\n",
       "      <td>0.023035</td>\n",
       "      <td>0.023754</td>\n",
       "      <td>0.016115</td>\n",
       "      <td>0.007990</td>\n",
       "    </tr>\n",
       "    <tr>\n",
       "      <th>2021-03-29</th>\n",
       "      <td>0.001485</td>\n",
       "      <td>-0.005755</td>\n",
       "      <td>-0.005384</td>\n",
       "      <td>-0.007006</td>\n",
       "      <td>-0.000505</td>\n",
       "      <td>0.005202</td>\n",
       "    </tr>\n",
       "    <tr>\n",
       "      <th>...</th>\n",
       "      <td>...</td>\n",
       "      <td>...</td>\n",
       "      <td>...</td>\n",
       "      <td>...</td>\n",
       "      <td>...</td>\n",
       "      <td>...</td>\n",
       "    </tr>\n",
       "    <tr>\n",
       "      <th>2022-03-15</th>\n",
       "      <td>0.029677</td>\n",
       "      <td>0.040068</td>\n",
       "      <td>0.048878</td>\n",
       "      <td>0.048304</td>\n",
       "      <td>0.021990</td>\n",
       "      <td>0.000000</td>\n",
       "    </tr>\n",
       "    <tr>\n",
       "      <th>2022-03-16</th>\n",
       "      <td>0.029015</td>\n",
       "      <td>0.029359</td>\n",
       "      <td>0.025202</td>\n",
       "      <td>0.051612</td>\n",
       "      <td>0.022010</td>\n",
       "      <td>0.000000</td>\n",
       "    </tr>\n",
       "    <tr>\n",
       "      <th>2022-03-17</th>\n",
       "      <td>0.006454</td>\n",
       "      <td>0.009628</td>\n",
       "      <td>-0.007885</td>\n",
       "      <td>0.002860</td>\n",
       "      <td>0.012674</td>\n",
       "      <td>0.000000</td>\n",
       "    </tr>\n",
       "    <tr>\n",
       "      <th>2022-03-18</th>\n",
       "      <td>0.020919</td>\n",
       "      <td>0.005951</td>\n",
       "      <td>0.010753</td>\n",
       "      <td>0.022131</td>\n",
       "      <td>0.007346</td>\n",
       "      <td>0.000000</td>\n",
       "    </tr>\n",
       "    <tr>\n",
       "      <th>2022-03-21</th>\n",
       "      <td>0.008538</td>\n",
       "      <td>-0.011974</td>\n",
       "      <td>-0.010638</td>\n",
       "      <td>-0.030580</td>\n",
       "      <td>-0.000023</td>\n",
       "      <td>0.000000</td>\n",
       "    </tr>\n",
       "  </tbody>\n",
       "</table>\n",
       "<p>252 rows × 6 columns</p>\n",
       "</div>"
      ],
      "text/plain": [
       "symbol          AAPL       DIS       LUV      SBUX       SPY      WORK\n",
       "2021-03-23 -0.006889 -0.021414 -0.030945 -0.012271 -0.007871  0.004167\n",
       "2021-03-24 -0.019993 -0.021247  0.001388 -0.012047 -0.005083 -0.012692\n",
       "2021-03-25  0.004164  0.011856  0.038302  0.022673  0.005626 -0.009889\n",
       "2021-03-26  0.005141 -0.005297  0.023035  0.023754  0.016115  0.007990\n",
       "2021-03-29  0.001485 -0.005755 -0.005384 -0.007006 -0.000505  0.005202\n",
       "...              ...       ...       ...       ...       ...       ...\n",
       "2022-03-15  0.029677  0.040068  0.048878  0.048304  0.021990  0.000000\n",
       "2022-03-16  0.029015  0.029359  0.025202  0.051612  0.022010  0.000000\n",
       "2022-03-17  0.006454  0.009628 -0.007885  0.002860  0.012674  0.000000\n",
       "2022-03-18  0.020919  0.005951  0.010753  0.022131  0.007346  0.000000\n",
       "2022-03-21  0.008538 -0.011974 -0.010638 -0.030580 -0.000023  0.000000\n",
       "\n",
       "[252 rows x 6 columns]"
      ]
     },
     "execution_count": 19,
     "metadata": {},
     "output_type": "execute_result"
    }
   ],
   "source": [
    "table_pct_change = table.pct_change()\n",
    "table_pct_change.dropna(inplace=True) \n",
    "table_pct_change"
   ]
  },
  {
   "cell_type": "code",
   "execution_count": 22,
   "id": "19fd7bc2-fec0-45a7-812d-78b49ad2dffc",
   "metadata": {},
   "outputs": [
    {
     "data": {
      "text/plain": [
       "<AxesSubplot:ylabel='Frequency'>"
      ]
     },
     "execution_count": 22,
     "metadata": {},
     "output_type": "execute_result"
    },
    {
     "data": {
      "image/png": "[encoded data removed]",
      "text/plain": [
       "<Figure size 432x288 with 1 Axes>"
      ]
     },
     "metadata": {
      "needs_background": "light"
     },
     "output_type": "display_data"
    }
   ],
   "source": [
    "table_pct_change[\"SPY\"].plot.hist()\n",
    "table_pct_change[\"LUV\"].plot.hist()\n",
    "table_pct_change[\"DIS\"].plot.hist()\n",
    "table_pct_change[\"AAPL\"].plot.hist()\n",
    "table_pct_change[\"SBUX\"].plot.hist()\n",
    "table_pct_change[\"WORK\"].plot.hist()"
   ]
  },
  {
   "cell_type": "code",
   "execution_count": 23,
   "id": "a64689fa-43ef-4bd3-bc7f-a09950a19495",
   "metadata": {},
   "outputs": [
    {
     "data": {
      "text/plain": [
       "<AxesSubplot:ylabel='Density'>"
      ]
     },
     "execution_count": 23,
     "metadata": {},
     "output_type": "execute_result"
    },
    {
     "data": {
      "image/png": "[encoded data removed]",
      "text/plain": [
       "<Figure size 432x288 with 1 Axes>"
      ]
     },
     "metadata": {
      "needs_background": "light"
     },
     "output_type": "display_data"
    }
   ],
   "source": [
    "table_pct_change[\"SPY\"].plot.density()\n",
    "table_pct_change[\"LUV\"].plot.density()\n",
    "table_pct_change[\"DIS\"].plot.density()\n",
    "table_pct_change[\"AAPL\"].plot.density()\n",
    "table_pct_change[\"SBUX\"].plot.density()\n",
    "table_pct_change[\"WORK\"].plot.density()"
   ]
  },
  {
   "cell_type": "code",
   "execution_count": 25,
   "id": "eb9cbd2a-565f-4bc5-aa0d-86ff40f12426",
   "metadata": {},
   "outputs": [
    {
     "name": "stderr",
     "output_type": "stream",
     "text": [
      "/Users/satishsurath/opt/anaconda3/envs/alpacaenv/lib/python3.7/site-packages/seaborn/distributions.py:2619: FutureWarning: `distplot` is a deprecated function and will be removed in a future version. Please adapt your code to use either `displot` (a figure-level function with similar flexibility) or `histplot` (an axes-level function for histograms).\n",
      "  warnings.warn(msg, FutureWarning)\n",
      "/Users/satishsurath/opt/anaconda3/envs/alpacaenv/lib/python3.7/site-packages/seaborn/distributions.py:2619: FutureWarning: `distplot` is a deprecated function and will be removed in a future version. Please adapt your code to use either `displot` (a figure-level function with similar flexibility) or `histplot` (an axes-level function for histograms).\n",
      "  warnings.warn(msg, FutureWarning)\n",
      "/Users/satishsurath/opt/anaconda3/envs/alpacaenv/lib/python3.7/site-packages/seaborn/distributions.py:2619: FutureWarning: `distplot` is a deprecated function and will be removed in a future version. Please adapt your code to use either `displot` (a figure-level function with similar flexibility) or `histplot` (an axes-level function for histograms).\n",
      "  warnings.warn(msg, FutureWarning)\n",
      "/Users/satishsurath/opt/anaconda3/envs/alpacaenv/lib/python3.7/site-packages/seaborn/distributions.py:2619: FutureWarning: `distplot` is a deprecated function and will be removed in a future version. Please adapt your code to use either `displot` (a figure-level function with similar flexibility) or `histplot` (an axes-level function for histograms).\n",
      "  warnings.warn(msg, FutureWarning)\n",
      "/Users/satishsurath/opt/anaconda3/envs/alpacaenv/lib/python3.7/site-packages/seaborn/distributions.py:2619: FutureWarning: `distplot` is a deprecated function and will be removed in a future version. Please adapt your code to use either `displot` (a figure-level function with similar flexibility) or `histplot` (an axes-level function for histograms).\n",
      "  warnings.warn(msg, FutureWarning)\n",
      "/Users/satishsurath/opt/anaconda3/envs/alpacaenv/lib/python3.7/site-packages/seaborn/distributions.py:2619: FutureWarning: `distplot` is a deprecated function and will be removed in a future version. Please adapt your code to use either `displot` (a figure-level function with similar flexibility) or `histplot` (an axes-level function for histograms).\n",
      "  warnings.warn(msg, FutureWarning)\n"
     ]
    },
    {
     "data": {
      "text/plain": [
       "<AxesSubplot:xlabel='WORK', ylabel='Density'>"
      ]
     },
     "execution_count": 25,
     "metadata": {},
     "output_type": "execute_result"
    },
    {
     "data": {
      "image/png": "[encoded data removed]",
      "text/plain": [
       "<Figure size 432x288 with 1 Axes>"
      ]
     },
     "metadata": {
      "needs_background": "light"
     },
     "output_type": "display_data"
    }
   ],
   "source": [
    "sns.distplot(table_pct_change['SPY'])\n",
    "sns.distplot(table_pct_change['LUV'])\n",
    "sns.distplot(table_pct_change['DIS'])\n",
    "sns.distplot(table_pct_change['AAPL'])\n",
    "sns.distplot(table_pct_change['SBUX'])\n",
    "sns.distplot(table_pct_change['WORK'])"
   ]
  },
  {
   "cell_type": "code",
   "execution_count": 26,
   "id": "c5f1fe08-87a9-4b9c-ae1f-64f7d6dcb23e",
   "metadata": {},
   "outputs": [],
   "source": [
    "def get_data(ticker):\n",
    "    api = REST(api_key , api_secret_key, api_version='v2')\n",
    "    yearly = api.get_bars(ticker, TimeFrame.Day, \"2021-03-20\", \"2022-03-21\", adjustment='raw').df\n",
    "    yearly.index=yearly.index.date\n",
    "    yearly=yearly[['close']]\n",
    "    return yearly\n"
   ]
  },
  {
   "cell_type": "code",
   "execution_count": 27,
   "id": "7437067b-e15a-4b49-bb93-0b6732f90d4e",
   "metadata": {},
   "outputs": [],
   "source": [
    "df = get_data(\"MSFT\")"
   ]
  },
  {
   "cell_type": "code",
   "execution_count": 31,
   "id": "8d5e19ce-0555-4d40-abd5-658866db0492",
   "metadata": {},
   "outputs": [
    {
     "data": {
      "text/plain": [
       "235.99"
      ]
     },
     "execution_count": 31,
     "metadata": {},
     "output_type": "execute_result"
    }
   ],
   "source": [
    "initial_price = df.iloc[0].values[0]\n",
    "initial_price"
   ]
  },
  {
   "cell_type": "code",
   "execution_count": 32,
   "id": "a8d43ab4-8654-4423-a0c3-b7adfef8d97f",
   "metadata": {},
   "outputs": [
    {
     "data": {
      "text/html": [
       "<div>\n",
       "<style scoped>\n",
       "    .dataframe tbody tr th:only-of-type {\n",
       "        vertical-align: middle;\n",
       "    }\n",
       "\n",
       "    .dataframe tbody tr th {\n",
       "        vertical-align: top;\n",
       "    }\n",
       "\n",
       "    .dataframe thead th {\n",
       "        text-align: right;\n",
       "    }\n",
       "</style>\n",
       "<table border=\"1\" class=\"dataframe\">\n",
       "  <thead>\n",
       "    <tr style=\"text-align: right;\">\n",
       "      <th></th>\n",
       "      <th>close</th>\n",
       "    </tr>\n",
       "  </thead>\n",
       "  <tbody>\n",
       "    <tr>\n",
       "      <th>2021-03-23</th>\n",
       "      <td>0.006738</td>\n",
       "    </tr>\n",
       "    <tr>\n",
       "      <th>2021-03-24</th>\n",
       "      <td>-0.008923</td>\n",
       "    </tr>\n",
       "    <tr>\n",
       "      <th>2021-03-25</th>\n",
       "      <td>-0.013251</td>\n",
       "    </tr>\n",
       "    <tr>\n",
       "      <th>2021-03-26</th>\n",
       "      <td>0.017819</td>\n",
       "    </tr>\n",
       "    <tr>\n",
       "      <th>2021-03-29</th>\n",
       "      <td>-0.005244</td>\n",
       "    </tr>\n",
       "    <tr>\n",
       "      <th>...</th>\n",
       "      <td>...</td>\n",
       "    </tr>\n",
       "    <tr>\n",
       "      <th>2022-03-15</th>\n",
       "      <td>0.038743</td>\n",
       "    </tr>\n",
       "    <tr>\n",
       "      <th>2022-03-16</th>\n",
       "      <td>0.025213</td>\n",
       "    </tr>\n",
       "    <tr>\n",
       "      <th>2022-03-17</th>\n",
       "      <td>0.002819</td>\n",
       "    </tr>\n",
       "    <tr>\n",
       "      <th>2022-03-18</th>\n",
       "      <td>0.017648</td>\n",
       "    </tr>\n",
       "    <tr>\n",
       "      <th>2022-03-21</th>\n",
       "      <td>-0.004227</td>\n",
       "    </tr>\n",
       "  </tbody>\n",
       "</table>\n",
       "<p>252 rows × 1 columns</p>\n",
       "</div>"
      ],
      "text/plain": [
       "               close\n",
       "2021-03-23  0.006738\n",
       "2021-03-24 -0.008923\n",
       "2021-03-25 -0.013251\n",
       "2021-03-26  0.017819\n",
       "2021-03-29 -0.005244\n",
       "...              ...\n",
       "2022-03-15  0.038743\n",
       "2022-03-16  0.025213\n",
       "2022-03-17  0.002819\n",
       "2022-03-18  0.017648\n",
       "2022-03-21 -0.004227\n",
       "\n",
       "[252 rows x 1 columns]"
      ]
     },
     "execution_count": 32,
     "metadata": {},
     "output_type": "execute_result"
    }
   ],
   "source": [
    "pct_changes = df.pct_change()\n",
    "pct_changes.dropna(inplace=True)\n",
    "pct_changes.index = pd.to_datetime(pct_changes.index) \n",
    "possible_changes = list(pct_changes\n",
    "pct_changes"
   ]
  },
  {
   "cell_type": "code",
   "execution_count": null,
   "id": "99d4a106-b2b1-4903-8fbc-7ba87b0ce9ab",
   "metadata": {},
   "outputs": [],
   "source": []
  }
 ],
 "metadata": {
  "kernelspec": {
   "display_name": "Python 3 (ipykernel)",
   "language": "python",
   "name": "python3"
  },
  "language_info": {
   "codemirror_mode": {
    "name": "ipython",
    "version": 3
   },
   "file_extension": ".py",
   "mimetype": "text/x-python",
   "name": "python",
   "nbconvert_exporter": "python",
   "pygments_lexer": "ipython3",
   "version": "3.7.11"
  }
 },
 "nbformat": 4,
 "nbformat_minor": 5
}
