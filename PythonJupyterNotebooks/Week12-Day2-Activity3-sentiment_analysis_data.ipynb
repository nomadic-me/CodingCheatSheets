{
 "cells": [
  {
   "cell_type": "markdown",
   "metadata": {},
   "source": [
    "# Instructor Do: Getting Data for Sentiment Analysis"
   ]
  },
  {
   "cell_type": "code",
   "execution_count": 1,
   "metadata": {},
   "outputs": [],
   "source": [
    "# Initial imports\n",
    "import pandas as pd\n",
    "from dotenv import load_dotenv\n",
    "import os\n",
    "from newsapi import NewsApiClient\n",
    "\n"
   ]
  },
  {
   "cell_type": "code",
   "execution_count": 2,
   "metadata": {},
   "outputs": [],
   "source": [
    "# Load env variables and read the News API Key enviroment variable\n",
    "load_dotenv()\n",
    "api_key = os.getenv(\"NEWSAPI\")"
   ]
  },
  {
   "cell_type": "code",
   "execution_count": 3,
   "metadata": {},
   "outputs": [],
   "source": [
    "# Create a newsapi client\n",
    "newsapi = NewsApiClient(api_key=api_key)"
   ]
  },
  {
   "cell_type": "markdown",
   "metadata": {},
   "source": [
    "**NOTE:** The news changes constantly and the api is frequently refreshing. As such, the parameters in the next step might not return as many results as the example in the lesson plan.  If **no** results are returned, try setting the `q=` parameter to another news-worthy term, or removing the `country=` parameter to broaden the search."
   ]
  },
  {
   "cell_type": "code",
   "execution_count": 7,
   "metadata": {},
   "outputs": [
    {
     "data": {
      "text/plain": [
       "{'status': 'ok',\n",
       " 'totalResults': 1,\n",
       " 'articles': [{'source': {'id': None, 'name': 'SooToday.com'},\n",
       "   'author': 'Alex Flood',\n",
       "   'title': 'Rising gas prices affecting locals of all demographics - SooToday',\n",
       "   'description': 'Increasing costs at the pump becoming unaffordable for many',\n",
       "   'url': 'https://www.sootoday.com/local-news/rising-gas-prices-affecting-locals-of-all-demographics-5346899',\n",
       "   'urlToImage': 'https://www.vmcdn.ca/f/files/sootoday/images/auto/gas-stations/gas-prices-may-2022/05092022-high-gas-prices-af-01.JPG;w=1200;h=800;mode=crop',\n",
       "   'publishedAt': '2022-05-09T17:32:00Z',\n",
       "   'content': 'The local price of gas has eclipsed $2 per litre.\\r\\nAccording to gasbuddy.com, Monday’s prices in the Sault range from $184.9 per litre at Canadian Tire, to $192.9 per litre at the Esso stations.\\r\\nBut… [+1951 chars]'}]}"
      ]
     },
     "execution_count": 7,
     "metadata": {},
     "output_type": "execute_result"
    }
   ],
   "source": [
    "# Fetch top news articles about oil in Canada \n",
    "\n",
    "oil_headlines = newsapi.get_top_headlines(q=\"gas\", language=\"en\", country=\"ca\")\n",
    "\n",
    "oil_headlines"
   ]
  },
  {
   "cell_type": "code",
   "execution_count": 8,
   "metadata": {},
   "outputs": [
    {
     "name": "stdout",
     "output_type": "stream",
     "text": [
      "Total articles about oil: 1\n"
     ]
    },
    {
     "data": {
      "text/plain": [
       "{'source': {'id': None, 'name': 'SooToday.com'},\n",
       " 'author': 'Alex Flood',\n",
       " 'title': 'Rising gas prices affecting locals of all demographics - SooToday',\n",
       " 'description': 'Increasing costs at the pump becoming unaffordable for many',\n",
       " 'url': 'https://www.sootoday.com/local-news/rising-gas-prices-affecting-locals-of-all-demographics-5346899',\n",
       " 'urlToImage': 'https://www.vmcdn.ca/f/files/sootoday/images/auto/gas-stations/gas-prices-may-2022/05092022-high-gas-prices-af-01.JPG;w=1200;h=800;mode=crop',\n",
       " 'publishedAt': '2022-05-09T17:32:00Z',\n",
       " 'content': 'The local price of gas has eclipsed $2 per litre.\\r\\nAccording to gasbuddy.com, Monday’s prices in the Sault range from $184.9 per litre at Canadian Tire, to $192.9 per litre at the Esso stations.\\r\\nBut… [+1951 chars]'}"
      ]
     },
     "execution_count": 8,
     "metadata": {},
     "output_type": "execute_result"
    }
   ],
   "source": [
    "# Print total articles\n",
    "print(f\"Total articles about oil: {oil_headlines['totalResults']}\")\n",
    "\n",
    "# Show sample article\n",
    "oil_headlines[\"articles\"][0]\n",
    "\n"
   ]
  },
  {
   "cell_type": "code",
   "execution_count": 9,
   "metadata": {},
   "outputs": [
    {
     "data": {
      "text/html": [
       "<div>\n",
       "<style scoped>\n",
       "    .dataframe tbody tr th:only-of-type {\n",
       "        vertical-align: middle;\n",
       "    }\n",
       "\n",
       "    .dataframe tbody tr th {\n",
       "        vertical-align: top;\n",
       "    }\n",
       "\n",
       "    .dataframe thead th {\n",
       "        text-align: right;\n",
       "    }\n",
       "</style>\n",
       "<table border=\"1\" class=\"dataframe\">\n",
       "  <thead>\n",
       "    <tr style=\"text-align: right;\">\n",
       "      <th></th>\n",
       "      <th>source</th>\n",
       "      <th>author</th>\n",
       "      <th>title</th>\n",
       "      <th>description</th>\n",
       "      <th>url</th>\n",
       "      <th>urlToImage</th>\n",
       "      <th>publishedAt</th>\n",
       "      <th>content</th>\n",
       "    </tr>\n",
       "  </thead>\n",
       "  <tbody>\n",
       "    <tr>\n",
       "      <th>0</th>\n",
       "      <td>{'id': None, 'name': 'SooToday.com'}</td>\n",
       "      <td>Alex Flood</td>\n",
       "      <td>Rising gas prices affecting locals of all demo...</td>\n",
       "      <td>Increasing costs at the pump becoming unafford...</td>\n",
       "      <td>https://www.sootoday.com/local-news/rising-gas...</td>\n",
       "      <td>https://www.vmcdn.ca/f/files/sootoday/images/a...</td>\n",
       "      <td>2022-05-09T17:32:00Z</td>\n",
       "      <td>The local price of gas has eclipsed $2 per lit...</td>\n",
       "    </tr>\n",
       "  </tbody>\n",
       "</table>\n",
       "</div>"
      ],
      "text/plain": [
       "                                 source      author  \\\n",
       "0  {'id': None, 'name': 'SooToday.com'}  Alex Flood   \n",
       "\n",
       "                                               title  \\\n",
       "0  Rising gas prices affecting locals of all demo...   \n",
       "\n",
       "                                         description  \\\n",
       "0  Increasing costs at the pump becoming unafford...   \n",
       "\n",
       "                                                 url  \\\n",
       "0  https://www.sootoday.com/local-news/rising-gas...   \n",
       "\n",
       "                                          urlToImage           publishedAt  \\\n",
       "0  https://www.vmcdn.ca/f/files/sootoday/images/a...  2022-05-09T17:32:00Z   \n",
       "\n",
       "                                             content  \n",
       "0  The local price of gas has eclipsed $2 per lit...  "
      ]
     },
     "execution_count": 9,
     "metadata": {},
     "output_type": "execute_result"
    }
   ],
   "source": [
    "# Transform the response dictionary to a DataFrame\n",
    "oil_df = pd.DataFrame.from_dict(oil_headlines[\"articles\"])\n",
    "\n",
    "oil_df.head()\n",
    "\n"
   ]
  },
  {
   "cell_type": "code",
   "execution_count": 10,
   "metadata": {},
   "outputs": [
    {
     "name": "stdout",
     "output_type": "stream",
     "text": [
      "Total articles about Facebook Libra: 33\n"
     ]
    },
    {
     "data": {
      "text/plain": [
       "{'source': {'id': 'axios', 'name': 'Axios'},\n",
       " 'author': 'Scott Rosenberg',\n",
       " 'title': 'Facebook keeps pivoting to new projects — and then abandoning them',\n",
       " 'description': 'Facebook\\'s plan to wind down its podcast platform is the latest in a long line of projects the social network has launched with fanfare and then unceremoniously scuttled.Why it matters: \"Launch, test, shut down\" is a common pattern in tech\\'s \"fail fast\" cultu…',\n",
       " 'url': 'https://www.axios.com/2022/05/04/facebooks-endless-pivot-metaverse-podcasts',\n",
       " 'urlToImage': 'https://images.axios.com/9wnl4CnD6xg67vSiqYA-yvPKwbs=/0x0:2545x1432/1366x768/2022/05/04/1651665611715.jpg',\n",
       " 'publishedAt': '2022-05-04T10:00:32Z',\n",
       " 'content': 'Facebook\\'s plan to wind down its podcast platform is the latest in a long line of projects the social network has launched with fanfare and then unceremoniously scuttled.\\r\\nWhy it matters: \"Launch, te… [+3317 chars]'}"
      ]
     },
     "execution_count": 10,
     "metadata": {},
     "output_type": "execute_result"
    }
   ],
   "source": [
    "# Fetch all the news about Facebook Libra\n",
    "libra_headlines = newsapi.get_everything(\n",
    "    q=\"facebook libra\", language=\"en\", sort_by=\"relevancy\"\n",
    ")\n",
    "\n",
    "# Print total articles\n",
    "print(f\"Total articles about Facebook Libra: {libra_headlines['totalResults']}\")\n",
    "\n",
    "# Show sample article\n",
    "libra_headlines[\"articles\"][0]\n",
    "\n"
   ]
  },
  {
   "cell_type": "code",
   "execution_count": 11,
   "metadata": {},
   "outputs": [
    {
     "data": {
      "text/html": [
       "<div>\n",
       "<style scoped>\n",
       "    .dataframe tbody tr th:only-of-type {\n",
       "        vertical-align: middle;\n",
       "    }\n",
       "\n",
       "    .dataframe tbody tr th {\n",
       "        vertical-align: top;\n",
       "    }\n",
       "\n",
       "    .dataframe thead th {\n",
       "        text-align: right;\n",
       "    }\n",
       "</style>\n",
       "<table border=\"1\" class=\"dataframe\">\n",
       "  <thead>\n",
       "    <tr style=\"text-align: right;\">\n",
       "      <th></th>\n",
       "      <th>source</th>\n",
       "      <th>author</th>\n",
       "      <th>title</th>\n",
       "      <th>description</th>\n",
       "      <th>url</th>\n",
       "      <th>urlToImage</th>\n",
       "      <th>publishedAt</th>\n",
       "      <th>content</th>\n",
       "    </tr>\n",
       "  </thead>\n",
       "  <tbody>\n",
       "    <tr>\n",
       "      <th>0</th>\n",
       "      <td>{'id': 'axios', 'name': 'Axios'}</td>\n",
       "      <td>Scott Rosenberg</td>\n",
       "      <td>Facebook keeps pivoting to new projects — and ...</td>\n",
       "      <td>Facebook's plan to wind down its podcast platf...</td>\n",
       "      <td>https://www.axios.com/2022/05/04/facebooks-end...</td>\n",
       "      <td>https://images.axios.com/9wnl4CnD6xg67vSiqYA-y...</td>\n",
       "      <td>2022-05-04T10:00:32Z</td>\n",
       "      <td>Facebook's plan to wind down its podcast platf...</td>\n",
       "    </tr>\n",
       "    <tr>\n",
       "      <th>1</th>\n",
       "      <td>{'id': None, 'name': 'The Indian Express'}</td>\n",
       "      <td>Lifestyle Desk</td>\n",
       "      <td>Sunday Zodiac: Which signs are the most and le...</td>\n",
       "      <td>Did you know that like many other things, your...</td>\n",
       "      <td>https://indianexpress.com/article/lifestyle/li...</td>\n",
       "      <td>https://images.indianexpress.com/2022/04/featu...</td>\n",
       "      <td>2022-04-10T03:40:00Z</td>\n",
       "      <td>Not everyone gets along with everyone — while ...</td>\n",
       "    </tr>\n",
       "    <tr>\n",
       "      <th>2</th>\n",
       "      <td>{'id': 'axios', 'name': 'Axios'}</td>\n",
       "      <td>Scott Rosenberg</td>\n",
       "      <td>Facebook's endless pivot</td>\n",
       "      <td>Facebook's plan to wind down its podcast platf...</td>\n",
       "      <td>https://www.axios.com/facebooks-endless-pivot-...</td>\n",
       "      <td>https://images.axios.com/_ZQ2b7p48cQ5i6mKzQGzl...</td>\n",
       "      <td>2022-05-04T10:00:32Z</td>\n",
       "      <td>Facebook's plan to wind down its podcast platf...</td>\n",
       "    </tr>\n",
       "    <tr>\n",
       "      <th>3</th>\n",
       "      <td>{'id': None, 'name': 'The Indian Express'}</td>\n",
       "      <td>Lifestyle Desk</td>\n",
       "      <td>Sunday Zodiac: Some negative traits each sign ...</td>\n",
       "      <td>Leo's ego and selfish attitude is something th...</td>\n",
       "      <td>https://indianexpress.com/article/lifestyle/li...</td>\n",
       "      <td>https://images.indianexpress.com/2021/07/sunda...</td>\n",
       "      <td>2022-04-24T03:40:47Z</td>\n",
       "      <td>All of us have something negative in us and th...</td>\n",
       "    </tr>\n",
       "    <tr>\n",
       "      <th>4</th>\n",
       "      <td>{'id': None, 'name': 'Cointelegraph'}</td>\n",
       "      <td>Cointelegraph By Turner Wright</td>\n",
       "      <td>Meta will test digital collectibles on Instagr...</td>\n",
       "      <td>Meta CEO Mark Zuckerberg said the move to test...</td>\n",
       "      <td>https://cointelegraph.com/news/meta-will-test-...</td>\n",
       "      <td>https://images.cointelegraph.com/images/1200_a...</td>\n",
       "      <td>2022-05-09T15:00:00Z</td>\n",
       "      <td>Mark Zuckerberg, CEO of Facebooks parent compa...</td>\n",
       "    </tr>\n",
       "  </tbody>\n",
       "</table>\n",
       "</div>"
      ],
      "text/plain": [
       "                                       source                          author  \\\n",
       "0            {'id': 'axios', 'name': 'Axios'}                 Scott Rosenberg   \n",
       "1  {'id': None, 'name': 'The Indian Express'}                  Lifestyle Desk   \n",
       "2            {'id': 'axios', 'name': 'Axios'}                 Scott Rosenberg   \n",
       "3  {'id': None, 'name': 'The Indian Express'}                  Lifestyle Desk   \n",
       "4       {'id': None, 'name': 'Cointelegraph'}  Cointelegraph By Turner Wright   \n",
       "\n",
       "                                               title  \\\n",
       "0  Facebook keeps pivoting to new projects — and ...   \n",
       "1  Sunday Zodiac: Which signs are the most and le...   \n",
       "2                           Facebook's endless pivot   \n",
       "3  Sunday Zodiac: Some negative traits each sign ...   \n",
       "4  Meta will test digital collectibles on Instagr...   \n",
       "\n",
       "                                         description  \\\n",
       "0  Facebook's plan to wind down its podcast platf...   \n",
       "1  Did you know that like many other things, your...   \n",
       "2  Facebook's plan to wind down its podcast platf...   \n",
       "3  Leo's ego and selfish attitude is something th...   \n",
       "4  Meta CEO Mark Zuckerberg said the move to test...   \n",
       "\n",
       "                                                 url  \\\n",
       "0  https://www.axios.com/2022/05/04/facebooks-end...   \n",
       "1  https://indianexpress.com/article/lifestyle/li...   \n",
       "2  https://www.axios.com/facebooks-endless-pivot-...   \n",
       "3  https://indianexpress.com/article/lifestyle/li...   \n",
       "4  https://cointelegraph.com/news/meta-will-test-...   \n",
       "\n",
       "                                          urlToImage           publishedAt  \\\n",
       "0  https://images.axios.com/9wnl4CnD6xg67vSiqYA-y...  2022-05-04T10:00:32Z   \n",
       "1  https://images.indianexpress.com/2022/04/featu...  2022-04-10T03:40:00Z   \n",
       "2  https://images.axios.com/_ZQ2b7p48cQ5i6mKzQGzl...  2022-05-04T10:00:32Z   \n",
       "3  https://images.indianexpress.com/2021/07/sunda...  2022-04-24T03:40:47Z   \n",
       "4  https://images.cointelegraph.com/images/1200_a...  2022-05-09T15:00:00Z   \n",
       "\n",
       "                                             content  \n",
       "0  Facebook's plan to wind down its podcast platf...  \n",
       "1  Not everyone gets along with everyone — while ...  \n",
       "2  Facebook's plan to wind down its podcast platf...  \n",
       "3  All of us have something negative in us and th...  \n",
       "4  Mark Zuckerberg, CEO of Facebooks parent compa...  "
      ]
     },
     "execution_count": 11,
     "metadata": {},
     "output_type": "execute_result"
    }
   ],
   "source": [
    "# Transform the response dictionary to a DataFrame\n",
    "libra_df = pd.DataFrame.from_dict(libra_headlines[\"articles\"])\n",
    "\n",
    "libra_df.head()\n",
    "\n"
   ]
  },
  {
   "cell_type": "code",
   "execution_count": null,
   "metadata": {},
   "outputs": [],
   "source": []
  }
 ],
 "metadata": {
  "file_extension": ".py",
  "kernelspec": {
   "display_name": "Python [conda env:dev3.7]",
   "language": "python",
   "name": "conda-env-dev3.7-py"
  },
  "language_info": {
   "codemirror_mode": {
    "name": "ipython",
    "version": 3
   },
   "file_extension": ".py",
   "mimetype": "text/x-python",
   "name": "python",
   "nbconvert_exporter": "python",
   "pygments_lexer": "ipython3",
   "version": "3.7.7"
  },
  "mimetype": "text/x-python",
  "name": "python",
  "npconvert_exporter": "python",
  "pygments_lexer": "ipython3",
  "version": 3
 },
 "nbformat": 4,
 "nbformat_minor": 4
}
