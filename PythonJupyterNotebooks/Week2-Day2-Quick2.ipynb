{
 "cells": [
  {
   "cell_type": "code",
   "execution_count": 4,
   "id": "a18d3c8e-55f7-45f2-bc4a-773239576363",
   "metadata": {},
   "outputs": [
    {
     "name": "stdout",
     "output_type": "stream",
     "text": [
      "\n",
      "Dictionary with the use of Integer Keys: \n",
      "{1: 'John', 2: 'Alice', 3: 'Bob'}\n"
     ]
    }
   ],
   "source": [
    "#JSON is a dictionary key:Value pairs\n",
    "# https://www.geeksforgeeks.org/python-dictionary/\n",
    "\n",
    "# Creating a Dictionary\n",
    "# with Integer Keys\n",
    "Dict = {1: 'John', 2: 'Alice', 3: 'Bob'}\n",
    "print(\"\\nDictionary with the use of Integer Keys: \")\n",
    "print(Dict)\n",
    "\n",
    "\n"
   ]
  },
  {
   "cell_type": "code",
   "execution_count": 5,
   "id": "88068c73-a731-4a7a-8a1d-79fe31efbc0a",
   "metadata": {},
   "outputs": [
    {
     "name": "stdout",
     "output_type": "stream",
     "text": [
      "\n",
      "Dictionary with the use of Mixed Keys: \n",
      "{'Name': 'Geeks', 1: [1, 2, 3, 4]}\n"
     ]
    }
   ],
   "source": [
    "# Creating a Dictionary\n",
    "# with Mixed keys\n",
    "Dict2 = {'Name': 'Geeks', 1: [1, 2, 3, 4]}\n",
    "print(\"\\nDictionary with the use of Mixed Keys: \")\n",
    "print(Dict2)\n"
   ]
  },
  {
   "cell_type": "code",
   "execution_count": 6,
   "id": "da051ed2-57c9-46d8-b4b0-23daf26642c0",
   "metadata": {},
   "outputs": [
    {
     "data": {
      "text/plain": [
       "dict_keys([1, 2, 3])"
      ]
     },
     "execution_count": 6,
     "metadata": {},
     "output_type": "execute_result"
    }
   ],
   "source": [
    "Dict.keys()"
   ]
  },
  {
   "cell_type": "code",
   "execution_count": 8,
   "id": "59ee189c-dd22-4c79-8c0f-eb29fafd6739",
   "metadata": {},
   "outputs": [
    {
     "data": {
      "text/plain": [
       "dict_values(['John', 'Alice', 'Bob'])"
      ]
     },
     "execution_count": 8,
     "metadata": {},
     "output_type": "execute_result"
    }
   ],
   "source": [
    "Dict.values()"
   ]
  },
  {
   "cell_type": "code",
   "execution_count": 9,
   "id": "7ebca36c-1ae7-4cb4-86e0-13c15fb0be89",
   "metadata": {},
   "outputs": [
    {
     "data": {
      "text/plain": [
       "{1: 'John', 2: 'Alice', 3: 'Bob', 4: 'Vanessa'}"
      ]
     },
     "execution_count": 9,
     "metadata": {},
     "output_type": "execute_result"
    }
   ],
   "source": [
    "Dict[4]='Vanessa'\n",
    "Dict"
   ]
  },
  {
   "cell_type": "code",
   "execution_count": 10,
   "id": "a4124f6a-d2d6-413c-a616-a6f6aa052315",
   "metadata": {},
   "outputs": [
    {
     "data": {
      "text/plain": [
       "{1: 'John', 2: 'Alice', 3: 'Bob'}"
      ]
     },
     "execution_count": 10,
     "metadata": {},
     "output_type": "execute_result"
    }
   ],
   "source": [
    "del Dict[4]\n",
    "Dict"
   ]
  },
  {
   "cell_type": "code",
   "execution_count": 11,
   "id": "319dab0c-84c4-43be-8d19-f22a36041bb5",
   "metadata": {},
   "outputs": [
    {
     "data": {
      "text/plain": [
       "{1: 'John', 2: 'Alice', 3: 'Bob', 'New Person': 'Vanessa'}"
      ]
     },
     "execution_count": 11,
     "metadata": {},
     "output_type": "execute_result"
    }
   ],
   "source": [
    "Dict['New Person'] = 'Vanessa'\n",
    "Dict"
   ]
  },
  {
   "cell_type": "code",
   "execution_count": 12,
   "id": "1dde7ee6-4d48-4404-ad00-8682cb5f9df8",
   "metadata": {},
   "outputs": [],
   "source": [
    "# Initialize a dictionary\n",
    "trading_pnl = {\n",
    "    \"title\": \"Trading Log\",\n",
    "    \"03-18-2019\": -224,\n",
    "    \"03-19-2019\": 352,\n",
    "    \"03-20-2019\": 252,\n",
    "    \"03-21-2019\": 354,\n",
    "    \"03-22-2019\": -544,\n",
    "    \"03-23-2019\": -650,\n",
    "    \"03-24-2019\": 56,\n",
    "    \"03-25-2019\": 123,\n",
    "    \"03-26-2019\": -43,\n",
    "    \"03-27-2019\": 254,\n",
    "    \"03-28-2019\": 325,\n",
    "    \"03-29-2019\": -123,\n",
    "    \"03-30-2019\": 47,\n",
    "    \"03-31-2019\": 321,\n",
    "    \"04-01-2019\": 123,\n",
    "    \"04-02-2019\": 133,\n",
    "    \"04-03-2019\": -151,\n",
    "    \"04-04-2019\": 613,\n",
    "    \"04-05-2019\": 232,\n",
    "    \"04-06-2019\": -311\n",
    "}\n"
   ]
  },
  {
   "cell_type": "code",
   "execution_count": 13,
   "id": "bb39c1f1-68e0-4066-8122-fd230678cefe",
   "metadata": {},
   "outputs": [
    {
     "data": {
      "text/plain": [
       "123"
      ]
     },
     "execution_count": 13,
     "metadata": {},
     "output_type": "execute_result"
    }
   ],
   "source": [
    "# how do you grab the value for  \"03-25-2019\"\n",
    "trading_pnl[\"03-25-2019\"]\n"
   ]
  },
  {
   "cell_type": "code",
   "execution_count": 14,
   "id": "bd3ec487-abcf-4725-b278-4b64f6effc83",
   "metadata": {},
   "outputs": [
    {
     "data": {
      "text/plain": [
       "21"
      ]
     },
     "execution_count": 14,
     "metadata": {},
     "output_type": "execute_result"
    }
   ],
   "source": [
    "len(trading_pnl)"
   ]
  },
  {
   "cell_type": "code",
   "execution_count": 24,
   "id": "a56710c0-3bf5-4707-8db1-c4c226a373ce",
   "metadata": {},
   "outputs": [
    {
     "name": "stdout",
     "output_type": "stream",
     "text": [
      "('title', 'Trading Log')\n",
      "('03-18-2019', -224)\n",
      "('03-19-2019', 352)\n",
      "('03-20-2019', 252)\n",
      "('03-21-2019', 354)\n",
      "('03-22-2019', -544)\n",
      "('03-23-2019', -650)\n",
      "('03-24-2019', 56)\n",
      "('03-25-2019', 123)\n",
      "('03-26-2019', -43)\n",
      "('03-27-2019', 254)\n",
      "('03-28-2019', 325)\n",
      "('03-29-2019', -123)\n",
      "('03-30-2019', 47)\n",
      "('03-31-2019', 321)\n",
      "('04-01-2019', 123)\n",
      "('04-02-2019', 133)\n",
      "('04-03-2019', -151)\n",
      "('04-04-2019', 613)\n",
      "('04-05-2019', 232)\n",
      "('04-06-2019', -311)\n"
     ]
    }
   ],
   "source": [
    "closing_prices = []\n",
    "for pair in trading_pnl.items():\n",
    "    print(pair)"
   ]
  },
  {
   "cell_type": "code",
   "execution_count": 32,
   "id": "7a987a6e-e70c-46e6-855c-3a3d963f7535",
   "metadata": {},
   "outputs": [],
   "source": [
    "# Dictionary of Dicts\n",
    "stocks_nested_dict = {\n",
    "    \"APPL\": {\n",
    "        \"name\": \"Apple\",\n",
    "        \"exchange\": \"NASDAQ\",\n",
    "        \"market_cap\": 937.7\n",
    "    },\n",
    "    \"MU\": {\n",
    "        \"name\": \"Micron Technology\",\n",
    "        \"exchange\": \"NASDAQ\",\n",
    "        \"market_cap\": 48.03\n",
    "    },\n",
    "    \"AMD\": {\n",
    "        \"name\": \"Advanced Micro Devices\",\n",
    "        \"exchange\": \"NASDAQ\",\n",
    "        \"market_cap\": 29.94\n",
    "    },\n",
    "    \"TWTR\": {\n",
    "        \"name\": \"Twitter\",\n",
    "        \"exchange\": \"NASDAQ\",\n",
    "        \"market_cap\": 26.42\n",
    "    }\n",
    "}"
   ]
  },
  {
   "cell_type": "code",
   "execution_count": 33,
   "id": "b5daa2cd-e9ec-4d43-8b24-2a3baf4733a4",
   "metadata": {},
   "outputs": [
    {
     "data": {
      "text/plain": [
       "{'name': 'Apple', 'exchange': 'NASDAQ', 'market_cap': 937.7}"
      ]
     },
     "execution_count": 33,
     "metadata": {},
     "output_type": "execute_result"
    }
   ],
   "source": [
    "stocks_nested_dict['APPL']"
   ]
  },
  {
   "cell_type": "code",
   "execution_count": 34,
   "id": "12a7029a-f8f9-4d00-88f8-374b0e61eae3",
   "metadata": {},
   "outputs": [
    {
     "data": {
      "text/plain": [
       "937.7"
      ]
     },
     "execution_count": 34,
     "metadata": {},
     "output_type": "execute_result"
    }
   ],
   "source": [
    "stocks_nested_dict['APPL']['market_cap']"
   ]
  },
  {
   "cell_type": "code",
   "execution_count": 35,
   "id": "275fbb72-2627-444e-8e77-bdd8c531c9c3",
   "metadata": {},
   "outputs": [
    {
     "data": {
      "text/plain": [
       "{'APPL': {'name': 'Apple', 'exchange': 'NASDAQ', 'market_cap': 999},\n",
       " 'MU': {'name': 'Micron Technology',\n",
       "  'exchange': 'NASDAQ',\n",
       "  'market_cap': 48.03},\n",
       " 'AMD': {'name': 'Advanced Micro Devices',\n",
       "  'exchange': 'NASDAQ',\n",
       "  'market_cap': 29.94},\n",
       " 'TWTR': {'name': 'Twitter', 'exchange': 'NASDAQ', 'market_cap': 26.42}}"
      ]
     },
     "execution_count": 35,
     "metadata": {},
     "output_type": "execute_result"
    }
   ],
   "source": [
    "stocks_nested_dict['APPL']['market_cap'] = 999\n",
    "stocks_nested_dict"
   ]
  },
  {
   "cell_type": "code",
   "execution_count": 41,
   "id": "a77b9a9a-e928-4acf-b60d-257fcb38d002",
   "metadata": {},
   "outputs": [
    {
     "name": "stdout",
     "output_type": "stream",
     "text": [
      "999\n",
      "48.03\n",
      "29.94\n",
      "26.42\n"
     ]
    }
   ],
   "source": [
    "for ticker in stocks_nested_dict.keys():\n",
    "    print(stocks_nested_dict[ticker]['market_cap'])"
   ]
  },
  {
   "cell_type": "code",
   "execution_count": 44,
   "id": "0b4e1fe0-2918-46e5-be1a-9cee4bdf4336",
   "metadata": {},
   "outputs": [],
   "source": [
    "def add_two(x):\n",
    "    y = x+2\n",
    "    return y\n"
   ]
  },
  {
   "cell_type": "code",
   "execution_count": 45,
   "id": "8e3a1571-c079-4340-bcce-57045e52a9de",
   "metadata": {},
   "outputs": [
    {
     "data": {
      "text/plain": [
       "6"
      ]
     },
     "execution_count": 45,
     "metadata": {},
     "output_type": "execute_result"
    }
   ],
   "source": [
    "add_two(4)\n"
   ]
  },
  {
   "cell_type": "code",
   "execution_count": 46,
   "id": "5a7d0f0b-d319-471d-8896-c1a8d5fbff38",
   "metadata": {},
   "outputs": [],
   "source": [
    "def get_market_cap(ticker):\n",
    "    return stocks_nested_dict[ticker]['market_cap']"
   ]
  },
  {
   "cell_type": "code",
   "execution_count": 47,
   "id": "0f0fb2a7-c11a-4bdd-a68c-aae1ea5c3e63",
   "metadata": {},
   "outputs": [
    {
     "data": {
      "text/plain": [
       "999"
      ]
     },
     "execution_count": 47,
     "metadata": {},
     "output_type": "execute_result"
    }
   ],
   "source": [
    "get_market_cap('APPL')"
   ]
  },
  {
   "cell_type": "code",
   "execution_count": 48,
   "id": "6696f43a-c26c-4d13-88fc-367a2081a374",
   "metadata": {},
   "outputs": [],
   "source": [
    "# List of Lists\n",
    "ceo_nested_list = [\n",
    "    [\"Warren Buffet\", 88, \"CEO of Berkshire Hathaway\"],\n",
    "    [\"Jeff Bezos\", 55, \"CEO of Amazon\"],\n",
    "    [\"Harry Markowitz\", 91, \"Professor of Finance\"]\n",
    "]\n"
   ]
  },
  {
   "cell_type": "code",
   "execution_count": 50,
   "id": "5356a360-ffde-4ca5-89e3-aedcb1dfd8cf",
   "metadata": {},
   "outputs": [
    {
     "data": {
      "text/plain": [
       "88"
      ]
     },
     "execution_count": 50,
     "metadata": {},
     "output_type": "execute_result"
    }
   ],
   "source": [
    "#How do you get the Value \"88\"\n",
    "ceo_nested_list[0][1]"
   ]
  },
  {
   "cell_type": "code",
   "execution_count": null,
   "id": "0974d73f-9628-4b8c-877c-ba3684796dfb",
   "metadata": {},
   "outputs": [],
   "source": []
  }
 ],
 "metadata": {
  "kernelspec": {
   "display_name": "Python 3 (ipykernel)",
   "language": "python",
   "name": "python3"
  },
  "language_info": {
   "codemirror_mode": {
    "name": "ipython",
    "version": 3
   },
   "file_extension": ".py",
   "mimetype": "text/x-python",
   "name": "python",
   "nbconvert_exporter": "python",
   "pygments_lexer": "ipython3",
   "version": "3.9.7"
  }
 },
 "nbformat": 4,
 "nbformat_minor": 5
}
