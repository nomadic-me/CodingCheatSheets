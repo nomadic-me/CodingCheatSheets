{
 "cells": [
  {
   "cell_type": "code",
   "execution_count": 1,
   "id": "b01216f0-1239-44c7-9e45-1704ee9c62a4",
   "metadata": {},
   "outputs": [],
   "source": [
    "# Generating Email Addresses\n",
    "# In this activity, you will write a Python script to generate an email address using fields from a CSV file.\n",
    "# Instructions\n",
    "# Use csv.DictReader to read the contents of a CSV file into a dictionary.\n",
    "# Use the first_name and last_name keys to create a new email address using the first and last name of the employee. For example, {\"first_name\": \"John\", \"last_name\": \"Glenn\"} would generate the email: john.glenn@example.com.\n",
    "# Create a new dictionary that includes the first_name, last_name, ssn, and email.\n",
    "# Append the new dictionary to a list called new_employee_data.\n",
    "# Use csv.DictWriter to output the new_employee_data to a new CSV file.\n",
    "\n"
   ]
  },
  {
   "cell_type": "code",
   "execution_count": 14,
   "id": "c37311c7-d157-4d9b-afd9-cfa1cdafc3e3",
   "metadata": {},
   "outputs": [
    {
     "name": "stdout",
     "output_type": "stream",
     "text": [
      "<class '_io.TextIOWrapper'>\n",
      "<class '_csv.reader'>\n",
      "['first_name', 'last_name', 'ssn'] <---- HEADER\n",
      "{'first_name': 'Tina', 'second_name': 'Fleming', 'ssn': '619-16-7988', 'email': 'Tina.Fleming@example.com'}\n",
      "['Tina', 'Fleming', '619-16-7988']\n",
      "{'first_name': 'Erica', 'second_name': 'Shah', 'ssn': '164-51-7615', 'email': 'Erica.Shah@example.com'}\n",
      "['Erica', 'Shah', '164-51-7615']\n",
      "{'first_name': 'Paula', 'second_name': 'Ortiz', 'ssn': '051-83-3290', 'email': 'Paula.Ortiz@example.com'}\n",
      "['Paula', 'Ortiz', '051-83-3290']\n",
      "{'first_name': 'James', 'second_name': 'Hendricks', 'ssn': '776-83-2884', 'email': 'James.Hendricks@example.com'}\n",
      "['James', 'Hendricks', '776-83-2884']\n",
      "{'first_name': 'Lauren', 'second_name': 'King', 'ssn': '197-94-2398', 'email': 'Lauren.King@example.com'}\n",
      "['Lauren', 'King', '197-94-2398']\n",
      "{'first_name': 'David', 'second_name': 'Cowan', 'ssn': '252-92-1832', 'email': 'David.Cowan@example.com'}\n",
      "['David', 'Cowan', '252-92-1832']\n",
      "{'first_name': 'Andrew', 'second_name': 'Burton', 'ssn': '296-23-6842', 'email': 'Andrew.Burton@example.com'}\n",
      "['Andrew', 'Burton', '296-23-6842']\n",
      "{'first_name': 'Julian', 'second_name': 'Baker', 'ssn': '337-40-7543', 'email': 'Julian.Baker@example.com'}\n",
      "['Julian', 'Baker', '337-40-7543']\n",
      "{'first_name': 'Scott', 'second_name': 'Castro', 'ssn': '399-46-5595', 'email': 'Scott.Castro@example.com'}\n",
      "['Scott', 'Castro', '399-46-5595']\n",
      "{'first_name': 'Billy', 'second_name': 'Rodriguez', 'ssn': '014-18-2503', 'email': 'Billy.Rodriguez@example.com'}\n",
      "['Billy', 'Rodriguez', '014-18-2503']\n",
      "{'first_name': 'Darrell', 'second_name': 'Leblanc', 'ssn': '005-82-7918', 'email': 'Darrell.Leblanc@example.com'}\n",
      "['Darrell', 'Leblanc', '005-82-7918']\n",
      "{'first_name': 'David', 'second_name': 'Hammond', 'ssn': '561-17-6312', 'email': 'David.Hammond@example.com'}\n",
      "['David', 'Hammond', '561-17-6312']\n"
     ]
    }
   ],
   "source": [
    "import csv\n",
    "\n",
    "# Initializing\n",
    "csvpath = \"Resources/Week3-Day1-Activity22-employees.csv\"\n",
    "line_num = 0\n",
    "\n",
    "list_all_entries_with_email = []\n",
    "\n",
    "# Open the input path as a file object\n",
    "with open(csvpath, 'r') as csvfile:\n",
    "\n",
    "    # Print the datatype of the file object\n",
    "    print(type(csvfile))\n",
    "\n",
    "    # Pass in the csv file to the csv.reader() function\n",
    "    # (with ',' as the delmiter/separator) and return the csvreader object\n",
    "    csvreader = csv.reader(csvfile, delimiter=',')\n",
    "    # Print the datatype of the csvreader\n",
    "    print(type(csvreader))\n",
    "\n",
    "    # Go to the next row from the start of the file\n",
    "    # (which is often the first row/header) and iterate line_num by 1\n",
    "    header = next(csvreader)\n",
    "    line_num += 1\n",
    "    # Print the header\n",
    "    print(f\"{header} <---- HEADER\")\n",
    "\n",
    "    # Read each row of data after the header\n",
    "    for row in csvreader:\n",
    "        # Print the row\n",
    "        temp = {}\n",
    "        temp['first_name'] = row[0]\n",
    "        temp['second_name'] = row[1]\n",
    "        temp['ssn'] = row[2]\n",
    "        temp['email'] = row[0] +\".\"+ row[1] + \"@example.com\"\n",
    "        print(temp)\n",
    "        list_all_entries_with_email.append(temp)\n",
    "        print(row)"
   ]
  },
  {
   "cell_type": "code",
   "execution_count": 17,
   "id": "5afb7d2c-923e-4651-8f29-0305f9540ca1",
   "metadata": {},
   "outputs": [],
   "source": [
    "# Set the output file path\n",
    "output_path = \"Resources/Week3-Day1-Activity22-employees-output.txt\"\n",
    "\n",
    "# Open the output_path as a file object in \"write\" mode ('w')\n",
    "# Write a header line and write the contents of 'text' to the file\n",
    "with open(output_path, 'w') as file:\n",
    "    file.write(\"This is an output file.\\n\")\n",
    "    file.write(str(list_all_entries_with_email))"
   ]
  },
  {
   "cell_type": "code",
   "execution_count": null,
   "id": "e545ec08-4319-442f-8ff3-5cf6b2e614df",
   "metadata": {},
   "outputs": [],
   "source": []
  }
 ],
 "metadata": {
  "kernelspec": {
   "display_name": "Python 3 (ipykernel)",
   "language": "python",
   "name": "python3"
  },
  "language_info": {
   "codemirror_mode": {
    "name": "ipython",
    "version": 3
   },
   "file_extension": ".py",
   "mimetype": "text/x-python",
   "name": "python",
   "nbconvert_exporter": "python",
   "pygments_lexer": "ipython3",
   "version": "3.9.7"
  }
 },
 "nbformat": 4,
 "nbformat_minor": 5
}
