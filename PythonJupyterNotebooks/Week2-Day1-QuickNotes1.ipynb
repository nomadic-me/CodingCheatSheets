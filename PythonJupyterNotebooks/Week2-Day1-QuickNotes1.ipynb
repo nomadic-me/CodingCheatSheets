{
 "cells": [
  {
   "cell_type": "code",
   "execution_count": 5,
   "id": "779c1f36-4d4d-4898-b94b-0887e1579774",
   "metadata": {},
   "outputs": [
    {
     "data": {
      "text/plain": [
       "['John', 'Sam', 'Albert', 'Oliver', 'Leslie']"
      ]
     },
     "execution_count": 5,
     "metadata": {},
     "output_type": "execute_result"
    }
   ],
   "source": [
    "a = ['John','Sam','Albert','Oliver','Leslie']\n",
    "a"
   ]
  },
  {
   "cell_type": "code",
   "execution_count": 7,
   "id": "e68086ae-65a1-4650-a5bf-6bd4e777740d",
   "metadata": {},
   "outputs": [
    {
     "data": {
      "text/plain": [
       "'AlbertOliver'"
      ]
     },
     "execution_count": 7,
     "metadata": {},
     "output_type": "execute_result"
    }
   ],
   "source": [
    "a[2]+a[3]"
   ]
  },
  {
   "cell_type": "code",
   "execution_count": 9,
   "id": "b423d485-d30d-4920-95ac-724003268039",
   "metadata": {},
   "outputs": [
    {
     "data": {
      "text/plain": [
       "['Albert', 'Oliver']"
      ]
     },
     "execution_count": 9,
     "metadata": {},
     "output_type": "execute_result"
    }
   ],
   "source": [
    "#Here we are typecasting as Lists since the use of Square Bracket is a respresentation of a list\n",
    "[a[2]]+[a[3]]\n"
   ]
  },
  {
   "cell_type": "code",
   "execution_count": 24,
   "id": "fe78acb3-9de7-47f4-bd8a-5df848e082f0",
   "metadata": {},
   "outputs": [
    {
     "data": {
      "text/plain": [
       "['Albert', 'Oliver']"
      ]
     },
     "execution_count": 24,
     "metadata": {},
     "output_type": "execute_result"
    }
   ],
   "source": [
    "# This will start the list from position 1\n",
    "a[1:]\n"
   ]
  },
  {
   "cell_type": "code",
   "execution_count": 25,
   "id": "0fcdaebb-f007-4ca1-b299-ff3030d3be88",
   "metadata": {},
   "outputs": [
    {
     "data": {
      "text/plain": [
       "'Oliver'"
      ]
     },
     "execution_count": 25,
     "metadata": {},
     "output_type": "execute_result"
    }
   ],
   "source": [
    "a[-1] # This fetches the last element in the array\n"
   ]
  },
  {
   "cell_type": "code",
   "execution_count": 23,
   "id": "7d96cceb-4c67-4803-95aa-bbd1e05c62b5",
   "metadata": {},
   "outputs": [
    {
     "data": {
      "text/plain": [
       "['Oliver', 'Albert', 'Sam']"
      ]
     },
     "execution_count": 23,
     "metadata": {},
     "output_type": "execute_result"
    }
   ],
   "source": [
    "# This will reverse the \n",
    "a[::-1]\n",
    "\n"
   ]
  },
  {
   "cell_type": "code",
   "execution_count": 27,
   "id": "3eada96c-1b83-4520-ac07-8a865706bb65",
   "metadata": {},
   "outputs": [
    {
     "data": {
      "text/plain": [
       "['Sam', 'Albert', 'Oliver', 'Faye']"
      ]
     },
     "execution_count": 27,
     "metadata": {},
     "output_type": "execute_result"
    }
   ],
   "source": [
    "#queue= FIFO and stack = LIFO\n",
    "a.append('Faye') #this appends an element at the end\n",
    "a"
   ]
  },
  {
   "cell_type": "code",
   "execution_count": 22,
   "id": "74ef1a58-1bd0-41c1-a341-da3eebfdd5f7",
   "metadata": {},
   "outputs": [
    {
     "data": {
      "text/plain": [
       "'Leslie'"
      ]
     },
     "execution_count": 22,
     "metadata": {},
     "output_type": "execute_result"
    }
   ],
   "source": [
    "#poppping is the last one - stack implementation\n",
    "# Append + pop() - Stack functionality\n",
    "a.pop()\n"
   ]
  },
  {
   "cell_type": "code",
   "execution_count": 18,
   "id": "98381b3a-a05d-42b4-b022-3d61d2abf630",
   "metadata": {},
   "outputs": [
    {
     "data": {
      "text/plain": [
       "['John', 'Sam', 'Albert', 'Oliver', 'Leslie', 'Faye']"
      ]
     },
     "execution_count": 18,
     "metadata": {},
     "output_type": "execute_result"
    }
   ],
   "source": [
    "a\n"
   ]
  },
  {
   "cell_type": "code",
   "execution_count": 19,
   "id": "18e047b5-9931-4d1f-a2e5-9ddec57dbd0e",
   "metadata": {},
   "outputs": [
    {
     "data": {
      "text/plain": [
       "'John'"
      ]
     },
     "execution_count": 19,
     "metadata": {},
     "output_type": "execute_result"
    }
   ],
   "source": [
    "a.pop(0) #Append + pop (0) - queue functionality\n"
   ]
  },
  {
   "cell_type": "code",
   "execution_count": 20,
   "id": "9101102e-8483-4c78-8051-f3bbf2c76c2e",
   "metadata": {},
   "outputs": [
    {
     "data": {
      "text/plain": [
       "['Sam', 'Albert', 'Oliver', 'Leslie', 'Faye']"
      ]
     },
     "execution_count": 20,
     "metadata": {},
     "output_type": "execute_result"
    }
   ],
   "source": [
    "a"
   ]
  },
  {
   "cell_type": "code",
   "execution_count": 32,
   "id": "117f13c3-990a-4181-b5d2-76869eaa6f3e",
   "metadata": {},
   "outputs": [
    {
     "data": {
      "text/plain": [
       "['Sam', 'Albert', 'Oliver', 'Faye']"
      ]
     },
     "execution_count": 32,
     "metadata": {},
     "output_type": "execute_result"
    }
   ],
   "source": [
    "a.index('Oliver')\n",
    "a\n"
   ]
  },
  {
   "cell_type": "code",
   "execution_count": 37,
   "id": "5fff88a3-775d-416f-a58e-6898a65238d3",
   "metadata": {},
   "outputs": [
    {
     "data": {
      "text/plain": [
       "['Sam', 'John', 'Albert', 'Oliver', 'Faye']"
      ]
     },
     "execution_count": 37,
     "metadata": {},
     "output_type": "execute_result"
    }
   ],
   "source": [
    "a.insert(1,'John') #this inserts John in position one\n",
    "a"
   ]
  },
  {
   "cell_type": "code",
   "execution_count": 38,
   "id": "464ee8a0-b573-439f-80c7-56e7123ad8a4",
   "metadata": {},
   "outputs": [
    {
     "data": {
      "text/plain": [
       "['Sam', 'Albert', 'Oliver', 'Faye']"
      ]
     },
     "execution_count": 38,
     "metadata": {},
     "output_type": "execute_result"
    }
   ],
   "source": [
    "a.remove('John')\n",
    "a"
   ]
  },
  {
   "cell_type": "code",
   "execution_count": 39,
   "id": "f0e11667-4c0d-4139-8e32-6dda40d7e00e",
   "metadata": {},
   "outputs": [
    {
     "data": {
      "text/plain": [
       "<enumerate at 0x7fe46894b8c0>"
      ]
     },
     "execution_count": 39,
     "metadata": {},
     "output_type": "execute_result"
    }
   ],
   "source": [
    "enumerate(a)\n",
    "#Lists are Mutable (can change)\n",
    "#tuples are not Mutable - ie. cannot be changed"
   ]
  },
  {
   "cell_type": "code",
   "execution_count": null,
   "id": "27c69a13-591a-48df-8e87-3c140d802971",
   "metadata": {},
   "outputs": [],
   "source": []
  },
  {
   "cell_type": "code",
   "execution_count": 40,
   "id": "739f2eb3-d88b-461c-a11f-b50c1165eb4f",
   "metadata": {},
   "outputs": [
    {
     "data": {
      "text/plain": [
       "((0, 'Sam'), (1, 'Albert'), (2, 'Oliver'), (3, 'Faye'))"
      ]
     },
     "execution_count": 40,
     "metadata": {},
     "output_type": "execute_result"
    }
   ],
   "source": [
    "tuple(enumerate(a))\n"
   ]
  },
  {
   "cell_type": "code",
   "execution_count": null,
   "id": "2e582910-2647-400c-8fd0-ffc1a4563be7",
   "metadata": {},
   "outputs": [],
   "source": []
  }
 ],
 "metadata": {
  "kernelspec": {
   "display_name": "Python 3 (ipykernel)",
   "language": "python",
   "name": "python3"
  },
  "language_info": {
   "codemirror_mode": {
    "name": "ipython",
    "version": 3
   },
   "file_extension": ".py",
   "mimetype": "text/x-python",
   "name": "python",
   "nbconvert_exporter": "python",
   "pygments_lexer": "ipython3",
   "version": "3.9.7"
  }
 },
 "nbformat": 4,
 "nbformat_minor": 5
}
