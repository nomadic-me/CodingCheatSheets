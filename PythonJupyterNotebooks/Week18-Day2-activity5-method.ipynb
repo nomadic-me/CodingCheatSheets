{
 "cells": [
  {
   "cell_type": "code",
   "execution_count": 9,
   "id": "181ccaf5-2858-40cd-a095-cfd8573fd28c",
   "metadata": {},
   "outputs": [],
   "source": [
    "# Imports\n",
    "from dataclasses import dataclass\n",
    "from datetime import datetime\n",
    "from typing import Any\n",
    "import hashlib"
   ]
  },
  {
   "cell_type": "code",
   "execution_count": 11,
   "id": "3a9c5bca-8ffd-431e-beee-1c62c41e24d7",
   "metadata": {},
   "outputs": [],
   "source": [
    "# The Block class including a hash_block method\n",
    "@dataclass\n",
    "class Block:\n",
    "    data: Any\n",
    "    creator_id: int\n",
    "    timestamp: str = datetime.utcnow().strftime(\"%H:%M:%S\")\n",
    "\n",
    "    # Create a method called hash_block\n",
    "    def hash_block(self):\n",
    "        sha = hashlib.sha256()\n",
    "\n",
    "        # Turn the block data into an encoded string\n",
    "        data = str(self.data).encode()\n",
    "        sha.update(data)\n",
    "\n",
    "        # Turn the block creator_id into an encoded string\n",
    "        creator_id = str(self.creator_id).encode()\n",
    "        sha.update(creator_id)\n",
    "\n",
    "        # Turn the block timestamp into an encoded string\n",
    "        timestamp = str(self.timestamp).encode()\n",
    "        sha.update(timestamp)\n",
    "\n",
    "        return sha.hexdigest()"
   ]
  },
  {
   "cell_type": "code",
   "execution_count": 12,
   "id": "4b7a5cd1-1068-4c0a-900c-a0a8910713df",
   "metadata": {},
   "outputs": [],
   "source": [
    "\n",
    "# Create a new block instance using some test data\n",
    "new_block = Block(data=\"test\", creator_id=0)\n"
   ]
  },
  {
   "cell_type": "code",
   "execution_count": 13,
   "id": "27c865f4-93d9-46aa-875f-5e30fd3463d9",
   "metadata": {},
   "outputs": [],
   "source": [
    "\n",
    "# Calculate the block hash using the new method\n",
    "block_hash = new_block.hash_block()\n"
   ]
  },
  {
   "cell_type": "code",
   "execution_count": 14,
   "id": "f3648263-1e2b-4982-be22-581874d7af4b",
   "metadata": {},
   "outputs": [
    {
     "name": "stdout",
     "output_type": "stream",
     "text": [
      "ddd0683af7bdc015e2a17af4e04946be79943e4c178403c3039192bf94a2b14a\n"
     ]
    }
   ],
   "source": [
    "\n",
    "# Print the block's hash\n",
    "print(block_hash)\n",
    "\n"
   ]
  },
  {
   "cell_type": "code",
   "execution_count": 15,
   "id": "727963b4-5e4c-4bb7-8f6c-d979f9203ae1",
   "metadata": {},
   "outputs": [],
   "source": [
    "\n",
    "\n",
    "# Create the data class called Counter\n",
    "# Include a method called update_count\n",
    "@dataclass\n",
    "class Counter:\n",
    "    count: int = 2\n",
    "\n",
    "    def update_count(self):\n",
    "        self.count = self.count + 1\n",
    "\n"
   ]
  },
  {
   "cell_type": "code",
   "execution_count": 16,
   "id": "2fb60998-df6d-4de6-a64b-5b56ba134597",
   "metadata": {},
   "outputs": [],
   "source": [
    "# Create a new instance of Counter\n",
    "new_counter = Counter()\n",
    "\n"
   ]
  },
  {
   "cell_type": "code",
   "execution_count": 17,
   "id": "d1fea33e-fab2-41a5-9409-ac9f4a7e589b",
   "metadata": {},
   "outputs": [
    {
     "name": "stdout",
     "output_type": "stream",
     "text": [
      "The current count is:  4\n"
     ]
    }
   ],
   "source": [
    "# Update the count by calling update_count\n",
    "new_counter.update_count()\n",
    "new_counter.update_count()\n",
    "\n",
    "# Print the updated value of count\n",
    "print(\"The current count is: \", new_counter.count)"
   ]
  },
  {
   "cell_type": "code",
   "execution_count": null,
   "id": "7cc26a7a-0ac4-43fe-8b45-fe7fad77bc28",
   "metadata": {},
   "outputs": [],
   "source": []
  }
 ],
 "metadata": {
  "kernelspec": {
   "display_name": "Python 3 (ipykernel)",
   "language": "python",
   "name": "python3"
  },
  "language_info": {
   "codemirror_mode": {
    "name": "ipython",
    "version": 3
   },
   "file_extension": ".py",
   "mimetype": "text/x-python",
   "name": "python",
   "nbconvert_exporter": "python",
   "pygments_lexer": "ipython3",
   "version": "3.8.13"
  }
 },
 "nbformat": 4,
 "nbformat_minor": 5
}
