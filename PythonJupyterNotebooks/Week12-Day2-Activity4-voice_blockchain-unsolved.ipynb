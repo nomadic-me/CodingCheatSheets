{
 "cells": [
  {
   "cell_type": "markdown",
   "metadata": {},
   "source": [
    "# The Voice of the Blockchain\n",
    "\n",
    "Canada lies at the frontier of the blockchain sector with increasing adoption rates and favorable regulations. In this activity you will retrieve news articles regarding blockchain in Canada for both English and French languages to capture the voice of the blockchain."
   ]
  },
  {
   "cell_type": "code",
   "execution_count": 1,
   "metadata": {},
   "outputs": [],
   "source": [
    "# Initial imports\n",
    "import pandas as pd\n",
    "from dotenv import load_dotenv\n",
    "import os\n",
    "from path import Path\n",
    "from newsapi import NewsApiClient\n",
    "\n"
   ]
  },
  {
   "cell_type": "code",
   "execution_count": 2,
   "metadata": {},
   "outputs": [],
   "source": [
    "# Load environment variables and retrieve the News API key\n",
    "load_dotenv()\n",
    "api_key = os.getenv(\"NEWSAPI\")\n",
    "\n"
   ]
  },
  {
   "cell_type": "code",
   "execution_count": 3,
   "metadata": {},
   "outputs": [],
   "source": [
    "# Create the newsapi client\n",
    "newsapi = NewsApiClient(api_key=api_key)\n",
    "\n"
   ]
  },
  {
   "cell_type": "markdown",
   "metadata": {},
   "source": [
    "## Getting News Articles in English\n",
    "\n",
    "In this section you have to fetch all the news articles using the News API with the keywords `blockchain`, `canada`, and `2020` in English.\n",
    "\n"
   ]
  },
  {
   "cell_type": "code",
   "execution_count": 15,
   "metadata": {},
   "outputs": [
    {
     "data": {
      "text/plain": [
       "129"
      ]
     },
     "execution_count": 15,
     "metadata": {},
     "output_type": "execute_result"
    }
   ],
   "source": [
    "# Fetch news about Canada and Blockchain in 2020 in the English language\n",
    "blockchain_news_en = newsapi.get_everything(\n",
    "    q=\"blockchain AND canada AND 2020\",\n",
    "    language=\"en\"\n",
    ")\n",
    "\n",
    "# Show the total number of news\n",
    "blockchain_news_en[\"totalResults\"]\n"
   ]
  },
  {
   "cell_type": "code",
   "execution_count": 16,
   "metadata": {},
   "outputs": [],
   "source": [
    "# This is ti print\n",
    "#print(blockchain_news_en)"
   ]
  },
  {
   "cell_type": "markdown",
   "metadata": {},
   "source": [
    "## Getting News Articles in French\n",
    "\n",
    "Fetching news in French will require keywords on this language, so retrieve all the news articles using the News API using the keywords `blockchain`, `canada`, and `2020`."
   ]
  },
  {
   "cell_type": "code",
   "execution_count": 17,
   "metadata": {},
   "outputs": [
    {
     "data": {
      "text/plain": [
       "3"
      ]
     },
     "execution_count": 17,
     "metadata": {},
     "output_type": "execute_result"
    }
   ],
   "source": [
    "# Fetch news about Canada and Blockchain in 2020 in the French language\n",
    "blockchain_news_fr = newsapi.get_everything(\n",
    "    q=\"blockchain AND canada AND 2020\",\n",
    "    language=\"fr\"\n",
    ")\n",
    "\n",
    "# Show the total number of news\n",
    "blockchain_news_fr[\"totalResults\"]\n",
    "\n"
   ]
  },
  {
   "cell_type": "code",
   "execution_count": 18,
   "metadata": {},
   "outputs": [
    {
     "name": "stdout",
     "output_type": "stream",
     "text": [
      "{'status': 'ok', 'totalResults': 129, 'articles': [{'source': {'id': None, 'name': 'Phys.Org'}, 'author': 'Nafis Alam', 'title': 'Australia is investigating a digital currency, or e-dollar, but its benefits seem slight and the risks to privacy large', 'description': \"We are used to thinking of money as notes and coins, the kind most of us hold in our wallets. But most money—in Australia it's 96.3%—is digital, held by financial institutions and moved around via bank transfers, debit cards and credit cards.\", 'url': 'https://phys.org/news/2022-05-australia-digital-currency-e-dollar-benefits.html', 'urlToImage': 'https://scx2.b-cdn.net/gfx/news/hires/2022/australia-is-investiga.jpg', 'publishedAt': '2022-05-05T15:40:02Z', 'content': \"We are used to thinking of money as notes and coins, the kind most of us hold in our wallets. But most moneyin Australia it's 96.3%is digital, held by financial institutions and moved around via bank… [+6015 chars]\"}, {'source': {'id': None, 'name': 'Forbes'}, 'author': 'Zinnia Lee, Forbes Staff, \\n Zinnia Lee, Forbes Staff\\n https://www.forbes.com/sites/zinnialee/', 'title': 'Fitness Metaverse: This Tech Company Trades Sweat For Crypto And NFTs', 'description': 'OliveX wants you to earn while you burn. The Hong Kong-based digital fitness company rewards players with crypto and NFTs as they flee marauding pirates and monsters across a dystopian wasteland.', 'url': 'https://www.forbes.com/sites/zinnialee/2022/04/27/fitness-metaverse-this-tech-company-trades-sweat-for-crypto-and-nfts/', 'urlToImage': 'https://imageio.forbes.com/specials-images/imageserve/6267ca67379e275803021596/0x0.jpg?format=jpg&crop=3756,2113,x303,y0,safe&width=1200', 'publishedAt': '2022-04-27T04:30:00Z', 'content': 'Working out can be good for your belt line and your bottom-line at the same time. Thats the proposition OliveX is offering to the players of its mobile blockchain games. \\r\\nGamers can earn DOSE tokens… [+7218 chars]'}, {'source': {'id': None, 'name': 'Yahoo Entertainment'}, 'author': 'PR Newswire', 'title': 'Blockchain Technology Market: 19.00% Y-O-Y Growth Rate in 2021 | Market Size, Share & Trends Analysis Report by End-user, Geography, and Segment Forecasts, 2021 - 2025', 'description': 'The Blockchain Technology Market value is set to grow by USD 6.25 billion, progressing at a CAGR of 32.39% from 2020 to 2025, as per the latest report by...', 'url': 'https://finance.yahoo.com/news/blockchain-technology-market-19-00-113000052.html', 'urlToImage': 'https://s.yimg.com/uu/api/res/1.2/PDx8Q7DKdmU5HHZFEisgPA--~B/aD0yMjU7dz00MDA7YXBwaWQ9eXRhY2h5b24-/https://media.zenfs.com/en/prnewswire.com/67f7c8d0e5b9a6c604bbb16cebac06d9', 'publishedAt': '2022-05-06T11:30:00Z', 'content': 'NEW YORK, May 6, 2022 /PRNewswire/ -- The Blockchain Technology Market value is set to grow by USD 6.25 billion, progressing at a CAGR of 32.39% from 2020 to 2025, as per the latest report by Technav… [+15237 chars]'}, {'source': {'id': None, 'name': 'Yahoo Entertainment'}, 'author': 'ACCESSWIRE', 'title': 'Midpoint Announces Appointment of New CEO/CFO and Results of AGM', 'description': 'LONDON, UK / ACCESSWIRE / April 12, 2022 / Midpoint Holdings Ltd. (TSXV:MPT) (Frankfurt: 8MH1) (\"Midpoint\" or the \"Company\") is pleased to announce that all ...', 'url': 'https://finance.yahoo.com/news/midpoint-announces-appointment-ceo-cfo-124000250.html', 'urlToImage': 'https://s.yimg.com/cv/apiv2/social/images/yahoo_default_logo-1200x1200.png', 'publishedAt': '2022-04-12T12:40:00Z', 'content': 'LONDON, UK / ACCESSWIRE / April 12, 2022 / Midpoint Holdings Ltd. (TSXV:MPT) (Frankfurt: 8MH1) (\"Midpoint\" or the \"Company\") is pleased to announce that all matters presented at its annual general an… [+6565 chars]'}, {'source': {'id': None, 'name': 'Yahoo Entertainment'}, 'author': 'ReportLinker', 'title': 'Blockchain AI Market Research Report by Technology, Component, Deployment Mode, Application, Vertical, Region - Global Forecast to 2027 - Cumulative Impact of COVID-19', 'description': 'Blockchain AI Market Research Report by Technology (Computer Vision, Context-Aware Computing, and Machine Learning), Component, Deployment Mode, Application,...', 'url': 'https://finance.yahoo.com/news/blockchain-ai-market-research-report-092400921.html', 'urlToImage': 'https://s.yimg.com/uu/api/res/1.2/IN3_pUboxxFTZlP4bjcjcQ--~B/aD00MDA7dz00MDA7YXBwaWQ9eXRhY2h5b24-/https://media.zenfs.com/en/globenewswire.com/4ce8962afb8a41766b626a7e61c8413f', 'publishedAt': '2022-05-04T09:24:00Z', 'content': 'Blockchain AI Market Research Report by Technology (Computer Vision, Context-Aware Computing, and Machine Learning), Component, Deployment Mode, Application, Vertical, Region (Americas, Asia-Pacific,… [+9317 chars]'}, {'source': {'id': None, 'name': 'Yahoo Entertainment'}, 'author': 'ReportLinker', 'title': 'Blockchain-as-a-Service Market Research Report by Offering, Component, Organization Size, End User, Application, Verticals, Region - Global Forecast to 2027 - Cumulative Impact of COVID-19', 'description': 'Blockchain-as-a-Service Market Research Report by Offering (Services and Tools), Component, Organization Size, End User, Application, Verticals, Region...', 'url': 'https://finance.yahoo.com/news/blockchain-market-research-report-offering-092900067.html', 'urlToImage': 'https://s.yimg.com/uu/api/res/1.2/IN3_pUboxxFTZlP4bjcjcQ--~B/aD00MDA7dz00MDA7YXBwaWQ9eXRhY2h5b24-/https://media.zenfs.com/en/globenewswire.com/4ce8962afb8a41766b626a7e61c8413f', 'publishedAt': '2022-05-04T09:29:00Z', 'content': 'Blockchain-as-a-Service Market Research Report by Offering (Services and Tools), Component, Organization Size, End User, Application, Verticals, Region (Americas, Asia-Pacific, and Europe, Middle Eas… [+9071 chars]'}, {'source': {'id': None, 'name': 'Project Syndicate'}, 'author': 'Marion Laboure', 'title': 'Greening the Crypto Revolution', 'description': 'The explosive growth of Bitcoin and other cryptocurrencies has opened up a new front in the broader climate crisis by threatening to offset the progress made in recent years toward decarbonization. For the technology to gain wider adoption over the long term,…', 'url': 'https://www.project-syndicate.org/onpoint/cleaning-up-crypto-energy-usage-carbon-footprint-by-marion-laboure-1-2022-05', 'urlToImage': 'https://webapi.project-syndicate.org/library/de57c548c493aa9a6cf13946acc79145.2-1-super.1.jpg', 'publishedAt': '2022-05-06T08:21:03Z', 'content': 'The explosive growth of Bitcoin and other cryptocurrencies has opened up a new front in the broader climate crisis by threatening to offset the progress made in recent years toward decarbonization. F… [+13628 chars]'}, {'source': {'id': None, 'name': 'Yahoo Entertainment'}, 'author': 'Midpoint Holdings Ltd.', 'title': 'Midpoint Announces Appointment of New CEO/CFO and Results of AGM', 'description': 'LONDON, April 12, 2022 (GLOBE NEWSWIRE) -- Midpoint Holdings Ltd (TSXV: MPT) (Frankfurt: 8MH1) (“Midpoint” or the “Company”) is pleased to announce that all ...', 'url': 'https://finance.yahoo.com/news/midpoint-announces-appointment-ceo-cfo-142200352.html', 'urlToImage': 'https://s.yimg.com/uu/api/res/1.2/7J80LmrsAW_6NJEwTWsC5A--~B/aD04Mzt3PTIwMDthcHBpZD15dGFjaHlvbg--/https://media.zenfs.com/en/globenewswire.com/2819a3b58495293cae3ca06addd3459e', 'publishedAt': '2022-04-12T14:22:00Z', 'content': 'LONDON, April 12, 2022 (GLOBE NEWSWIRE) -- Midpoint Holdings Ltd (TSXV: MPT) (Frankfurt: 8MH1) (Midpoint or the Company) is pleased to announce that all matters presented at its annual general and sp… [+6665 chars]'}, {'source': {'id': None, 'name': 'Business Wire'}, 'author': None, 'title': 'Canada Asset Management Market (2022 - 2027): Growth Of Responsible Investment Funds - ResearchAndMarkets.com', 'description': 'DUBLIN--(BUSINESS WIRE)--The \"Canada Asset Management Market - Growth, Trends, COVID-19 Impact and Forecasts (2022 - 2027)\" report has been added to ResearchAndMarkets.com\\'s offering. Key Highlights Growth in Canada outpaced both the U.S. and the global indus…', 'url': 'https://www.businesswire.com/news/home/20220418005350/en/Canada-Asset-Management-Market-2022---2027-Growth-Of-Responsible-Investment-Funds---ResearchAndMarkets.com', 'urlToImage': 'https://mms.businesswire.com/media/20220418005350/en/1423262/23/logo.jpg', 'publishedAt': '2022-04-18T12:39:14Z', 'content': 'DUBLIN--(BUSINESS WIRE)--The \"Canada Asset Management Market - Growth, Trends, COVID-19 Impact and Forecasts (2022 - 2027)\" report has been added to ResearchAndMarkets.com\\'s offering.\\r\\nKey Highlights… [+5222 chars]'}, {'source': {'id': None, 'name': 'Yahoo Entertainment'}, 'author': 'Hamna Asim', 'title': '10 Bitcoin Mining Stocks to Buy Now', 'description': 'In this article, we discuss 10 bitcoin mining stocks to buy now. If you want to read about some more stocks in this collection, go see 5 Bitcoin Mining...', 'url': 'https://finance.yahoo.com/news/10-bitcoin-mining-stocks-buy-164158861.html', 'urlToImage': 'https://s.yimg.com/uu/api/res/1.2/o6hJMMlfW6EhVRj_wxAmQQ--~B/aD02MDA7dz02MDA7YXBwaWQ9eXRhY2h5b24-/https://media.zenfs.com/en/insidermonkey.com/b8e6fe7c0514b078157ab5ac8fe995ef', 'publishedAt': '2022-04-22T16:41:58Z', 'content': 'In this article, we discuss 10 bitcoin mining stocks to buy now. If you want to read about some more stocks in this collection, go see 5 Bitcoin Mining Stocks to Buy Now.\\r\\nBitcoin mining refers to th… [+10436 chars]'}, {'source': {'id': None, 'name': 'Cointelegraph'}, 'author': 'Cointelegraph By Shiraz Jagati', 'title': 'Four years on, Telegram’s blockchain project gains ground in Africa', 'description': 'After raising $250 million from a host of mainstream entities such as Huobi, Kucoin and MEXC, TON’s recent global adoption seems to be rapidly increasing.', 'url': 'https://cointelegraph.com/news/four-years-on-telegram-s-blockchain-project-gains-ground-in-africa', 'urlToImage': 'https://images.cointelegraph.com/images/1200_aHR0cHM6Ly9zMy5jb2ludGVsZWdyYXBoLmNvbS91cGxvYWRzLzIwMjItMDQvZjc2N2M2ZTEtMmQ1Yy00ODE4LTk1MGItMDFjN2EwYzc3YTMxLmpwZw==.jpg', 'publishedAt': '2022-04-19T13:03:00Z', 'content': 'It was 2018 when privacy-focused messaging platform Telegram announced that it was in the process of building a blockchain-based decentralized computer network technology called The Open Network (TON… [+6761 chars]'}, {'source': {'id': None, 'name': 'Yahoo Entertainment'}, 'author': 'Market Data Centre', 'title': 'Smart Agriculture Market - Technology & Vendor Assessment (Vendor Summary Profiles, Strategies, Capabilities & Product Mapping & Regional Economic Analysis) by MDC Research', 'description': 'The Global Smart Agriculture Market was valued at USD 12.1 billion in 2020 and projected to reach 36.18 Bn by 2030 with a CAGR of 11.9% during the forecast...', 'url': 'https://finance.yahoo.com/news/smart-agriculture-market-technology-vendor-114700462.html', 'urlToImage': 'https://s.yimg.com/uu/api/res/1.2/X73dKWYq2d60jd8qK3jnbg--~B/aD00ODt3PTI1MTthcHBpZD15dGFjaHlvbg--/https://media.zenfs.com/en/globenewswire.com/8031c22e52f3f9e621959c4b65daa31a', 'publishedAt': '2022-04-25T11:47:00Z', 'content': 'The Global Smart Agriculture Market was valued at USD 12.1 billion in 2020 and projected to reach 36.18 Bn by 2030 with a CAGR of 11.9% during the forecast period 2022 to 2030.\\r\\nPune, April 25, 2022 … [+8353 chars]'}, {'source': {'id': None, 'name': 'Yahoo Entertainment'}, 'author': 'Anna Baydakova', 'title': 'Bankoff’s Crypto Wallets Nearly Empty After Virtual Debit Card Provider Folds', 'description': \"The Delaware-registered company said Visa and Stripe cut it off for serving too many Russians, but on-chain data has stoked users' suspicions.\", 'url': 'https://finance.yahoo.com/news/bankoff-crypto-wallets-nearly-empty-170749161.html', 'urlToImage': 'https://s.yimg.com/uu/api/res/1.2/YS6MdrjAScVKwONDBuSy4Q--~B/aD02MDA7dz04MDA7YXBwaWQ9eXRhY2h5b24-/https://media.zenfs.com/en/coindesk_75/e5f9e716738d937b7282efcd5bbef869', 'publishedAt': '2022-05-05T17:07:49Z', 'content': \"Don't miss CoinDesk's Consensus 2022, the must-attend crypto &amp; blockchain festival experience of the year in Austin, TX this June 9-12.\\r\\nBankoff, a Delaware-registered company with operations in … [+6887 chars]\"}, {'source': {'id': None, 'name': 'Bitcoinist'}, 'author': 'Jet Encila', 'title': 'Bitcoin Investors Have ‘Low’ Financial Knowledge, Bank Study Shows', 'description': 'Canadian bitcoin owners have little financial literacy and are susceptible to high levels of financial risk,\\xa0 a new Bank of Canada research shows. The Globe and Mail newspaper in Canada reported the study. According to the research paper, despite their in-dep…', 'url': 'https://bitcoinist.com/bitcoin-investors-have-low/', 'urlToImage': 'https://bitcoinist.com/wp-content/uploads/2022/04/Bitcoin-1.png', 'publishedAt': '2022-04-21T15:09:11Z', 'content': 'Canadian bitcoin owners have little financial literacy and are susceptible to high levels of financial risk,\\xa0 a new Bank of Canada research shows.\\r\\nThe Globe and Mail newspaper in Canada reported the… [+2845 chars]'}, {'source': {'id': None, 'name': 'Yahoo Entertainment'}, 'author': 'SkyQuest Technology Consulting Pvt. Ltd.', 'title': 'The Metaverse market is expected to reach a value of USD 758,600.86 Million by 2027, at a CAGR of 37.1% (2021 - 2027) - SkyQuest Technology', 'description': 'During the projected period, the global metaverse market is predicted to expand significantly. The rising focus on integrating digital and real worlds via...', 'url': 'https://finance.yahoo.com/news/metaverse-market-expected-reach-value-163700302.html', 'urlToImage': 'https://s.yimg.com/uu/api/res/1.2/ZSftfmuEe.sQl_XkiHRSLQ--~B/aD0xNjA7dz0xMTIwO2FwcGlkPXl0YWNoeW9u/https://media.zenfs.com/en/globenewswire.com/f7f03b10ffccfd08133740bcb83b8888', 'publishedAt': '2022-04-20T16:37:00Z', 'content': 'SkyQuest Technology Consulting Pvt. Ltd.\\r\\nDuring the projected period, the global metaverse market is predicted to expand significantly. The rising focus on integrating digital and real worlds via th… [+9356 chars]'}, {'source': {'id': None, 'name': 'Newleftreview.org'}, 'author': None, 'title': 'Critique of Techno-Feudal Reason', 'description': 'Countering current claims that digital capitalism is issuing in a ‘neofeudal’ age, as the rentier barons of Silicon Valley and Wall Street extract non-productive fortunes from their users and debtors, Evgeny Morozov returns to classic debates over the transit…', 'url': 'https://newleftreview.org/issues/ii133/articles/evgeny-morozov-critique-of-techno-feudal-reason', 'urlToImage': 'https://newleftreview.org/media/W1siZiIsIjIwMjIvMDQvMTMvZzF2dHlvczYxX05MUjEzM180X0NhcmRfVGVtcGxhdGUucG5nIl1d?sha=734b1ce5f1941ec5', 'publishedAt': '2022-05-07T11:47:31Z', 'content': 'First the good news. The moratorium on imagining the end of capitalism, noted in the 1990s by Fredric Jameson, has finally expired. The decades-long recession of the progressive imagination is over. … [+82366 chars]'}, {'source': {'id': None, 'name': 'Yahoo Entertainment'}, 'author': 'Absolute Reports Pvt Ltd', 'title': 'Cryptocurrency Mining and Equipment Market Size 2022-2028 | Growth, Revenue, Competitive Scenario, Development Status, Regional Segmentation, Key Players, Opportunities, Challenges', 'description': 'Pune, April 12, 2022 (GLOBE NEWSWIRE) -- Part -1 Global Cryptocurrency Mining Market report delivers a complete overview of key components like drivers...', 'url': 'https://finance.yahoo.com/news/cryptocurrency-mining-equipment-market-size-092800315.html', 'urlToImage': 'https://s.yimg.com/uu/api/res/1.2/j2NYOxjhKb0t3sPegJ2ugg--~B/aD0xODk7dz01NTA7YXBwaWQ9eXRhY2h5b24-/https://media.zenfs.com/en/globenewswire.com/25f60b27605da28caf94b2a878a09f22', 'publishedAt': '2022-04-12T09:28:00Z', 'content': 'Pune, April 12, 2022 (GLOBE NEWSWIRE) -- Part -1\\r\\nGlobal Cryptocurrency Mining Market report delivers a complete overview of key components like drivers, limitations, historic and current trends, tec… [+9115 chars]'}, {'source': {'id': None, 'name': 'Yahoo Entertainment'}, 'author': 'CNW Group', 'title': 'Wellfield Reports Financial Results for the Year Ended December 31, 2021', 'description': 'Wellfield Technologies, Inc. (TSXV: WFLD) (FRANKFURT: K8D) (the \"Company\" or \"Wellfield\"), today reported financial results for the year ended December 31...', 'url': 'https://finance.yahoo.com/news/wellfield-reports-financial-results-ended-113000238.html', 'urlToImage': 'https://s.yimg.com/uu/api/res/1.2/ZvlljBrbNg7m8c_mo91HVw--~B/aD0xNjt3PTE2O2FwcGlkPXl0YWNoeW9u/https://media.zenfs.com/en/cnwgroup.com/c5bc6ea7602378663f04a89c80f61cd3', 'publishedAt': '2022-04-26T11:30:00Z', 'content': '<ul><li>The Company\\'s common shares and certain warrants began trading on the TSX Venture Exchange (\"TSXV\") on November 30, 2021.\\r\\n</li><li>On March 24, 2022 Wellfield announced the acquisition of Ne… [+7673 chars]'}, {'source': {'id': None, 'name': 'Yahoo Entertainment'}, 'author': 'Proactive', 'title': 'Proactive news headlines including Core Lithium, Blackstone Minerals, Hillgrove Resources and Perpetual Resources', 'description': 'Sydney, May 03, 2022 (GLOBE NEWSWIRE) -- Proactive, provider of real-time news and video interviews on growth companies listed in Australia, has covered the ...', 'url': 'https://finance.yahoo.com/news/proactive-news-headlines-including-core-060500881.html', 'urlToImage': 'https://s.yimg.com/ny/api/res/1.2/uXIALkVLKdYijqm5Q3iH5w--/YXBwaWQ9aGlnaGxhbmRlcjt3PTEyMDA7aD0yODM-/https://s.yimg.com/uu/api/res/1.2/tLcSqIhiWwSfOCcLQV.t7g--~B/aD02ODY7dz0yOTA0O2FwcGlkPXl0YWNoeW9u/https://media.zenfs.com/en/globenewswire.com/82a5f60cdf7ca6d922a9c6b6c17b5989', 'publishedAt': '2022-05-03T06:05:00Z', 'content': 'Sydney, May 03, 2022 (GLOBE NEWSWIRE) -- Proactive, provider of real-time news and video interviews on growth companies listed in Australia, has covered the following companies:<li>Core Lithium Ltd (… [+6381 chars]'}, {'source': {'id': None, 'name': 'Yahoo Entertainment'}, 'author': 'Research and Markets', 'title': 'Global Digital Health Markets Report 2022-2026 - Artificial Intelligence to Play a Significant Role in Improving Clinical Outcomes', 'description': 'Dublin, May 09, 2022 (GLOBE NEWSWIRE) -- The \"Digital Health - Global Market Trajectory & Analytics\" report has been added to ResearchAndMarkets.com\\'s...', 'url': 'https://finance.yahoo.com/news/global-digital-health-markets-report-115800438.html', 'urlToImage': 'https://s.yimg.com/uu/api/res/1.2/HP.E8HUfnyGeLtMAKwLgAQ--~B/aD01ODt3PTQ4MDthcHBpZD15dGFjaHlvbg--/https://media.zenfs.com/en/globenewswire.com/93d5b27580f67db722dd7c112e43e8bc', 'publishedAt': '2022-05-09T11:58:00Z', 'content': 'Dublin, May 09, 2022 (GLOBE NEWSWIRE) -- The \"Digital Health - Global Market Trajectory &amp; Analytics\" report has been added to ResearchAndMarkets.com\\'s offering. \\r\\nGlobal Digital Health Market to … [+8140 chars]'}]}\n"
     ]
    }
   ],
   "source": [
    "# This is ti print\n",
    "print(blockchain_news_en)"
   ]
  },
  {
   "cell_type": "markdown",
   "metadata": {},
   "source": [
    "## Create a DataFrame with All the Results\n",
    "\n",
    "The first task on this section is to create a function called `create_df(news, language)` that will transform the `articles` list in a DataFrame. This function will receive two parameters: `news` is the articles' list and `language` is a string to specify the language of the news articles.\n",
    "\n",
    "The resulting DataFrame should have the following columns:\n",
    "\n",
    "* Title: The article's title\n",
    "* Description: The article's description\n",
    "* Text: The article's content\n",
    "* Date: The date when the article was published, using the format `YYY-MM-DD` (eg. 2019-07-11)\n",
    "* Language: A string specifying the news language (`en` for English, `fr` for French)"
   ]
  },
  {
   "cell_type": "code",
   "execution_count": 19,
   "metadata": {},
   "outputs": [],
   "source": [
    "# Function to create a dataframe for english news and french news\n",
    "def create_df(news, language):\n",
    "    # YOUR CODE HERE\n",
    "    articles = []\n",
    "    for article in news:\n",
    "        try:\n",
    "            title = article[\"title\"]\n",
    "            description = article[\"description\"]\n",
    "            text = article[\"content\"]\n",
    "            date = article[\"publishedAt\"][:10]\n",
    "\n",
    "            articles.append({\n",
    "                \"title\": title,\n",
    "                \"description\": description,\n",
    "                \"text\": text,\n",
    "                \"date\": date,\n",
    "                \"language\": language\n",
    "            })\n",
    "        except AttributeError:\n",
    "            pass\n",
    "\n",
    "    return pd.DataFrame(articles)\n"
   ]
  },
  {
   "cell_type": "markdown",
   "metadata": {},
   "source": [
    "Use the create_df() function to create a DataFrame for the English news and another for the French news."
   ]
  },
  {
   "cell_type": "code",
   "execution_count": 20,
   "metadata": {},
   "outputs": [],
   "source": [
    "# Create a DataFrame with the news in English\n",
    "news_blockchain_en_df = create_df(blockchain_news_en[\"articles\"],\"en\")\n",
    "\n",
    "# Create a DataFrame with the news in French\n",
    "news_blockchain_fr_df = create_df(blockchain_news_fr[\"articles\"],\"en\")\n"
   ]
  },
  {
   "cell_type": "markdown",
   "metadata": {},
   "source": [
    "Concatenate both DataFrames having the English news at the top and the French news at the bottom."
   ]
  },
  {
   "cell_type": "code",
   "execution_count": 23,
   "metadata": {},
   "outputs": [
    {
     "data": {
      "text/html": [
       "<div>\n",
       "<style scoped>\n",
       "    .dataframe tbody tr th:only-of-type {\n",
       "        vertical-align: middle;\n",
       "    }\n",
       "\n",
       "    .dataframe tbody tr th {\n",
       "        vertical-align: top;\n",
       "    }\n",
       "\n",
       "    .dataframe thead th {\n",
       "        text-align: right;\n",
       "    }\n",
       "</style>\n",
       "<table border=\"1\" class=\"dataframe\">\n",
       "  <thead>\n",
       "    <tr style=\"text-align: right;\">\n",
       "      <th></th>\n",
       "      <th>title</th>\n",
       "      <th>description</th>\n",
       "      <th>text</th>\n",
       "      <th>date</th>\n",
       "      <th>language</th>\n",
       "    </tr>\n",
       "  </thead>\n",
       "  <tbody>\n",
       "    <tr>\n",
       "      <th>0</th>\n",
       "      <td>Australia is investigating a digital currency,...</td>\n",
       "      <td>We are used to thinking of money as notes and ...</td>\n",
       "      <td>We are used to thinking of money as notes and ...</td>\n",
       "      <td>2022-05-05</td>\n",
       "      <td>en</td>\n",
       "    </tr>\n",
       "    <tr>\n",
       "      <th>1</th>\n",
       "      <td>Fitness Metaverse: This Tech Company Trades Sw...</td>\n",
       "      <td>OliveX wants you to earn while you burn. The H...</td>\n",
       "      <td>Working out can be good for your belt line and...</td>\n",
       "      <td>2022-04-27</td>\n",
       "      <td>en</td>\n",
       "    </tr>\n",
       "    <tr>\n",
       "      <th>2</th>\n",
       "      <td>Blockchain Technology Market: 19.00% Y-O-Y Gro...</td>\n",
       "      <td>The Blockchain Technology Market value is set ...</td>\n",
       "      <td>NEW YORK, May 6, 2022 /PRNewswire/ -- The Bloc...</td>\n",
       "      <td>2022-05-06</td>\n",
       "      <td>en</td>\n",
       "    </tr>\n",
       "    <tr>\n",
       "      <th>3</th>\n",
       "      <td>Midpoint Announces Appointment of New CEO/CFO ...</td>\n",
       "      <td>LONDON, UK / ACCESSWIRE / April 12, 2022 / Mid...</td>\n",
       "      <td>LONDON, UK / ACCESSWIRE / April 12, 2022 / Mid...</td>\n",
       "      <td>2022-04-12</td>\n",
       "      <td>en</td>\n",
       "    </tr>\n",
       "    <tr>\n",
       "      <th>4</th>\n",
       "      <td>Blockchain AI Market Research Report by Techno...</td>\n",
       "      <td>Blockchain AI Market Research Report by Techno...</td>\n",
       "      <td>Blockchain AI Market Research Report by Techno...</td>\n",
       "      <td>2022-05-04</td>\n",
       "      <td>en</td>\n",
       "    </tr>\n",
       "  </tbody>\n",
       "</table>\n",
       "</div>"
      ],
      "text/plain": [
       "                                               title  \\\n",
       "0  Australia is investigating a digital currency,...   \n",
       "1  Fitness Metaverse: This Tech Company Trades Sw...   \n",
       "2  Blockchain Technology Market: 19.00% Y-O-Y Gro...   \n",
       "3  Midpoint Announces Appointment of New CEO/CFO ...   \n",
       "4  Blockchain AI Market Research Report by Techno...   \n",
       "\n",
       "                                         description  \\\n",
       "0  We are used to thinking of money as notes and ...   \n",
       "1  OliveX wants you to earn while you burn. The H...   \n",
       "2  The Blockchain Technology Market value is set ...   \n",
       "3  LONDON, UK / ACCESSWIRE / April 12, 2022 / Mid...   \n",
       "4  Blockchain AI Market Research Report by Techno...   \n",
       "\n",
       "                                                text        date language  \n",
       "0  We are used to thinking of money as notes and ...  2022-05-05       en  \n",
       "1  Working out can be good for your belt line and...  2022-04-27       en  \n",
       "2  NEW YORK, May 6, 2022 /PRNewswire/ -- The Bloc...  2022-05-06       en  \n",
       "3  LONDON, UK / ACCESSWIRE / April 12, 2022 / Mid...  2022-04-12       en  \n",
       "4  Blockchain AI Market Research Report by Techno...  2022-05-04       en  "
      ]
     },
     "execution_count": 23,
     "metadata": {},
     "output_type": "execute_result"
    }
   ],
   "source": [
    "# Concatenate dataframes\n",
    "blockchain_concat_df = pd.concat([news_blockchain_en_df, news_blockchain_fr_df])\n"
   ]
  },
  {
   "cell_type": "code",
   "execution_count": 24,
   "metadata": {},
   "outputs": [
    {
     "data": {
      "text/html": [
       "<div>\n",
       "<style scoped>\n",
       "    .dataframe tbody tr th:only-of-type {\n",
       "        vertical-align: middle;\n",
       "    }\n",
       "\n",
       "    .dataframe tbody tr th {\n",
       "        vertical-align: top;\n",
       "    }\n",
       "\n",
       "    .dataframe thead th {\n",
       "        text-align: right;\n",
       "    }\n",
       "</style>\n",
       "<table border=\"1\" class=\"dataframe\">\n",
       "  <thead>\n",
       "    <tr style=\"text-align: right;\">\n",
       "      <th></th>\n",
       "      <th>title</th>\n",
       "      <th>description</th>\n",
       "      <th>text</th>\n",
       "      <th>date</th>\n",
       "      <th>language</th>\n",
       "    </tr>\n",
       "  </thead>\n",
       "  <tbody>\n",
       "    <tr>\n",
       "      <th>18</th>\n",
       "      <td>Proactive news headlines including Core Lithiu...</td>\n",
       "      <td>Sydney, May 03, 2022 (GLOBE NEWSWIRE) -- Proac...</td>\n",
       "      <td>Sydney, May 03, 2022 (GLOBE NEWSWIRE) -- Proac...</td>\n",
       "      <td>2022-05-03</td>\n",
       "      <td>en</td>\n",
       "    </tr>\n",
       "    <tr>\n",
       "      <th>19</th>\n",
       "      <td>Global Digital Health Markets Report 2022-2026...</td>\n",
       "      <td>Dublin, May 09, 2022 (GLOBE NEWSWIRE) -- The \"...</td>\n",
       "      <td>Dublin, May 09, 2022 (GLOBE NEWSWIRE) -- The \"...</td>\n",
       "      <td>2022-05-09</td>\n",
       "      <td>en</td>\n",
       "    </tr>\n",
       "    <tr>\n",
       "      <th>0</th>\n",
       "      <td>Au Canada, le populiste qui veut remplacer le ...</td>\n",
       "      <td>Pierre Poilièvre, candidat à la direction du P...</td>\n",
       "      <td>Pierre Poilièvre, en février 2022. YOUTUBE / W...</td>\n",
       "      <td>2022-04-21</td>\n",
       "      <td>en</td>\n",
       "    </tr>\n",
       "    <tr>\n",
       "      <th>1</th>\n",
       "      <td>RSE : La pub signe un pacte avec l'écologie</td>\n",
       "      <td>Afin d'améliorer leur RSE, les entreprises dev...</td>\n",
       "      <td>S'il est impensable, en 2022, de ne pas évalue...</td>\n",
       "      <td>2022-05-08</td>\n",
       "      <td>en</td>\n",
       "    </tr>\n",
       "    <tr>\n",
       "      <th>2</th>\n",
       "      <td>[ASAP] Intergovernmental Panel on Blue Foods i...</td>\n",
       "      <td>Environmental Science &amp; TechnologyDOI: 10.1021...</td>\n",
       "      <td>Blue foods, including wild or cultivated foods...</td>\n",
       "      <td>2022-04-13</td>\n",
       "      <td>en</td>\n",
       "    </tr>\n",
       "  </tbody>\n",
       "</table>\n",
       "</div>"
      ],
      "text/plain": [
       "                                                title  \\\n",
       "18  Proactive news headlines including Core Lithiu...   \n",
       "19  Global Digital Health Markets Report 2022-2026...   \n",
       "0   Au Canada, le populiste qui veut remplacer le ...   \n",
       "1         RSE : La pub signe un pacte avec l'écologie   \n",
       "2   [ASAP] Intergovernmental Panel on Blue Foods i...   \n",
       "\n",
       "                                          description  \\\n",
       "18  Sydney, May 03, 2022 (GLOBE NEWSWIRE) -- Proac...   \n",
       "19  Dublin, May 09, 2022 (GLOBE NEWSWIRE) -- The \"...   \n",
       "0   Pierre Poilièvre, candidat à la direction du P...   \n",
       "1   Afin d'améliorer leur RSE, les entreprises dev...   \n",
       "2   Environmental Science & TechnologyDOI: 10.1021...   \n",
       "\n",
       "                                                 text        date language  \n",
       "18  Sydney, May 03, 2022 (GLOBE NEWSWIRE) -- Proac...  2022-05-03       en  \n",
       "19  Dublin, May 09, 2022 (GLOBE NEWSWIRE) -- The \"...  2022-05-09       en  \n",
       "0   Pierre Poilièvre, en février 2022. YOUTUBE / W...  2022-04-21       en  \n",
       "1   S'il est impensable, en 2022, de ne pas évalue...  2022-05-08       en  \n",
       "2   Blue foods, including wild or cultivated foods...  2022-04-13       en  "
      ]
     },
     "execution_count": 24,
     "metadata": {},
     "output_type": "execute_result"
    }
   ],
   "source": [
    "blockchain_concat_df.tail()"
   ]
  },
  {
   "cell_type": "code",
   "execution_count": 25,
   "metadata": {},
   "outputs": [
    {
     "data": {
      "text/html": [
       "<div>\n",
       "<style scoped>\n",
       "    .dataframe tbody tr th:only-of-type {\n",
       "        vertical-align: middle;\n",
       "    }\n",
       "\n",
       "    .dataframe tbody tr th {\n",
       "        vertical-align: top;\n",
       "    }\n",
       "\n",
       "    .dataframe thead th {\n",
       "        text-align: right;\n",
       "    }\n",
       "</style>\n",
       "<table border=\"1\" class=\"dataframe\">\n",
       "  <thead>\n",
       "    <tr style=\"text-align: right;\">\n",
       "      <th></th>\n",
       "      <th>title</th>\n",
       "      <th>description</th>\n",
       "      <th>text</th>\n",
       "      <th>date</th>\n",
       "      <th>language</th>\n",
       "    </tr>\n",
       "  </thead>\n",
       "  <tbody>\n",
       "    <tr>\n",
       "      <th>0</th>\n",
       "      <td>Australia is investigating a digital currency,...</td>\n",
       "      <td>We are used to thinking of money as notes and ...</td>\n",
       "      <td>We are used to thinking of money as notes and ...</td>\n",
       "      <td>2022-05-05</td>\n",
       "      <td>en</td>\n",
       "    </tr>\n",
       "    <tr>\n",
       "      <th>1</th>\n",
       "      <td>Fitness Metaverse: This Tech Company Trades Sw...</td>\n",
       "      <td>OliveX wants you to earn while you burn. The H...</td>\n",
       "      <td>Working out can be good for your belt line and...</td>\n",
       "      <td>2022-04-27</td>\n",
       "      <td>en</td>\n",
       "    </tr>\n",
       "    <tr>\n",
       "      <th>2</th>\n",
       "      <td>Blockchain Technology Market: 19.00% Y-O-Y Gro...</td>\n",
       "      <td>The Blockchain Technology Market value is set ...</td>\n",
       "      <td>NEW YORK, May 6, 2022 /PRNewswire/ -- The Bloc...</td>\n",
       "      <td>2022-05-06</td>\n",
       "      <td>en</td>\n",
       "    </tr>\n",
       "    <tr>\n",
       "      <th>3</th>\n",
       "      <td>Midpoint Announces Appointment of New CEO/CFO ...</td>\n",
       "      <td>LONDON, UK / ACCESSWIRE / April 12, 2022 / Mid...</td>\n",
       "      <td>LONDON, UK / ACCESSWIRE / April 12, 2022 / Mid...</td>\n",
       "      <td>2022-04-12</td>\n",
       "      <td>en</td>\n",
       "    </tr>\n",
       "    <tr>\n",
       "      <th>4</th>\n",
       "      <td>Blockchain AI Market Research Report by Techno...</td>\n",
       "      <td>Blockchain AI Market Research Report by Techno...</td>\n",
       "      <td>Blockchain AI Market Research Report by Techno...</td>\n",
       "      <td>2022-05-04</td>\n",
       "      <td>en</td>\n",
       "    </tr>\n",
       "  </tbody>\n",
       "</table>\n",
       "</div>"
      ],
      "text/plain": [
       "                                               title  \\\n",
       "0  Australia is investigating a digital currency,...   \n",
       "1  Fitness Metaverse: This Tech Company Trades Sw...   \n",
       "2  Blockchain Technology Market: 19.00% Y-O-Y Gro...   \n",
       "3  Midpoint Announces Appointment of New CEO/CFO ...   \n",
       "4  Blockchain AI Market Research Report by Techno...   \n",
       "\n",
       "                                         description  \\\n",
       "0  We are used to thinking of money as notes and ...   \n",
       "1  OliveX wants you to earn while you burn. The H...   \n",
       "2  The Blockchain Technology Market value is set ...   \n",
       "3  LONDON, UK / ACCESSWIRE / April 12, 2022 / Mid...   \n",
       "4  Blockchain AI Market Research Report by Techno...   \n",
       "\n",
       "                                                text        date language  \n",
       "0  We are used to thinking of money as notes and ...  2022-05-05       en  \n",
       "1  Working out can be good for your belt line and...  2022-04-27       en  \n",
       "2  NEW YORK, May 6, 2022 /PRNewswire/ -- The Bloc...  2022-05-06       en  \n",
       "3  LONDON, UK / ACCESSWIRE / April 12, 2022 / Mid...  2022-04-12       en  \n",
       "4  Blockchain AI Market Research Report by Techno...  2022-05-04       en  "
      ]
     },
     "execution_count": 25,
     "metadata": {},
     "output_type": "execute_result"
    }
   ],
   "source": [
    "# Show the head articles (they are in English)\n",
    "blockchain_concat_df.head()\n"
   ]
  },
  {
   "cell_type": "code",
   "execution_count": 26,
   "metadata": {},
   "outputs": [
    {
     "data": {
      "text/html": [
       "<div>\n",
       "<style scoped>\n",
       "    .dataframe tbody tr th:only-of-type {\n",
       "        vertical-align: middle;\n",
       "    }\n",
       "\n",
       "    .dataframe tbody tr th {\n",
       "        vertical-align: top;\n",
       "    }\n",
       "\n",
       "    .dataframe thead th {\n",
       "        text-align: right;\n",
       "    }\n",
       "</style>\n",
       "<table border=\"1\" class=\"dataframe\">\n",
       "  <thead>\n",
       "    <tr style=\"text-align: right;\">\n",
       "      <th></th>\n",
       "      <th>title</th>\n",
       "      <th>description</th>\n",
       "      <th>text</th>\n",
       "      <th>date</th>\n",
       "      <th>language</th>\n",
       "    </tr>\n",
       "  </thead>\n",
       "  <tbody>\n",
       "    <tr>\n",
       "      <th>18</th>\n",
       "      <td>Proactive news headlines including Core Lithiu...</td>\n",
       "      <td>Sydney, May 03, 2022 (GLOBE NEWSWIRE) -- Proac...</td>\n",
       "      <td>Sydney, May 03, 2022 (GLOBE NEWSWIRE) -- Proac...</td>\n",
       "      <td>2022-05-03</td>\n",
       "      <td>en</td>\n",
       "    </tr>\n",
       "    <tr>\n",
       "      <th>19</th>\n",
       "      <td>Global Digital Health Markets Report 2022-2026...</td>\n",
       "      <td>Dublin, May 09, 2022 (GLOBE NEWSWIRE) -- The \"...</td>\n",
       "      <td>Dublin, May 09, 2022 (GLOBE NEWSWIRE) -- The \"...</td>\n",
       "      <td>2022-05-09</td>\n",
       "      <td>en</td>\n",
       "    </tr>\n",
       "    <tr>\n",
       "      <th>0</th>\n",
       "      <td>Au Canada, le populiste qui veut remplacer le ...</td>\n",
       "      <td>Pierre Poilièvre, candidat à la direction du P...</td>\n",
       "      <td>Pierre Poilièvre, en février 2022. YOUTUBE / W...</td>\n",
       "      <td>2022-04-21</td>\n",
       "      <td>en</td>\n",
       "    </tr>\n",
       "    <tr>\n",
       "      <th>1</th>\n",
       "      <td>RSE : La pub signe un pacte avec l'écologie</td>\n",
       "      <td>Afin d'améliorer leur RSE, les entreprises dev...</td>\n",
       "      <td>S'il est impensable, en 2022, de ne pas évalue...</td>\n",
       "      <td>2022-05-08</td>\n",
       "      <td>en</td>\n",
       "    </tr>\n",
       "    <tr>\n",
       "      <th>2</th>\n",
       "      <td>[ASAP] Intergovernmental Panel on Blue Foods i...</td>\n",
       "      <td>Environmental Science &amp; TechnologyDOI: 10.1021...</td>\n",
       "      <td>Blue foods, including wild or cultivated foods...</td>\n",
       "      <td>2022-04-13</td>\n",
       "      <td>en</td>\n",
       "    </tr>\n",
       "  </tbody>\n",
       "</table>\n",
       "</div>"
      ],
      "text/plain": [
       "                                                title  \\\n",
       "18  Proactive news headlines including Core Lithiu...   \n",
       "19  Global Digital Health Markets Report 2022-2026...   \n",
       "0   Au Canada, le populiste qui veut remplacer le ...   \n",
       "1         RSE : La pub signe un pacte avec l'écologie   \n",
       "2   [ASAP] Intergovernmental Panel on Blue Foods i...   \n",
       "\n",
       "                                          description  \\\n",
       "18  Sydney, May 03, 2022 (GLOBE NEWSWIRE) -- Proac...   \n",
       "19  Dublin, May 09, 2022 (GLOBE NEWSWIRE) -- The \"...   \n",
       "0   Pierre Poilièvre, candidat à la direction du P...   \n",
       "1   Afin d'améliorer leur RSE, les entreprises dev...   \n",
       "2   Environmental Science & TechnologyDOI: 10.1021...   \n",
       "\n",
       "                                                 text        date language  \n",
       "18  Sydney, May 03, 2022 (GLOBE NEWSWIRE) -- Proac...  2022-05-03       en  \n",
       "19  Dublin, May 09, 2022 (GLOBE NEWSWIRE) -- The \"...  2022-05-09       en  \n",
       "0   Pierre Poilièvre, en février 2022. YOUTUBE / W...  2022-04-21       en  \n",
       "1   S'il est impensable, en 2022, de ne pas évalue...  2022-05-08       en  \n",
       "2   Blue foods, including wild or cultivated foods...  2022-04-13       en  "
      ]
     },
     "execution_count": 26,
     "metadata": {},
     "output_type": "execute_result"
    }
   ],
   "source": [
    "# Show the tail articles (they are in French)\n",
    "blockchain_concat_df.tail()\n",
    "\n"
   ]
  },
  {
   "cell_type": "markdown",
   "metadata": {},
   "source": [
    "Save tha final DataFrame as a CSV file for further analysis in the forthcoming activities."
   ]
  },
  {
   "cell_type": "code",
   "execution_count": 28,
   "metadata": {},
   "outputs": [],
   "source": [
    "# Save to CSV\n",
    "file_path = Path(\"Resources/blockchain_news_en_fr.csv\")\n",
    "blockchain_concat_df.to_csv(file_path, index=False, encoding='utf-8-sig')\n"
   ]
  },
  {
   "cell_type": "code",
   "execution_count": null,
   "metadata": {},
   "outputs": [],
   "source": []
  }
 ],
 "metadata": {
  "file_extension": ".py",
  "kernelspec": {
   "display_name": "Python [conda env:dev3.7]",
   "language": "python",
   "name": "conda-env-dev3.7-py"
  },
  "language_info": {
   "codemirror_mode": {
    "name": "ipython",
    "version": 3
   },
   "file_extension": ".py",
   "mimetype": "text/x-python",
   "name": "python",
   "nbconvert_exporter": "python",
   "pygments_lexer": "ipython3",
   "version": "3.7.7"
  },
  "mimetype": "text/x-python",
  "name": "python",
  "npconvert_exporter": "python",
  "pygments_lexer": "ipython3",
  "version": 3
 },
 "nbformat": 4,
 "nbformat_minor": 4
}
