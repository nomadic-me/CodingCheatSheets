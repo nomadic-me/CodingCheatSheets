{
 "cells": [
  {
   "cell_type": "code",
   "execution_count": 1,
   "id": "e82bab3f-435f-4737-b8bb-1255cbd7980d",
   "metadata": {},
   "outputs": [],
   "source": [
    "from dataclasses import dataclass\n",
    "from typing import Any, List\n",
    "import datetime as datetime\n",
    "import hashlib"
   ]
  },
  {
   "cell_type": "code",
   "execution_count": 2,
   "id": "0f34dc8e-3775-4c29-a29a-3e80fec77835",
   "metadata": {},
   "outputs": [],
   "source": [
    "\n",
    "\n",
    "@dataclass\n",
    "class Block:\n",
    "    data: Any\n",
    "    creator_id: int\n",
    "    timestamp: str = datetime.datetime.utcnow().strftime(\"%H:%M:%S\")\n",
    "    prev_hash: str = \"0\"\n",
    "    nonce: int = 0\n",
    "\n",
    "    def hash_block(self):\n",
    "        sha = hashlib.sha256()\n",
    "\n",
    "        data = str(self.data).encode()\n",
    "        sha.update(data)\n",
    "\n",
    "        creator_id = str(self.creator_id).encode()\n",
    "        sha.update(data)\n",
    "\n",
    "        prev_hash = str(self.prev_hash).encode()\n",
    "        sha.update(prev_hash)\n",
    "\n",
    "        timestamp = str(self.timestamp).encode()\n",
    "        sha.update(timestamp)\n",
    "\n",
    "        nonce = str(self.nonce).encode()\n",
    "        sha.update(nonce)\n",
    "\n",
    "        return sha.hexdigest()\n"
   ]
  },
  {
   "cell_type": "code",
   "execution_count": 3,
   "id": "64f6ff63-0e18-4d6f-b16c-b49fec40947e",
   "metadata": {},
   "outputs": [],
   "source": [
    "\n",
    "\n",
    "@dataclass\n",
    "class PyChain:\n",
    "    chain: List[Block]\n",
    "    difficulty: int = 4\n",
    "\n",
    "    def proof_of_work(self, block):\n",
    "        calculated_hash = block.hash_block()\n",
    "\n",
    "        num_of_zeros = \"0\" * self.difficulty\n",
    "\n",
    "        while not calculated_hash.startswith(num_of_zeros):\n",
    "            block.nonce += 1\n",
    "            calculated_hash = block.hash_block()\n",
    "\n",
    "        return block\n",
    "\n",
    "    def add_block(self, candidate_block):\n",
    "        block = self.proof_of_work(candidate_block)\n",
    "        self.chain += [block]\n",
    "\n",
    "\n",
    "\n"
   ]
  },
  {
   "cell_type": "code",
   "execution_count": null,
   "id": "50e03e0d-ec36-4afa-bd79-c8b4c7700382",
   "metadata": {},
   "outputs": [],
   "source": []
  }
 ],
 "metadata": {
  "kernelspec": {
   "display_name": "Python 3 (ipykernel)",
   "language": "python",
   "name": "python3"
  },
  "language_info": {
   "codemirror_mode": {
    "name": "ipython",
    "version": 3
   },
   "file_extension": ".py",
   "mimetype": "text/x-python",
   "name": "python",
   "nbconvert_exporter": "python",
   "pygments_lexer": "ipython3",
   "version": "3.7.7"
  }
 },
 "nbformat": 4,
 "nbformat_minor": 5
}
