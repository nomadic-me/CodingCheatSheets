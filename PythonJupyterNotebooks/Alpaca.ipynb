{
 "cells": [
  {
   "cell_type": "code",
   "execution_count": 23,
   "id": "91b82686-f639-4353-a29e-264d3d0970d5",
   "metadata": {},
   "outputs": [],
   "source": [
    "import os\n",
    "from dotenv import load_dotenv\n",
    "load_dotenv()\n",
    "from datetime import datetime\n",
    "from alpaca_trade_api.rest import REST, TimeFrame"
   ]
  },
  {
   "cell_type": "code",
   "execution_count": 2,
   "id": "f94ec0aa-21a3-4c0e-a2ea-f2d0d81aac5c",
   "metadata": {},
   "outputs": [],
   "source": [
    "import requests"
   ]
  },
  {
   "cell_type": "code",
   "execution_count": 3,
   "id": "385896cc-f90e-4028-a8a5-900363c62906",
   "metadata": {},
   "outputs": [],
   "source": [
    "import pandas as pd"
   ]
  },
  {
   "cell_type": "code",
   "execution_count": 4,
   "id": "011ecc61-45e8-4cdd-8aa7-eb6afa0f6113",
   "metadata": {},
   "outputs": [],
   "source": [
    "import alpaca_trade_api as trade_api"
   ]
  },
  {
   "cell_type": "code",
   "execution_count": 5,
   "id": "71ee0aad-72f3-4ce2-a3fd-3a4ed4b4da69",
   "metadata": {},
   "outputs": [],
   "source": [
    "alpaca_api_key=os.getenv('ALPACA_API_KEY')"
   ]
  },
  {
   "cell_type": "code",
   "execution_count": 6,
   "id": "7fe10605-3917-4528-9048-3b9f1929b3b0",
   "metadata": {},
   "outputs": [],
   "source": [
    "alpaca_secret_key=os.getenv('ALPACA_SECRET_API_KEY')"
   ]
  },
  {
   "cell_type": "code",
   "execution_count": 7,
   "id": "d53b0500-efdc-4d6e-8d7f-a64d3af412ea",
   "metadata": {},
   "outputs": [
    {
     "name": "stdout",
     "output_type": "stream",
     "text": [
      "PK15VZA9CKHC6R0SSL0H\n"
     ]
    }
   ],
   "source": [
    "print(alpaca_api_key)"
   ]
  },
  {
   "cell_type": "code",
   "execution_count": null,
   "id": "43decdc4-6027-4a59-a884-f751de6b6d90",
   "metadata": {},
   "outputs": [],
   "source": []
  },
  {
   "cell_type": "code",
   "execution_count": 9,
   "id": "d62c23a8-d8f4-4be8-b1f8-19faa4145c17",
   "metadata": {},
   "outputs": [],
   "source": [
    "alpaca=trade_api.REST(alpaca_api_key, alpaca_secret_key, api_version='v2')"
   ]
  },
  {
   "cell_type": "code",
   "execution_count": 24,
   "id": "900de5e2-10b2-4382-ae29-7ac4f4101fad",
   "metadata": {},
   "outputs": [],
   "source": []
  },
  {
   "cell_type": "code",
   "execution_count": 26,
   "id": "0b65053e-0a13-4dbd-8b9a-9d16ae4612e2",
   "metadata": {},
   "outputs": [],
   "source": [
    "tickers=['FB', 'TWTR']"
   ]
  },
  {
   "cell_type": "code",
   "execution_count": 12,
   "id": "823bec58-9e58-4e98-b2f0-c62581be2a00",
   "metadata": {},
   "outputs": [
    {
     "data": {
      "text/html": [
       "<div>\n",
       "<style scoped>\n",
       "    .dataframe tbody tr th:only-of-type {\n",
       "        vertical-align: middle;\n",
       "    }\n",
       "\n",
       "    .dataframe tbody tr th {\n",
       "        vertical-align: top;\n",
       "    }\n",
       "\n",
       "    .dataframe thead th {\n",
       "        text-align: right;\n",
       "    }\n",
       "</style>\n",
       "<table border=\"1\" class=\"dataframe\">\n",
       "  <thead>\n",
       "    <tr style=\"text-align: right;\">\n",
       "      <th></th>\n",
       "      <th>open</th>\n",
       "      <th>high</th>\n",
       "      <th>low</th>\n",
       "      <th>close</th>\n",
       "      <th>volume</th>\n",
       "      <th>trade_count</th>\n",
       "      <th>vwap</th>\n",
       "      <th>symbol</th>\n",
       "    </tr>\n",
       "    <tr>\n",
       "      <th>timestamp</th>\n",
       "      <th></th>\n",
       "      <th></th>\n",
       "      <th></th>\n",
       "      <th></th>\n",
       "      <th></th>\n",
       "      <th></th>\n",
       "      <th></th>\n",
       "      <th></th>\n",
       "    </tr>\n",
       "  </thead>\n",
       "  <tbody>\n",
       "    <tr>\n",
       "      <th>2021-06-08 04:00:00+00:00</th>\n",
       "      <td>336.80</td>\n",
       "      <td>338.2999</td>\n",
       "      <td>332.24</td>\n",
       "      <td>333.68</td>\n",
       "      <td>14580364</td>\n",
       "      <td>208426</td>\n",
       "      <td>334.453822</td>\n",
       "      <td>FB</td>\n",
       "    </tr>\n",
       "    <tr>\n",
       "      <th>2021-06-08 04:00:00+00:00</th>\n",
       "      <td>59.84</td>\n",
       "      <td>60.0895</td>\n",
       "      <td>57.82</td>\n",
       "      <td>58.81</td>\n",
       "      <td>12772428</td>\n",
       "      <td>90504</td>\n",
       "      <td>58.748806</td>\n",
       "      <td>TWTR</td>\n",
       "    </tr>\n",
       "  </tbody>\n",
       "</table>\n",
       "</div>"
      ],
      "text/plain": [
       "                             open      high     low   close    volume  \\\n",
       "timestamp                                                               \n",
       "2021-06-08 04:00:00+00:00  336.80  338.2999  332.24  333.68  14580364   \n",
       "2021-06-08 04:00:00+00:00   59.84   60.0895   57.82   58.81  12772428   \n",
       "\n",
       "                           trade_count        vwap symbol  \n",
       "timestamp                                                  \n",
       "2021-06-08 04:00:00+00:00       208426  334.453822     FB  \n",
       "2021-06-08 04:00:00+00:00        90504   58.748806   TWTR  "
      ]
     },
     "execution_count": 12,
     "metadata": {},
     "output_type": "execute_result"
    }
   ],
   "source": [
    "#alpaca.get_bars(tickers, timeframe, start=today, end=today).df\n",
    "alpaca.get_bars(tickers, TimeFrame.Day, \"2021-06-08\", \"2021-06-08\", adjustment='raw').df"
   ]
  },
  {
   "cell_type": "code",
   "execution_count": 13,
   "id": "d78b70d8-68e2-4e6d-a624-39b8cb704348",
   "metadata": {},
   "outputs": [
    {
     "data": {
      "text/html": [
       "<div>\n",
       "<style scoped>\n",
       "    .dataframe tbody tr th:only-of-type {\n",
       "        vertical-align: middle;\n",
       "    }\n",
       "\n",
       "    .dataframe tbody tr th {\n",
       "        vertical-align: top;\n",
       "    }\n",
       "\n",
       "    .dataframe thead th {\n",
       "        text-align: right;\n",
       "    }\n",
       "</style>\n",
       "<table border=\"1\" class=\"dataframe\">\n",
       "  <thead>\n",
       "    <tr style=\"text-align: right;\">\n",
       "      <th></th>\n",
       "      <th>open</th>\n",
       "      <th>high</th>\n",
       "      <th>low</th>\n",
       "      <th>close</th>\n",
       "      <th>volume</th>\n",
       "      <th>trade_count</th>\n",
       "      <th>vwap</th>\n",
       "      <th>symbol</th>\n",
       "    </tr>\n",
       "    <tr>\n",
       "      <th>timestamp</th>\n",
       "      <th></th>\n",
       "      <th></th>\n",
       "      <th></th>\n",
       "      <th></th>\n",
       "      <th></th>\n",
       "      <th></th>\n",
       "      <th></th>\n",
       "      <th></th>\n",
       "    </tr>\n",
       "  </thead>\n",
       "  <tbody>\n",
       "    <tr>\n",
       "      <th>2021-03-22 04:00:00+00:00</th>\n",
       "      <td>290.38</td>\n",
       "      <td>299.705</td>\n",
       "      <td>286.7501</td>\n",
       "      <td>293.54</td>\n",
       "      <td>28298094</td>\n",
       "      <td>303950</td>\n",
       "      <td>294.954278</td>\n",
       "      <td>FB</td>\n",
       "    </tr>\n",
       "    <tr>\n",
       "      <th>2021-03-23 04:00:00+00:00</th>\n",
       "      <td>293.37</td>\n",
       "      <td>298.000</td>\n",
       "      <td>289.8100</td>\n",
       "      <td>290.63</td>\n",
       "      <td>23006946</td>\n",
       "      <td>260906</td>\n",
       "      <td>293.811068</td>\n",
       "      <td>FB</td>\n",
       "    </tr>\n",
       "    <tr>\n",
       "      <th>2021-03-24 04:00:00+00:00</th>\n",
       "      <td>291.03</td>\n",
       "      <td>291.720</td>\n",
       "      <td>281.1600</td>\n",
       "      <td>282.14</td>\n",
       "      <td>18675046</td>\n",
       "      <td>242771</td>\n",
       "      <td>286.235988</td>\n",
       "      <td>FB</td>\n",
       "    </tr>\n",
       "    <tr>\n",
       "      <th>2021-03-25 04:00:00+00:00</th>\n",
       "      <td>280.86</td>\n",
       "      <td>288.060</td>\n",
       "      <td>277.7500</td>\n",
       "      <td>278.74</td>\n",
       "      <td>24505648</td>\n",
       "      <td>301937</td>\n",
       "      <td>281.402157</td>\n",
       "      <td>FB</td>\n",
       "    </tr>\n",
       "    <tr>\n",
       "      <th>2021-03-26 04:00:00+00:00</th>\n",
       "      <td>278.67</td>\n",
       "      <td>284.500</td>\n",
       "      <td>277.7700</td>\n",
       "      <td>283.02</td>\n",
       "      <td>17630501</td>\n",
       "      <td>219511</td>\n",
       "      <td>281.449768</td>\n",
       "      <td>FB</td>\n",
       "    </tr>\n",
       "    <tr>\n",
       "      <th>...</th>\n",
       "      <td>...</td>\n",
       "      <td>...</td>\n",
       "      <td>...</td>\n",
       "      <td>...</td>\n",
       "      <td>...</td>\n",
       "      <td>...</td>\n",
       "      <td>...</td>\n",
       "      <td>...</td>\n",
       "    </tr>\n",
       "    <tr>\n",
       "      <th>2022-03-14 04:00:00+00:00</th>\n",
       "      <td>32.67</td>\n",
       "      <td>33.950</td>\n",
       "      <td>32.4800</td>\n",
       "      <td>33.03</td>\n",
       "      <td>16976431</td>\n",
       "      <td>157709</td>\n",
       "      <td>33.138616</td>\n",
       "      <td>TWTR</td>\n",
       "    </tr>\n",
       "    <tr>\n",
       "      <th>2022-03-15 04:00:00+00:00</th>\n",
       "      <td>33.12</td>\n",
       "      <td>34.520</td>\n",
       "      <td>33.0000</td>\n",
       "      <td>33.97</td>\n",
       "      <td>14327217</td>\n",
       "      <td>124106</td>\n",
       "      <td>33.833752</td>\n",
       "      <td>TWTR</td>\n",
       "    </tr>\n",
       "    <tr>\n",
       "      <th>2022-03-16 04:00:00+00:00</th>\n",
       "      <td>35.00</td>\n",
       "      <td>35.650</td>\n",
       "      <td>34.3200</td>\n",
       "      <td>35.37</td>\n",
       "      <td>24540314</td>\n",
       "      <td>153475</td>\n",
       "      <td>35.189103</td>\n",
       "      <td>TWTR</td>\n",
       "    </tr>\n",
       "    <tr>\n",
       "      <th>2022-03-17 04:00:00+00:00</th>\n",
       "      <td>35.19</td>\n",
       "      <td>37.710</td>\n",
       "      <td>34.8900</td>\n",
       "      <td>37.30</td>\n",
       "      <td>30391364</td>\n",
       "      <td>182027</td>\n",
       "      <td>37.179458</td>\n",
       "      <td>TWTR</td>\n",
       "    </tr>\n",
       "    <tr>\n",
       "      <th>2022-03-18 04:00:00+00:00</th>\n",
       "      <td>37.46</td>\n",
       "      <td>39.045</td>\n",
       "      <td>37.1800</td>\n",
       "      <td>37.77</td>\n",
       "      <td>35443482</td>\n",
       "      <td>176536</td>\n",
       "      <td>38.122586</td>\n",
       "      <td>TWTR</td>\n",
       "    </tr>\n",
       "  </tbody>\n",
       "</table>\n",
       "<p>504 rows × 8 columns</p>\n",
       "</div>"
      ],
      "text/plain": [
       "                             open     high       low   close    volume  \\\n",
       "timestamp                                                                \n",
       "2021-03-22 04:00:00+00:00  290.38  299.705  286.7501  293.54  28298094   \n",
       "2021-03-23 04:00:00+00:00  293.37  298.000  289.8100  290.63  23006946   \n",
       "2021-03-24 04:00:00+00:00  291.03  291.720  281.1600  282.14  18675046   \n",
       "2021-03-25 04:00:00+00:00  280.86  288.060  277.7500  278.74  24505648   \n",
       "2021-03-26 04:00:00+00:00  278.67  284.500  277.7700  283.02  17630501   \n",
       "...                           ...      ...       ...     ...       ...   \n",
       "2022-03-14 04:00:00+00:00   32.67   33.950   32.4800   33.03  16976431   \n",
       "2022-03-15 04:00:00+00:00   33.12   34.520   33.0000   33.97  14327217   \n",
       "2022-03-16 04:00:00+00:00   35.00   35.650   34.3200   35.37  24540314   \n",
       "2022-03-17 04:00:00+00:00   35.19   37.710   34.8900   37.30  30391364   \n",
       "2022-03-18 04:00:00+00:00   37.46   39.045   37.1800   37.77  35443482   \n",
       "\n",
       "                           trade_count        vwap symbol  \n",
       "timestamp                                                  \n",
       "2021-03-22 04:00:00+00:00       303950  294.954278     FB  \n",
       "2021-03-23 04:00:00+00:00       260906  293.811068     FB  \n",
       "2021-03-24 04:00:00+00:00       242771  286.235988     FB  \n",
       "2021-03-25 04:00:00+00:00       301937  281.402157     FB  \n",
       "2021-03-26 04:00:00+00:00       219511  281.449768     FB  \n",
       "...                                ...         ...    ...  \n",
       "2022-03-14 04:00:00+00:00       157709   33.138616   TWTR  \n",
       "2022-03-15 04:00:00+00:00       124106   33.833752   TWTR  \n",
       "2022-03-16 04:00:00+00:00       153475   35.189103   TWTR  \n",
       "2022-03-17 04:00:00+00:00       182027   37.179458   TWTR  \n",
       "2022-03-18 04:00:00+00:00       176536   38.122586   TWTR  \n",
       "\n",
       "[504 rows x 8 columns]"
      ]
     },
     "execution_count": 13,
     "metadata": {},
     "output_type": "execute_result"
    }
   ],
   "source": [
    "yearly=alpaca.get_bars(tickers, TimeFrame.Day, \"2021-03-21\", \"2022-03-20\", adjustment='raw').df\n",
    "yearly"
   ]
  },
  {
   "cell_type": "code",
   "execution_count": 14,
   "id": "57984be8-52d6-4344-9012-f064ce17e0c1",
   "metadata": {},
   "outputs": [],
   "source": [
    "yearly.index=yearly.index.date"
   ]
  },
  {
   "cell_type": "code",
   "execution_count": 15,
   "id": "1461443f-6255-49a8-92d5-e247c5f6b337",
   "metadata": {},
   "outputs": [
    {
     "data": {
      "text/html": [
       "<div>\n",
       "<style scoped>\n",
       "    .dataframe tbody tr th:only-of-type {\n",
       "        vertical-align: middle;\n",
       "    }\n",
       "\n",
       "    .dataframe tbody tr th {\n",
       "        vertical-align: top;\n",
       "    }\n",
       "\n",
       "    .dataframe thead th {\n",
       "        text-align: right;\n",
       "    }\n",
       "</style>\n",
       "<table border=\"1\" class=\"dataframe\">\n",
       "  <thead>\n",
       "    <tr style=\"text-align: right;\">\n",
       "      <th></th>\n",
       "      <th>close</th>\n",
       "      <th>symbol</th>\n",
       "    </tr>\n",
       "  </thead>\n",
       "  <tbody>\n",
       "    <tr>\n",
       "      <th>2021-03-22</th>\n",
       "      <td>293.54</td>\n",
       "      <td>FB</td>\n",
       "    </tr>\n",
       "    <tr>\n",
       "      <th>2021-03-23</th>\n",
       "      <td>290.63</td>\n",
       "      <td>FB</td>\n",
       "    </tr>\n",
       "    <tr>\n",
       "      <th>2021-03-24</th>\n",
       "      <td>282.14</td>\n",
       "      <td>FB</td>\n",
       "    </tr>\n",
       "    <tr>\n",
       "      <th>2021-03-25</th>\n",
       "      <td>278.74</td>\n",
       "      <td>FB</td>\n",
       "    </tr>\n",
       "    <tr>\n",
       "      <th>2021-03-26</th>\n",
       "      <td>283.02</td>\n",
       "      <td>FB</td>\n",
       "    </tr>\n",
       "    <tr>\n",
       "      <th>...</th>\n",
       "      <td>...</td>\n",
       "      <td>...</td>\n",
       "    </tr>\n",
       "    <tr>\n",
       "      <th>2022-03-14</th>\n",
       "      <td>33.03</td>\n",
       "      <td>TWTR</td>\n",
       "    </tr>\n",
       "    <tr>\n",
       "      <th>2022-03-15</th>\n",
       "      <td>33.97</td>\n",
       "      <td>TWTR</td>\n",
       "    </tr>\n",
       "    <tr>\n",
       "      <th>2022-03-16</th>\n",
       "      <td>35.37</td>\n",
       "      <td>TWTR</td>\n",
       "    </tr>\n",
       "    <tr>\n",
       "      <th>2022-03-17</th>\n",
       "      <td>37.30</td>\n",
       "      <td>TWTR</td>\n",
       "    </tr>\n",
       "    <tr>\n",
       "      <th>2022-03-18</th>\n",
       "      <td>37.77</td>\n",
       "      <td>TWTR</td>\n",
       "    </tr>\n",
       "  </tbody>\n",
       "</table>\n",
       "<p>504 rows × 2 columns</p>\n",
       "</div>"
      ],
      "text/plain": [
       "             close symbol\n",
       "2021-03-22  293.54     FB\n",
       "2021-03-23  290.63     FB\n",
       "2021-03-24  282.14     FB\n",
       "2021-03-25  278.74     FB\n",
       "2021-03-26  283.02     FB\n",
       "...            ...    ...\n",
       "2022-03-14   33.03   TWTR\n",
       "2022-03-15   33.97   TWTR\n",
       "2022-03-16   35.37   TWTR\n",
       "2022-03-17   37.30   TWTR\n",
       "2022-03-18   37.77   TWTR\n",
       "\n",
       "[504 rows x 2 columns]"
      ]
     },
     "execution_count": 15,
     "metadata": {},
     "output_type": "execute_result"
    }
   ],
   "source": [
    "yearly=yearly[['close', 'symbol']]\n",
    "yearly"
   ]
  },
  {
   "cell_type": "code",
   "execution_count": 16,
   "id": "be4e81cc-fcf5-4226-b976-f4ca6bbdc5cd",
   "metadata": {},
   "outputs": [
    {
     "data": {
      "text/html": [
       "<div>\n",
       "<style scoped>\n",
       "    .dataframe tbody tr th:only-of-type {\n",
       "        vertical-align: middle;\n",
       "    }\n",
       "\n",
       "    .dataframe tbody tr th {\n",
       "        vertical-align: top;\n",
       "    }\n",
       "\n",
       "    .dataframe thead th {\n",
       "        text-align: right;\n",
       "    }\n",
       "</style>\n",
       "<table border=\"1\" class=\"dataframe\">\n",
       "  <thead>\n",
       "    <tr style=\"text-align: right;\">\n",
       "      <th>symbol</th>\n",
       "      <th>FB</th>\n",
       "      <th>TWTR</th>\n",
       "    </tr>\n",
       "  </thead>\n",
       "  <tbody>\n",
       "    <tr>\n",
       "      <th>2021-03-22</th>\n",
       "      <td>293.54</td>\n",
       "      <td>65.21</td>\n",
       "    </tr>\n",
       "    <tr>\n",
       "      <th>2021-03-23</th>\n",
       "      <td>290.63</td>\n",
       "      <td>64.27</td>\n",
       "    </tr>\n",
       "    <tr>\n",
       "      <th>2021-03-24</th>\n",
       "      <td>282.14</td>\n",
       "      <td>62.06</td>\n",
       "    </tr>\n",
       "    <tr>\n",
       "      <th>2021-03-25</th>\n",
       "      <td>278.74</td>\n",
       "      <td>61.20</td>\n",
       "    </tr>\n",
       "    <tr>\n",
       "      <th>2021-03-26</th>\n",
       "      <td>283.02</td>\n",
       "      <td>61.26</td>\n",
       "    </tr>\n",
       "    <tr>\n",
       "      <th>...</th>\n",
       "      <td>...</td>\n",
       "      <td>...</td>\n",
       "    </tr>\n",
       "    <tr>\n",
       "      <th>2022-03-14</th>\n",
       "      <td>186.63</td>\n",
       "      <td>33.03</td>\n",
       "    </tr>\n",
       "    <tr>\n",
       "      <th>2022-03-15</th>\n",
       "      <td>192.03</td>\n",
       "      <td>33.97</td>\n",
       "    </tr>\n",
       "    <tr>\n",
       "      <th>2022-03-16</th>\n",
       "      <td>203.63</td>\n",
       "      <td>35.37</td>\n",
       "    </tr>\n",
       "    <tr>\n",
       "      <th>2022-03-17</th>\n",
       "      <td>207.84</td>\n",
       "      <td>37.30</td>\n",
       "    </tr>\n",
       "    <tr>\n",
       "      <th>2022-03-18</th>\n",
       "      <td>216.49</td>\n",
       "      <td>37.77</td>\n",
       "    </tr>\n",
       "  </tbody>\n",
       "</table>\n",
       "<p>252 rows × 2 columns</p>\n",
       "</div>"
      ],
      "text/plain": [
       "symbol          FB   TWTR\n",
       "2021-03-22  293.54  65.21\n",
       "2021-03-23  290.63  64.27\n",
       "2021-03-24  282.14  62.06\n",
       "2021-03-25  278.74  61.20\n",
       "2021-03-26  283.02  61.26\n",
       "...            ...    ...\n",
       "2022-03-14  186.63  33.03\n",
       "2022-03-15  192.03  33.97\n",
       "2022-03-16  203.63  35.37\n",
       "2022-03-17  207.84  37.30\n",
       "2022-03-18  216.49  37.77\n",
       "\n",
       "[252 rows x 2 columns]"
      ]
     },
     "execution_count": 16,
     "metadata": {},
     "output_type": "execute_result"
    }
   ],
   "source": [
    "table = pd.pivot_table(yearly, values='close', index=yearly.index, columns=['symbol'])\n",
    "table"
   ]
  },
  {
   "cell_type": "code",
   "execution_count": 17,
   "id": "8b572627-81bd-45bd-8592-01e8e379763e",
   "metadata": {},
   "outputs": [
    {
     "data": {
      "text/plain": [
       "Index(['FB', 'TWTR'], dtype='object', name='symbol')"
      ]
     },
     "execution_count": 17,
     "metadata": {},
     "output_type": "execute_result"
    }
   ],
   "source": [
    "table.columns"
   ]
  },
  {
   "cell_type": "code",
   "execution_count": 18,
   "id": "a4e952ee-2e50-405d-9a5c-d39181ff350a",
   "metadata": {},
   "outputs": [
    {
     "data": {
      "text/plain": [
       "DatetimeIndex(['2021-03-22', '2021-03-23', '2021-03-24', '2021-03-25',\n",
       "               '2021-03-26', '2021-03-29', '2021-03-30', '2021-03-31',\n",
       "               '2021-04-01', '2021-04-05',\n",
       "               ...\n",
       "               '2022-03-07', '2022-03-08', '2022-03-09', '2022-03-10',\n",
       "               '2022-03-11', '2022-03-14', '2022-03-15', '2022-03-16',\n",
       "               '2022-03-17', '2022-03-18'],\n",
       "              dtype='datetime64[ns]', length=252, freq=None)"
      ]
     },
     "execution_count": 18,
     "metadata": {},
     "output_type": "execute_result"
    }
   ],
   "source": [
    "table.index=pd.to_datetime(table.index)\n",
    "table.index"
   ]
  },
  {
   "cell_type": "code",
   "execution_count": 19,
   "id": "424d59bc-6faa-4c07-9e0a-1333e2e58800",
   "metadata": {},
   "outputs": [
    {
     "data": {
      "text/html": [
       "<div>\n",
       "<style scoped>\n",
       "    .dataframe tbody tr th:only-of-type {\n",
       "        vertical-align: middle;\n",
       "    }\n",
       "\n",
       "    .dataframe tbody tr th {\n",
       "        vertical-align: top;\n",
       "    }\n",
       "\n",
       "    .dataframe thead th {\n",
       "        text-align: right;\n",
       "    }\n",
       "</style>\n",
       "<table border=\"1\" class=\"dataframe\">\n",
       "  <thead>\n",
       "    <tr style=\"text-align: right;\">\n",
       "      <th>symbol</th>\n",
       "      <th>FB</th>\n",
       "      <th>TWTR</th>\n",
       "    </tr>\n",
       "  </thead>\n",
       "  <tbody>\n",
       "    <tr>\n",
       "      <th>2021-03-22</th>\n",
       "      <td>NaN</td>\n",
       "      <td>NaN</td>\n",
       "    </tr>\n",
       "    <tr>\n",
       "      <th>2021-03-23</th>\n",
       "      <td>-0.009913</td>\n",
       "      <td>-0.014415</td>\n",
       "    </tr>\n",
       "    <tr>\n",
       "      <th>2021-03-24</th>\n",
       "      <td>-0.029212</td>\n",
       "      <td>-0.034386</td>\n",
       "    </tr>\n",
       "    <tr>\n",
       "      <th>2021-03-25</th>\n",
       "      <td>-0.012051</td>\n",
       "      <td>-0.013858</td>\n",
       "    </tr>\n",
       "    <tr>\n",
       "      <th>2021-03-26</th>\n",
       "      <td>0.015355</td>\n",
       "      <td>0.000980</td>\n",
       "    </tr>\n",
       "    <tr>\n",
       "      <th>...</th>\n",
       "      <td>...</td>\n",
       "      <td>...</td>\n",
       "    </tr>\n",
       "    <tr>\n",
       "      <th>2022-03-14</th>\n",
       "      <td>-0.005224</td>\n",
       "      <td>0.000909</td>\n",
       "    </tr>\n",
       "    <tr>\n",
       "      <th>2022-03-15</th>\n",
       "      <td>0.028934</td>\n",
       "      <td>0.028459</td>\n",
       "    </tr>\n",
       "    <tr>\n",
       "      <th>2022-03-16</th>\n",
       "      <td>0.060407</td>\n",
       "      <td>0.041213</td>\n",
       "    </tr>\n",
       "    <tr>\n",
       "      <th>2022-03-17</th>\n",
       "      <td>0.020675</td>\n",
       "      <td>0.054566</td>\n",
       "    </tr>\n",
       "    <tr>\n",
       "      <th>2022-03-18</th>\n",
       "      <td>0.041619</td>\n",
       "      <td>0.012601</td>\n",
       "    </tr>\n",
       "  </tbody>\n",
       "</table>\n",
       "<p>252 rows × 2 columns</p>\n",
       "</div>"
      ],
      "text/plain": [
       "symbol            FB      TWTR\n",
       "2021-03-22       NaN       NaN\n",
       "2021-03-23 -0.009913 -0.014415\n",
       "2021-03-24 -0.029212 -0.034386\n",
       "2021-03-25 -0.012051 -0.013858\n",
       "2021-03-26  0.015355  0.000980\n",
       "...              ...       ...\n",
       "2022-03-14 -0.005224  0.000909\n",
       "2022-03-15  0.028934  0.028459\n",
       "2022-03-16  0.060407  0.041213\n",
       "2022-03-17  0.020675  0.054566\n",
       "2022-03-18  0.041619  0.012601\n",
       "\n",
       "[252 rows x 2 columns]"
      ]
     },
     "execution_count": 19,
     "metadata": {},
     "output_type": "execute_result"
    }
   ],
   "source": [
    "daily_returns_df=table.pct_change()\n",
    "daily_returns_df"
   ]
  },
  {
   "cell_type": "code",
   "execution_count": 20,
   "id": "ba84bf1d-7823-4f06-96f3-1d5d0391765e",
   "metadata": {},
   "outputs": [],
   "source": [
    "daily_returns_df.dropna(inplace=True)"
   ]
  },
  {
   "cell_type": "code",
   "execution_count": 21,
   "id": "ce8f6b89-be58-4d3f-b920-74e5276c4f27",
   "metadata": {},
   "outputs": [
    {
     "data": {
      "text/html": [
       "<div>\n",
       "<style scoped>\n",
       "    .dataframe tbody tr th:only-of-type {\n",
       "        vertical-align: middle;\n",
       "    }\n",
       "\n",
       "    .dataframe tbody tr th {\n",
       "        vertical-align: top;\n",
       "    }\n",
       "\n",
       "    .dataframe thead th {\n",
       "        text-align: right;\n",
       "    }\n",
       "</style>\n",
       "<table border=\"1\" class=\"dataframe\">\n",
       "  <thead>\n",
       "    <tr style=\"text-align: right;\">\n",
       "      <th>symbol</th>\n",
       "      <th>FB</th>\n",
       "      <th>TWTR</th>\n",
       "    </tr>\n",
       "  </thead>\n",
       "  <tbody>\n",
       "    <tr>\n",
       "      <th>2021-03-23</th>\n",
       "      <td>-0.009913</td>\n",
       "      <td>-0.014415</td>\n",
       "    </tr>\n",
       "    <tr>\n",
       "      <th>2021-03-24</th>\n",
       "      <td>-0.029212</td>\n",
       "      <td>-0.034386</td>\n",
       "    </tr>\n",
       "    <tr>\n",
       "      <th>2021-03-25</th>\n",
       "      <td>-0.012051</td>\n",
       "      <td>-0.013858</td>\n",
       "    </tr>\n",
       "    <tr>\n",
       "      <th>2021-03-26</th>\n",
       "      <td>0.015355</td>\n",
       "      <td>0.000980</td>\n",
       "    </tr>\n",
       "    <tr>\n",
       "      <th>2021-03-29</th>\n",
       "      <td>0.027560</td>\n",
       "      <td>0.027424</td>\n",
       "    </tr>\n",
       "    <tr>\n",
       "      <th>...</th>\n",
       "      <td>...</td>\n",
       "      <td>...</td>\n",
       "    </tr>\n",
       "    <tr>\n",
       "      <th>2022-03-14</th>\n",
       "      <td>-0.005224</td>\n",
       "      <td>0.000909</td>\n",
       "    </tr>\n",
       "    <tr>\n",
       "      <th>2022-03-15</th>\n",
       "      <td>0.028934</td>\n",
       "      <td>0.028459</td>\n",
       "    </tr>\n",
       "    <tr>\n",
       "      <th>2022-03-16</th>\n",
       "      <td>0.060407</td>\n",
       "      <td>0.041213</td>\n",
       "    </tr>\n",
       "    <tr>\n",
       "      <th>2022-03-17</th>\n",
       "      <td>0.020675</td>\n",
       "      <td>0.054566</td>\n",
       "    </tr>\n",
       "    <tr>\n",
       "      <th>2022-03-18</th>\n",
       "      <td>0.041619</td>\n",
       "      <td>0.012601</td>\n",
       "    </tr>\n",
       "  </tbody>\n",
       "</table>\n",
       "<p>251 rows × 2 columns</p>\n",
       "</div>"
      ],
      "text/plain": [
       "symbol            FB      TWTR\n",
       "2021-03-23 -0.009913 -0.014415\n",
       "2021-03-24 -0.029212 -0.034386\n",
       "2021-03-25 -0.012051 -0.013858\n",
       "2021-03-26  0.015355  0.000980\n",
       "2021-03-29  0.027560  0.027424\n",
       "...              ...       ...\n",
       "2022-03-14 -0.005224  0.000909\n",
       "2022-03-15  0.028934  0.028459\n",
       "2022-03-16  0.060407  0.041213\n",
       "2022-03-17  0.020675  0.054566\n",
       "2022-03-18  0.041619  0.012601\n",
       "\n",
       "[251 rows x 2 columns]"
      ]
     },
     "execution_count": 21,
     "metadata": {},
     "output_type": "execute_result"
    }
   ],
   "source": [
    "daily_returns_df"
   ]
  },
  {
   "cell_type": "code",
   "execution_count": 22,
   "id": "6a76fcac-c65e-410c-b3c8-90d96265529a",
   "metadata": {},
   "outputs": [
    {
     "data": {
      "text/plain": [
       "<AxesSubplot:>"
      ]
     },
     "execution_count": 22,
     "metadata": {},
     "output_type": "execute_result"
    },
    {
     "data": {
      "image/png": "[encoded data removed]",
      "text/plain": [
       "<Figure size 432x288 with 1 Axes>"
      ]
     },
     "metadata": {
      "needs_background": "light"
     },
     "output_type": "display_data"
    }
   ],
   "source": [
    "daily_returns_df.plot()"
   ]
  },
  {
   "cell_type": "code",
   "execution_count": 30,
   "id": "777d5462-0747-41f2-a773-9c0bdc8e0e01",
   "metadata": {},
   "outputs": [
    {
     "name": "stdout",
     "output_type": "stream",
     "text": [
      "# conda environments:\n",
      "#\n",
      "                         C:\\Users\\trevg\\anaconda3\n",
      "base                  *  C:\\Users\\trevg\\anaconda3\\envs\\alpacaenv\n",
      "                         C:\\Users\\trevg\\anaconda3\\envs\\dev\n",
      "\n"
     ]
    }
   ],
   "source": [
    "!conda info --envs"
   ]
  },
  {
   "cell_type": "code",
   "execution_count": 31,
   "id": "8164ce27-24ee-47ec-83bf-6e6b01065ea0",
   "metadata": {},
   "outputs": [
    {
     "name": "stderr",
     "output_type": "stream",
     "text": [
      "Could not find conda environment: alpacaenv\n",
      "You can list all discoverable environments with `conda info --envs`.\n",
      "\n"
     ]
    }
   ],
   "source": [
    "!conda activate alpacaenv"
   ]
  },
  {
   "cell_type": "code",
   "execution_count": null,
   "id": "0ac6689f-4e2a-4d9d-9cee-a4eb41ec3ce1",
   "metadata": {},
   "outputs": [],
   "source": []
  }
 ],
 "metadata": {
  "kernelspec": {
   "display_name": "Python 3 (ipykernel)",
   "language": "python",
   "name": "python3"
  },
  "language_info": {
   "codemirror_mode": {
    "name": "ipython",
    "version": 3
   },
   "file_extension": ".py",
   "mimetype": "text/x-python",
   "name": "python",
   "nbconvert_exporter": "python",
   "pygments_lexer": "ipython3",
   "version": "3.7.11"
  }
 },
 "nbformat": 4,
 "nbformat_minor": 5
}
