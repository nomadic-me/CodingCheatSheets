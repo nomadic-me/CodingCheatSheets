{
 "cells": [
  {
   "cell_type": "code",
   "execution_count": 13,
   "id": "6ae2106e-5aa3-4d38-9b38-f89d51ad9c5d",
   "metadata": {},
   "outputs": [],
   "source": [
    "# =GOOGLEFINANCE(\"FB\", \"price\", \"2/12/2019\", \"5/14/2019\", \"DAILY\")\n",
    "\n",
    "import pandas as pd\n",
    "df = pd.read_csv(\"Resources/Week3-Day3-QuickNotes1-Sheet1.csv\")\n",
    "# pd.read_csv(csv_path, index_col='Date', parse_dates=True, infer_datetime_format=True)\n",
    "#is this more efficient to do it this way?"
   ]
  },
  {
   "cell_type": "code",
   "execution_count": 14,
   "id": "8b8fa5de-3636-4507-9c07-9836157b7a07",
   "metadata": {},
   "outputs": [
    {
     "data": {
      "text/plain": [
       "0      2/12/2021 16:00:00\n",
       "1      2/16/2021 16:00:00\n",
       "2      2/17/2021 16:00:00\n",
       "3      2/18/2021 16:00:00\n",
       "4      2/19/2021 16:00:00\n",
       "              ...        \n",
       "264     3/2/2022 16:00:00\n",
       "265     3/3/2022 16:00:00\n",
       "266     3/4/2022 16:00:00\n",
       "267     3/7/2022 16:00:00\n",
       "268     3/8/2022 16:00:00\n",
       "Name: Date, Length: 269, dtype: object"
      ]
     },
     "execution_count": 14,
     "metadata": {},
     "output_type": "execute_result"
    }
   ],
   "source": [
    "df['Date']"
   ]
  },
  {
   "cell_type": "code",
   "execution_count": 15,
   "id": "8767c416-14f6-4ebd-8248-838269550769",
   "metadata": {},
   "outputs": [
    {
     "data": {
      "text/plain": [
       "'2/12/2021 16:00:00'"
      ]
     },
     "execution_count": 15,
     "metadata": {},
     "output_type": "execute_result"
    }
   ],
   "source": [
    "df['Date'].iloc[0]"
   ]
  },
  {
   "cell_type": "code",
   "execution_count": 16,
   "id": "b9518d49-89fb-4c25-8e81-a52161ad9ea4",
   "metadata": {},
   "outputs": [
    {
     "data": {
      "text/plain": [
       "str"
      ]
     },
     "execution_count": 16,
     "metadata": {},
     "output_type": "execute_result"
    }
   ],
   "source": [
    "#this is a string right now\n",
    "type(df['Date'].iloc[0])\n"
   ]
  },
  {
   "cell_type": "code",
   "execution_count": 17,
   "id": "daa66d8d-4ca3-4211-b99f-cb03cdf0e5a4",
   "metadata": {},
   "outputs": [],
   "source": [
    "# we are casting this to change the string to Date Time Object\n",
    "df['Date'] = pd.to_datetime(df['Date'])"
   ]
  },
  {
   "cell_type": "code",
   "execution_count": 18,
   "id": "ed30df86-3e57-4750-9b40-f825f96102aa",
   "metadata": {},
   "outputs": [
    {
     "data": {
      "text/plain": [
       "pandas._libs.tslibs.timestamps.Timestamp"
      ]
     },
     "execution_count": 18,
     "metadata": {},
     "output_type": "execute_result"
    }
   ],
   "source": [
    "#this is a now a DateTime right now\n",
    "type(df['Date'].iloc[0])"
   ]
  },
  {
   "cell_type": "code",
   "execution_count": 19,
   "id": "006ebd38-8ce6-4649-81ad-a22f12b5a550",
   "metadata": {},
   "outputs": [],
   "source": [
    "#\n",
    "df['Percentage Change'] = df['Close'].pct_change()"
   ]
  },
  {
   "cell_type": "code",
   "execution_count": 20,
   "id": "2588752b-47c5-49de-a0e1-a7abe1e47552",
   "metadata": {},
   "outputs": [
    {
     "data": {
      "text/plain": [
       "(269, 3)"
      ]
     },
     "execution_count": 20,
     "metadata": {},
     "output_type": "execute_result"
    }
   ],
   "source": [
    "df.shape\n"
   ]
  },
  {
   "cell_type": "code",
   "execution_count": 21,
   "id": "1dd0e8bc-9256-4264-8afd-d2a6c4de8dee",
   "metadata": {},
   "outputs": [
    {
     "data": {
      "text/html": [
       "<div>\n",
       "<style scoped>\n",
       "    .dataframe tbody tr th:only-of-type {\n",
       "        vertical-align: middle;\n",
       "    }\n",
       "\n",
       "    .dataframe tbody tr th {\n",
       "        vertical-align: top;\n",
       "    }\n",
       "\n",
       "    .dataframe thead th {\n",
       "        text-align: right;\n",
       "    }\n",
       "</style>\n",
       "<table border=\"1\" class=\"dataframe\">\n",
       "  <thead>\n",
       "    <tr style=\"text-align: right;\">\n",
       "      <th></th>\n",
       "      <th>Date</th>\n",
       "      <th>Close</th>\n",
       "      <th>Percentage Change</th>\n",
       "    </tr>\n",
       "  </thead>\n",
       "  <tbody>\n",
       "    <tr>\n",
       "      <th>0</th>\n",
       "      <td>2021-02-12 16:00:00</td>\n",
       "      <td>270.50</td>\n",
       "      <td>NaN</td>\n",
       "    </tr>\n",
       "    <tr>\n",
       "      <th>1</th>\n",
       "      <td>2021-02-16 16:00:00</td>\n",
       "      <td>273.97</td>\n",
       "      <td>0.012828</td>\n",
       "    </tr>\n",
       "    <tr>\n",
       "      <th>2</th>\n",
       "      <td>2021-02-17 16:00:00</td>\n",
       "      <td>273.57</td>\n",
       "      <td>-0.001460</td>\n",
       "    </tr>\n",
       "    <tr>\n",
       "      <th>3</th>\n",
       "      <td>2021-02-18 16:00:00</td>\n",
       "      <td>269.39</td>\n",
       "      <td>-0.015279</td>\n",
       "    </tr>\n",
       "    <tr>\n",
       "      <th>4</th>\n",
       "      <td>2021-02-19 16:00:00</td>\n",
       "      <td>261.56</td>\n",
       "      <td>-0.029066</td>\n",
       "    </tr>\n",
       "    <tr>\n",
       "      <th>...</th>\n",
       "      <td>...</td>\n",
       "      <td>...</td>\n",
       "      <td>...</td>\n",
       "    </tr>\n",
       "    <tr>\n",
       "      <th>264</th>\n",
       "      <td>2022-03-02 16:00:00</td>\n",
       "      <td>208.11</td>\n",
       "      <td>0.022704</td>\n",
       "    </tr>\n",
       "    <tr>\n",
       "      <th>265</th>\n",
       "      <td>2022-03-03 16:00:00</td>\n",
       "      <td>202.97</td>\n",
       "      <td>-0.024698</td>\n",
       "    </tr>\n",
       "    <tr>\n",
       "      <th>266</th>\n",
       "      <td>2022-03-04 16:00:00</td>\n",
       "      <td>200.06</td>\n",
       "      <td>-0.014337</td>\n",
       "    </tr>\n",
       "    <tr>\n",
       "      <th>267</th>\n",
       "      <td>2022-03-07 16:00:00</td>\n",
       "      <td>187.47</td>\n",
       "      <td>-0.062931</td>\n",
       "    </tr>\n",
       "    <tr>\n",
       "      <th>268</th>\n",
       "      <td>2022-03-08 16:00:00</td>\n",
       "      <td>190.29</td>\n",
       "      <td>0.015042</td>\n",
       "    </tr>\n",
       "  </tbody>\n",
       "</table>\n",
       "<p>269 rows × 3 columns</p>\n",
       "</div>"
      ],
      "text/plain": [
       "                   Date   Close  Percentage Change\n",
       "0   2021-02-12 16:00:00  270.50                NaN\n",
       "1   2021-02-16 16:00:00  273.97           0.012828\n",
       "2   2021-02-17 16:00:00  273.57          -0.001460\n",
       "3   2021-02-18 16:00:00  269.39          -0.015279\n",
       "4   2021-02-19 16:00:00  261.56          -0.029066\n",
       "..                  ...     ...                ...\n",
       "264 2022-03-02 16:00:00  208.11           0.022704\n",
       "265 2022-03-03 16:00:00  202.97          -0.024698\n",
       "266 2022-03-04 16:00:00  200.06          -0.014337\n",
       "267 2022-03-07 16:00:00  187.47          -0.062931\n",
       "268 2022-03-08 16:00:00  190.29           0.015042\n",
       "\n",
       "[269 rows x 3 columns]"
      ]
     },
     "execution_count": 21,
     "metadata": {},
     "output_type": "execute_result"
    }
   ],
   "source": [
    "df"
   ]
  },
  {
   "cell_type": "code",
   "execution_count": null,
   "id": "e3d36a6a-4b76-4992-ba3a-0f52af88282b",
   "metadata": {},
   "outputs": [],
   "source": []
  }
 ],
 "metadata": {
  "kernelspec": {
   "display_name": "Python 3 (ipykernel)",
   "language": "python",
   "name": "python3"
  },
  "language_info": {
   "codemirror_mode": {
    "name": "ipython",
    "version": 3
   },
   "file_extension": ".py",
   "mimetype": "text/x-python",
   "name": "python",
   "nbconvert_exporter": "python",
   "pygments_lexer": "ipython3",
   "version": "3.9.7"
  }
 },
 "nbformat": 4,
 "nbformat_minor": 5
}
