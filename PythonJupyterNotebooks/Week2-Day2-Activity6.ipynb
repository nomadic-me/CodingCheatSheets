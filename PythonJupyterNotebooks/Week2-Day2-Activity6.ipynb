{
 "cells": [
  {
   "cell_type": "code",
   "execution_count": 1,
   "id": "a01ba432-1506-4ca4-8e97-ebbf1471889c",
   "metadata": {},
   "outputs": [
    {
     "data": {
      "text/plain": [
       "'\\nStudent Activity: Market Capitalization.\\n\\nThis script showcases the use of Python Dicts to determine the\\nbank names associated with the corresponding market cap ranges.\\n'"
      ]
     },
     "execution_count": 1,
     "metadata": {},
     "output_type": "execute_result"
    }
   ],
   "source": [
    "# -*- coding: utf-8 -*-\n",
    "\"\"\"\n",
    "Student Activity: Market Capitalization.\n",
    "\n",
    "This script showcases the use of Python Dicts to determine the\n",
    "bank names associated with the corresponding market cap ranges.\n",
    "\"\"\"\n",
    "\n",
    "# Banks and Market Caps\n",
    "#-----------------------\n",
    "# National Bank of Canada: 327\n",
    "# Toronto-Dominion Bank: 302\n",
    "# Royal Bank of Canada: 173\n",
    "# Wells Fargo: 273\n",
    "# Goldman Sachs: 87\n",
    "# Morgan Stanley: 72\n",
    "# Canadian Imperial Bank of Commerce: 83\n",
    "# TD Bank: 108\n",
    "# Bank of Montreal: 67\n",
    "# Capital One: 47\n",
    "# FNB Corporation: 4\n",
    "# Laurentian Bank of Canada: 3\n",
    "# Ally Financial: 12\n",
    "# Montreal Trust Company: 145\n",
    "# Canadian Western Bank: .97\n",
    "\n"
   ]
  },
  {
   "cell_type": "code",
   "execution_count": 3,
   "id": "0ffe7422-a18f-49a0-ba4f-a1acf90e2fc4",
   "metadata": {},
   "outputs": [],
   "source": [
    "# @TODO: Initialize a dictionary of banks and market caps (in billions)\n",
    "\n",
    "banks = {\n",
    "'Banks': 'Market Caps',\n",
    "'National Bank of Canada': 327,\n",
    "'Toronto-Dominion Bank': 302,\n",
    "'Royal Bank of Canada': 173,\n",
    "'Wells Fargo': 273,\n",
    "'Goldman Sachs': 87,\n",
    "'Morgan Stanley': 72,\n",
    "'Canadian Imperial Bank of Commerce': 83,\n",
    "'TD Bank': 108,\n",
    "'Bank of Montreal': 67,\n",
    "'Capital One': 47,\n",
    "'FNB Corporation': 4,\n",
    "'Laurentian Bank of Canada': 3,\n",
    "'Ally Financial': 12,\n",
    "'Montreal Trust Company': 145,\n",
    "'Canadian Western Bank': .97\n",
    "}\n",
    "\n"
   ]
  },
  {
   "cell_type": "code",
   "execution_count": 5,
   "id": "f378c766-d57e-4691-a182-b8660c9d490b",
   "metadata": {},
   "outputs": [
    {
     "data": {
      "text/plain": [
       "173"
      ]
     },
     "execution_count": 5,
     "metadata": {},
     "output_type": "execute_result"
    }
   ],
   "source": [
    "\n",
    "# @TODO: Change the market cap for 'Royal Bank of Canada'\n",
    "\n",
    "banks['Royal Bank of Canada'] = 170\n",
    "\n",
    "\n",
    "\n"
   ]
  },
  {
   "cell_type": "code",
   "execution_count": 6,
   "id": "022ebf3c-f932-469f-b564-81764119123e",
   "metadata": {},
   "outputs": [
    {
     "data": {
      "text/plain": [
       "{'Banks': 'Market Caps',\n",
       " 'National Bank of Canada': 327,\n",
       " 'Toronto-Dominion Bank': 302,\n",
       " 'Royal Bank of Canada': 173,\n",
       " 'Wells Fargo': 273,\n",
       " 'Goldman Sachs': 87,\n",
       " 'Morgan Stanley': 72,\n",
       " 'Canadian Imperial Bank of Commerce': 83,\n",
       " 'TD Bank': 108,\n",
       " 'Bank of Montreal': 67,\n",
       " 'Capital One': 47,\n",
       " 'FNB Corporation': 4,\n",
       " 'Laurentian Bank of Canada': 3,\n",
       " 'Ally Financial': 12,\n",
       " 'Montreal Trust Company': 145,\n",
       " 'Canadian Western Bank': 0.97,\n",
       " 'Scotiabank': 33}"
      ]
     },
     "execution_count": 6,
     "metadata": {},
     "output_type": "execute_result"
    }
   ],
   "source": [
    "# @TODO: Add a new bank and market cap pair\n",
    "banks[\"Scotiabank\"] = 33\n",
    "banks\n",
    "\n",
    "\n"
   ]
  },
  {
   "cell_type": "code",
   "execution_count": 9,
   "id": "b53c9cb7-6307-4a72-8d21-a58fe1ea6328",
   "metadata": {},
   "outputs": [
    {
     "name": "stdout",
     "output_type": "stream",
     "text": [
      "The market value for Banks is Market Caps\n",
      "The market value for National Bank of Canada is 327\n",
      "The market value for Toronto-Dominion Bank is 302\n",
      "The market value for Royal Bank of Canada is 173\n",
      "The market value for Wells Fargo is 273\n",
      "The market value for Goldman Sachs is 87\n",
      "The market value for Morgan Stanley is 72\n",
      "The market value for Canadian Imperial Bank of Commerce is 83\n",
      "The market value for TD Bank is 108\n",
      "The market value for Bank of Montreal is 67\n",
      "The market value for Capital One is 47\n",
      "The market value for FNB Corporation is 4\n",
      "The market value for Laurentian Bank of Canada is 3\n",
      "The market value for Ally Financial is 12\n",
      "The market value for Canadian Western Bank is 0.97\n",
      "The market value for Scotiabank is 33\n"
     ]
    }
   ],
   "source": [
    "# @TODO: Remove a bank from the dictionary\n",
    "\n",
    "#del banks[\"Montreal Trust Company\"]\n",
    "\n",
    "# @TODO: Print the modified dictionary\n",
    "for key in banks.keys():\n",
    "    print(f\"The market value for {key} is {banks[key]}\")\n",
    "    "
   ]
  },
  {
   "cell_type": "code",
   "execution_count": null,
   "id": "52441f3b-153e-41ef-ae08-d691b300728e",
   "metadata": {},
   "outputs": [],
   "source": []
  }
 ],
 "metadata": {
  "kernelspec": {
   "display_name": "Python 3 (ipykernel)",
   "language": "python",
   "name": "python3"
  },
  "language_info": {
   "codemirror_mode": {
    "name": "ipython",
    "version": 3
   },
   "file_extension": ".py",
   "mimetype": "text/x-python",
   "name": "python",
   "nbconvert_exporter": "python",
   "pygments_lexer": "ipython3",
   "version": "3.9.7"
  }
 },
 "nbformat": 4,
 "nbformat_minor": 5
}
