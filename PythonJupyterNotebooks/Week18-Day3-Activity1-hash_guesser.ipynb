{
 "cells": [
  {
   "cell_type": "code",
   "execution_count": 1,
   "id": "70cf5f5a-0179-465f-a6d1-d8574e5f20f6",
   "metadata": {},
   "outputs": [],
   "source": [
    "import hashlib\n"
   ]
  },
  {
   "cell_type": "code",
   "execution_count": 2,
   "id": "eeda561f-168c-4c6b-80ef-8842a2b4631e",
   "metadata": {},
   "outputs": [],
   "source": [
    "def hash_number(number):\n",
    "    sha = hashlib.sha256()\n",
    "    value = str(number).encode()\n",
    "    sha.update(value)\n",
    "    return sha.hexdigest()\n",
    "\n",
    "\n"
   ]
  },
  {
   "cell_type": "code",
   "execution_count": 3,
   "id": "7fbdf037-b74a-4af7-9fe2-85d184a00eb6",
   "metadata": {},
   "outputs": [
    {
     "name": "stdout",
     "output_type": "stream",
     "text": [
      "The first hash is 5feceb66ffc86f38d952786c6d696c79c2dbc239dd4e91b46729d73a27fb57e9\n"
     ]
    }
   ],
   "source": [
    "count = 0\n",
    "hash = hash_number(count)\n",
    "print(f\"The first hash is {hash}\")\n",
    "\n",
    "\n"
   ]
  },
  {
   "cell_type": "code",
   "execution_count": 4,
   "id": "11d1769f-4cdb-4d5a-904d-1417130af0ad",
   "metadata": {},
   "outputs": [],
   "source": [
    "while not hash.startswith(\"0000\"):\n",
    "    count += 1\n",
    "    hash = hash_number(count)\n",
    "\n",
    "\n"
   ]
  },
  {
   "cell_type": "code",
   "execution_count": 5,
   "id": "7bad3976-7c62-4a7a-a854-6d9756bdc9a2",
   "metadata": {},
   "outputs": [
    {
     "name": "stdout",
     "output_type": "stream",
     "text": [
      "Found a hash with four zeros after 88484 attempts\n",
      "0000a456e7b5a5eb059e721fb431436883143101275c4077f83fe70298f5623d\n"
     ]
    }
   ],
   "source": [
    "print(f\"Found a hash with four zeros after {count} attempts\")\n",
    "print(hash)\n",
    "\n"
   ]
  },
  {
   "cell_type": "code",
   "execution_count": null,
   "id": "ed1d81f8-e0c2-416a-befc-3f2fe4866ace",
   "metadata": {},
   "outputs": [],
   "source": []
  }
 ],
 "metadata": {
  "kernelspec": {
   "display_name": "Python 3 (ipykernel)",
   "language": "python",
   "name": "python3"
  },
  "language_info": {
   "codemirror_mode": {
    "name": "ipython",
    "version": 3
   },
   "file_extension": ".py",
   "mimetype": "text/x-python",
   "name": "python",
   "nbconvert_exporter": "python",
   "pygments_lexer": "ipython3",
   "version": "3.7.7"
  }
 },
 "nbformat": 4,
 "nbformat_minor": 5
}
