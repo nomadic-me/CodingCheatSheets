{
 "cells": [
  {
   "cell_type": "markdown",
   "metadata": {},
   "source": [
    "# Extending Plotting"
   ]
  },
  {
   "cell_type": "markdown",
   "metadata": {},
   "source": [
    "It's time to extend your plotting skills. Over the past two lessons, you've learned how to create a range of interactive plots using hvPlot and Plotly Express; however, you haven't had one centralized location to embed these plots. Now you do! Integrate Plotly map visualizations with hvPlot scatter plots to create a Population and Crimes dashboard."
   ]
  },
  {
   "cell_type": "code",
   "execution_count": 11,
   "metadata": {},
   "outputs": [],
   "source": [
    "import plotly.express as px\n",
    "import panel as pn\n",
    "import pandas as pd\n",
    "import os\n",
    "from pathlib import Path\n",
    "from dotenv import load_dotenv"
   ]
  },
  {
   "cell_type": "markdown",
   "metadata": {},
   "source": [
    "### Use extension function to specify plugin"
   ]
  },
  {
   "cell_type": "code",
   "execution_count": 12,
   "metadata": {},
   "outputs": [],
   "source": [
    "# Set up Panel Plotly extension\n",
    "pn.extension('plotly')\n"
   ]
  },
  {
   "cell_type": "markdown",
   "metadata": {},
   "source": [
    "### Import hvplot.pandas after pn.extension"
   ]
  },
  {
   "cell_type": "code",
   "execution_count": 13,
   "metadata": {},
   "outputs": [],
   "source": [
    "# Import hvplot.pandas after pn.extension\n",
    "# This avoids plotly initialization failure\n",
    "\n",
    "import hvplot.pandas"
   ]
  },
  {
   "cell_type": "markdown",
   "metadata": {},
   "source": [
    "### Set up Mapbox token and prepare data"
   ]
  },
  {
   "cell_type": "code",
   "execution_count": 14,
   "metadata": {},
   "outputs": [
    {
     "data": {
      "text/html": [
       "<div>\n",
       "<style scoped>\n",
       "    .dataframe tbody tr th:only-of-type {\n",
       "        vertical-align: middle;\n",
       "    }\n",
       "\n",
       "    .dataframe tbody tr th {\n",
       "        vertical-align: top;\n",
       "    }\n",
       "\n",
       "    .dataframe thead th {\n",
       "        text-align: right;\n",
       "    }\n",
       "</style>\n",
       "<table border=\"1\" class=\"dataframe\">\n",
       "  <thead>\n",
       "    <tr style=\"text-align: right;\">\n",
       "      <th></th>\n",
       "      <th>city</th>\n",
       "      <th>state</th>\n",
       "      <th>latitude</th>\n",
       "      <th>longitude</th>\n",
       "      <th>population_count</th>\n",
       "      <th>pop_2015</th>\n",
       "      <th>violent_crime</th>\n",
       "      <th>murder</th>\n",
       "      <th>murder_rate</th>\n",
       "    </tr>\n",
       "  </thead>\n",
       "  <tbody>\n",
       "    <tr>\n",
       "      <th>0</th>\n",
       "      <td>Albuquerque</td>\n",
       "      <td>NM</td>\n",
       "      <td>35.084491</td>\n",
       "      <td>-106.651137</td>\n",
       "      <td>545852.0</td>\n",
       "      <td>559721.0</td>\n",
       "      <td>5406.0</td>\n",
       "      <td>43.0</td>\n",
       "      <td>7.682399</td>\n",
       "    </tr>\n",
       "    <tr>\n",
       "      <th>1</th>\n",
       "      <td>Anaheim</td>\n",
       "      <td>CA</td>\n",
       "      <td>33.835293</td>\n",
       "      <td>-117.914504</td>\n",
       "      <td>336265.0</td>\n",
       "      <td>349471.0</td>\n",
       "      <td>1271.0</td>\n",
       "      <td>18.0</td>\n",
       "      <td>5.150642</td>\n",
       "    </tr>\n",
       "    <tr>\n",
       "      <th>2</th>\n",
       "      <td>Anchorage</td>\n",
       "      <td>AK</td>\n",
       "      <td>61.218056</td>\n",
       "      <td>-149.900278</td>\n",
       "      <td>291826.0</td>\n",
       "      <td>301239.0</td>\n",
       "      <td>3226.0</td>\n",
       "      <td>26.0</td>\n",
       "      <td>8.631021</td>\n",
       "    </tr>\n",
       "    <tr>\n",
       "      <th>3</th>\n",
       "      <td>Arlington</td>\n",
       "      <td>TX</td>\n",
       "      <td>32.735687</td>\n",
       "      <td>-97.108066</td>\n",
       "      <td>365438.0</td>\n",
       "      <td>387565.0</td>\n",
       "      <td>1946.0</td>\n",
       "      <td>8.0</td>\n",
       "      <td>2.064170</td>\n",
       "    </tr>\n",
       "    <tr>\n",
       "      <th>4</th>\n",
       "      <td>Atlanta</td>\n",
       "      <td>GA</td>\n",
       "      <td>33.748995</td>\n",
       "      <td>-84.387982</td>\n",
       "      <td>420003.0</td>\n",
       "      <td>464710.0</td>\n",
       "      <td>5203.0</td>\n",
       "      <td>94.0</td>\n",
       "      <td>20.227669</td>\n",
       "    </tr>\n",
       "  </tbody>\n",
       "</table>\n",
       "</div>"
      ],
      "text/plain": [
       "          city state   latitude   longitude  population_count  pop_2015  \\\n",
       "0  Albuquerque    NM  35.084491 -106.651137          545852.0  559721.0   \n",
       "1      Anaheim    CA  33.835293 -117.914504          336265.0  349471.0   \n",
       "2    Anchorage    AK  61.218056 -149.900278          291826.0  301239.0   \n",
       "3    Arlington    TX  32.735687  -97.108066          365438.0  387565.0   \n",
       "4      Atlanta    GA  33.748995  -84.387982          420003.0  464710.0   \n",
       "\n",
       "   violent_crime  murder  murder_rate  \n",
       "0         5406.0    43.0     7.682399  \n",
       "1         1271.0    18.0     5.150642  \n",
       "2         3226.0    26.0     8.631021  \n",
       "3         1946.0     8.0     2.064170  \n",
       "4         5203.0    94.0    20.227669  "
      ]
     },
     "execution_count": 14,
     "metadata": {},
     "output_type": "execute_result"
    }
   ],
   "source": [
    "# Read the Mapbox API key\n",
    "load_dotenv()\n",
    "map_box_api = os.getenv(\"mapbox\")\n",
    "\n",
    "# Set token using Plotly Express set function\n",
    "px.set_mapbox_access_token(map_box_api)\n",
    "\n",
    "# Read in data\n",
    "city_pop = pd.read_csv(Path(\"Resources/Week6-Day3-Activity6-population_counts.csv\")).drop_duplicates()\n",
    "crime_rates = pd.read_csv(Path(\"Resources/Week6-Day3-Activity6-crime_rates.csv\")).drop_duplicates()\n",
    "\n",
    "pop_with_index = city_pop.set_index(\"city\")\n",
    "crime_with_index = crime_rates.set_index(\"city\")\n",
    "population_crime = (\n",
    "    pd.concat([pop_with_index, crime_with_index], axis=1, sort=True)\n",
    "    .dropna()\n",
    "    .reset_index()\n",
    ")\n",
    "\n",
    "population_crime.head()"
   ]
  },
  {
   "cell_type": "markdown",
   "metadata": {},
   "source": [
    "### Create plots"
   ]
  },
  {
   "cell_type": "code",
   "execution_count": 15,
   "metadata": {},
   "outputs": [],
   "source": [
    "# Create plots\n",
    "population_plot = px.scatter_mapbox(\n",
    "    population_crime,\n",
    "    lat=\"latitude\",\n",
    "    lon=\"longitude\",\n",
    "    size=\"pop_2015\",\n",
    "    color=population_crime.index,\n",
    "    color_continuous_scale=px.colors.cyclical.IceFire,\n",
    "    title=\"City Population\",\n",
    "    zoom=3,\n",
    "    width=1000,\n",
    ")\n",
    "\n",
    "crime_plot = px.scatter_mapbox(\n",
    "    population_crime,\n",
    "    lat=\"latitude\",\n",
    "    lon=\"longitude\",\n",
    "    size=\"violent_crime\",\n",
    "    color=population_crime.index,\n",
    "    color_continuous_scale=px.colors.cyclical.IceFire,\n",
    "    title=\"City Crime\",\n",
    "    zoom=3,\n",
    "    width=1000,\n",
    ")\n",
    "\n",
    "population_violence = population_crime.hvplot.scatter(\n",
    "    x=\"pop_2015\",\n",
    "    y=\"violent_crime\",\n",
    "    title=\"Violent Crime by Population Correlation\",\n",
    "    width=1000,\n",
    ").opts(yformatter=\"%.0f\")\n",
    "\n",
    "violent_murder = population_crime.hvplot.scatter(\n",
    "    x=\"violent_crime\",\n",
    "    y=\"murder\",\n",
    "    title=\"Correlation Between Number of Violent Crimes and Murder\",\n",
    "    width=1000,\n",
    ").opts(yformatter=\"%.0f\")"
   ]
  },
  {
   "cell_type": "markdown",
   "metadata": {},
   "source": [
    "### Create Panel columns and tabs"
   ]
  },
  {
   "cell_type": "code",
   "execution_count": 16,
   "metadata": {},
   "outputs": [
    {
     "data": {},
     "metadata": {},
     "output_type": "display_data"
    },
    {
     "data": {},
     "metadata": {},
     "output_type": "display_data"
    },
    {
     "data": {
      "application/vnd.holoviews_exec.v0+json": "",
      "text/html": [
       "<div id='1603'>\n",
       "\n",
       "\n",
       "\n",
       "\n",
       "\n",
       "  <div class=\"bk-root\" id=\"ef19b689-78f8-4533-bbc2-c4fb65c4ba8b\" data-root-id=\"1603\"></div>\n",
       "</div>\n",
       "<script type=\"application/javascript\">(function(root) {\n",
       "  function embed_document(root) {\n",
       "    var docs_json = {\"f2c4deee-5f23-414c-bb0c-6cb5ada2bf05\":{\"defs\":[{\"extends\":null,\"module\":null,\"name\":\"ReactiveHTML1\",\"overrides\":[],\"properties\":[]},{\"extends\":null,\"module\":null,\"name\":\"FlexBox1\",\"overrides\":[],\"properties\":[{\"default\":\"flex-start\",\"kind\":null,\"name\":\"align_content\"},{\"default\":\"flex-start\",\"kind\":null,\"name\":\"align_items\"},{\"default\":\"row\",\"kind\":null,\"name\":\"flex_direction\"},{\"default\":\"wrap\",\"kind\":null,\"name\":\"flex_wrap\"},{\"default\":\"flex-start\",\"kind\":null,\"name\":\"justify_content\"}]},{\"extends\":null,\"module\":null,\"name\":\"TemplateActions1\",\"overrides\":[],\"properties\":[{\"default\":0,\"kind\":null,\"name\":\"open_modal\"},{\"default\":0,\"kind\":null,\"name\":\"close_modal\"}]},{\"extends\":null,\"module\":null,\"name\":\"MaterialTemplateActions1\",\"overrides\":[],\"properties\":[{\"default\":0,\"kind\":null,\"name\":\"open_modal\"},{\"default\":0,\"kind\":null,\"name\":\"close_modal\"}]}],\"roots\":{\"references\":[{\"attributes\":{\"angle\":{\"value\":0.0},\"fill_alpha\":{\"value\":1.0},\"fill_color\":{\"value\":\"#30a2da\"},\"hatch_alpha\":{\"value\":1.0},\"hatch_color\":{\"value\":\"#30a2da\"},\"hatch_scale\":{\"value\":12.0},\"hatch_weight\":{\"value\":1.0},\"line_alpha\":{\"value\":1.0},\"line_cap\":{\"value\":\"butt\"},\"line_color\":{\"value\":\"#30a2da\"},\"line_dash\":{\"value\":[]},\"line_dash_offset\":{\"value\":0},\"line_join\":{\"value\":\"bevel\"},\"line_width\":{\"value\":1},\"marker\":{\"value\":\"circle\"},\"size\":{\"value\":5.477225575051661},\"x\":{\"field\":\"pop_2015\"},\"y\":{\"field\":\"violent_crime\"}},\"id\":\"1654\",\"type\":\"Scatter\"},{\"attributes\":{},\"id\":\"1716\",\"type\":\"Selection\"},{\"attributes\":{\"format\":\"%.0f\"},\"id\":\"1655\",\"type\":\"PrintfTickFormatter\"},{\"attributes\":{},\"id\":\"1661\",\"type\":\"AllLabels\"},{\"attributes\":{\"child\":{\"id\":\"1604\"},\"name\":\"Column02281\",\"title\":\"Geospatial\"},\"id\":\"1610\",\"type\":\"Panel\"},{\"attributes\":{\"below\":[{\"id\":\"1694\"}],\"center\":[{\"id\":\"1697\"},{\"id\":\"1701\"}],\"height\":300,\"left\":[{\"id\":\"1698\"}],\"margin\":[5,5,5,5],\"min_border_bottom\":10,\"min_border_left\":10,\"min_border_right\":10,\"min_border_top\":10,\"renderers\":[{\"id\":\"1721\"}],\"sizing_mode\":\"fixed\",\"title\":{\"id\":\"1686\"},\"toolbar\":{\"id\":\"1708\"},\"width\":1000,\"x_range\":{\"id\":\"1614\"},\"x_scale\":{\"id\":\"1690\"},\"y_range\":{\"id\":\"1683\"},\"y_scale\":{\"id\":\"1692\"}},\"id\":\"1685\",\"subtype\":\"Figure\",\"type\":\"Plot\"},{\"attributes\":{},\"id\":\"1727\",\"type\":\"AllLabels\"},{\"attributes\":{\"callback\":null,\"renderers\":[{\"id\":\"1721\"}],\"tags\":[\"hv_created\"],\"tooltips\":[[\"violent_crime\",\"@{violent_crime}\"],[\"murder\",\"@{murder}\"]]},\"id\":\"1684\",\"type\":\"HoverTool\"},{\"attributes\":{\"coordinates\":null,\"group\":null,\"text\":\"Violent Crime by Population Correlation\",\"text_color\":\"black\",\"text_font_size\":\"12pt\"},\"id\":\"1617\",\"type\":\"Title\"},{\"attributes\":{\"coordinates\":null,\"group\":null,\"text\":\"Correlation Between Number of Violent Crimes and Murder\",\"text_color\":\"black\",\"text_font_size\":\"12pt\"},\"id\":\"1686\",\"type\":\"Title\"},{\"attributes\":{},\"id\":\"1637\",\"type\":\"ResetTool\"},{\"attributes\":{\"axis_label\":\"pop_2015\",\"coordinates\":null,\"formatter\":{\"id\":\"1657\"},\"group\":null,\"major_label_policy\":{\"id\":\"1658\"},\"ticker\":{\"id\":\"1626\"}},\"id\":\"1625\",\"type\":\"LinearAxis\"},{\"attributes\":{\"js_property_callbacks\":{\"change:active\":[{\"id\":\"1866\"},{\"id\":\"1893\"}]},\"margin\":[0,0,0,0],\"tabs\":[{\"id\":\"1610\"},{\"id\":\"1751\"}]},\"id\":\"1603\",\"type\":\"Tabs\"},{\"attributes\":{},\"id\":\"1726\",\"type\":\"BasicTickFormatter\"},{\"attributes\":{\"children\":[{\"id\":\"1612\"},{\"id\":\"1616\"},{\"id\":\"1685\"}],\"margin\":[0,0,0,0],\"name\":\"Column02294\"},\"id\":\"1611\",\"type\":\"Column\"},{\"attributes\":{\"bottom_units\":\"screen\",\"coordinates\":null,\"fill_alpha\":0.5,\"fill_color\":\"lightgrey\",\"group\":null,\"left_units\":\"screen\",\"level\":\"overlay\",\"line_alpha\":1.0,\"line_color\":\"black\",\"line_dash\":[4,4],\"line_width\":2,\"right_units\":\"screen\",\"syncable\":false,\"top_units\":\"screen\"},\"id\":\"1638\",\"type\":\"BoxAnnotation\"},{\"attributes\":{},\"id\":\"1692\",\"type\":\"LinearScale\"},{\"attributes\":{\"format\":\"%.0f\"},\"id\":\"1724\",\"type\":\"PrintfTickFormatter\"},{\"attributes\":{},\"id\":\"1756\",\"type\":\"UnionRenderers\"},{\"attributes\":{},\"id\":\"1634\",\"type\":\"PanTool\"},{\"attributes\":{},\"id\":\"1755\",\"type\":\"Selection\"},{\"attributes\":{\"fill_alpha\":{\"value\":0.2},\"fill_color\":{\"value\":\"#30a2da\"},\"hatch_alpha\":{\"value\":0.2},\"hatch_color\":{\"value\":\"#30a2da\"},\"line_alpha\":{\"value\":0.2},\"line_color\":{\"value\":\"#30a2da\"},\"size\":{\"value\":5.477225575051661},\"x\":{\"field\":\"pop_2015\"},\"y\":{\"field\":\"violent_crime\"}},\"id\":\"1651\",\"type\":\"Scatter\"},{\"attributes\":{\"data\":{\"murder\":{\"__ndarray__\":\"AAAAAACARUAAAAAAAAAyQAAAAAAAADpAAAAAAAAAIEAAAAAAAIBXQAAAAAAAADhAAAAAAAAAN0AAAAAAAAA2QAAAAAAAgHVAAAAAAAAAQ0AAAAAAAIBEQAAAAAAAgE5AAAAAAADgfUAAAAAAAIBQQAAAAAAAADlAAAAAAABAU0AAAAAAAAAxQAAAAAAAAGFAAAAAAACASkAAAAAAAHByQAAAAAAAADFAAAAAAAAAOUAAAAAAAABMQAAAAAAAgENAAAAAAAAAOkAAAAAAAAAQQAAAAAAA8HJAAAAAAACAYkAAAAAAAEBYQAAAAAAAQFtAAAAAAADAX0AAAAAAAAAuQAAAAAAAAPA/AAAAAAAAQkAAAAAAAKBxQAAAAAAAQFRAAAAAAADgYEAAAAAAAAAwQAAAAAAAwFJAAAAAAAAgYkAAAAAAAIBHQAAAAAAAAFJAAAAAAACAZEAAAAAAAAB2QAAAAAAAQFVAAAAAAABAUkAAAAAAAABIQAAAAAAAgHFAAAAAAAAAXEAAAAAAAIBMQAAAAAAAABBAAAAAAAAAJEAAAAAAAIBFQAAAAAAAgFdAAAAAAACAQkAAAAAAAIBKQAAAAAAAAD5AAAAAAAAAKEAAAAAAAAA3QAAAAAAAgGdAAAAAAAAAMEAAAAAAAIBIQAAAAAAAAEFAAAAAAAAAOEAAAAAAAAA/QAAAAAAAgEtAAAAAAAAAM0AAAAAAAEBkQAAAAAAAADtA\",\"dtype\":\"float64\",\"order\":\"little\",\"shape\":[69]},\"violent_crime\":{\"__ndarray__\":\"AAAAAAAetUAAAAAAANyTQAAAAAAANKlAAAAAAABonkAAAAAAAFO0QAAAAAAA8JlAAAAAAABSq0AAAAAAAEicQAAAAAAAo8JAAAAAAABeskAAAAAAAI6mQAAAAAAAPLdAAAAAAMAV2EAAAAAAAJKlQAAAAAAA/J5AAAAAAAAXskAAAAAAAFigQAAAAAAAp8FAAAAAAAD3sUAAAAAAACPHQAAAAAAApqNAAAAAAADAjkAAAAAAAAexQAAAAAAAbqZAAAAAAACsmkAAAAAAAMB9QAAAAACAetVAAAAAAAC6xUAAAAAAAPa1QAAAAAAANbpAAAAAAIAXzEAAAAAAAFCQQAAAAAAABJBAAAAAAACcpUAAAAAAAJHYQAAAAAAAzLBAAAAAAIBcxkAAAAAAANCeQAAAAAAAebFAAAAAAIC3wkAAAAAAACuxQAAAAAAATbxAAAAAAAAwrUAAAAAAAHXoQAAAAAAAo7dAAAAAAADcskAAAAAAADKiQAAAAAAAgs9AAAAAAIAWwkAAAAAAAO6gQAAAAAAAEHtAAAAAAACElkAAAAAAADasQAAAAAAAycBAAAAAAADOtUAAAAAAADa6QAAAAAAAkKpAAAAAAABomUAAAAAAAPqvQAAAAAAAgrZAAAAAAACGoEAAAAAAABqwQAAAAAAA9KFAAAAAAACoqEAAAAAAACCrQAAAAAAAWKxAAAAAAACQg0AAAAAAAJS/QAAAAAAA/q1A\",\"dtype\":\"float64\",\"order\":\"little\",\"shape\":[69]}},\"selected\":{\"id\":\"1716\"},\"selection_policy\":{\"id\":\"1739\"}},\"id\":\"1715\",\"type\":\"ColumnDataSource\"},{\"attributes\":{\"client_comm_id\":\"b2a6f52124fc4fdca2f131031a3c5e04\",\"comm_id\":\"17d12b0c9a0d4761aa83bd804e52163f\",\"plot_id\":\"1603\"},\"id\":\"1938\",\"type\":\"panel.models.comm_manager.CommManager\"},{\"attributes\":{},\"id\":\"1630\",\"type\":\"BasicTicker\"},{\"attributes\":{},\"id\":\"1730\",\"type\":\"AllLabels\"},{\"attributes\":{\"fill_color\":{\"value\":\"#30a2da\"},\"hatch_color\":{\"value\":\"#30a2da\"},\"line_color\":{\"value\":\"#30a2da\"},\"size\":{\"value\":5.477225575051661},\"x\":{\"field\":\"pop_2015\"},\"y\":{\"field\":\"violent_crime\"}},\"id\":\"1649\",\"type\":\"Scatter\"},{\"attributes\":{\"children\":[{\"id\":\"1605\"},{\"id\":\"1607\"},{\"id\":\"1609\"}],\"margin\":[0,0,0,0],\"name\":\"Column02281\"},\"id\":\"1604\",\"type\":\"Column\"},{\"attributes\":{},\"id\":\"1757\",\"type\":\"Selection\"},{\"attributes\":{\"axis\":{\"id\":\"1698\"},\"coordinates\":null,\"dimension\":1,\"grid_line_color\":null,\"group\":null,\"ticker\":null},\"id\":\"1701\",\"type\":\"Grid\"},{\"attributes\":{\"data\":{\"lat\":[{\"__ndarray__\":\"oScKmdCKQUAdSTjj6upAQNZa8z7pm05A0ova/SpeQEBe7c0U399AQF+URQZe3UNAPgeWI2REPkB2rRgJyK9BQLSgQVQrpUNAh/B5D+EtRUBq0rcWd3FFQM5s/C4RnUFAqcKf4c3sREB5C8NHrY5DQDpe3KG8akNAtRt9zAf7Q0B4vY/+8sw7QI55eCo7ZEBAP1zNlZzeQ0B1AS8zbCpFQOLT93U7wj9AnByZoreQRECunL0z2lxAQDIqX4a1X0JAqYO8HkwJQkBg2KvZFAVCQLqS041mwz1A6kFBKVriQ0DRQl3/CVU+QEjFWtfDjENA5KHvbmUWQkBMrVLVXwZDQMyhoG9mZkRA6uEV0iviQEDKXTqcrwZBQO+0kNuKIENArBCg8COTQUDE0OrkDLZAQElpkUg2xjlAx53SwfqERUAUG5iBb31GQE2eV+E7FUJAbi8O02P0PUAJhT6YeGFEQOJnEqv15kJAOzJuXFq8QUBAN48eGqFEQAfr/xzm+UNAPmO6a2S5QEA957hkZjhEQJDG/DeKgkBAkReIVAf6QEDkYrHycEpDQHMEukCTbD1A2u8/6I9bQEBSms3jMONCQHMdmf1wq0JAgKN48G7fQEAjg9xFmM1HQLaT0n1KUENAjMEebuJ4RkDXqU33lfpCQOxAjMaQ8jtA6oci7vvUREBjz0MSYhxAQF9VegQ3FEJA+zJisCxtQkDBoQEGk3JDQChOSTGb2EJA\",\"dtype\":\"float64\",\"order\":\"little\",\"shape\":[69]}],\"lon\":[{\"__ndarray__\":\"bO5DOaypWsDBhBs6h3pdwBOKYxPPvGLApnT6i+pGWMAc2yG01BhVwOZZSSs+NVrAIrziTo5vWMCx4emVMsFdwIOdBxwuJ1PAWMv4UtPDUcC01DAyN7hTwGQYHMr1NVTAIkz2dJrpVcBiSNlh5iFVwGhIyzeRNFrAzxuCPuy/VMBf8GlOXllYwGzRXW2gM1jApNBoYQU/WsC8qlih7cJUwFCZUeIpn1rAb1HBPD9IVcDSu8LMiFRYwIACOXJu8V3AI4+Wua/yU8BKr3IN2L5cwGgEG9c/11fAnnhzXR2KVcC+pZwv9mlUwH/DnzwHpVfAlFD6QsjIXMBQyM7bWB1VwJSPk3ivKljA91BHbByMXcDcAY2ImI9dwJ9W0R+acFXA6OltfSKDVsD+1xQjpvRbwBSFTOhkDFTA/qvYqQP6VcBFQM+w4lBXwHRkQFE0slXAGjbK+s2EVsAQqnbEz35SwP6qbdRUkV7AqAPaz5JiWMDUnLzIBPxXwHOc24R7ylLAyYvxBr0EXMD/oU+avP9TwE3pqoq6LFjAeIZfoFpZXcDzSTg+pF9ewInYu5qXn1jAReixdxBKXcDf+xu015pewAX4bvNGeV7AQlfHlop3XcA4feKlQJVewHNvNDaqjFbA4KNZNPhFV8ADFgoinFJewLyE+eFWnVTAMZbpl4jjVMCSW5NuS7tbwOAlqEkPAVjAob5lTpf+UsBYbDjRU0JTwNU7gVWaVVjA\",\"dtype\":\"float64\",\"order\":\"little\",\"shape\":[69]}],\"marker.color\":[[0,1,2,3,4,5,6,7,8,9,10,11,12,13,14,15,16,17,18,19,20,21,22,23,24,25,26,27,28,29,30,31,32,33,34,35,36,37,38,39,40,41,42,43,44,45,46,47,48,49,50,51,52,53,54,55,56,57,58,59,60,61,62,63,64,65,66,67,68]],\"marker.size\":[{\"__ndarray__\":\"AAAAANIUIUEAAAAAfFQVQQAAAADcYhJBAAAAALSnF0EAAAAAGF0cQQAAAAC0/BVBAAAAANClLEEAAAAA/NEWQQAAAACI9SJBAAAAAFRNJEEAAAAAgIEPQQAAAADyySpBAAAAgHvRREEAAAAAuDcSQQAAAADonBtBAAAAAALfKUEAAAAAmMsTQQAAAADZ3TNBAAAAAGTTJEEAAAAAkoskQQAAAAD67yRBAAAAAAC0D0EAAAAARlIpQQAAAAAUyh9BAAAAAPhzEUEAAAAA6D4RQQAAAIDKW0FBAAAAAHZbKkEAAAAAdHcqQQAAAAB05BxBAAAAABbWN0EAAAAAdCsTQQAAAACk4RBBAAAAAHgSHUEAAAAAsztOQQAAAADMxCRBAAAAACAUJEEAAAAA6L8cQQAAAABEuxpBAAAAAKBSIkEAAAAAnDwZQQAAAADaFCRBAAAAAJwDGEEAAACgOU9gQQAAAABkmhlBAAAAALo+I0EAAAAAcJobQQAAAABC7DdBAAAAAMDMN0EAAAAA2LoSQQAAAABgRRFBAAAAAOC3E0EAAAAA1OMdQQAAAAAiVTZBAAAAAJNeNUEAAAAATFwqQQAAAABEei9BAAAAAGCWFEEAAAAAaN0kQQAAAACcWhNBAAAAAMRaEkEAAAAA6JsSQQAAAAB8PRZBAAAAAAAQEUEAAAAAFiogQQAAAADAgRhBAAAAAPSiG0EAAAAAyIMkQQAAAAAAyxdB\",\"dtype\":\"float64\",\"order\":\"little\",\"shape\":[69]}]},\"selected\":{\"id\":\"1755\"},\"selection_policy\":{\"id\":\"1754\"}},\"id\":\"1606\",\"type\":\"ColumnDataSource\"},{\"attributes\":{\"axis_label\":\"violent_crime\",\"coordinates\":null,\"formatter\":{\"id\":\"1726\"},\"group\":null,\"major_label_policy\":{\"id\":\"1727\"},\"ticker\":{\"id\":\"1695\"}},\"id\":\"1694\",\"type\":\"LinearAxis\"},{\"attributes\":{},\"id\":\"1621\",\"type\":\"LinearScale\"},{\"attributes\":{},\"id\":\"1670\",\"type\":\"UnionRenderers\"},{\"attributes\":{},\"id\":\"1690\",\"type\":\"LinearScale\"},{\"attributes\":{},\"id\":\"1657\",\"type\":\"BasicTickFormatter\"},{\"attributes\":{},\"id\":\"1695\",\"type\":\"BasicTicker\"},{\"attributes\":{\"below\":[{\"id\":\"1625\"}],\"center\":[{\"id\":\"1628\"},{\"id\":\"1632\"}],\"height\":300,\"left\":[{\"id\":\"1629\"}],\"margin\":[5,5,5,5],\"min_border_bottom\":10,\"min_border_left\":10,\"min_border_right\":10,\"min_border_top\":10,\"renderers\":[{\"id\":\"1652\"}],\"sizing_mode\":\"fixed\",\"title\":{\"id\":\"1617\"},\"toolbar\":{\"id\":\"1639\"},\"width\":1000,\"x_range\":{\"id\":\"1613\"},\"x_scale\":{\"id\":\"1621\"},\"y_range\":{\"id\":\"1614\"},\"y_scale\":{\"id\":\"1623\"}},\"id\":\"1616\",\"subtype\":\"Figure\",\"type\":\"Plot\"},{\"attributes\":{\"axis_label\":\"violent_crime\",\"coordinates\":null,\"formatter\":{\"id\":\"1655\"},\"group\":null,\"major_label_policy\":{\"id\":\"1661\"},\"ticker\":{\"id\":\"1630\"}},\"id\":\"1629\",\"type\":\"LinearAxis\"},{\"attributes\":{},\"id\":\"1754\",\"type\":\"UnionRenderers\"},{\"attributes\":{\"axis\":{\"id\":\"1694\"},\"coordinates\":null,\"grid_line_color\":null,\"group\":null,\"ticker\":null},\"id\":\"1697\",\"type\":\"Grid\"},{\"attributes\":{},\"id\":\"1699\",\"type\":\"BasicTicker\"},{\"attributes\":{\"end\":525.7,\"reset_end\":525.7,\"reset_start\":-46.7,\"start\":-46.7,\"tags\":[[[\"murder\",\"murder\",null]]]},\"id\":\"1683\",\"type\":\"Range1d\"},{\"attributes\":{\"callback\":null,\"renderers\":[{\"id\":\"1652\"}],\"tags\":[\"hv_created\"],\"tooltips\":[[\"pop_2015\",\"@{pop_2015}\"],[\"violent_crime\",\"@{violent_crime}\"]]},\"id\":\"1615\",\"type\":\"HoverTool\"},{\"attributes\":{\"axis_label\":\"murder\",\"coordinates\":null,\"formatter\":{\"id\":\"1724\"},\"group\":null,\"major_label_policy\":{\"id\":\"1730\"},\"ticker\":{\"id\":\"1699\"}},\"id\":\"1698\",\"type\":\"LinearAxis\"},{\"attributes\":{\"args\":{\"model\":{\"id\":\"1607\"}},\"code\":\"try { model.visibility = (cb_obj.active == 0); } catch { }\",\"tags\":[\"plotly_tab_fix1607\"]},\"id\":\"1893\",\"type\":\"CustomJS\"},{\"attributes\":{\"source\":{\"id\":\"1646\"}},\"id\":\"1653\",\"type\":\"CDSView\"},{\"attributes\":{\"args\":{\"model\":{\"id\":\"1609\"}},\"code\":\"try { model.visibility = (cb_obj.active == 0); } catch { }\",\"tags\":[\"plotly_tab_fix1609\"]},\"id\":\"1866\",\"type\":\"CustomJS\"},{\"attributes\":{\"fill_color\":{\"value\":\"#30a2da\"},\"hatch_color\":{\"value\":\"#30a2da\"},\"line_color\":{\"value\":\"#30a2da\"},\"size\":{\"value\":5.477225575051661},\"x\":{\"field\":\"violent_crime\"},\"y\":{\"field\":\"murder\"}},\"id\":\"1718\",\"type\":\"Scatter\"},{\"attributes\":{},\"id\":\"1739\",\"type\":\"UnionRenderers\"},{\"attributes\":{},\"id\":\"1623\",\"type\":\"LinearScale\"},{\"attributes\":{},\"id\":\"1633\",\"type\":\"SaveTool\"},{\"attributes\":{\"css_classes\":[\"markdown\"],\"margin\":[5,5,5,5],\"name\":\"Markdown02282\",\"text\":\"&lt;h2&gt;Correlation of Population and Crime Plots&lt;/h2&gt;\"},\"id\":\"1612\",\"type\":\"panel.models.markup.HTML\"},{\"attributes\":{\"fill_alpha\":{\"value\":0.1},\"fill_color\":{\"value\":\"#30a2da\"},\"hatch_alpha\":{\"value\":0.1},\"hatch_color\":{\"value\":\"#30a2da\"},\"line_alpha\":{\"value\":0.1},\"line_color\":{\"value\":\"#30a2da\"},\"size\":{\"value\":5.477225575051661},\"x\":{\"field\":\"violent_crime\"},\"y\":{\"field\":\"murder\"}},\"id\":\"1719\",\"type\":\"Scatter\"},{\"attributes\":{\"fill_alpha\":{\"value\":0.2},\"fill_color\":{\"value\":\"#30a2da\"},\"hatch_alpha\":{\"value\":0.2},\"hatch_color\":{\"value\":\"#30a2da\"},\"line_alpha\":{\"value\":0.2},\"line_color\":{\"value\":\"#30a2da\"},\"size\":{\"value\":5.477225575051661},\"x\":{\"field\":\"violent_crime\"},\"y\":{\"field\":\"murder\"}},\"id\":\"1720\",\"type\":\"Scatter\"},{\"attributes\":{\"child\":{\"id\":\"1611\"},\"name\":\"Column02294\",\"title\":\"Correlations\"},\"id\":\"1751\",\"type\":\"Panel\"},{\"attributes\":{\"source\":{\"id\":\"1715\"}},\"id\":\"1722\",\"type\":\"CDSView\"},{\"attributes\":{\"coordinates\":null,\"data_source\":{\"id\":\"1646\"},\"glyph\":{\"id\":\"1649\"},\"group\":null,\"hover_glyph\":null,\"muted_glyph\":{\"id\":\"1651\"},\"nonselection_glyph\":{\"id\":\"1650\"},\"selection_glyph\":{\"id\":\"1654\"},\"view\":{\"id\":\"1653\"}},\"id\":\"1652\",\"type\":\"GlyphRenderer\"},{\"attributes\":{\"angle\":{\"value\":0.0},\"fill_alpha\":{\"value\":1.0},\"fill_color\":{\"value\":\"#30a2da\"},\"hatch_alpha\":{\"value\":1.0},\"hatch_color\":{\"value\":\"#30a2da\"},\"hatch_scale\":{\"value\":12.0},\"hatch_weight\":{\"value\":1.0},\"line_alpha\":{\"value\":1.0},\"line_cap\":{\"value\":\"butt\"},\"line_color\":{\"value\":\"#30a2da\"},\"line_dash\":{\"value\":[]},\"line_dash_offset\":{\"value\":0},\"line_join\":{\"value\":\"bevel\"},\"line_width\":{\"value\":1},\"marker\":{\"value\":\"circle\"},\"size\":{\"value\":5.477225575051661},\"x\":{\"field\":\"violent_crime\"},\"y\":{\"field\":\"murder\"}},\"id\":\"1723\",\"type\":\"Scatter\"},{\"attributes\":{\"tools\":[{\"id\":\"1615\"},{\"id\":\"1633\"},{\"id\":\"1634\"},{\"id\":\"1635\"},{\"id\":\"1636\"},{\"id\":\"1637\"}]},\"id\":\"1639\",\"type\":\"Toolbar\"},{\"attributes\":{},\"id\":\"1702\",\"type\":\"SaveTool\"},{\"attributes\":{\"axis\":{\"id\":\"1629\"},\"coordinates\":null,\"dimension\":1,\"grid_line_color\":null,\"group\":null,\"ticker\":null},\"id\":\"1632\",\"type\":\"Grid\"},{\"attributes\":{\"data\":[{\"hovertemplate\":\"violent_crime=%{marker.size}<br>latitude=%{lat}<br>longitude=%{lon}<br>index=%{marker.color}<extra></extra>\",\"legendgroup\":\"\",\"marker\":{\"coloraxis\":\"coloraxis\",\"sizemode\":\"area\",\"sizeref\":125.22},\"mode\":\"markers\",\"name\":\"\",\"showlegend\":false,\"subplot\":\"mapbox\",\"type\":\"scattermapbox\"}],\"data_sources\":[{\"id\":\"1608\"}],\"layout\":{\"coloraxis\":{\"colorbar\":{\"title\":{\"text\":\"index\"}},\"colorscale\":[[0.0,\"#000000\"],[0.0625,\"#001f4d\"],[0.125,\"#003786\"],[0.1875,\"#0e58a8\"],[0.25,\"#217eb8\"],[0.3125,\"#30a4ca\"],[0.375,\"#54c8df\"],[0.4375,\"#9be4ef\"],[0.5,\"#e1e9d1\"],[0.5625,\"#f3d573\"],[0.625,\"#e7b000\"],[0.6875,\"#da8200\"],[0.75,\"#c65400\"],[0.8125,\"#ac2301\"],[0.875,\"#820000\"],[0.9375,\"#4c0000\"],[1.0,\"#000000\"]]},\"legend\":{\"itemsizing\":\"constant\",\"tracegroupgap\":0},\"mapbox\":{\"accesstoken\":\"pk.eyJ1Ijoibm9tYWRpY21lIiwiYSI6ImNrajdza3Y3dTF4ODMyenNidHRzczB2MDcifQ.wqZEBLOXWTEssvFqytsH1A\",\"center\":{\"lat\":37.006509971814495,\"lon\":-98.08087240448985},\"domain\":{\"x\":[0.0,1.0],\"y\":[0.0,1.0]},\"zoom\":3},\"template\":{\"data\":{\"bar\":[{\"error_x\":{\"color\":\"#2a3f5f\"},\"error_y\":{\"color\":\"#2a3f5f\"},\"marker\":{\"line\":{\"color\":\"#E5ECF6\",\"width\":0.5},\"pattern\":{\"fillmode\":\"overlay\",\"size\":10,\"solidity\":0.2}},\"type\":\"bar\"}],\"barpolar\":[{\"marker\":{\"line\":{\"color\":\"#E5ECF6\",\"width\":0.5},\"pattern\":{\"fillmode\":\"overlay\",\"size\":10,\"solidity\":0.2}},\"type\":\"barpolar\"}],\"carpet\":[{\"aaxis\":{\"endlinecolor\":\"#2a3f5f\",\"gridcolor\":\"white\",\"linecolor\":\"white\",\"minorgridcolor\":\"white\",\"startlinecolor\":\"#2a3f5f\"},\"baxis\":{\"endlinecolor\":\"#2a3f5f\",\"gridcolor\":\"white\",\"linecolor\":\"white\",\"minorgridcolor\":\"white\",\"startlinecolor\":\"#2a3f5f\"},\"type\":\"carpet\"}],\"choropleth\":[{\"colorbar\":{\"outlinewidth\":0,\"ticks\":\"\"},\"type\":\"choropleth\"}],\"contour\":[{\"colorbar\":{\"outlinewidth\":0,\"ticks\":\"\"},\"colorscale\":[[0.0,\"#0d0887\"],[0.1111111111111111,\"#46039f\"],[0.2222222222222222,\"#7201a8\"],[0.3333333333333333,\"#9c179e\"],[0.4444444444444444,\"#bd3786\"],[0.5555555555555556,\"#d8576b\"],[0.6666666666666666,\"#ed7953\"],[0.7777777777777778,\"#fb9f3a\"],[0.8888888888888888,\"#fdca26\"],[1.0,\"#f0f921\"]],\"type\":\"contour\"}],\"contourcarpet\":[{\"colorbar\":{\"outlinewidth\":0,\"ticks\":\"\"},\"type\":\"contourcarpet\"}],\"heatmap\":[{\"colorbar\":{\"outlinewidth\":0,\"ticks\":\"\"},\"colorscale\":[[0.0,\"#0d0887\"],[0.1111111111111111,\"#46039f\"],[0.2222222222222222,\"#7201a8\"],[0.3333333333333333,\"#9c179e\"],[0.4444444444444444,\"#bd3786\"],[0.5555555555555556,\"#d8576b\"],[0.6666666666666666,\"#ed7953\"],[0.7777777777777778,\"#fb9f3a\"],[0.8888888888888888,\"#fdca26\"],[1.0,\"#f0f921\"]],\"type\":\"heatmap\"}],\"heatmapgl\":[{\"colorbar\":{\"outlinewidth\":0,\"ticks\":\"\"},\"colorscale\":[[0.0,\"#0d0887\"],[0.1111111111111111,\"#46039f\"],[0.2222222222222222,\"#7201a8\"],[0.3333333333333333,\"#9c179e\"],[0.4444444444444444,\"#bd3786\"],[0.5555555555555556,\"#d8576b\"],[0.6666666666666666,\"#ed7953\"],[0.7777777777777778,\"#fb9f3a\"],[0.8888888888888888,\"#fdca26\"],[1.0,\"#f0f921\"]],\"type\":\"heatmapgl\"}],\"histogram\":[{\"marker\":{\"pattern\":{\"fillmode\":\"overlay\",\"size\":10,\"solidity\":0.2}},\"type\":\"histogram\"}],\"histogram2d\":[{\"colorbar\":{\"outlinewidth\":0,\"ticks\":\"\"},\"colorscale\":[[0.0,\"#0d0887\"],[0.1111111111111111,\"#46039f\"],[0.2222222222222222,\"#7201a8\"],[0.3333333333333333,\"#9c179e\"],[0.4444444444444444,\"#bd3786\"],[0.5555555555555556,\"#d8576b\"],[0.6666666666666666,\"#ed7953\"],[0.7777777777777778,\"#fb9f3a\"],[0.8888888888888888,\"#fdca26\"],[1.0,\"#f0f921\"]],\"type\":\"histogram2d\"}],\"histogram2dcontour\":[{\"colorbar\":{\"outlinewidth\":0,\"ticks\":\"\"},\"colorscale\":[[0.0,\"#0d0887\"],[0.1111111111111111,\"#46039f\"],[0.2222222222222222,\"#7201a8\"],[0.3333333333333333,\"#9c179e\"],[0.4444444444444444,\"#bd3786\"],[0.5555555555555556,\"#d8576b\"],[0.6666666666666666,\"#ed7953\"],[0.7777777777777778,\"#fb9f3a\"],[0.8888888888888888,\"#fdca26\"],[1.0,\"#f0f921\"]],\"type\":\"histogram2dcontour\"}],\"mesh3d\":[{\"colorbar\":{\"outlinewidth\":0,\"ticks\":\"\"},\"type\":\"mesh3d\"}],\"parcoords\":[{\"line\":{\"colorbar\":{\"outlinewidth\":0,\"ticks\":\"\"}},\"type\":\"parcoords\"}],\"pie\":[{\"automargin\":true,\"type\":\"pie\"}],\"scatter\":[{\"marker\":{\"colorbar\":{\"outlinewidth\":0,\"ticks\":\"\"}},\"type\":\"scatter\"}],\"scatter3d\":[{\"line\":{\"colorbar\":{\"outlinewidth\":0,\"ticks\":\"\"}},\"marker\":{\"colorbar\":{\"outlinewidth\":0,\"ticks\":\"\"}},\"type\":\"scatter3d\"}],\"scattercarpet\":[{\"marker\":{\"colorbar\":{\"outlinewidth\":0,\"ticks\":\"\"}},\"type\":\"scattercarpet\"}],\"scattergeo\":[{\"marker\":{\"colorbar\":{\"outlinewidth\":0,\"ticks\":\"\"}},\"type\":\"scattergeo\"}],\"scattergl\":[{\"marker\":{\"colorbar\":{\"outlinewidth\":0,\"ticks\":\"\"}},\"type\":\"scattergl\"}],\"scattermapbox\":[{\"marker\":{\"colorbar\":{\"outlinewidth\":0,\"ticks\":\"\"}},\"type\":\"scattermapbox\"}],\"scatterpolar\":[{\"marker\":{\"colorbar\":{\"outlinewidth\":0,\"ticks\":\"\"}},\"type\":\"scatterpolar\"}],\"scatterpolargl\":[{\"marker\":{\"colorbar\":{\"outlinewidth\":0,\"ticks\":\"\"}},\"type\":\"scatterpolargl\"}],\"scatterternary\":[{\"marker\":{\"colorbar\":{\"outlinewidth\":0,\"ticks\":\"\"}},\"type\":\"scatterternary\"}],\"surface\":[{\"colorbar\":{\"outlinewidth\":0,\"ticks\":\"\"},\"colorscale\":[[0.0,\"#0d0887\"],[0.1111111111111111,\"#46039f\"],[0.2222222222222222,\"#7201a8\"],[0.3333333333333333,\"#9c179e\"],[0.4444444444444444,\"#bd3786\"],[0.5555555555555556,\"#d8576b\"],[0.6666666666666666,\"#ed7953\"],[0.7777777777777778,\"#fb9f3a\"],[0.8888888888888888,\"#fdca26\"],[1.0,\"#f0f921\"]],\"type\":\"surface\"}],\"table\":[{\"cells\":{\"fill\":{\"color\":\"#EBF0F8\"},\"line\":{\"color\":\"white\"}},\"header\":{\"fill\":{\"color\":\"#C8D4E3\"},\"line\":{\"color\":\"white\"}},\"type\":\"table\"}]},\"layout\":{\"annotationdefaults\":{\"arrowcolor\":\"#2a3f5f\",\"arrowhead\":0,\"arrowwidth\":1},\"autotypenumbers\":\"strict\",\"coloraxis\":{\"colorbar\":{\"outlinewidth\":0,\"ticks\":\"\"}},\"colorscale\":{\"diverging\":[[0,\"#8e0152\"],[0.1,\"#c51b7d\"],[0.2,\"#de77ae\"],[0.3,\"#f1b6da\"],[0.4,\"#fde0ef\"],[0.5,\"#f7f7f7\"],[0.6,\"#e6f5d0\"],[0.7,\"#b8e186\"],[0.8,\"#7fbc41\"],[0.9,\"#4d9221\"],[1,\"#276419\"]],\"sequential\":[[0.0,\"#0d0887\"],[0.1111111111111111,\"#46039f\"],[0.2222222222222222,\"#7201a8\"],[0.3333333333333333,\"#9c179e\"],[0.4444444444444444,\"#bd3786\"],[0.5555555555555556,\"#d8576b\"],[0.6666666666666666,\"#ed7953\"],[0.7777777777777778,\"#fb9f3a\"],[0.8888888888888888,\"#fdca26\"],[1.0,\"#f0f921\"]],\"sequentialminus\":[[0.0,\"#0d0887\"],[0.1111111111111111,\"#46039f\"],[0.2222222222222222,\"#7201a8\"],[0.3333333333333333,\"#9c179e\"],[0.4444444444444444,\"#bd3786\"],[0.5555555555555556,\"#d8576b\"],[0.6666666666666666,\"#ed7953\"],[0.7777777777777778,\"#fb9f3a\"],[0.8888888888888888,\"#fdca26\"],[1.0,\"#f0f921\"]]},\"colorway\":[\"#636efa\",\"#EF553B\",\"#00cc96\",\"#ab63fa\",\"#FFA15A\",\"#19d3f3\",\"#FF6692\",\"#B6E880\",\"#FF97FF\",\"#FECB52\"],\"font\":{\"color\":\"#2a3f5f\"},\"geo\":{\"bgcolor\":\"white\",\"lakecolor\":\"white\",\"landcolor\":\"#E5ECF6\",\"showlakes\":true,\"showland\":true,\"subunitcolor\":\"white\"},\"hoverlabel\":{\"align\":\"left\"},\"hovermode\":\"closest\",\"mapbox\":{\"style\":\"light\"},\"paper_bgcolor\":\"white\",\"plot_bgcolor\":\"#E5ECF6\",\"polar\":{\"angularaxis\":{\"gridcolor\":\"white\",\"linecolor\":\"white\",\"ticks\":\"\"},\"bgcolor\":\"#E5ECF6\",\"radialaxis\":{\"gridcolor\":\"white\",\"linecolor\":\"white\",\"ticks\":\"\"}},\"scene\":{\"xaxis\":{\"backgroundcolor\":\"#E5ECF6\",\"gridcolor\":\"white\",\"gridwidth\":2,\"linecolor\":\"white\",\"showbackground\":true,\"ticks\":\"\",\"zerolinecolor\":\"white\"},\"yaxis\":{\"backgroundcolor\":\"#E5ECF6\",\"gridcolor\":\"white\",\"gridwidth\":2,\"linecolor\":\"white\",\"showbackground\":true,\"ticks\":\"\",\"zerolinecolor\":\"white\"},\"zaxis\":{\"backgroundcolor\":\"#E5ECF6\",\"gridcolor\":\"white\",\"gridwidth\":2,\"linecolor\":\"white\",\"showbackground\":true,\"ticks\":\"\",\"zerolinecolor\":\"white\"}},\"shapedefaults\":{\"line\":{\"color\":\"#2a3f5f\"}},\"ternary\":{\"aaxis\":{\"gridcolor\":\"white\",\"linecolor\":\"white\",\"ticks\":\"\"},\"baxis\":{\"gridcolor\":\"white\",\"linecolor\":\"white\",\"ticks\":\"\"},\"bgcolor\":\"#E5ECF6\",\"caxis\":{\"gridcolor\":\"white\",\"linecolor\":\"white\",\"ticks\":\"\"}},\"title\":{\"x\":0.05},\"xaxis\":{\"automargin\":true,\"gridcolor\":\"white\",\"linecolor\":\"white\",\"ticks\":\"\",\"title\":{\"standoff\":15},\"zerolinecolor\":\"white\",\"zerolinewidth\":2},\"yaxis\":{\"automargin\":true,\"gridcolor\":\"white\",\"linecolor\":\"white\",\"ticks\":\"\",\"title\":{\"standoff\":15},\"zerolinecolor\":\"white\",\"zerolinewidth\":2}}},\"title\":{\"text\":\"City Crime\"},\"width\":1000},\"margin\":[5,5,5,5],\"name\":\"Plotly02279\",\"viewport_update_throttle\":200},\"id\":\"1609\",\"type\":\"panel.models.plotly.PlotlyPlot\"},{\"attributes\":{\"end\":8799643.95,\"reset_end\":8799643.95,\"reset_start\":9313.050000000017,\"start\":9313.050000000017,\"tags\":[[[\"pop_2015\",\"pop_2015\",null]]]},\"id\":\"1613\",\"type\":\"Range1d\"},{\"attributes\":{},\"id\":\"1703\",\"type\":\"PanTool\"},{\"attributes\":{},\"id\":\"1704\",\"type\":\"WheelZoomTool\"},{\"attributes\":{},\"id\":\"1626\",\"type\":\"BasicTicker\"},{\"attributes\":{\"tools\":[{\"id\":\"1684\"},{\"id\":\"1702\"},{\"id\":\"1703\"},{\"id\":\"1704\"},{\"id\":\"1705\"},{\"id\":\"1706\"}]},\"id\":\"1708\",\"type\":\"Toolbar\"},{\"attributes\":{\"overlay\":{\"id\":\"1707\"}},\"id\":\"1705\",\"type\":\"BoxZoomTool\"},{\"attributes\":{\"axis\":{\"id\":\"1625\"},\"coordinates\":null,\"grid_line_color\":null,\"group\":null,\"ticker\":null},\"id\":\"1628\",\"type\":\"Grid\"},{\"attributes\":{\"fill_alpha\":{\"value\":0.1},\"fill_color\":{\"value\":\"#30a2da\"},\"hatch_alpha\":{\"value\":0.1},\"hatch_color\":{\"value\":\"#30a2da\"},\"line_alpha\":{\"value\":0.1},\"line_color\":{\"value\":\"#30a2da\"},\"size\":{\"value\":5.477225575051661},\"x\":{\"field\":\"pop_2015\"},\"y\":{\"field\":\"violent_crime\"}},\"id\":\"1650\",\"type\":\"Scatter\"},{\"attributes\":{\"data\":[{\"hovertemplate\":\"pop_2015=%{marker.size}<br>latitude=%{lat}<br>longitude=%{lon}<br>index=%{marker.color}<extra></extra>\",\"legendgroup\":\"\",\"marker\":{\"coloraxis\":\"coloraxis\",\"sizemode\":\"area\",\"sizeref\":21377.1525},\"mode\":\"markers\",\"name\":\"\",\"showlegend\":false,\"subplot\":\"mapbox\",\"type\":\"scattermapbox\"}],\"data_sources\":[{\"id\":\"1606\"}],\"layout\":{\"coloraxis\":{\"colorbar\":{\"title\":{\"text\":\"index\"}},\"colorscale\":[[0.0,\"#000000\"],[0.0625,\"#001f4d\"],[0.125,\"#003786\"],[0.1875,\"#0e58a8\"],[0.25,\"#217eb8\"],[0.3125,\"#30a4ca\"],[0.375,\"#54c8df\"],[0.4375,\"#9be4ef\"],[0.5,\"#e1e9d1\"],[0.5625,\"#f3d573\"],[0.625,\"#e7b000\"],[0.6875,\"#da8200\"],[0.75,\"#c65400\"],[0.8125,\"#ac2301\"],[0.875,\"#820000\"],[0.9375,\"#4c0000\"],[1.0,\"#000000\"]]},\"legend\":{\"itemsizing\":\"constant\",\"tracegroupgap\":0},\"mapbox\":{\"accesstoken\":\"pk.eyJ1Ijoibm9tYWRpY21lIiwiYSI6ImNrajdza3Y3dTF4ODMyenNidHRzczB2MDcifQ.wqZEBLOXWTEssvFqytsH1A\",\"center\":{\"lat\":37.006509971814495,\"lon\":-98.08087240448985},\"domain\":{\"x\":[0.0,1.0],\"y\":[0.0,1.0]},\"zoom\":3},\"template\":{\"data\":{\"bar\":[{\"error_x\":{\"color\":\"#2a3f5f\"},\"error_y\":{\"color\":\"#2a3f5f\"},\"marker\":{\"line\":{\"color\":\"#E5ECF6\",\"width\":0.5},\"pattern\":{\"fillmode\":\"overlay\",\"size\":10,\"solidity\":0.2}},\"type\":\"bar\"}],\"barpolar\":[{\"marker\":{\"line\":{\"color\":\"#E5ECF6\",\"width\":0.5},\"pattern\":{\"fillmode\":\"overlay\",\"size\":10,\"solidity\":0.2}},\"type\":\"barpolar\"}],\"carpet\":[{\"aaxis\":{\"endlinecolor\":\"#2a3f5f\",\"gridcolor\":\"white\",\"linecolor\":\"white\",\"minorgridcolor\":\"white\",\"startlinecolor\":\"#2a3f5f\"},\"baxis\":{\"endlinecolor\":\"#2a3f5f\",\"gridcolor\":\"white\",\"linecolor\":\"white\",\"minorgridcolor\":\"white\",\"startlinecolor\":\"#2a3f5f\"},\"type\":\"carpet\"}],\"choropleth\":[{\"colorbar\":{\"outlinewidth\":0,\"ticks\":\"\"},\"type\":\"choropleth\"}],\"contour\":[{\"colorbar\":{\"outlinewidth\":0,\"ticks\":\"\"},\"colorscale\":[[0.0,\"#0d0887\"],[0.1111111111111111,\"#46039f\"],[0.2222222222222222,\"#7201a8\"],[0.3333333333333333,\"#9c179e\"],[0.4444444444444444,\"#bd3786\"],[0.5555555555555556,\"#d8576b\"],[0.6666666666666666,\"#ed7953\"],[0.7777777777777778,\"#fb9f3a\"],[0.8888888888888888,\"#fdca26\"],[1.0,\"#f0f921\"]],\"type\":\"contour\"}],\"contourcarpet\":[{\"colorbar\":{\"outlinewidth\":0,\"ticks\":\"\"},\"type\":\"contourcarpet\"}],\"heatmap\":[{\"colorbar\":{\"outlinewidth\":0,\"ticks\":\"\"},\"colorscale\":[[0.0,\"#0d0887\"],[0.1111111111111111,\"#46039f\"],[0.2222222222222222,\"#7201a8\"],[0.3333333333333333,\"#9c179e\"],[0.4444444444444444,\"#bd3786\"],[0.5555555555555556,\"#d8576b\"],[0.6666666666666666,\"#ed7953\"],[0.7777777777777778,\"#fb9f3a\"],[0.8888888888888888,\"#fdca26\"],[1.0,\"#f0f921\"]],\"type\":\"heatmap\"}],\"heatmapgl\":[{\"colorbar\":{\"outlinewidth\":0,\"ticks\":\"\"},\"colorscale\":[[0.0,\"#0d0887\"],[0.1111111111111111,\"#46039f\"],[0.2222222222222222,\"#7201a8\"],[0.3333333333333333,\"#9c179e\"],[0.4444444444444444,\"#bd3786\"],[0.5555555555555556,\"#d8576b\"],[0.6666666666666666,\"#ed7953\"],[0.7777777777777778,\"#fb9f3a\"],[0.8888888888888888,\"#fdca26\"],[1.0,\"#f0f921\"]],\"type\":\"heatmapgl\"}],\"histogram\":[{\"marker\":{\"pattern\":{\"fillmode\":\"overlay\",\"size\":10,\"solidity\":0.2}},\"type\":\"histogram\"}],\"histogram2d\":[{\"colorbar\":{\"outlinewidth\":0,\"ticks\":\"\"},\"colorscale\":[[0.0,\"#0d0887\"],[0.1111111111111111,\"#46039f\"],[0.2222222222222222,\"#7201a8\"],[0.3333333333333333,\"#9c179e\"],[0.4444444444444444,\"#bd3786\"],[0.5555555555555556,\"#d8576b\"],[0.6666666666666666,\"#ed7953\"],[0.7777777777777778,\"#fb9f3a\"],[0.8888888888888888,\"#fdca26\"],[1.0,\"#f0f921\"]],\"type\":\"histogram2d\"}],\"histogram2dcontour\":[{\"colorbar\":{\"outlinewidth\":0,\"ticks\":\"\"},\"colorscale\":[[0.0,\"#0d0887\"],[0.1111111111111111,\"#46039f\"],[0.2222222222222222,\"#7201a8\"],[0.3333333333333333,\"#9c179e\"],[0.4444444444444444,\"#bd3786\"],[0.5555555555555556,\"#d8576b\"],[0.6666666666666666,\"#ed7953\"],[0.7777777777777778,\"#fb9f3a\"],[0.8888888888888888,\"#fdca26\"],[1.0,\"#f0f921\"]],\"type\":\"histogram2dcontour\"}],\"mesh3d\":[{\"colorbar\":{\"outlinewidth\":0,\"ticks\":\"\"},\"type\":\"mesh3d\"}],\"parcoords\":[{\"line\":{\"colorbar\":{\"outlinewidth\":0,\"ticks\":\"\"}},\"type\":\"parcoords\"}],\"pie\":[{\"automargin\":true,\"type\":\"pie\"}],\"scatter\":[{\"marker\":{\"colorbar\":{\"outlinewidth\":0,\"ticks\":\"\"}},\"type\":\"scatter\"}],\"scatter3d\":[{\"line\":{\"colorbar\":{\"outlinewidth\":0,\"ticks\":\"\"}},\"marker\":{\"colorbar\":{\"outlinewidth\":0,\"ticks\":\"\"}},\"type\":\"scatter3d\"}],\"scattercarpet\":[{\"marker\":{\"colorbar\":{\"outlinewidth\":0,\"ticks\":\"\"}},\"type\":\"scattercarpet\"}],\"scattergeo\":[{\"marker\":{\"colorbar\":{\"outlinewidth\":0,\"ticks\":\"\"}},\"type\":\"scattergeo\"}],\"scattergl\":[{\"marker\":{\"colorbar\":{\"outlinewidth\":0,\"ticks\":\"\"}},\"type\":\"scattergl\"}],\"scattermapbox\":[{\"marker\":{\"colorbar\":{\"outlinewidth\":0,\"ticks\":\"\"}},\"type\":\"scattermapbox\"}],\"scatterpolar\":[{\"marker\":{\"colorbar\":{\"outlinewidth\":0,\"ticks\":\"\"}},\"type\":\"scatterpolar\"}],\"scatterpolargl\":[{\"marker\":{\"colorbar\":{\"outlinewidth\":0,\"ticks\":\"\"}},\"type\":\"scatterpolargl\"}],\"scatterternary\":[{\"marker\":{\"colorbar\":{\"outlinewidth\":0,\"ticks\":\"\"}},\"type\":\"scatterternary\"}],\"surface\":[{\"colorbar\":{\"outlinewidth\":0,\"ticks\":\"\"},\"colorscale\":[[0.0,\"#0d0887\"],[0.1111111111111111,\"#46039f\"],[0.2222222222222222,\"#7201a8\"],[0.3333333333333333,\"#9c179e\"],[0.4444444444444444,\"#bd3786\"],[0.5555555555555556,\"#d8576b\"],[0.6666666666666666,\"#ed7953\"],[0.7777777777777778,\"#fb9f3a\"],[0.8888888888888888,\"#fdca26\"],[1.0,\"#f0f921\"]],\"type\":\"surface\"}],\"table\":[{\"cells\":{\"fill\":{\"color\":\"#EBF0F8\"},\"line\":{\"color\":\"white\"}},\"header\":{\"fill\":{\"color\":\"#C8D4E3\"},\"line\":{\"color\":\"white\"}},\"type\":\"table\"}]},\"layout\":{\"annotationdefaults\":{\"arrowcolor\":\"#2a3f5f\",\"arrowhead\":0,\"arrowwidth\":1},\"autotypenumbers\":\"strict\",\"coloraxis\":{\"colorbar\":{\"outlinewidth\":0,\"ticks\":\"\"}},\"colorscale\":{\"diverging\":[[0,\"#8e0152\"],[0.1,\"#c51b7d\"],[0.2,\"#de77ae\"],[0.3,\"#f1b6da\"],[0.4,\"#fde0ef\"],[0.5,\"#f7f7f7\"],[0.6,\"#e6f5d0\"],[0.7,\"#b8e186\"],[0.8,\"#7fbc41\"],[0.9,\"#4d9221\"],[1,\"#276419\"]],\"sequential\":[[0.0,\"#0d0887\"],[0.1111111111111111,\"#46039f\"],[0.2222222222222222,\"#7201a8\"],[0.3333333333333333,\"#9c179e\"],[0.4444444444444444,\"#bd3786\"],[0.5555555555555556,\"#d8576b\"],[0.6666666666666666,\"#ed7953\"],[0.7777777777777778,\"#fb9f3a\"],[0.8888888888888888,\"#fdca26\"],[1.0,\"#f0f921\"]],\"sequentialminus\":[[0.0,\"#0d0887\"],[0.1111111111111111,\"#46039f\"],[0.2222222222222222,\"#7201a8\"],[0.3333333333333333,\"#9c179e\"],[0.4444444444444444,\"#bd3786\"],[0.5555555555555556,\"#d8576b\"],[0.6666666666666666,\"#ed7953\"],[0.7777777777777778,\"#fb9f3a\"],[0.8888888888888888,\"#fdca26\"],[1.0,\"#f0f921\"]]},\"colorway\":[\"#636efa\",\"#EF553B\",\"#00cc96\",\"#ab63fa\",\"#FFA15A\",\"#19d3f3\",\"#FF6692\",\"#B6E880\",\"#FF97FF\",\"#FECB52\"],\"font\":{\"color\":\"#2a3f5f\"},\"geo\":{\"bgcolor\":\"white\",\"lakecolor\":\"white\",\"landcolor\":\"#E5ECF6\",\"showlakes\":true,\"showland\":true,\"subunitcolor\":\"white\"},\"hoverlabel\":{\"align\":\"left\"},\"hovermode\":\"closest\",\"mapbox\":{\"style\":\"light\"},\"paper_bgcolor\":\"white\",\"plot_bgcolor\":\"#E5ECF6\",\"polar\":{\"angularaxis\":{\"gridcolor\":\"white\",\"linecolor\":\"white\",\"ticks\":\"\"},\"bgcolor\":\"#E5ECF6\",\"radialaxis\":{\"gridcolor\":\"white\",\"linecolor\":\"white\",\"ticks\":\"\"}},\"scene\":{\"xaxis\":{\"backgroundcolor\":\"#E5ECF6\",\"gridcolor\":\"white\",\"gridwidth\":2,\"linecolor\":\"white\",\"showbackground\":true,\"ticks\":\"\",\"zerolinecolor\":\"white\"},\"yaxis\":{\"backgroundcolor\":\"#E5ECF6\",\"gridcolor\":\"white\",\"gridwidth\":2,\"linecolor\":\"white\",\"showbackground\":true,\"ticks\":\"\",\"zerolinecolor\":\"white\"},\"zaxis\":{\"backgroundcolor\":\"#E5ECF6\",\"gridcolor\":\"white\",\"gridwidth\":2,\"linecolor\":\"white\",\"showbackground\":true,\"ticks\":\"\",\"zerolinecolor\":\"white\"}},\"shapedefaults\":{\"line\":{\"color\":\"#2a3f5f\"}},\"ternary\":{\"aaxis\":{\"gridcolor\":\"white\",\"linecolor\":\"white\",\"ticks\":\"\"},\"baxis\":{\"gridcolor\":\"white\",\"linecolor\":\"white\",\"ticks\":\"\"},\"bgcolor\":\"#E5ECF6\",\"caxis\":{\"gridcolor\":\"white\",\"linecolor\":\"white\",\"ticks\":\"\"}},\"title\":{\"x\":0.05},\"xaxis\":{\"automargin\":true,\"gridcolor\":\"white\",\"linecolor\":\"white\",\"ticks\":\"\",\"title\":{\"standoff\":15},\"zerolinecolor\":\"white\",\"zerolinewidth\":2},\"yaxis\":{\"automargin\":true,\"gridcolor\":\"white\",\"linecolor\":\"white\",\"ticks\":\"\",\"title\":{\"standoff\":15},\"zerolinecolor\":\"white\",\"zerolinewidth\":2}}},\"title\":{\"text\":\"City Population\"},\"width\":1000},\"margin\":[5,5,5,5],\"name\":\"Plotly02277\",\"viewport_update_throttle\":200},\"id\":\"1607\",\"type\":\"panel.models.plotly.PlotlyPlot\"},{\"attributes\":{},\"id\":\"1706\",\"type\":\"ResetTool\"},{\"attributes\":{},\"id\":\"1658\",\"type\":\"AllLabels\"},{\"attributes\":{\"end\":55053.5,\"reset_end\":55053.5,\"reset_start\":-4532.5,\"start\":-4532.5,\"tags\":[[[\"violent_crime\",\"violent_crime\",null]]]},\"id\":\"1614\",\"type\":\"Range1d\"},{\"attributes\":{\"bottom_units\":\"screen\",\"coordinates\":null,\"fill_alpha\":0.5,\"fill_color\":\"lightgrey\",\"group\":null,\"left_units\":\"screen\",\"level\":\"overlay\",\"line_alpha\":1.0,\"line_color\":\"black\",\"line_dash\":[4,4],\"line_width\":2,\"right_units\":\"screen\",\"syncable\":false,\"top_units\":\"screen\"},\"id\":\"1707\",\"type\":\"BoxAnnotation\"},{\"attributes\":{},\"id\":\"1647\",\"type\":\"Selection\"},{\"attributes\":{\"coordinates\":null,\"data_source\":{\"id\":\"1715\"},\"glyph\":{\"id\":\"1718\"},\"group\":null,\"hover_glyph\":null,\"muted_glyph\":{\"id\":\"1720\"},\"nonselection_glyph\":{\"id\":\"1719\"},\"selection_glyph\":{\"id\":\"1723\"},\"view\":{\"id\":\"1722\"}},\"id\":\"1721\",\"type\":\"GlyphRenderer\"},{\"attributes\":{\"data\":{\"pop_2015\":{\"__ndarray__\":\"AAAAANIUIUEAAAAAfFQVQQAAAADcYhJBAAAAALSnF0EAAAAAGF0cQQAAAAC0/BVBAAAAANClLEEAAAAA/NEWQQAAAACI9SJBAAAAAFRNJEEAAAAAgIEPQQAAAADyySpBAAAAgHvRREEAAAAAuDcSQQAAAADonBtBAAAAAALfKUEAAAAAmMsTQQAAAADZ3TNBAAAAAGTTJEEAAAAAkoskQQAAAAD67yRBAAAAAAC0D0EAAAAARlIpQQAAAAAUyh9BAAAAAPhzEUEAAAAA6D4RQQAAAIDKW0FBAAAAAHZbKkEAAAAAdHcqQQAAAAB05BxBAAAAABbWN0EAAAAAdCsTQQAAAACk4RBBAAAAAHgSHUEAAAAAsztOQQAAAADMxCRBAAAAACAUJEEAAAAA6L8cQQAAAABEuxpBAAAAAKBSIkEAAAAAnDwZQQAAAADaFCRBAAAAAJwDGEEAAACgOU9gQQAAAABkmhlBAAAAALo+I0EAAAAAcJobQQAAAABC7DdBAAAAAMDMN0EAAAAA2LoSQQAAAABgRRFBAAAAAOC3E0EAAAAA1OMdQQAAAAAiVTZBAAAAAJNeNUEAAAAATFwqQQAAAABEei9BAAAAAGCWFEEAAAAAaN0kQQAAAACcWhNBAAAAAMRaEkEAAAAA6JsSQQAAAAB8PRZBAAAAAAAQEUEAAAAAFiogQQAAAADAgRhBAAAAAPSiG0EAAAAAyIMkQQAAAAAAyxdB\",\"dtype\":\"float64\",\"order\":\"little\",\"shape\":[69]},\"violent_crime\":{\"__ndarray__\":\"AAAAAAAetUAAAAAAANyTQAAAAAAANKlAAAAAAABonkAAAAAAAFO0QAAAAAAA8JlAAAAAAABSq0AAAAAAAEicQAAAAAAAo8JAAAAAAABeskAAAAAAAI6mQAAAAAAAPLdAAAAAAMAV2EAAAAAAAJKlQAAAAAAA/J5AAAAAAAAXskAAAAAAAFigQAAAAAAAp8FAAAAAAAD3sUAAAAAAACPHQAAAAAAApqNAAAAAAADAjkAAAAAAAAexQAAAAAAAbqZAAAAAAACsmkAAAAAAAMB9QAAAAACAetVAAAAAAAC6xUAAAAAAAPa1QAAAAAAANbpAAAAAAIAXzEAAAAAAAFCQQAAAAAAABJBAAAAAAACcpUAAAAAAAJHYQAAAAAAAzLBAAAAAAIBcxkAAAAAAANCeQAAAAAAAebFAAAAAAIC3wkAAAAAAACuxQAAAAAAATbxAAAAAAAAwrUAAAAAAAHXoQAAAAAAAo7dAAAAAAADcskAAAAAAADKiQAAAAAAAgs9AAAAAAIAWwkAAAAAAAO6gQAAAAAAAEHtAAAAAAACElkAAAAAAADasQAAAAAAAycBAAAAAAADOtUAAAAAAADa6QAAAAAAAkKpAAAAAAABomUAAAAAAAPqvQAAAAAAAgrZAAAAAAACGoEAAAAAAABqwQAAAAAAA9KFAAAAAAACoqEAAAAAAACCrQAAAAAAAWKxAAAAAAACQg0AAAAAAAJS/QAAAAAAA/q1A\",\"dtype\":\"float64\",\"order\":\"little\",\"shape\":[69]}},\"selected\":{\"id\":\"1647\"},\"selection_policy\":{\"id\":\"1670\"}},\"id\":\"1646\",\"type\":\"ColumnDataSource\"},{\"attributes\":{\"overlay\":{\"id\":\"1638\"}},\"id\":\"1636\",\"type\":\"BoxZoomTool\"},{\"attributes\":{},\"id\":\"1635\",\"type\":\"WheelZoomTool\"},{\"attributes\":{\"css_classes\":[\"markdown\"],\"margin\":[5,5,5,5],\"name\":\"Markdown02275\",\"text\":\"&lt;h2&gt;Population and Crime Geo Plots&lt;/h2&gt;\"},\"id\":\"1605\",\"type\":\"panel.models.markup.HTML\"},{\"attributes\":{\"data\":{\"lat\":[{\"__ndarray__\":\"oScKmdCKQUAdSTjj6upAQNZa8z7pm05A0ova/SpeQEBe7c0U399AQF+URQZe3UNAPgeWI2REPkB2rRgJyK9BQLSgQVQrpUNAh/B5D+EtRUBq0rcWd3FFQM5s/C4RnUFAqcKf4c3sREB5C8NHrY5DQDpe3KG8akNAtRt9zAf7Q0B4vY/+8sw7QI55eCo7ZEBAP1zNlZzeQ0B1AS8zbCpFQOLT93U7wj9AnByZoreQRECunL0z2lxAQDIqX4a1X0JAqYO8HkwJQkBg2KvZFAVCQLqS041mwz1A6kFBKVriQ0DRQl3/CVU+QEjFWtfDjENA5KHvbmUWQkBMrVLVXwZDQMyhoG9mZkRA6uEV0iviQEDKXTqcrwZBQO+0kNuKIENArBCg8COTQUDE0OrkDLZAQElpkUg2xjlAx53SwfqERUAUG5iBb31GQE2eV+E7FUJAbi8O02P0PUAJhT6YeGFEQOJnEqv15kJAOzJuXFq8QUBAN48eGqFEQAfr/xzm+UNAPmO6a2S5QEA957hkZjhEQJDG/DeKgkBAkReIVAf6QEDkYrHycEpDQHMEukCTbD1A2u8/6I9bQEBSms3jMONCQHMdmf1wq0JAgKN48G7fQEAjg9xFmM1HQLaT0n1KUENAjMEebuJ4RkDXqU33lfpCQOxAjMaQ8jtA6oci7vvUREBjz0MSYhxAQF9VegQ3FEJA+zJisCxtQkDBoQEGk3JDQChOSTGb2EJA\",\"dtype\":\"float64\",\"order\":\"little\",\"shape\":[69]}],\"lon\":[{\"__ndarray__\":\"bO5DOaypWsDBhBs6h3pdwBOKYxPPvGLApnT6i+pGWMAc2yG01BhVwOZZSSs+NVrAIrziTo5vWMCx4emVMsFdwIOdBxwuJ1PAWMv4UtPDUcC01DAyN7hTwGQYHMr1NVTAIkz2dJrpVcBiSNlh5iFVwGhIyzeRNFrAzxuCPuy/VMBf8GlOXllYwGzRXW2gM1jApNBoYQU/WsC8qlih7cJUwFCZUeIpn1rAb1HBPD9IVcDSu8LMiFRYwIACOXJu8V3AI4+Wua/yU8BKr3IN2L5cwGgEG9c/11fAnnhzXR2KVcC+pZwv9mlUwH/DnzwHpVfAlFD6QsjIXMBQyM7bWB1VwJSPk3ivKljA91BHbByMXcDcAY2ImI9dwJ9W0R+acFXA6OltfSKDVsD+1xQjpvRbwBSFTOhkDFTA/qvYqQP6VcBFQM+w4lBXwHRkQFE0slXAGjbK+s2EVsAQqnbEz35SwP6qbdRUkV7AqAPaz5JiWMDUnLzIBPxXwHOc24R7ylLAyYvxBr0EXMD/oU+avP9TwE3pqoq6LFjAeIZfoFpZXcDzSTg+pF9ewInYu5qXn1jAReixdxBKXcDf+xu015pewAX4bvNGeV7AQlfHlop3XcA4feKlQJVewHNvNDaqjFbA4KNZNPhFV8ADFgoinFJewLyE+eFWnVTAMZbpl4jjVMCSW5NuS7tbwOAlqEkPAVjAob5lTpf+UsBYbDjRU0JTwNU7gVWaVVjA\",\"dtype\":\"float64\",\"order\":\"little\",\"shape\":[69]}],\"marker.color\":[[0,1,2,3,4,5,6,7,8,9,10,11,12,13,14,15,16,17,18,19,20,21,22,23,24,25,26,27,28,29,30,31,32,33,34,35,36,37,38,39,40,41,42,43,44,45,46,47,48,49,50,51,52,53,54,55,56,57,58,59,60,61,62,63,64,65,66,67,68]],\"marker.size\":[{\"__ndarray__\":\"AAAAAAAetUAAAAAAANyTQAAAAAAANKlAAAAAAABonkAAAAAAAFO0QAAAAAAA8JlAAAAAAABSq0AAAAAAAEicQAAAAAAAo8JAAAAAAABeskAAAAAAAI6mQAAAAAAAPLdAAAAAAMAV2EAAAAAAAJKlQAAAAAAA/J5AAAAAAAAXskAAAAAAAFigQAAAAAAAp8FAAAAAAAD3sUAAAAAAACPHQAAAAAAApqNAAAAAAADAjkAAAAAAAAexQAAAAAAAbqZAAAAAAACsmkAAAAAAAMB9QAAAAACAetVAAAAAAAC6xUAAAAAAAPa1QAAAAAAANbpAAAAAAIAXzEAAAAAAAFCQQAAAAAAABJBAAAAAAACcpUAAAAAAAJHYQAAAAAAAzLBAAAAAAIBcxkAAAAAAANCeQAAAAAAAebFAAAAAAIC3wkAAAAAAACuxQAAAAAAATbxAAAAAAAAwrUAAAAAAAHXoQAAAAAAAo7dAAAAAAADcskAAAAAAADKiQAAAAAAAgs9AAAAAAIAWwkAAAAAAAO6gQAAAAAAAEHtAAAAAAACElkAAAAAAADasQAAAAAAAycBAAAAAAADOtUAAAAAAADa6QAAAAAAAkKpAAAAAAABomUAAAAAAAPqvQAAAAAAAgrZAAAAAAACGoEAAAAAAABqwQAAAAAAA9KFAAAAAAACoqEAAAAAAACCrQAAAAAAAWKxAAAAAAACQg0AAAAAAAJS/QAAAAAAA/q1A\",\"dtype\":\"float64\",\"order\":\"little\",\"shape\":[69]}]},\"selected\":{\"id\":\"1757\"},\"selection_policy\":{\"id\":\"1756\"}},\"id\":\"1608\",\"type\":\"ColumnDataSource\"}],\"root_ids\":[\"1603\",\"1938\"]},\"title\":\"Bokeh Application\",\"version\":\"2.4.1\"}};\n",
       "    var render_items = [{\"docid\":\"f2c4deee-5f23-414c-bb0c-6cb5ada2bf05\",\"root_ids\":[\"1603\"],\"roots\":{\"1603\":\"ef19b689-78f8-4533-bbc2-c4fb65c4ba8b\"}}];\n",
       "    root.Bokeh.embed.embed_items_notebook(docs_json, render_items);\n",
       "  }\n",
       "  if (root.Bokeh !== undefined && root.Bokeh.Panel !== undefined && ( root['Plotly'] !== undefined)) {\n",
       "    embed_document(root);\n",
       "  } else {\n",
       "    var attempts = 0;\n",
       "    var timer = setInterval(function(root) {\n",
       "      if (root.Bokeh !== undefined && root.Bokeh.Panel !== undefined && (root['Plotly'] !== undefined)) {\n",
       "        clearInterval(timer);\n",
       "        embed_document(root);\n",
       "      } else if (document.readyState == \"complete\") {\n",
       "        attempts++;\n",
       "        if (attempts > 200) {\n",
       "          clearInterval(timer);\n",
       "          console.log(\"Bokeh: ERROR: Unable to run BokehJS code because BokehJS library is missing\");\n",
       "        }\n",
       "      }\n",
       "    }, 25, root)\n",
       "  }\n",
       "})(window);</script>"
      ],
      "text/plain": [
       "Tabs\n",
       "    [0] Column\n",
       "        [0] Markdown(str)\n",
       "        [1] Plotly(Figure)\n",
       "        [2] Plotly(Figure)\n",
       "    [1] Column\n",
       "        [0] Markdown(str)\n",
       "        [1] HoloViews(Scatter)\n",
       "        [2] HoloViews(Scatter)"
      ]
     },
     "execution_count": 16,
     "metadata": {
      "application/vnd.holoviews_exec.v0+json": {
       "id": "1603"
      }
     },
     "output_type": "execute_result"
    }
   ],
   "source": [
    "# Create Panel column for Plotly map plots\n",
    "geo_column = pn.Column(\"## Population and Crime Geo Plots\", population_plot, crime_plot)\n",
    "\n",
    "# Create Panel column for hv scatter plots\n",
    "scatter_column = pn.Column(\n",
    "    \"## Correlation of Population and Crime Plots\", population_violence, violent_murder\n",
    ")\n",
    "# Add columns to Tab panel\n",
    "crime_pop_dashboard = pn.Tabs(\n",
    "    (\n",
    "        \"Geospatial\",\n",
    "        geo_column\n",
    "    ),\n",
    "    (\n",
    "        \"Correlations\",\n",
    "        scatter_column\n",
    "    )\n",
    ")\n",
    "\n",
    "crime_pop_dashboard"
   ]
  },
  {
   "cell_type": "code",
   "execution_count": 17,
   "metadata": {},
   "outputs": [
    {
     "data": {},
     "metadata": {},
     "output_type": "display_data"
    },
    {
     "data": {
      "application/vnd.holoviews_exec.v0+json": "",
      "text/html": [
       "<div id='2049'>\n",
       "\n",
       "\n",
       "\n",
       "\n",
       "\n",
       "  <div class=\"bk-root\" id=\"cb4f8412-da69-4da8-9f71-206df9a8ea4b\" data-root-id=\"2049\"></div>\n",
       "</div>\n",
       "<script type=\"application/javascript\">(function(root) {\n",
       "  function embed_document(root) {\n",
       "    var docs_json = {\"1763436f-7eaf-45c9-81c9-1b541f11992b\":{\"defs\":[{\"extends\":null,\"module\":null,\"name\":\"ReactiveHTML1\",\"overrides\":[],\"properties\":[]},{\"extends\":null,\"module\":null,\"name\":\"FlexBox1\",\"overrides\":[],\"properties\":[{\"default\":\"flex-start\",\"kind\":null,\"name\":\"align_content\"},{\"default\":\"flex-start\",\"kind\":null,\"name\":\"align_items\"},{\"default\":\"row\",\"kind\":null,\"name\":\"flex_direction\"},{\"default\":\"wrap\",\"kind\":null,\"name\":\"flex_wrap\"},{\"default\":\"flex-start\",\"kind\":null,\"name\":\"justify_content\"}]},{\"extends\":null,\"module\":null,\"name\":\"TemplateActions1\",\"overrides\":[],\"properties\":[{\"default\":0,\"kind\":null,\"name\":\"open_modal\"},{\"default\":0,\"kind\":null,\"name\":\"close_modal\"}]},{\"extends\":null,\"module\":null,\"name\":\"MaterialTemplateActions1\",\"overrides\":[],\"properties\":[{\"default\":0,\"kind\":null,\"name\":\"open_modal\"},{\"default\":0,\"kind\":null,\"name\":\"close_modal\"}]}],\"roots\":{\"references\":[{\"attributes\":{\"children\":[{\"id\":\"2050\"},{\"id\":\"2052\"},{\"id\":\"2054\"}],\"margin\":[0,0,0,0],\"name\":\"Column02281\"},\"id\":\"2049\",\"type\":\"Column\"},{\"attributes\":{\"client_comm_id\":\"6eecbcc773924d8f83e66e265223447c\",\"comm_id\":\"beadb2270d024632843b002b4bf40633\",\"plot_id\":\"2049\"},\"id\":\"2079\",\"type\":\"panel.models.comm_manager.CommManager\"},{\"attributes\":{\"data\":[{\"hovertemplate\":\"pop_2015=%{marker.size}<br>latitude=%{lat}<br>longitude=%{lon}<br>index=%{marker.color}<extra></extra>\",\"legendgroup\":\"\",\"marker\":{\"coloraxis\":\"coloraxis\",\"sizemode\":\"area\",\"sizeref\":21377.1525},\"mode\":\"markers\",\"name\":\"\",\"showlegend\":false,\"subplot\":\"mapbox\",\"type\":\"scattermapbox\"}],\"data_sources\":[{\"id\":\"2051\"}],\"layout\":{\"coloraxis\":{\"colorbar\":{\"title\":{\"text\":\"index\"}},\"colorscale\":[[0.0,\"#000000\"],[0.0625,\"#001f4d\"],[0.125,\"#003786\"],[0.1875,\"#0e58a8\"],[0.25,\"#217eb8\"],[0.3125,\"#30a4ca\"],[0.375,\"#54c8df\"],[0.4375,\"#9be4ef\"],[0.5,\"#e1e9d1\"],[0.5625,\"#f3d573\"],[0.625,\"#e7b000\"],[0.6875,\"#da8200\"],[0.75,\"#c65400\"],[0.8125,\"#ac2301\"],[0.875,\"#820000\"],[0.9375,\"#4c0000\"],[1.0,\"#000000\"]]},\"legend\":{\"itemsizing\":\"constant\",\"tracegroupgap\":0},\"mapbox\":{\"accesstoken\":\"pk.eyJ1Ijoibm9tYWRpY21lIiwiYSI6ImNrajdza3Y3dTF4ODMyenNidHRzczB2MDcifQ.wqZEBLOXWTEssvFqytsH1A\",\"center\":{\"lat\":37.006509971814495,\"lon\":-98.08087240448985},\"domain\":{\"x\":[0.0,1.0],\"y\":[0.0,1.0]},\"zoom\":3},\"template\":{\"data\":{\"bar\":[{\"error_x\":{\"color\":\"#2a3f5f\"},\"error_y\":{\"color\":\"#2a3f5f\"},\"marker\":{\"line\":{\"color\":\"#E5ECF6\",\"width\":0.5},\"pattern\":{\"fillmode\":\"overlay\",\"size\":10,\"solidity\":0.2}},\"type\":\"bar\"}],\"barpolar\":[{\"marker\":{\"line\":{\"color\":\"#E5ECF6\",\"width\":0.5},\"pattern\":{\"fillmode\":\"overlay\",\"size\":10,\"solidity\":0.2}},\"type\":\"barpolar\"}],\"carpet\":[{\"aaxis\":{\"endlinecolor\":\"#2a3f5f\",\"gridcolor\":\"white\",\"linecolor\":\"white\",\"minorgridcolor\":\"white\",\"startlinecolor\":\"#2a3f5f\"},\"baxis\":{\"endlinecolor\":\"#2a3f5f\",\"gridcolor\":\"white\",\"linecolor\":\"white\",\"minorgridcolor\":\"white\",\"startlinecolor\":\"#2a3f5f\"},\"type\":\"carpet\"}],\"choropleth\":[{\"colorbar\":{\"outlinewidth\":0,\"ticks\":\"\"},\"type\":\"choropleth\"}],\"contour\":[{\"colorbar\":{\"outlinewidth\":0,\"ticks\":\"\"},\"colorscale\":[[0.0,\"#0d0887\"],[0.1111111111111111,\"#46039f\"],[0.2222222222222222,\"#7201a8\"],[0.3333333333333333,\"#9c179e\"],[0.4444444444444444,\"#bd3786\"],[0.5555555555555556,\"#d8576b\"],[0.6666666666666666,\"#ed7953\"],[0.7777777777777778,\"#fb9f3a\"],[0.8888888888888888,\"#fdca26\"],[1.0,\"#f0f921\"]],\"type\":\"contour\"}],\"contourcarpet\":[{\"colorbar\":{\"outlinewidth\":0,\"ticks\":\"\"},\"type\":\"contourcarpet\"}],\"heatmap\":[{\"colorbar\":{\"outlinewidth\":0,\"ticks\":\"\"},\"colorscale\":[[0.0,\"#0d0887\"],[0.1111111111111111,\"#46039f\"],[0.2222222222222222,\"#7201a8\"],[0.3333333333333333,\"#9c179e\"],[0.4444444444444444,\"#bd3786\"],[0.5555555555555556,\"#d8576b\"],[0.6666666666666666,\"#ed7953\"],[0.7777777777777778,\"#fb9f3a\"],[0.8888888888888888,\"#fdca26\"],[1.0,\"#f0f921\"]],\"type\":\"heatmap\"}],\"heatmapgl\":[{\"colorbar\":{\"outlinewidth\":0,\"ticks\":\"\"},\"colorscale\":[[0.0,\"#0d0887\"],[0.1111111111111111,\"#46039f\"],[0.2222222222222222,\"#7201a8\"],[0.3333333333333333,\"#9c179e\"],[0.4444444444444444,\"#bd3786\"],[0.5555555555555556,\"#d8576b\"],[0.6666666666666666,\"#ed7953\"],[0.7777777777777778,\"#fb9f3a\"],[0.8888888888888888,\"#fdca26\"],[1.0,\"#f0f921\"]],\"type\":\"heatmapgl\"}],\"histogram\":[{\"marker\":{\"pattern\":{\"fillmode\":\"overlay\",\"size\":10,\"solidity\":0.2}},\"type\":\"histogram\"}],\"histogram2d\":[{\"colorbar\":{\"outlinewidth\":0,\"ticks\":\"\"},\"colorscale\":[[0.0,\"#0d0887\"],[0.1111111111111111,\"#46039f\"],[0.2222222222222222,\"#7201a8\"],[0.3333333333333333,\"#9c179e\"],[0.4444444444444444,\"#bd3786\"],[0.5555555555555556,\"#d8576b\"],[0.6666666666666666,\"#ed7953\"],[0.7777777777777778,\"#fb9f3a\"],[0.8888888888888888,\"#fdca26\"],[1.0,\"#f0f921\"]],\"type\":\"histogram2d\"}],\"histogram2dcontour\":[{\"colorbar\":{\"outlinewidth\":0,\"ticks\":\"\"},\"colorscale\":[[0.0,\"#0d0887\"],[0.1111111111111111,\"#46039f\"],[0.2222222222222222,\"#7201a8\"],[0.3333333333333333,\"#9c179e\"],[0.4444444444444444,\"#bd3786\"],[0.5555555555555556,\"#d8576b\"],[0.6666666666666666,\"#ed7953\"],[0.7777777777777778,\"#fb9f3a\"],[0.8888888888888888,\"#fdca26\"],[1.0,\"#f0f921\"]],\"type\":\"histogram2dcontour\"}],\"mesh3d\":[{\"colorbar\":{\"outlinewidth\":0,\"ticks\":\"\"},\"type\":\"mesh3d\"}],\"parcoords\":[{\"line\":{\"colorbar\":{\"outlinewidth\":0,\"ticks\":\"\"}},\"type\":\"parcoords\"}],\"pie\":[{\"automargin\":true,\"type\":\"pie\"}],\"scatter\":[{\"marker\":{\"colorbar\":{\"outlinewidth\":0,\"ticks\":\"\"}},\"type\":\"scatter\"}],\"scatter3d\":[{\"line\":{\"colorbar\":{\"outlinewidth\":0,\"ticks\":\"\"}},\"marker\":{\"colorbar\":{\"outlinewidth\":0,\"ticks\":\"\"}},\"type\":\"scatter3d\"}],\"scattercarpet\":[{\"marker\":{\"colorbar\":{\"outlinewidth\":0,\"ticks\":\"\"}},\"type\":\"scattercarpet\"}],\"scattergeo\":[{\"marker\":{\"colorbar\":{\"outlinewidth\":0,\"ticks\":\"\"}},\"type\":\"scattergeo\"}],\"scattergl\":[{\"marker\":{\"colorbar\":{\"outlinewidth\":0,\"ticks\":\"\"}},\"type\":\"scattergl\"}],\"scattermapbox\":[{\"marker\":{\"colorbar\":{\"outlinewidth\":0,\"ticks\":\"\"}},\"type\":\"scattermapbox\"}],\"scatterpolar\":[{\"marker\":{\"colorbar\":{\"outlinewidth\":0,\"ticks\":\"\"}},\"type\":\"scatterpolar\"}],\"scatterpolargl\":[{\"marker\":{\"colorbar\":{\"outlinewidth\":0,\"ticks\":\"\"}},\"type\":\"scatterpolargl\"}],\"scatterternary\":[{\"marker\":{\"colorbar\":{\"outlinewidth\":0,\"ticks\":\"\"}},\"type\":\"scatterternary\"}],\"surface\":[{\"colorbar\":{\"outlinewidth\":0,\"ticks\":\"\"},\"colorscale\":[[0.0,\"#0d0887\"],[0.1111111111111111,\"#46039f\"],[0.2222222222222222,\"#7201a8\"],[0.3333333333333333,\"#9c179e\"],[0.4444444444444444,\"#bd3786\"],[0.5555555555555556,\"#d8576b\"],[0.6666666666666666,\"#ed7953\"],[0.7777777777777778,\"#fb9f3a\"],[0.8888888888888888,\"#fdca26\"],[1.0,\"#f0f921\"]],\"type\":\"surface\"}],\"table\":[{\"cells\":{\"fill\":{\"color\":\"#EBF0F8\"},\"line\":{\"color\":\"white\"}},\"header\":{\"fill\":{\"color\":\"#C8D4E3\"},\"line\":{\"color\":\"white\"}},\"type\":\"table\"}]},\"layout\":{\"annotationdefaults\":{\"arrowcolor\":\"#2a3f5f\",\"arrowhead\":0,\"arrowwidth\":1},\"autotypenumbers\":\"strict\",\"coloraxis\":{\"colorbar\":{\"outlinewidth\":0,\"ticks\":\"\"}},\"colorscale\":{\"diverging\":[[0,\"#8e0152\"],[0.1,\"#c51b7d\"],[0.2,\"#de77ae\"],[0.3,\"#f1b6da\"],[0.4,\"#fde0ef\"],[0.5,\"#f7f7f7\"],[0.6,\"#e6f5d0\"],[0.7,\"#b8e186\"],[0.8,\"#7fbc41\"],[0.9,\"#4d9221\"],[1,\"#276419\"]],\"sequential\":[[0.0,\"#0d0887\"],[0.1111111111111111,\"#46039f\"],[0.2222222222222222,\"#7201a8\"],[0.3333333333333333,\"#9c179e\"],[0.4444444444444444,\"#bd3786\"],[0.5555555555555556,\"#d8576b\"],[0.6666666666666666,\"#ed7953\"],[0.7777777777777778,\"#fb9f3a\"],[0.8888888888888888,\"#fdca26\"],[1.0,\"#f0f921\"]],\"sequentialminus\":[[0.0,\"#0d0887\"],[0.1111111111111111,\"#46039f\"],[0.2222222222222222,\"#7201a8\"],[0.3333333333333333,\"#9c179e\"],[0.4444444444444444,\"#bd3786\"],[0.5555555555555556,\"#d8576b\"],[0.6666666666666666,\"#ed7953\"],[0.7777777777777778,\"#fb9f3a\"],[0.8888888888888888,\"#fdca26\"],[1.0,\"#f0f921\"]]},\"colorway\":[\"#636efa\",\"#EF553B\",\"#00cc96\",\"#ab63fa\",\"#FFA15A\",\"#19d3f3\",\"#FF6692\",\"#B6E880\",\"#FF97FF\",\"#FECB52\"],\"font\":{\"color\":\"#2a3f5f\"},\"geo\":{\"bgcolor\":\"white\",\"lakecolor\":\"white\",\"landcolor\":\"#E5ECF6\",\"showlakes\":true,\"showland\":true,\"subunitcolor\":\"white\"},\"hoverlabel\":{\"align\":\"left\"},\"hovermode\":\"closest\",\"mapbox\":{\"style\":\"light\"},\"paper_bgcolor\":\"white\",\"plot_bgcolor\":\"#E5ECF6\",\"polar\":{\"angularaxis\":{\"gridcolor\":\"white\",\"linecolor\":\"white\",\"ticks\":\"\"},\"bgcolor\":\"#E5ECF6\",\"radialaxis\":{\"gridcolor\":\"white\",\"linecolor\":\"white\",\"ticks\":\"\"}},\"scene\":{\"xaxis\":{\"backgroundcolor\":\"#E5ECF6\",\"gridcolor\":\"white\",\"gridwidth\":2,\"linecolor\":\"white\",\"showbackground\":true,\"ticks\":\"\",\"zerolinecolor\":\"white\"},\"yaxis\":{\"backgroundcolor\":\"#E5ECF6\",\"gridcolor\":\"white\",\"gridwidth\":2,\"linecolor\":\"white\",\"showbackground\":true,\"ticks\":\"\",\"zerolinecolor\":\"white\"},\"zaxis\":{\"backgroundcolor\":\"#E5ECF6\",\"gridcolor\":\"white\",\"gridwidth\":2,\"linecolor\":\"white\",\"showbackground\":true,\"ticks\":\"\",\"zerolinecolor\":\"white\"}},\"shapedefaults\":{\"line\":{\"color\":\"#2a3f5f\"}},\"ternary\":{\"aaxis\":{\"gridcolor\":\"white\",\"linecolor\":\"white\",\"ticks\":\"\"},\"baxis\":{\"gridcolor\":\"white\",\"linecolor\":\"white\",\"ticks\":\"\"},\"bgcolor\":\"#E5ECF6\",\"caxis\":{\"gridcolor\":\"white\",\"linecolor\":\"white\",\"ticks\":\"\"}},\"title\":{\"x\":0.05},\"xaxis\":{\"automargin\":true,\"gridcolor\":\"white\",\"linecolor\":\"white\",\"ticks\":\"\",\"title\":{\"standoff\":15},\"zerolinecolor\":\"white\",\"zerolinewidth\":2},\"yaxis\":{\"automargin\":true,\"gridcolor\":\"white\",\"linecolor\":\"white\",\"ticks\":\"\",\"title\":{\"standoff\":15},\"zerolinecolor\":\"white\",\"zerolinewidth\":2}}},\"title\":{\"text\":\"City Population\"},\"width\":1000},\"margin\":[5,5,5,5],\"name\":\"Plotly02277\",\"viewport_update_throttle\":200},\"id\":\"2052\",\"type\":\"panel.models.plotly.PlotlyPlot\"},{\"attributes\":{\"data\":{\"lat\":[{\"__ndarray__\":\"oScKmdCKQUAdSTjj6upAQNZa8z7pm05A0ova/SpeQEBe7c0U399AQF+URQZe3UNAPgeWI2REPkB2rRgJyK9BQLSgQVQrpUNAh/B5D+EtRUBq0rcWd3FFQM5s/C4RnUFAqcKf4c3sREB5C8NHrY5DQDpe3KG8akNAtRt9zAf7Q0B4vY/+8sw7QI55eCo7ZEBAP1zNlZzeQ0B1AS8zbCpFQOLT93U7wj9AnByZoreQRECunL0z2lxAQDIqX4a1X0JAqYO8HkwJQkBg2KvZFAVCQLqS041mwz1A6kFBKVriQ0DRQl3/CVU+QEjFWtfDjENA5KHvbmUWQkBMrVLVXwZDQMyhoG9mZkRA6uEV0iviQEDKXTqcrwZBQO+0kNuKIENArBCg8COTQUDE0OrkDLZAQElpkUg2xjlAx53SwfqERUAUG5iBb31GQE2eV+E7FUJAbi8O02P0PUAJhT6YeGFEQOJnEqv15kJAOzJuXFq8QUBAN48eGqFEQAfr/xzm+UNAPmO6a2S5QEA957hkZjhEQJDG/DeKgkBAkReIVAf6QEDkYrHycEpDQHMEukCTbD1A2u8/6I9bQEBSms3jMONCQHMdmf1wq0JAgKN48G7fQEAjg9xFmM1HQLaT0n1KUENAjMEebuJ4RkDXqU33lfpCQOxAjMaQ8jtA6oci7vvUREBjz0MSYhxAQF9VegQ3FEJA+zJisCxtQkDBoQEGk3JDQChOSTGb2EJA\",\"dtype\":\"float64\",\"order\":\"little\",\"shape\":[69]}],\"lon\":[{\"__ndarray__\":\"bO5DOaypWsDBhBs6h3pdwBOKYxPPvGLApnT6i+pGWMAc2yG01BhVwOZZSSs+NVrAIrziTo5vWMCx4emVMsFdwIOdBxwuJ1PAWMv4UtPDUcC01DAyN7hTwGQYHMr1NVTAIkz2dJrpVcBiSNlh5iFVwGhIyzeRNFrAzxuCPuy/VMBf8GlOXllYwGzRXW2gM1jApNBoYQU/WsC8qlih7cJUwFCZUeIpn1rAb1HBPD9IVcDSu8LMiFRYwIACOXJu8V3AI4+Wua/yU8BKr3IN2L5cwGgEG9c/11fAnnhzXR2KVcC+pZwv9mlUwH/DnzwHpVfAlFD6QsjIXMBQyM7bWB1VwJSPk3ivKljA91BHbByMXcDcAY2ImI9dwJ9W0R+acFXA6OltfSKDVsD+1xQjpvRbwBSFTOhkDFTA/qvYqQP6VcBFQM+w4lBXwHRkQFE0slXAGjbK+s2EVsAQqnbEz35SwP6qbdRUkV7AqAPaz5JiWMDUnLzIBPxXwHOc24R7ylLAyYvxBr0EXMD/oU+avP9TwE3pqoq6LFjAeIZfoFpZXcDzSTg+pF9ewInYu5qXn1jAReixdxBKXcDf+xu015pewAX4bvNGeV7AQlfHlop3XcA4feKlQJVewHNvNDaqjFbA4KNZNPhFV8ADFgoinFJewLyE+eFWnVTAMZbpl4jjVMCSW5NuS7tbwOAlqEkPAVjAob5lTpf+UsBYbDjRU0JTwNU7gVWaVVjA\",\"dtype\":\"float64\",\"order\":\"little\",\"shape\":[69]}],\"marker.color\":[[0,1,2,3,4,5,6,7,8,9,10,11,12,13,14,15,16,17,18,19,20,21,22,23,24,25,26,27,28,29,30,31,32,33,34,35,36,37,38,39,40,41,42,43,44,45,46,47,48,49,50,51,52,53,54,55,56,57,58,59,60,61,62,63,64,65,66,67,68]],\"marker.size\":[{\"__ndarray__\":\"AAAAAAAetUAAAAAAANyTQAAAAAAANKlAAAAAAABonkAAAAAAAFO0QAAAAAAA8JlAAAAAAABSq0AAAAAAAEicQAAAAAAAo8JAAAAAAABeskAAAAAAAI6mQAAAAAAAPLdAAAAAAMAV2EAAAAAAAJKlQAAAAAAA/J5AAAAAAAAXskAAAAAAAFigQAAAAAAAp8FAAAAAAAD3sUAAAAAAACPHQAAAAAAApqNAAAAAAADAjkAAAAAAAAexQAAAAAAAbqZAAAAAAACsmkAAAAAAAMB9QAAAAACAetVAAAAAAAC6xUAAAAAAAPa1QAAAAAAANbpAAAAAAIAXzEAAAAAAAFCQQAAAAAAABJBAAAAAAACcpUAAAAAAAJHYQAAAAAAAzLBAAAAAAIBcxkAAAAAAANCeQAAAAAAAebFAAAAAAIC3wkAAAAAAACuxQAAAAAAATbxAAAAAAAAwrUAAAAAAAHXoQAAAAAAAo7dAAAAAAADcskAAAAAAADKiQAAAAAAAgs9AAAAAAIAWwkAAAAAAAO6gQAAAAAAAEHtAAAAAAACElkAAAAAAADasQAAAAAAAycBAAAAAAADOtUAAAAAAADa6QAAAAAAAkKpAAAAAAABomUAAAAAAAPqvQAAAAAAAgrZAAAAAAACGoEAAAAAAABqwQAAAAAAA9KFAAAAAAACoqEAAAAAAACCrQAAAAAAAWKxAAAAAAACQg0AAAAAAAJS/QAAAAAAA/q1A\",\"dtype\":\"float64\",\"order\":\"little\",\"shape\":[69]}]},\"selected\":{\"id\":\"2058\"},\"selection_policy\":{\"id\":\"2057\"}},\"id\":\"2053\",\"type\":\"ColumnDataSource\"},{\"attributes\":{},\"id\":\"2058\",\"type\":\"Selection\"},{\"attributes\":{},\"id\":\"2055\",\"type\":\"UnionRenderers\"},{\"attributes\":{},\"id\":\"2056\",\"type\":\"Selection\"},{\"attributes\":{},\"id\":\"2057\",\"type\":\"UnionRenderers\"},{\"attributes\":{\"data\":{\"lat\":[{\"__ndarray__\":\"oScKmdCKQUAdSTjj6upAQNZa8z7pm05A0ova/SpeQEBe7c0U399AQF+URQZe3UNAPgeWI2REPkB2rRgJyK9BQLSgQVQrpUNAh/B5D+EtRUBq0rcWd3FFQM5s/C4RnUFAqcKf4c3sREB5C8NHrY5DQDpe3KG8akNAtRt9zAf7Q0B4vY/+8sw7QI55eCo7ZEBAP1zNlZzeQ0B1AS8zbCpFQOLT93U7wj9AnByZoreQRECunL0z2lxAQDIqX4a1X0JAqYO8HkwJQkBg2KvZFAVCQLqS041mwz1A6kFBKVriQ0DRQl3/CVU+QEjFWtfDjENA5KHvbmUWQkBMrVLVXwZDQMyhoG9mZkRA6uEV0iviQEDKXTqcrwZBQO+0kNuKIENArBCg8COTQUDE0OrkDLZAQElpkUg2xjlAx53SwfqERUAUG5iBb31GQE2eV+E7FUJAbi8O02P0PUAJhT6YeGFEQOJnEqv15kJAOzJuXFq8QUBAN48eGqFEQAfr/xzm+UNAPmO6a2S5QEA957hkZjhEQJDG/DeKgkBAkReIVAf6QEDkYrHycEpDQHMEukCTbD1A2u8/6I9bQEBSms3jMONCQHMdmf1wq0JAgKN48G7fQEAjg9xFmM1HQLaT0n1KUENAjMEebuJ4RkDXqU33lfpCQOxAjMaQ8jtA6oci7vvUREBjz0MSYhxAQF9VegQ3FEJA+zJisCxtQkDBoQEGk3JDQChOSTGb2EJA\",\"dtype\":\"float64\",\"order\":\"little\",\"shape\":[69]}],\"lon\":[{\"__ndarray__\":\"bO5DOaypWsDBhBs6h3pdwBOKYxPPvGLApnT6i+pGWMAc2yG01BhVwOZZSSs+NVrAIrziTo5vWMCx4emVMsFdwIOdBxwuJ1PAWMv4UtPDUcC01DAyN7hTwGQYHMr1NVTAIkz2dJrpVcBiSNlh5iFVwGhIyzeRNFrAzxuCPuy/VMBf8GlOXllYwGzRXW2gM1jApNBoYQU/WsC8qlih7cJUwFCZUeIpn1rAb1HBPD9IVcDSu8LMiFRYwIACOXJu8V3AI4+Wua/yU8BKr3IN2L5cwGgEG9c/11fAnnhzXR2KVcC+pZwv9mlUwH/DnzwHpVfAlFD6QsjIXMBQyM7bWB1VwJSPk3ivKljA91BHbByMXcDcAY2ImI9dwJ9W0R+acFXA6OltfSKDVsD+1xQjpvRbwBSFTOhkDFTA/qvYqQP6VcBFQM+w4lBXwHRkQFE0slXAGjbK+s2EVsAQqnbEz35SwP6qbdRUkV7AqAPaz5JiWMDUnLzIBPxXwHOc24R7ylLAyYvxBr0EXMD/oU+avP9TwE3pqoq6LFjAeIZfoFpZXcDzSTg+pF9ewInYu5qXn1jAReixdxBKXcDf+xu015pewAX4bvNGeV7AQlfHlop3XcA4feKlQJVewHNvNDaqjFbA4KNZNPhFV8ADFgoinFJewLyE+eFWnVTAMZbpl4jjVMCSW5NuS7tbwOAlqEkPAVjAob5lTpf+UsBYbDjRU0JTwNU7gVWaVVjA\",\"dtype\":\"float64\",\"order\":\"little\",\"shape\":[69]}],\"marker.color\":[[0,1,2,3,4,5,6,7,8,9,10,11,12,13,14,15,16,17,18,19,20,21,22,23,24,25,26,27,28,29,30,31,32,33,34,35,36,37,38,39,40,41,42,43,44,45,46,47,48,49,50,51,52,53,54,55,56,57,58,59,60,61,62,63,64,65,66,67,68]],\"marker.size\":[{\"__ndarray__\":\"AAAAANIUIUEAAAAAfFQVQQAAAADcYhJBAAAAALSnF0EAAAAAGF0cQQAAAAC0/BVBAAAAANClLEEAAAAA/NEWQQAAAACI9SJBAAAAAFRNJEEAAAAAgIEPQQAAAADyySpBAAAAgHvRREEAAAAAuDcSQQAAAADonBtBAAAAAALfKUEAAAAAmMsTQQAAAADZ3TNBAAAAAGTTJEEAAAAAkoskQQAAAAD67yRBAAAAAAC0D0EAAAAARlIpQQAAAAAUyh9BAAAAAPhzEUEAAAAA6D4RQQAAAIDKW0FBAAAAAHZbKkEAAAAAdHcqQQAAAAB05BxBAAAAABbWN0EAAAAAdCsTQQAAAACk4RBBAAAAAHgSHUEAAAAAsztOQQAAAADMxCRBAAAAACAUJEEAAAAA6L8cQQAAAABEuxpBAAAAAKBSIkEAAAAAnDwZQQAAAADaFCRBAAAAAJwDGEEAAACgOU9gQQAAAABkmhlBAAAAALo+I0EAAAAAcJobQQAAAABC7DdBAAAAAMDMN0EAAAAA2LoSQQAAAABgRRFBAAAAAOC3E0EAAAAA1OMdQQAAAAAiVTZBAAAAAJNeNUEAAAAATFwqQQAAAABEei9BAAAAAGCWFEEAAAAAaN0kQQAAAACcWhNBAAAAAMRaEkEAAAAA6JsSQQAAAAB8PRZBAAAAAAAQEUEAAAAAFiogQQAAAADAgRhBAAAAAPSiG0EAAAAAyIMkQQAAAAAAyxdB\",\"dtype\":\"float64\",\"order\":\"little\",\"shape\":[69]}]},\"selected\":{\"id\":\"2056\"},\"selection_policy\":{\"id\":\"2055\"}},\"id\":\"2051\",\"type\":\"ColumnDataSource\"},{\"attributes\":{\"css_classes\":[\"markdown\"],\"margin\":[5,5,5,5],\"name\":\"Markdown02275\",\"text\":\"&lt;h2&gt;Population and Crime Geo Plots&lt;/h2&gt;\"},\"id\":\"2050\",\"type\":\"panel.models.markup.HTML\"},{\"attributes\":{\"data\":[{\"hovertemplate\":\"violent_crime=%{marker.size}<br>latitude=%{lat}<br>longitude=%{lon}<br>index=%{marker.color}<extra></extra>\",\"legendgroup\":\"\",\"marker\":{\"coloraxis\":\"coloraxis\",\"sizemode\":\"area\",\"sizeref\":125.22},\"mode\":\"markers\",\"name\":\"\",\"showlegend\":false,\"subplot\":\"mapbox\",\"type\":\"scattermapbox\"}],\"data_sources\":[{\"id\":\"2053\"}],\"layout\":{\"coloraxis\":{\"colorbar\":{\"title\":{\"text\":\"index\"}},\"colorscale\":[[0.0,\"#000000\"],[0.0625,\"#001f4d\"],[0.125,\"#003786\"],[0.1875,\"#0e58a8\"],[0.25,\"#217eb8\"],[0.3125,\"#30a4ca\"],[0.375,\"#54c8df\"],[0.4375,\"#9be4ef\"],[0.5,\"#e1e9d1\"],[0.5625,\"#f3d573\"],[0.625,\"#e7b000\"],[0.6875,\"#da8200\"],[0.75,\"#c65400\"],[0.8125,\"#ac2301\"],[0.875,\"#820000\"],[0.9375,\"#4c0000\"],[1.0,\"#000000\"]]},\"legend\":{\"itemsizing\":\"constant\",\"tracegroupgap\":0},\"mapbox\":{\"accesstoken\":\"pk.eyJ1Ijoibm9tYWRpY21lIiwiYSI6ImNrajdza3Y3dTF4ODMyenNidHRzczB2MDcifQ.wqZEBLOXWTEssvFqytsH1A\",\"center\":{\"lat\":37.006509971814495,\"lon\":-98.08087240448985},\"domain\":{\"x\":[0.0,1.0],\"y\":[0.0,1.0]},\"zoom\":3},\"template\":{\"data\":{\"bar\":[{\"error_x\":{\"color\":\"#2a3f5f\"},\"error_y\":{\"color\":\"#2a3f5f\"},\"marker\":{\"line\":{\"color\":\"#E5ECF6\",\"width\":0.5},\"pattern\":{\"fillmode\":\"overlay\",\"size\":10,\"solidity\":0.2}},\"type\":\"bar\"}],\"barpolar\":[{\"marker\":{\"line\":{\"color\":\"#E5ECF6\",\"width\":0.5},\"pattern\":{\"fillmode\":\"overlay\",\"size\":10,\"solidity\":0.2}},\"type\":\"barpolar\"}],\"carpet\":[{\"aaxis\":{\"endlinecolor\":\"#2a3f5f\",\"gridcolor\":\"white\",\"linecolor\":\"white\",\"minorgridcolor\":\"white\",\"startlinecolor\":\"#2a3f5f\"},\"baxis\":{\"endlinecolor\":\"#2a3f5f\",\"gridcolor\":\"white\",\"linecolor\":\"white\",\"minorgridcolor\":\"white\",\"startlinecolor\":\"#2a3f5f\"},\"type\":\"carpet\"}],\"choropleth\":[{\"colorbar\":{\"outlinewidth\":0,\"ticks\":\"\"},\"type\":\"choropleth\"}],\"contour\":[{\"colorbar\":{\"outlinewidth\":0,\"ticks\":\"\"},\"colorscale\":[[0.0,\"#0d0887\"],[0.1111111111111111,\"#46039f\"],[0.2222222222222222,\"#7201a8\"],[0.3333333333333333,\"#9c179e\"],[0.4444444444444444,\"#bd3786\"],[0.5555555555555556,\"#d8576b\"],[0.6666666666666666,\"#ed7953\"],[0.7777777777777778,\"#fb9f3a\"],[0.8888888888888888,\"#fdca26\"],[1.0,\"#f0f921\"]],\"type\":\"contour\"}],\"contourcarpet\":[{\"colorbar\":{\"outlinewidth\":0,\"ticks\":\"\"},\"type\":\"contourcarpet\"}],\"heatmap\":[{\"colorbar\":{\"outlinewidth\":0,\"ticks\":\"\"},\"colorscale\":[[0.0,\"#0d0887\"],[0.1111111111111111,\"#46039f\"],[0.2222222222222222,\"#7201a8\"],[0.3333333333333333,\"#9c179e\"],[0.4444444444444444,\"#bd3786\"],[0.5555555555555556,\"#d8576b\"],[0.6666666666666666,\"#ed7953\"],[0.7777777777777778,\"#fb9f3a\"],[0.8888888888888888,\"#fdca26\"],[1.0,\"#f0f921\"]],\"type\":\"heatmap\"}],\"heatmapgl\":[{\"colorbar\":{\"outlinewidth\":0,\"ticks\":\"\"},\"colorscale\":[[0.0,\"#0d0887\"],[0.1111111111111111,\"#46039f\"],[0.2222222222222222,\"#7201a8\"],[0.3333333333333333,\"#9c179e\"],[0.4444444444444444,\"#bd3786\"],[0.5555555555555556,\"#d8576b\"],[0.6666666666666666,\"#ed7953\"],[0.7777777777777778,\"#fb9f3a\"],[0.8888888888888888,\"#fdca26\"],[1.0,\"#f0f921\"]],\"type\":\"heatmapgl\"}],\"histogram\":[{\"marker\":{\"pattern\":{\"fillmode\":\"overlay\",\"size\":10,\"solidity\":0.2}},\"type\":\"histogram\"}],\"histogram2d\":[{\"colorbar\":{\"outlinewidth\":0,\"ticks\":\"\"},\"colorscale\":[[0.0,\"#0d0887\"],[0.1111111111111111,\"#46039f\"],[0.2222222222222222,\"#7201a8\"],[0.3333333333333333,\"#9c179e\"],[0.4444444444444444,\"#bd3786\"],[0.5555555555555556,\"#d8576b\"],[0.6666666666666666,\"#ed7953\"],[0.7777777777777778,\"#fb9f3a\"],[0.8888888888888888,\"#fdca26\"],[1.0,\"#f0f921\"]],\"type\":\"histogram2d\"}],\"histogram2dcontour\":[{\"colorbar\":{\"outlinewidth\":0,\"ticks\":\"\"},\"colorscale\":[[0.0,\"#0d0887\"],[0.1111111111111111,\"#46039f\"],[0.2222222222222222,\"#7201a8\"],[0.3333333333333333,\"#9c179e\"],[0.4444444444444444,\"#bd3786\"],[0.5555555555555556,\"#d8576b\"],[0.6666666666666666,\"#ed7953\"],[0.7777777777777778,\"#fb9f3a\"],[0.8888888888888888,\"#fdca26\"],[1.0,\"#f0f921\"]],\"type\":\"histogram2dcontour\"}],\"mesh3d\":[{\"colorbar\":{\"outlinewidth\":0,\"ticks\":\"\"},\"type\":\"mesh3d\"}],\"parcoords\":[{\"line\":{\"colorbar\":{\"outlinewidth\":0,\"ticks\":\"\"}},\"type\":\"parcoords\"}],\"pie\":[{\"automargin\":true,\"type\":\"pie\"}],\"scatter\":[{\"marker\":{\"colorbar\":{\"outlinewidth\":0,\"ticks\":\"\"}},\"type\":\"scatter\"}],\"scatter3d\":[{\"line\":{\"colorbar\":{\"outlinewidth\":0,\"ticks\":\"\"}},\"marker\":{\"colorbar\":{\"outlinewidth\":0,\"ticks\":\"\"}},\"type\":\"scatter3d\"}],\"scattercarpet\":[{\"marker\":{\"colorbar\":{\"outlinewidth\":0,\"ticks\":\"\"}},\"type\":\"scattercarpet\"}],\"scattergeo\":[{\"marker\":{\"colorbar\":{\"outlinewidth\":0,\"ticks\":\"\"}},\"type\":\"scattergeo\"}],\"scattergl\":[{\"marker\":{\"colorbar\":{\"outlinewidth\":0,\"ticks\":\"\"}},\"type\":\"scattergl\"}],\"scattermapbox\":[{\"marker\":{\"colorbar\":{\"outlinewidth\":0,\"ticks\":\"\"}},\"type\":\"scattermapbox\"}],\"scatterpolar\":[{\"marker\":{\"colorbar\":{\"outlinewidth\":0,\"ticks\":\"\"}},\"type\":\"scatterpolar\"}],\"scatterpolargl\":[{\"marker\":{\"colorbar\":{\"outlinewidth\":0,\"ticks\":\"\"}},\"type\":\"scatterpolargl\"}],\"scatterternary\":[{\"marker\":{\"colorbar\":{\"outlinewidth\":0,\"ticks\":\"\"}},\"type\":\"scatterternary\"}],\"surface\":[{\"colorbar\":{\"outlinewidth\":0,\"ticks\":\"\"},\"colorscale\":[[0.0,\"#0d0887\"],[0.1111111111111111,\"#46039f\"],[0.2222222222222222,\"#7201a8\"],[0.3333333333333333,\"#9c179e\"],[0.4444444444444444,\"#bd3786\"],[0.5555555555555556,\"#d8576b\"],[0.6666666666666666,\"#ed7953\"],[0.7777777777777778,\"#fb9f3a\"],[0.8888888888888888,\"#fdca26\"],[1.0,\"#f0f921\"]],\"type\":\"surface\"}],\"table\":[{\"cells\":{\"fill\":{\"color\":\"#EBF0F8\"},\"line\":{\"color\":\"white\"}},\"header\":{\"fill\":{\"color\":\"#C8D4E3\"},\"line\":{\"color\":\"white\"}},\"type\":\"table\"}]},\"layout\":{\"annotationdefaults\":{\"arrowcolor\":\"#2a3f5f\",\"arrowhead\":0,\"arrowwidth\":1},\"autotypenumbers\":\"strict\",\"coloraxis\":{\"colorbar\":{\"outlinewidth\":0,\"ticks\":\"\"}},\"colorscale\":{\"diverging\":[[0,\"#8e0152\"],[0.1,\"#c51b7d\"],[0.2,\"#de77ae\"],[0.3,\"#f1b6da\"],[0.4,\"#fde0ef\"],[0.5,\"#f7f7f7\"],[0.6,\"#e6f5d0\"],[0.7,\"#b8e186\"],[0.8,\"#7fbc41\"],[0.9,\"#4d9221\"],[1,\"#276419\"]],\"sequential\":[[0.0,\"#0d0887\"],[0.1111111111111111,\"#46039f\"],[0.2222222222222222,\"#7201a8\"],[0.3333333333333333,\"#9c179e\"],[0.4444444444444444,\"#bd3786\"],[0.5555555555555556,\"#d8576b\"],[0.6666666666666666,\"#ed7953\"],[0.7777777777777778,\"#fb9f3a\"],[0.8888888888888888,\"#fdca26\"],[1.0,\"#f0f921\"]],\"sequentialminus\":[[0.0,\"#0d0887\"],[0.1111111111111111,\"#46039f\"],[0.2222222222222222,\"#7201a8\"],[0.3333333333333333,\"#9c179e\"],[0.4444444444444444,\"#bd3786\"],[0.5555555555555556,\"#d8576b\"],[0.6666666666666666,\"#ed7953\"],[0.7777777777777778,\"#fb9f3a\"],[0.8888888888888888,\"#fdca26\"],[1.0,\"#f0f921\"]]},\"colorway\":[\"#636efa\",\"#EF553B\",\"#00cc96\",\"#ab63fa\",\"#FFA15A\",\"#19d3f3\",\"#FF6692\",\"#B6E880\",\"#FF97FF\",\"#FECB52\"],\"font\":{\"color\":\"#2a3f5f\"},\"geo\":{\"bgcolor\":\"white\",\"lakecolor\":\"white\",\"landcolor\":\"#E5ECF6\",\"showlakes\":true,\"showland\":true,\"subunitcolor\":\"white\"},\"hoverlabel\":{\"align\":\"left\"},\"hovermode\":\"closest\",\"mapbox\":{\"style\":\"light\"},\"paper_bgcolor\":\"white\",\"plot_bgcolor\":\"#E5ECF6\",\"polar\":{\"angularaxis\":{\"gridcolor\":\"white\",\"linecolor\":\"white\",\"ticks\":\"\"},\"bgcolor\":\"#E5ECF6\",\"radialaxis\":{\"gridcolor\":\"white\",\"linecolor\":\"white\",\"ticks\":\"\"}},\"scene\":{\"xaxis\":{\"backgroundcolor\":\"#E5ECF6\",\"gridcolor\":\"white\",\"gridwidth\":2,\"linecolor\":\"white\",\"showbackground\":true,\"ticks\":\"\",\"zerolinecolor\":\"white\"},\"yaxis\":{\"backgroundcolor\":\"#E5ECF6\",\"gridcolor\":\"white\",\"gridwidth\":2,\"linecolor\":\"white\",\"showbackground\":true,\"ticks\":\"\",\"zerolinecolor\":\"white\"},\"zaxis\":{\"backgroundcolor\":\"#E5ECF6\",\"gridcolor\":\"white\",\"gridwidth\":2,\"linecolor\":\"white\",\"showbackground\":true,\"ticks\":\"\",\"zerolinecolor\":\"white\"}},\"shapedefaults\":{\"line\":{\"color\":\"#2a3f5f\"}},\"ternary\":{\"aaxis\":{\"gridcolor\":\"white\",\"linecolor\":\"white\",\"ticks\":\"\"},\"baxis\":{\"gridcolor\":\"white\",\"linecolor\":\"white\",\"ticks\":\"\"},\"bgcolor\":\"#E5ECF6\",\"caxis\":{\"gridcolor\":\"white\",\"linecolor\":\"white\",\"ticks\":\"\"}},\"title\":{\"x\":0.05},\"xaxis\":{\"automargin\":true,\"gridcolor\":\"white\",\"linecolor\":\"white\",\"ticks\":\"\",\"title\":{\"standoff\":15},\"zerolinecolor\":\"white\",\"zerolinewidth\":2},\"yaxis\":{\"automargin\":true,\"gridcolor\":\"white\",\"linecolor\":\"white\",\"ticks\":\"\",\"title\":{\"standoff\":15},\"zerolinecolor\":\"white\",\"zerolinewidth\":2}}},\"title\":{\"text\":\"City Crime\"},\"width\":1000},\"margin\":[5,5,5,5],\"name\":\"Plotly02279\",\"viewport_update_throttle\":200},\"id\":\"2054\",\"type\":\"panel.models.plotly.PlotlyPlot\"}],\"root_ids\":[\"2049\",\"2079\"]},\"title\":\"Bokeh Application\",\"version\":\"2.4.1\"}};\n",
       "    var render_items = [{\"docid\":\"1763436f-7eaf-45c9-81c9-1b541f11992b\",\"root_ids\":[\"2049\"],\"roots\":{\"2049\":\"cb4f8412-da69-4da8-9f71-206df9a8ea4b\"}}];\n",
       "    root.Bokeh.embed.embed_items_notebook(docs_json, render_items);\n",
       "  }\n",
       "  if (root.Bokeh !== undefined && root.Bokeh.Panel !== undefined && ( root['Plotly'] !== undefined)) {\n",
       "    embed_document(root);\n",
       "  } else {\n",
       "    var attempts = 0;\n",
       "    var timer = setInterval(function(root) {\n",
       "      if (root.Bokeh !== undefined && root.Bokeh.Panel !== undefined && (root['Plotly'] !== undefined)) {\n",
       "        clearInterval(timer);\n",
       "        embed_document(root);\n",
       "      } else if (document.readyState == \"complete\") {\n",
       "        attempts++;\n",
       "        if (attempts > 200) {\n",
       "          clearInterval(timer);\n",
       "          console.log(\"Bokeh: ERROR: Unable to run BokehJS code because BokehJS library is missing\");\n",
       "        }\n",
       "      }\n",
       "    }, 25, root)\n",
       "  }\n",
       "})(window);</script>"
      ],
      "text/plain": [
       "Column\n",
       "    [0] Markdown(str)\n",
       "    [1] Plotly(Figure)\n",
       "    [2] Plotly(Figure)"
      ]
     },
     "execution_count": 17,
     "metadata": {
      "application/vnd.holoviews_exec.v0+json": {
       "id": "2049"
      }
     },
     "output_type": "execute_result"
    }
   ],
   "source": [
    "geo_column"
   ]
  },
  {
   "cell_type": "code",
   "execution_count": null,
   "metadata": {},
   "outputs": [],
   "source": []
  }
 ],
 "metadata": {
  "kernelspec": {
   "display_name": "Python [conda env:pyvizenv]",
   "language": "python",
   "name": "conda-env-pyvizenv-py"
  },
  "language_info": {
   "codemirror_mode": {
    "name": "ipython",
    "version": 3
   },
   "file_extension": ".py",
   "mimetype": "text/x-python",
   "name": "python",
   "nbconvert_exporter": "python",
   "pygments_lexer": "ipython3",
   "version": "3.7.11"
  }
 },
 "nbformat": 4,
 "nbformat_minor": 4
}
