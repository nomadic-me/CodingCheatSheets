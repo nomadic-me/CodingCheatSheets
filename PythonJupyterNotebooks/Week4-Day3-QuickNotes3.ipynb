{
 "cells": [
  {
   "cell_type": "markdown",
   "id": "7e80cd67-0af9-41ed-8db8-3e48a12f55f9",
   "metadata": {},
   "source": [
    "# Most Frequent Element\n",
    "\n",
    "Write a function that finds the most frequent element in an array.\n",
    "\n",
    "```python\n",
    "num_list = [1, 2, 2, 3]\n",
    "\n",
    "most_frequent(num_list) # Should return 2\n",
    "```"
   ]
  },
  {
   "cell_type": "code",
   "execution_count": 114,
   "id": "a0ca9708-848f-43d5-80f7-f511bbdb272e",
   "metadata": {},
   "outputs": [],
   "source": [
    "num_list = [1,2,2,3,3,3]"
   ]
  },
  {
   "cell_type": "code",
   "execution_count": 115,
   "id": "49fbedcc-2726-44d8-866f-c2a6a528586f",
   "metadata": {},
   "outputs": [
    {
     "data": {
      "text/plain": [
       "[(1, 1), (2, 2), (3, 3)]"
      ]
     },
     "execution_count": 115,
     "metadata": {},
     "output_type": "execute_result"
    }
   ],
   "source": [
    "from collections import Counter\n",
    "temp_tuples = list(Counter(num_list).items())\n",
    "temp_tuples"
   ]
  },
  {
   "cell_type": "code",
   "execution_count": 116,
   "id": "e70fc961-3a81-4ded-a97e-71567ac0dadf",
   "metadata": {},
   "outputs": [],
   "source": [
    "#max(Conunter(num_lists), key=stats.get)\n",
    "#temp_list.sort()"
   ]
  },
  {
   "cell_type": "code",
   "execution_count": 117,
   "id": "bf414d91-af82-4ccd-89d4-9eaf4afeb82e",
   "metadata": {},
   "outputs": [
    {
     "data": {
      "text/plain": [
       "[(1, 1), (2, 2), (3, 3)]"
      ]
     },
     "execution_count": 117,
     "metadata": {},
     "output_type": "execute_result"
    }
   ],
   "source": [
    "temp_tuples"
   ]
  },
  {
   "cell_type": "code",
   "execution_count": 118,
   "id": "57e88a5b-d713-4205-ba9c-57b742d479e9",
   "metadata": {},
   "outputs": [
    {
     "data": {
      "text/plain": [
       "tuple"
      ]
     },
     "execution_count": 118,
     "metadata": {},
     "output_type": "execute_result"
    }
   ],
   "source": [
    "type(temp_tuples[1])\n"
   ]
  },
  {
   "cell_type": "code",
   "execution_count": 119,
   "id": "fc349d3e-1c93-447d-8677-edc92dae92b5",
   "metadata": {},
   "outputs": [],
   "source": [
    "temp_lists = [list(x) for x in temp_tuples]"
   ]
  },
  {
   "cell_type": "code",
   "execution_count": 120,
   "id": "0415252c-c828-4f85-b0ae-ae64b095ab0b",
   "metadata": {},
   "outputs": [
    {
     "data": {
      "text/plain": [
       "[[1, 1], [2, 2], [3, 3]]"
      ]
     },
     "execution_count": 120,
     "metadata": {},
     "output_type": "execute_result"
    }
   ],
   "source": [
    "temp_lists"
   ]
  },
  {
   "cell_type": "code",
   "execution_count": 121,
   "id": "02555553-109d-4ce1-8719-808ab63b5551",
   "metadata": {},
   "outputs": [
    {
     "data": {
      "text/plain": [
       "[[1, 2, 3], [1, 2, 3]]"
      ]
     },
     "execution_count": 121,
     "metadata": {},
     "output_type": "execute_result"
    }
   ],
   "source": [
    "temp_lists = list(map(list, zip(*temp_lists))) # short circuits at shortest nested list if table is jagged:\n",
    "\n",
    "temp_lists"
   ]
  },
  {
   "cell_type": "code",
   "execution_count": 122,
   "id": "7d7d9b7c-38a0-4b80-828e-79ebe697b66b",
   "metadata": {},
   "outputs": [
    {
     "data": {
      "text/plain": [
       "3"
      ]
     },
     "execution_count": 122,
     "metadata": {},
     "output_type": "execute_result"
    }
   ],
   "source": [
    "new_list_order1 = temp_lists[1]\n",
    "new_list_order2 = temp_lists[1]\n",
    "new_list_order1.sort()\n",
    "new_list_order1[-1]"
   ]
  },
  {
   "cell_type": "code",
   "execution_count": 123,
   "id": "da511131-bc2e-4508-b46f-21eabd53b0b2",
   "metadata": {},
   "outputs": [
    {
     "name": "stdout",
     "output_type": "stream",
     "text": [
      "3\n",
      "1\n",
      "2\n"
     ]
    }
   ],
   "source": [
    "print(new_list_order1[-1])\n",
    "print(new_list_order2.index(new_list_order[-1]))\n",
    "print( temp_lists[0][(temp_lists[0].index(new_list_order2.index(new_list_order1[-1])))])\n",
    "#print(temp_lists[1][new_list_order2.index(new_list_order1[-1])])"
   ]
  },
  {
   "cell_type": "code",
   "execution_count": null,
   "id": "25ee902f-c8af-4e82-9830-9f9a0b57e112",
   "metadata": {},
   "outputs": [],
   "source": []
  },
  {
   "cell_type": "code",
   "execution_count": null,
   "id": "aa8251cc-65bf-418f-a2a3-ad4ec5948e31",
   "metadata": {},
   "outputs": [],
   "source": []
  }
 ],
 "metadata": {
  "kernelspec": {
   "display_name": "Python 3 (ipykernel)",
   "language": "python",
   "name": "python3"
  },
  "language_info": {
   "codemirror_mode": {
    "name": "ipython",
    "version": 3
   },
   "file_extension": ".py",
   "mimetype": "text/x-python",
   "name": "python",
   "nbconvert_exporter": "python",
   "pygments_lexer": "ipython3",
   "version": "3.9.7"
  }
 },
 "nbformat": 4,
 "nbformat_minor": 5
}
