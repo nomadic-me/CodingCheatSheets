{
 "cells": [
  {
   "cell_type": "code",
   "execution_count": 1,
   "id": "f1dc7c3d-2fc6-4111-b3b4-13c265e7421e",
   "metadata": {},
   "outputs": [],
   "source": [
    "#Lecture 2.3 - Functions & Files\n",
    "# - Time value of Money\n",
    "# - Net present value\n",
    "# - Discounted Cash flows\n",
    "# - Importing Libraries *\n",
    "# - Read and write files *\n",
    "# - Identify tubular data and its form\n",
    "# - Read and write CSV files"
   ]
  },
  {
   "cell_type": "code",
   "execution_count": 2,
   "id": "914bf1aa-140e-40bd-a856-85e63431034b",
   "metadata": {},
   "outputs": [],
   "source": [
    "# Time Value of Money - Addition Value created through receiving money today compared to receiving money at a later date, as money can coninute to grow with interest.\n",
    "# Factors to consider: Omterest rate, compounding periods, length of time\n",
    "# Discount rate = Usually 10% (Capital One 14%)\n",
    "# $14k today or $15k a year from now? 14 x 1.1 = $15,400. Calculate Future Value\n",
    "# FV = PV x [1 + (i/n)^(n*t)] FV: Future value, PV: Present Value, i: Interest rate, n: # of compounding periods per year, t: # of years"
   ]
  },
  {
   "cell_type": "code",
   "execution_count": 20,
   "id": "d2e27b29-171f-4ff6-8f2b-43511e693717",
   "metadata": {},
   "outputs": [],
   "source": [
    "def get_future_value(pv,i,n,t):\n",
    "    future_value = pv*(1+(i/n))**(n*t)\n",
    "    return future_value"
   ]
  },
  {
   "cell_type": "code",
   "execution_count": 24,
   "id": "9506e2ec-12f2-4a19-8948-0d307751c6e7",
   "metadata": {},
   "outputs": [],
   "source": [
    "PV = 10000\n",
    "i = 0.1\n",
    "n = 4\n",
    "t = 1"
   ]
  },
  {
   "cell_type": "code",
   "execution_count": 19,
   "id": "00051a13-81f5-4513-986a-3f56991a9b46",
   "metadata": {},
   "outputs": [
    {
     "data": {
      "text/plain": [
       "0.1"
      ]
     },
     "execution_count": 19,
     "metadata": {},
     "output_type": "execute_result"
    }
   ],
   "source": []
  },
  {
   "cell_type": "code",
   "execution_count": 7,
   "id": "ae26b81c-272b-4baa-90f2-d0072848bd3a",
   "metadata": {},
   "outputs": [],
   "source": [
    "# pip install numpy_finance\n",
    "# If you need to specify a version of a library: pip install numpy_finance == 3.01"
   ]
  },
  {
   "cell_type": "code",
   "execution_count": 8,
   "id": "96b5ad95-b6e4-4c33-99b5-b748b6417a33",
   "metadata": {},
   "outputs": [],
   "source": [
    "# Example: Assume a sum of $10k invested for one year of 10%. Find future value\n",
    "# PV = 10,000, i = 10%, n = 1, t=1\n"
   ]
  },
  {
   "cell_type": "code",
   "execution_count": 27,
   "id": "36c54f43-a64b-49e5-ae8c-e6c399c67a27",
   "metadata": {},
   "outputs": [
    {
     "data": {
      "text/plain": [
       "11000.0"
      ]
     },
     "execution_count": 27,
     "metadata": {},
     "output_type": "execute_result"
    }
   ],
   "source": [
    "get_future_value(10000,0.1,1,1)"
   ]
  },
  {
   "cell_type": "code",
   "execution_count": 26,
   "id": "027c8d74-6b8f-4e6a-bc44-2bb8c920bd69",
   "metadata": {},
   "outputs": [
    {
     "data": {
      "text/plain": [
       "11038.128906249995"
      ]
     },
     "execution_count": 26,
     "metadata": {},
     "output_type": "execute_result"
    }
   ],
   "source": [
    "get_future_value(10000,0.1,4,1)\n",
    "#Quarterly"
   ]
  },
  {
   "cell_type": "code",
   "execution_count": 28,
   "id": "edbfd1ad-f4c8-4ae8-a721-29832fa9f12b",
   "metadata": {},
   "outputs": [
    {
     "data": {
      "text/plain": [
       "11047.130674412969"
      ]
     },
     "execution_count": 28,
     "metadata": {},
     "output_type": "execute_result"
    }
   ],
   "source": [
    "get_future_value(10000,0.1,12,1)\n",
    "#Monthly"
   ]
  },
  {
   "cell_type": "code",
   "execution_count": 29,
   "id": "44c49d39-f9aa-4dcb-b411-d09599ab87d8",
   "metadata": {},
   "outputs": [
    {
     "data": {
      "text/plain": [
       "11051.557816162325"
      ]
     },
     "execution_count": 29,
     "metadata": {},
     "output_type": "execute_result"
    }
   ],
   "source": [
    "get_future_value(10000,0.1,365,1)\n",
    "#Daily"
   ]
  },
  {
   "cell_type": "code",
   "execution_count": 31,
   "id": "4111feb9-f5d3-410f-9904-19a45383c2ab",
   "metadata": {},
   "outputs": [],
   "source": [
    "# Net Present Value\n",
    "# NPV = (Cash Flow / (1 = i)^t) - (Initial Investment)\n",
    "# Where i = Discovered Rate (or rate that would be covered using a alternative investments)\n",
    "# t = # of years\n",
    "# Example: A prepared project costs $1000 and is projected to return the following cash flows:\n",
    "# yr 1: $400\n",
    "# yr 2: $400\n",
    "# yr 3: $400\n",
    "# yr 4: $400\n",
    "# Is the project worth it?\n",
    "# NPV = (400/(1+0.1)^1 + (400/(1+0.1)^2 + (400/(1+0.1)^3 + (400/(1+0.1)^4 - $1000 = $267.946\n",
    "# If NPV > 0 GO thneect is Profitable"
   ]
  },
  {
   "cell_type": "code",
   "execution_count": 37,
   "id": "f1c11b7f-0d3a-4bc8-a222-4bc2520a08a5",
   "metadata": {},
   "outputs": [
    {
     "name": "stdout",
     "output_type": "stream",
     "text": [
      "267.94617853971704\n"
     ]
    }
   ],
   "source": [
    "cash_flow = [400,400,400,400]\n",
    "inter = 0.10\n",
    "t = len(cash_flow)\n",
    "total_sum = 0\n",
    "initial_investment = 1000\n",
    "for i in range (0,len(cash_flow)):\n",
    "    num = cash_flow[i]\n",
    "    den = (1 + inter)**(i+1)\n",
    "    total_sum = total_sum + (num/den)\n",
    "    \n",
    "npv = total_sum - initial_investment\n",
    "print (npv)\n",
    "    "
   ]
  },
  {
   "cell_type": "code",
   "execution_count": 1,
   "id": "f7792f04-efb2-43f9-a724-0d0a896e388b",
   "metadata": {},
   "outputs": [],
   "source": [
    "def get_npv(cash_flow,inter,initial_investment):\n",
    "    total_sum = 0\n",
    "    for i in range (0,len(cash_flow)):\n",
    "        num = cash_flow[i]\n",
    "        den = (1 + inter)**(i+1)\n",
    "        total_sum = total_sum + (num/den)\n",
    "    \n",
    "    npv = total_sum - initial_investment\n",
    "    return npv\n",
    "    "
   ]
  },
  {
   "cell_type": "code",
   "execution_count": 2,
   "id": "87a32bbb-f44a-4339-80cc-28cc1dd5bbc6",
   "metadata": {},
   "outputs": [
    {
     "data": {
      "text/plain": [
       "267.94617853971704"
      ]
     },
     "execution_count": 2,
     "metadata": {},
     "output_type": "execute_result"
    }
   ],
   "source": [
    "get_npv([400,400,400,400],0.1,1000)"
   ]
  },
  {
   "cell_type": "code",
   "execution_count": 4,
   "id": "8f21cc8d-4c6f-4f7d-94d9-8feff3e24779",
   "metadata": {},
   "outputs": [
    {
     "name": "stdout",
     "output_type": "stream",
     "text": [
      "Collecting numpy_financial\n",
      "  Downloading numpy_financial-1.0.0-py3-none-any.whl (14 kB)\n",
      "Requirement already satisfied: numpy>=1.15 in d:\\anaconda3\\lib\\site-packages (from numpy_financial) (1.20.3)\n",
      "Installing collected packages: numpy-financial\n",
      "Successfully installed numpy-financial-1.0.0\n",
      "Note: you may need to restart the kernel to use updated packages.\n"
     ]
    }
   ],
   "source": [
    "pip install numpy_financial"
   ]
  },
  {
   "cell_type": "code",
   "execution_count": 6,
   "id": "c17b185f-3e51-44fd-ab91-4a6121d74991",
   "metadata": {},
   "outputs": [],
   "source": [
    "import numpy as np"
   ]
  },
  {
   "cell_type": "code",
   "execution_count": 7,
   "id": "432e8c88-8a34-49c0-885d-bc30948a4081",
   "metadata": {},
   "outputs": [],
   "source": [
    "import numpy_financial as npf"
   ]
  },
  {
   "cell_type": "code",
   "execution_count": 10,
   "id": "4119fa57-ba0a-44fa-998e-7c661387b6ba",
   "metadata": {},
   "outputs": [],
   "source": [
    "interest_rate = 0.1\n",
    "cash_flows = [-1000,400,400,400,400]"
   ]
  },
  {
   "cell_type": "code",
   "execution_count": 11,
   "id": "50d6d899-5896-4b61-9d1f-ea885c85b377",
   "metadata": {},
   "outputs": [
    {
     "data": {
      "text/plain": [
       "267.94617853971704"
      ]
     },
     "execution_count": 11,
     "metadata": {},
     "output_type": "execute_result"
    }
   ],
   "source": [
    "npf.npv(interest_rate,cash_flows)"
   ]
  },
  {
   "cell_type": "code",
   "execution_count": null,
   "id": "c1a5dc1c-232d-450f-992a-4582442390b2",
   "metadata": {},
   "outputs": [],
   "source": []
  }
 ],
 "metadata": {
  "kernelspec": {
   "display_name": "Python 3 (ipykernel)",
   "language": "python",
   "name": "python3"
  },
  "language_info": {
   "codemirror_mode": {
    "name": "ipython",
    "version": 3
   },
   "file_extension": ".py",
   "mimetype": "text/x-python",
   "name": "python",
   "nbconvert_exporter": "python",
   "pygments_lexer": "ipython3",
   "version": "3.7.11"
  }
 },
 "nbformat": 4,
 "nbformat_minor": 5
}
