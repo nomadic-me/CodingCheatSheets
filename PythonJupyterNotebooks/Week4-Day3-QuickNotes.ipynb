{
 "cells": [
  {
   "cell_type": "markdown",
   "id": "9d3d9fb0-19a1-4adc-a7f9-94edd76b27a4",
   "metadata": {},
   "source": [
    "# Palindrome\n",
    "\n",
    "Write a function that determines if a string argument is a palindrome.\n",
    "\n",
    "Example:\n",
    "\n",
    "```python\n",
    "palindrome(\"mom\")\n",
    "# Output: True\n",
    "\n",
    "palindrome(\"mother\")\n",
    "# Output: False\n",
    "```"
   ]
  },
  {
   "cell_type": "code",
   "execution_count": 30,
   "id": "f0cd805f-574c-420b-b100-483479abadce",
   "metadata": {},
   "outputs": [],
   "source": [
    "def palindrome(str_to_check):\n",
    "    if str_to_check[len(str_to_check)::-1] == str_to_check:\n",
    "        return True\n",
    "    else:\n",
    "        return False\n",
    "        "
   ]
  },
  {
   "cell_type": "code",
   "execution_count": 31,
   "id": "9056a821-da20-46b0-b638-ceab924f258a",
   "metadata": {},
   "outputs": [
    {
     "data": {
      "text/plain": [
       "False"
      ]
     },
     "execution_count": 31,
     "metadata": {},
     "output_type": "execute_result"
    }
   ],
   "source": [
    "palindrome(\"Hello\")"
   ]
  },
  {
   "cell_type": "code",
   "execution_count": 32,
   "id": "74b487b9-3d10-4d69-a24e-e0e75bc84a81",
   "metadata": {},
   "outputs": [
    {
     "data": {
      "text/plain": [
       "True"
      ]
     },
     "execution_count": 32,
     "metadata": {},
     "output_type": "execute_result"
    }
   ],
   "source": [
    "palindrome(\"Hello-olleH\")"
   ]
  },
  {
   "cell_type": "code",
   "execution_count": 33,
   "id": "68cbef6c-f579-4faf-83cc-21b784a9d940",
   "metadata": {},
   "outputs": [
    {
     "data": {
      "text/plain": [
       "False"
      ]
     },
     "execution_count": 33,
     "metadata": {},
     "output_type": "execute_result"
    }
   ],
   "source": [
    "palindrome(\"Never odd or even\")"
   ]
  },
  {
   "cell_type": "code",
   "execution_count": 34,
   "id": "6bebdbe8-c6d0-4634-8c8b-230ade418eaf",
   "metadata": {},
   "outputs": [
    {
     "data": {
      "text/plain": [
       "True"
      ]
     },
     "execution_count": 34,
     "metadata": {},
     "output_type": "execute_result"
    }
   ],
   "source": [
    "palindrome(\"Hello olleH\")"
   ]
  },
  {
   "cell_type": "code",
   "execution_count": 35,
   "id": "f5e56190-97fc-4b65-b14f-2c8caa2e83f2",
   "metadata": {},
   "outputs": [
    {
     "ename": "TypeError",
     "evalue": "object of type 'int' has no len()",
     "output_type": "error",
     "traceback": [
      "\u001b[0;31m---------------------------------------------------------------------------\u001b[0m",
      "\u001b[0;31mTypeError\u001b[0m                                 Traceback (most recent call last)",
      "Input \u001b[0;32mIn [35]\u001b[0m, in \u001b[0;36m<cell line: 1>\u001b[0;34m()\u001b[0m\n\u001b[0;32m----> 1\u001b[0m \u001b[43mpalindrome\u001b[49m\u001b[43m(\u001b[49m\u001b[38;5;241;43m123128397129873817\u001b[39;49m\u001b[43m)\u001b[49m\n",
      "Input \u001b[0;32mIn [30]\u001b[0m, in \u001b[0;36mpalindrome\u001b[0;34m(str_to_check)\u001b[0m\n\u001b[1;32m      1\u001b[0m \u001b[38;5;28;01mdef\u001b[39;00m \u001b[38;5;21mpalindrome\u001b[39m(str_to_check):\n\u001b[0;32m----> 2\u001b[0m     \u001b[38;5;28;01mif\u001b[39;00m str_to_check[\u001b[38;5;28;43mlen\u001b[39;49m\u001b[43m(\u001b[49m\u001b[43mstr_to_check\u001b[49m\u001b[43m)\u001b[49m::\u001b[38;5;241m-\u001b[39m\u001b[38;5;241m1\u001b[39m] \u001b[38;5;241m==\u001b[39m str_to_check:\n\u001b[1;32m      3\u001b[0m         \u001b[38;5;28;01mreturn\u001b[39;00m \u001b[38;5;28;01mTrue\u001b[39;00m\n\u001b[1;32m      4\u001b[0m     \u001b[38;5;28;01melse\u001b[39;00m:\n",
      "\u001b[0;31mTypeError\u001b[0m: object of type 'int' has no len()"
     ]
    }
   ],
   "source": []
  },
  {
   "cell_type": "code",
   "execution_count": null,
   "id": "cb729441-af57-439e-9df7-4c20e2725778",
   "metadata": {},
   "outputs": [],
   "source": []
  }
 ],
 "metadata": {
  "kernelspec": {
   "display_name": "Python 3 (ipykernel)",
   "language": "python",
   "name": "python3"
  },
  "language_info": {
   "codemirror_mode": {
    "name": "ipython",
    "version": 3
   },
   "file_extension": ".py",
   "mimetype": "text/x-python",
   "name": "python",
   "nbconvert_exporter": "python",
   "pygments_lexer": "ipython3",
   "version": "3.9.7"
  }
 },
 "nbformat": 4,
 "nbformat_minor": 5
}
