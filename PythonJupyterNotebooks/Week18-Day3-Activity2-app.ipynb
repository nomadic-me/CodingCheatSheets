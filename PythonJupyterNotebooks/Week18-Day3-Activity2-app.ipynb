{
 "cells": [
  {
   "cell_type": "code",
   "execution_count": 1,
   "id": "6d6dc7c8-b437-47af-a626-0ce98dc498bc",
   "metadata": {},
   "outputs": [],
   "source": [
    "from dataclasses import dataclass\n",
    "from typing import Any\n",
    "import datetime as datetime\n",
    "import hashlib\n"
   ]
  },
  {
   "cell_type": "code",
   "execution_count": 2,
   "id": "04b7b6cd-5016-4ee4-bcef-a972a8d38546",
   "metadata": {},
   "outputs": [],
   "source": [
    "\n",
    "@dataclass\n",
    "class Block:\n",
    "    data: Any\n",
    "    creator_id: int\n",
    "    prev_hash: str = \"0\"\n",
    "    timestamp: str = datetime.datetime.utcnow().strftime(\"%H:%M:%S\")\n",
    "    nonce: int = 0\n",
    "\n",
    "    def hash_block(self):\n",
    "        sha = hashlib.sha256()\n",
    "\n",
    "        data = str(self.data).encode()\n",
    "        sha.update(data)\n",
    "\n",
    "        creator_id = str(self.creator_id).encode()\n",
    "        sha.update(data)\n",
    "\n",
    "        prev_hash = str(self.prev_hash).encode()\n",
    "        sha.update(prev_hash)\n",
    "\n",
    "        timestamp = str(self.timestamp).encode()\n",
    "        sha.update(timestamp)\n",
    "\n",
    "        nonce = str(self.nonce).encode()\n",
    "        sha.update(nonce)\n",
    "\n",
    "        return sha.hexdigest()"
   ]
  },
  {
   "cell_type": "code",
   "execution_count": 3,
   "id": "93fa45c7-b7bf-4a3e-a4d6-e13ae58b9287",
   "metadata": {},
   "outputs": [
    {
     "name": "stdout",
     "output_type": "stream",
     "text": [
      "The original nonce is: 0\n",
      "The original block hash is: eca5848692de72a652c9d8b0630fc87f8c8b4c55b900d25068e43fdc0d6ce988\n"
     ]
    }
   ],
   "source": [
    "# Create a test block and view the nonce and hash\n",
    "block = Block(\"test\", 1)\n",
    "print(f\"The original nonce is: {block.nonce}\")\n",
    "print(f\"The original block hash is: {block.hash_block()}\")"
   ]
  },
  {
   "cell_type": "code",
   "execution_count": 6,
   "id": "b3147bde-44f8-4128-879f-108ce709d4e6",
   "metadata": {},
   "outputs": [
    {
     "name": "stdout",
     "output_type": "stream",
     "text": [
      "The new nonce is now: 3\n",
      "The new block hash is now: 793ba6b7bedabdf60cb935e3901d2efa67f9f96e676fc66c697dd13386c12fd8\n"
     ]
    }
   ],
   "source": [
    "# Update the test block and view the nonce and hash\n",
    "block.nonce += 1\n",
    "print(f\"The new nonce is now: {block.nonce}\")\n",
    "print(f\"The new block hash is now: {block.hash_block()}\")"
   ]
  },
  {
   "cell_type": "code",
   "execution_count": null,
   "id": "266547cd-caff-455f-af16-42ed7eed9bce",
   "metadata": {},
   "outputs": [],
   "source": []
  }
 ],
 "metadata": {
  "kernelspec": {
   "display_name": "Python 3 (ipykernel)",
   "language": "python",
   "name": "python3"
  },
  "language_info": {
   "codemirror_mode": {
    "name": "ipython",
    "version": 3
   },
   "file_extension": ".py",
   "mimetype": "text/x-python",
   "name": "python",
   "nbconvert_exporter": "python",
   "pygments_lexer": "ipython3",
   "version": "3.7.7"
  }
 },
 "nbformat": 4,
 "nbformat_minor": 5
}
