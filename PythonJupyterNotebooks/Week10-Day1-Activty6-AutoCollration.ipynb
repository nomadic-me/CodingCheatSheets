{
 "cells": [
  {
   "cell_type": "code",
   "execution_count": 7,
   "id": "c51727a2-83a5-43ef-a02d-6e34da44bdbe",
   "metadata": {},
   "outputs": [],
   "source": [
    "# Import libraries and dependencies\n",
    "import pandas as pd\n",
    "import matplotlib.pyplot as plt\n",
    "from pathlib import Path\n",
    "%matplotlib inline"
   ]
  },
  {
   "cell_type": "code",
   "execution_count": 13,
   "id": "f606a0f7-37a1-4917-9b89-ec62594c1e0b",
   "metadata": {},
   "outputs": [],
   "source": [
    "\n",
    "\n",
    "#df = pd.read_csv(\"Resources/Week10-Day1-Activity6-liquor_sales.csv\",parse_dates=['datetime'],index_col=['datetime'])"
   ]
  },
  {
   "cell_type": "code",
   "execution_count": 14,
   "id": "1d1dcfca-bbe7-4387-9c1e-04d5802f64b9",
   "metadata": {},
   "outputs": [],
   "source": [
    "df = pd.read_csv(\"Resources/Week10-Day1-Activity6-weather.csv\",\n",
    "                parse_dates=['Date'],\n",
    "                index_col=['Date'])"
   ]
  },
  {
   "cell_type": "code",
   "execution_count": 15,
   "id": "3229b459-6e3c-44ac-8f9e-7ca565d697c1",
   "metadata": {},
   "outputs": [
    {
     "data": {
      "text/html": [
       "<div>\n",
       "<style scoped>\n",
       "    .dataframe tbody tr th:only-of-type {\n",
       "        vertical-align: middle;\n",
       "    }\n",
       "\n",
       "    .dataframe tbody tr th {\n",
       "        vertical-align: top;\n",
       "    }\n",
       "\n",
       "    .dataframe thead th {\n",
       "        text-align: right;\n",
       "    }\n",
       "</style>\n",
       "<table border=\"1\" class=\"dataframe\">\n",
       "  <thead>\n",
       "    <tr style=\"text-align: right;\">\n",
       "      <th></th>\n",
       "      <th>Temperature</th>\n",
       "      <th>DewPoint</th>\n",
       "      <th>Pressure</th>\n",
       "    </tr>\n",
       "    <tr>\n",
       "      <th>Date</th>\n",
       "      <th></th>\n",
       "      <th></th>\n",
       "      <th></th>\n",
       "    </tr>\n",
       "  </thead>\n",
       "  <tbody>\n",
       "    <tr>\n",
       "      <th>2010-01-01 00:00:00</th>\n",
       "      <td>46.2</td>\n",
       "      <td>37.5</td>\n",
       "      <td>1.0</td>\n",
       "    </tr>\n",
       "    <tr>\n",
       "      <th>2010-01-01 01:00:00</th>\n",
       "      <td>44.6</td>\n",
       "      <td>37.1</td>\n",
       "      <td>1.0</td>\n",
       "    </tr>\n",
       "    <tr>\n",
       "      <th>2010-01-01 02:00:00</th>\n",
       "      <td>44.1</td>\n",
       "      <td>36.9</td>\n",
       "      <td>1.0</td>\n",
       "    </tr>\n",
       "    <tr>\n",
       "      <th>2010-01-01 03:00:00</th>\n",
       "      <td>43.8</td>\n",
       "      <td>36.9</td>\n",
       "      <td>1.0</td>\n",
       "    </tr>\n",
       "    <tr>\n",
       "      <th>2010-01-01 04:00:00</th>\n",
       "      <td>43.5</td>\n",
       "      <td>36.8</td>\n",
       "      <td>1.0</td>\n",
       "    </tr>\n",
       "  </tbody>\n",
       "</table>\n",
       "</div>"
      ],
      "text/plain": [
       "                     Temperature  DewPoint  Pressure\n",
       "Date                                                \n",
       "2010-01-01 00:00:00         46.2      37.5       1.0\n",
       "2010-01-01 01:00:00         44.6      37.1       1.0\n",
       "2010-01-01 02:00:00         44.1      36.9       1.0\n",
       "2010-01-01 03:00:00         43.8      36.9       1.0\n",
       "2010-01-01 04:00:00         43.5      36.8       1.0"
      ]
     },
     "execution_count": 15,
     "metadata": {},
     "output_type": "execute_result"
    }
   ],
   "source": [
    "df.head()"
   ]
  },
  {
   "cell_type": "code",
   "execution_count": 16,
   "id": "d97753e6-4afc-4214-947c-c20beadced27",
   "metadata": {},
   "outputs": [
    {
     "data": {
      "text/plain": [
       "Date\n",
       "2010-01-01 00:00:00    46.2\n",
       "2010-01-01 01:00:00    44.6\n",
       "2010-01-01 02:00:00    44.1\n",
       "2010-01-01 03:00:00    43.8\n",
       "2010-01-01 04:00:00    43.5\n",
       "2010-01-01 05:00:00    43.0\n",
       "2010-01-01 06:00:00    43.1\n",
       "2010-01-01 07:00:00    42.3\n",
       "2010-01-01 08:00:00    42.5\n",
       "2010-01-01 09:00:00    45.9\n",
       "2010-01-01 10:00:00    49.4\n",
       "2010-01-01 11:00:00    52.4\n",
       "2010-01-01 12:00:00    54.9\n",
       "2010-01-01 13:00:00    57.1\n",
       "2010-01-01 14:00:00    58.4\n",
       "2010-01-01 15:00:00    59.1\n",
       "2010-01-01 16:00:00    59.1\n",
       "2010-01-01 17:00:00    58.0\n",
       "2010-01-01 18:00:00    54.5\n",
       "2010-01-01 19:00:00    51.3\n",
       "2010-01-01 20:00:00    49.2\n",
       "2010-01-01 21:00:00    48.1\n",
       "2010-01-01 22:00:00    47.2\n",
       "2010-01-01 23:00:00    46.4\n",
       "Name: Temperature, dtype: float64"
      ]
     },
     "execution_count": 16,
     "metadata": {},
     "output_type": "execute_result"
    }
   ],
   "source": [
    "# Temperature readings of the first 24 hours\n",
    "df.Temperature[:24]"
   ]
  },
  {
   "cell_type": "code",
   "execution_count": 17,
   "id": "6fbf0981-5592-40b6-a0ee-cb95cb2b2dc8",
   "metadata": {},
   "outputs": [
    {
     "data": {
      "text/html": [
       "<div>\n",
       "<style scoped>\n",
       "    .dataframe tbody tr th:only-of-type {\n",
       "        vertical-align: middle;\n",
       "    }\n",
       "\n",
       "    .dataframe tbody tr th {\n",
       "        vertical-align: top;\n",
       "    }\n",
       "\n",
       "    .dataframe thead th {\n",
       "        text-align: right;\n",
       "    }\n",
       "</style>\n",
       "<table border=\"1\" class=\"dataframe\">\n",
       "  <thead>\n",
       "    <tr style=\"text-align: right;\">\n",
       "      <th></th>\n",
       "      <th>Temperature</th>\n",
       "      <th>DewPoint</th>\n",
       "      <th>Pressure</th>\n",
       "      <th>Lag_Temperature</th>\n",
       "      <th>Temperature_Difference</th>\n",
       "    </tr>\n",
       "    <tr>\n",
       "      <th>Date</th>\n",
       "      <th></th>\n",
       "      <th></th>\n",
       "      <th></th>\n",
       "      <th></th>\n",
       "      <th></th>\n",
       "    </tr>\n",
       "  </thead>\n",
       "  <tbody>\n",
       "    <tr>\n",
       "      <th>2010-01-01 00:00:00</th>\n",
       "      <td>46.2</td>\n",
       "      <td>37.5</td>\n",
       "      <td>1.0</td>\n",
       "      <td>NaN</td>\n",
       "      <td>NaN</td>\n",
       "    </tr>\n",
       "    <tr>\n",
       "      <th>2010-01-01 01:00:00</th>\n",
       "      <td>44.6</td>\n",
       "      <td>37.1</td>\n",
       "      <td>1.0</td>\n",
       "      <td>46.2</td>\n",
       "      <td>-1.6</td>\n",
       "    </tr>\n",
       "    <tr>\n",
       "      <th>2010-01-01 02:00:00</th>\n",
       "      <td>44.1</td>\n",
       "      <td>36.9</td>\n",
       "      <td>1.0</td>\n",
       "      <td>44.6</td>\n",
       "      <td>-0.5</td>\n",
       "    </tr>\n",
       "    <tr>\n",
       "      <th>2010-01-01 03:00:00</th>\n",
       "      <td>43.8</td>\n",
       "      <td>36.9</td>\n",
       "      <td>1.0</td>\n",
       "      <td>44.1</td>\n",
       "      <td>-0.3</td>\n",
       "    </tr>\n",
       "    <tr>\n",
       "      <th>2010-01-01 04:00:00</th>\n",
       "      <td>43.5</td>\n",
       "      <td>36.8</td>\n",
       "      <td>1.0</td>\n",
       "      <td>43.8</td>\n",
       "      <td>-0.3</td>\n",
       "    </tr>\n",
       "  </tbody>\n",
       "</table>\n",
       "</div>"
      ],
      "text/plain": [
       "                     Temperature  DewPoint  Pressure  Lag_Temperature  \\\n",
       "Date                                                                    \n",
       "2010-01-01 00:00:00         46.2      37.5       1.0              NaN   \n",
       "2010-01-01 01:00:00         44.6      37.1       1.0             46.2   \n",
       "2010-01-01 02:00:00         44.1      36.9       1.0             44.6   \n",
       "2010-01-01 03:00:00         43.8      36.9       1.0             44.1   \n",
       "2010-01-01 04:00:00         43.5      36.8       1.0             43.8   \n",
       "\n",
       "                     Temperature_Difference  \n",
       "Date                                         \n",
       "2010-01-01 00:00:00                     NaN  \n",
       "2010-01-01 01:00:00                    -1.6  \n",
       "2010-01-01 02:00:00                    -0.5  \n",
       "2010-01-01 03:00:00                    -0.3  \n",
       "2010-01-01 04:00:00                    -0.3  "
      ]
     },
     "execution_count": 17,
     "metadata": {},
     "output_type": "execute_result"
    }
   ],
   "source": [
    "# Shift and calculate diff\n",
    "df['Lag_Temperature'] = df.Temperature.shift()\n",
    "df['Temperature_Difference'] = df.Temperature.diff()\n",
    "df.head()"
   ]
  },
  {
   "cell_type": "code",
   "execution_count": 19,
   "id": "7ccecc83-40d7-499f-9c2b-c151810a6f2a",
   "metadata": {},
   "outputs": [
    {
     "data": {
      "image/png": "[encoded data removed]",
      "text/plain": [
       "<Figure size 432x288 with 1 Axes>"
      ]
     },
     "metadata": {
      "needs_background": "light"
     },
     "output_type": "display_data"
    }
   ],
   "source": [
    "import statsmodels as sm\n",
    "from statsmodels.graphics.tsaplots import plot_acf, plot_pacf\n",
    "\n",
    "# plot_acf() measures autocorrelation at different lags\n",
    "# Highest autocorrelation at lag of 24 hours\n",
    "plot_acf(df.Temperature, lags=72);"
   ]
  },
  {
   "cell_type": "code",
   "execution_count": null,
   "id": "9d36f45b-4d10-4b06-a21b-3402c5176eb9",
   "metadata": {},
   "outputs": [],
   "source": []
  }
 ],
 "metadata": {
  "kernelspec": {
   "display_name": "Python [conda env:pyvizenv]",
   "language": "python",
   "name": "conda-env-pyvizenv-py"
  },
  "language_info": {
   "codemirror_mode": {
    "name": "ipython",
    "version": 3
   },
   "file_extension": ".py",
   "mimetype": "text/x-python",
   "name": "python",
   "nbconvert_exporter": "python",
   "pygments_lexer": "ipython3",
   "version": "3.7.11"
  }
 },
 "nbformat": 4,
 "nbformat_minor": 5
}
