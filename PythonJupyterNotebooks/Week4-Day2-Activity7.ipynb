{
 "cells": [
  {
   "cell_type": "code",
   "execution_count": 1,
   "id": "855161f4-8ff0-4ae7-a133-e63dbcaf80d4",
   "metadata": {},
   "outputs": [],
   "source": [
    "import pandas as pd\n",
    "import numpy as np\n",
    "csvpath1 = \"Resources/Week4-Day2-Activity7-emb_historical.csv\"\n",
    "csvpath2 = \"Resources/Week4-Day2-Activity7-imo_historical.csv\""
   ]
  },
  {
   "cell_type": "code",
   "execution_count": 2,
   "id": "b1bc1f76-5daf-49fb-9c9d-e37163678e99",
   "metadata": {},
   "outputs": [],
   "source": [
    "emb_df = pd.read_csv(csvpath1, index_col='Trade DATE', infer_datetime_format=True)\n",
    "imo_df = pd.read_csv(csvpath2, index_col='Trade DATE', infer_datetime_format=True)"
   ]
  },
  {
   "cell_type": "code",
   "execution_count": 3,
   "id": "e6b03345-3593-4acf-a30b-bdee845370de",
   "metadata": {},
   "outputs": [
    {
     "data": {
      "text/html": [
       "<div>\n",
       "<style scoped>\n",
       "    .dataframe tbody tr th:only-of-type {\n",
       "        vertical-align: middle;\n",
       "    }\n",
       "\n",
       "    .dataframe tbody tr th {\n",
       "        vertical-align: top;\n",
       "    }\n",
       "\n",
       "    .dataframe thead th {\n",
       "        text-align: right;\n",
       "    }\n",
       "</style>\n",
       "<table border=\"1\" class=\"dataframe\">\n",
       "  <thead>\n",
       "    <tr style=\"text-align: right;\">\n",
       "      <th></th>\n",
       "      <th>Symbol</th>\n",
       "      <th>NOCP</th>\n",
       "    </tr>\n",
       "    <tr>\n",
       "      <th>Trade DATE</th>\n",
       "      <th></th>\n",
       "      <th></th>\n",
       "    </tr>\n",
       "  </thead>\n",
       "  <tbody>\n",
       "    <tr>\n",
       "      <th>5/13/2019</th>\n",
       "      <td>ENB</td>\n",
       "      <td>26.24</td>\n",
       "    </tr>\n",
       "    <tr>\n",
       "      <th>5/10/2019</th>\n",
       "      <td>ENB</td>\n",
       "      <td>27.96</td>\n",
       "    </tr>\n",
       "    <tr>\n",
       "      <th>5/9/2019</th>\n",
       "      <td>ENB</td>\n",
       "      <td>27.21</td>\n",
       "    </tr>\n",
       "    <tr>\n",
       "      <th>5/8/2019</th>\n",
       "      <td>ENB</td>\n",
       "      <td>27.09</td>\n",
       "    </tr>\n",
       "    <tr>\n",
       "      <th>5/7/2019</th>\n",
       "      <td>ENB</td>\n",
       "      <td>26.66</td>\n",
       "    </tr>\n",
       "    <tr>\n",
       "      <th>...</th>\n",
       "      <td>...</td>\n",
       "      <td>...</td>\n",
       "    </tr>\n",
       "    <tr>\n",
       "      <th>5/21/2018</th>\n",
       "      <td>ENB</td>\n",
       "      <td>12.99</td>\n",
       "    </tr>\n",
       "    <tr>\n",
       "      <th>5/18/2018</th>\n",
       "      <td>ENB</td>\n",
       "      <td>13.00</td>\n",
       "    </tr>\n",
       "    <tr>\n",
       "      <th>5/17/2018</th>\n",
       "      <td>ENB</td>\n",
       "      <td>12.82</td>\n",
       "    </tr>\n",
       "    <tr>\n",
       "      <th>5/16/2018</th>\n",
       "      <td>ENB</td>\n",
       "      <td>12.82</td>\n",
       "    </tr>\n",
       "    <tr>\n",
       "      <th>5/15/2018</th>\n",
       "      <td>ENB</td>\n",
       "      <td>12.45</td>\n",
       "    </tr>\n",
       "  </tbody>\n",
       "</table>\n",
       "<p>250 rows × 2 columns</p>\n",
       "</div>"
      ],
      "text/plain": [
       "           Symbol   NOCP\n",
       "Trade DATE              \n",
       "5/13/2019     ENB  26.24\n",
       "5/10/2019     ENB  27.96\n",
       "5/9/2019      ENB  27.21\n",
       "5/8/2019      ENB  27.09\n",
       "5/7/2019      ENB  26.66\n",
       "...           ...    ...\n",
       "5/21/2018     ENB  12.99\n",
       "5/18/2018     ENB  13.00\n",
       "5/17/2018     ENB  12.82\n",
       "5/16/2018     ENB  12.82\n",
       "5/15/2018     ENB  12.45\n",
       "\n",
       "[250 rows x 2 columns]"
      ]
     },
     "execution_count": 3,
     "metadata": {},
     "output_type": "execute_result"
    }
   ],
   "source": [
    "emb_df"
   ]
  },
  {
   "cell_type": "code",
   "execution_count": 16,
   "id": "9e4c3147-db02-416e-bf17-305d2182dfed",
   "metadata": {},
   "outputs": [
    {
     "data": {
      "text/html": [
       "<div>\n",
       "<style scoped>\n",
       "    .dataframe tbody tr th:only-of-type {\n",
       "        vertical-align: middle;\n",
       "    }\n",
       "\n",
       "    .dataframe tbody tr th {\n",
       "        vertical-align: top;\n",
       "    }\n",
       "\n",
       "    .dataframe thead th {\n",
       "        text-align: right;\n",
       "    }\n",
       "</style>\n",
       "<table border=\"1\" class=\"dataframe\">\n",
       "  <thead>\n",
       "    <tr style=\"text-align: right;\">\n",
       "      <th></th>\n",
       "      <th>Symbol</th>\n",
       "      <th>NOCP</th>\n",
       "    </tr>\n",
       "    <tr>\n",
       "      <th>Trade DATE</th>\n",
       "      <th></th>\n",
       "      <th></th>\n",
       "    </tr>\n",
       "  </thead>\n",
       "  <tbody>\n",
       "    <tr>\n",
       "      <th>1/10/2019</th>\n",
       "      <td>IMO</td>\n",
       "      <td>35.91</td>\n",
       "    </tr>\n",
       "    <tr>\n",
       "      <th>1/11/2019</th>\n",
       "      <td>IMO</td>\n",
       "      <td>36.01</td>\n",
       "    </tr>\n",
       "    <tr>\n",
       "      <th>1/14/2019</th>\n",
       "      <td>IMO</td>\n",
       "      <td>34.67</td>\n",
       "    </tr>\n",
       "    <tr>\n",
       "      <th>1/15/2019</th>\n",
       "      <td>IMO</td>\n",
       "      <td>33.99</td>\n",
       "    </tr>\n",
       "    <tr>\n",
       "      <th>1/16/2019</th>\n",
       "      <td>IMO</td>\n",
       "      <td>33.58</td>\n",
       "    </tr>\n",
       "    <tr>\n",
       "      <th>...</th>\n",
       "      <td>...</td>\n",
       "      <td>...</td>\n",
       "    </tr>\n",
       "    <tr>\n",
       "      <th>9/28/2018</th>\n",
       "      <td>IMO</td>\n",
       "      <td>45.23</td>\n",
       "    </tr>\n",
       "    <tr>\n",
       "      <th>9/4/2018</th>\n",
       "      <td>IMO</td>\n",
       "      <td>51.93</td>\n",
       "    </tr>\n",
       "    <tr>\n",
       "      <th>9/5/2018</th>\n",
       "      <td>IMO</td>\n",
       "      <td>49.54</td>\n",
       "    </tr>\n",
       "    <tr>\n",
       "      <th>9/6/2018</th>\n",
       "      <td>IMO</td>\n",
       "      <td>44.65</td>\n",
       "    </tr>\n",
       "    <tr>\n",
       "      <th>9/7/2018</th>\n",
       "      <td>IMO</td>\n",
       "      <td>44.86</td>\n",
       "    </tr>\n",
       "  </tbody>\n",
       "</table>\n",
       "<p>250 rows × 2 columns</p>\n",
       "</div>"
      ],
      "text/plain": [
       "           Symbol   NOCP\n",
       "Trade DATE              \n",
       "1/10/2019     IMO  35.91\n",
       "1/11/2019     IMO  36.01\n",
       "1/14/2019     IMO  34.67\n",
       "1/15/2019     IMO  33.99\n",
       "1/16/2019     IMO  33.58\n",
       "...           ...    ...\n",
       "9/28/2018     IMO  45.23\n",
       "9/4/2018      IMO  51.93\n",
       "9/5/2018      IMO  49.54\n",
       "9/6/2018      IMO  44.65\n",
       "9/7/2018      IMO  44.86\n",
       "\n",
       "[250 rows x 2 columns]"
      ]
     },
     "execution_count": 16,
     "metadata": {},
     "output_type": "execute_result"
    }
   ],
   "source": [
    "imo_df\n"
   ]
  },
  {
   "cell_type": "code",
   "execution_count": 32,
   "id": "14c65e92-4db4-41c9-8f78-7878eef52540",
   "metadata": {},
   "outputs": [],
   "source": [
    "emb_df.sort_index(inplace=True)\n",
    "imo_df.sort_index(inplace=True)\n",
    "all_prices = pd.concat([emb_df,imo_df], axis='rows', join='inner')"
   ]
  },
  {
   "cell_type": "code",
   "execution_count": 33,
   "id": "d4682148-d9c8-42cd-a2d7-259e58248952",
   "metadata": {},
   "outputs": [],
   "source": [
    "all_prices = all_prices.pivot_table(values=\"NOCP\", index=\"Trade DATE\", columns=\"Symbol\")"
   ]
  },
  {
   "cell_type": "code",
   "execution_count": 34,
   "id": "b0bd0057-2118-401e-9f4c-62ce1c40fb9a",
   "metadata": {},
   "outputs": [],
   "source": [
    "#all_prices.pivot_table(values=\"NOCP\", index=\"Trade DATE\", columns=\"Symbol\",aggfunc=np.sum)"
   ]
  },
  {
   "cell_type": "code",
   "execution_count": 35,
   "id": "4f715fcd-62bc-4e2e-8e46-0f95f32f3068",
   "metadata": {},
   "outputs": [
    {
     "data": {
      "text/html": [
       "<div>\n",
       "<style scoped>\n",
       "    .dataframe tbody tr th:only-of-type {\n",
       "        vertical-align: middle;\n",
       "    }\n",
       "\n",
       "    .dataframe tbody tr th {\n",
       "        vertical-align: top;\n",
       "    }\n",
       "\n",
       "    .dataframe thead th {\n",
       "        text-align: right;\n",
       "    }\n",
       "</style>\n",
       "<table border=\"1\" class=\"dataframe\">\n",
       "  <thead>\n",
       "    <tr style=\"text-align: right;\">\n",
       "      <th>Symbol</th>\n",
       "      <th>ENB</th>\n",
       "      <th>IMO</th>\n",
       "    </tr>\n",
       "    <tr>\n",
       "      <th>Trade DATE</th>\n",
       "      <th></th>\n",
       "      <th></th>\n",
       "    </tr>\n",
       "  </thead>\n",
       "  <tbody>\n",
       "    <tr>\n",
       "      <th>1/10/2019</th>\n",
       "      <td>NaN</td>\n",
       "      <td>NaN</td>\n",
       "    </tr>\n",
       "    <tr>\n",
       "      <th>1/11/2019</th>\n",
       "      <td>0.026849</td>\n",
       "      <td>0.002785</td>\n",
       "    </tr>\n",
       "    <tr>\n",
       "      <th>1/14/2019</th>\n",
       "      <td>-0.001973</td>\n",
       "      <td>-0.037212</td>\n",
       "    </tr>\n",
       "    <tr>\n",
       "      <th>1/15/2019</th>\n",
       "      <td>0.007415</td>\n",
       "      <td>-0.019613</td>\n",
       "    </tr>\n",
       "    <tr>\n",
       "      <th>1/16/2019</th>\n",
       "      <td>-0.031894</td>\n",
       "      <td>-0.012062</td>\n",
       "    </tr>\n",
       "  </tbody>\n",
       "</table>\n",
       "</div>"
      ],
      "text/plain": [
       "Symbol           ENB       IMO\n",
       "Trade DATE                    \n",
       "1/10/2019        NaN       NaN\n",
       "1/11/2019   0.026849  0.002785\n",
       "1/14/2019  -0.001973 -0.037212\n",
       "1/15/2019   0.007415 -0.019613\n",
       "1/16/2019  -0.031894 -0.012062"
      ]
     },
     "execution_count": 35,
     "metadata": {},
     "output_type": "execute_result"
    }
   ],
   "source": [
    "all_returns = all_prices.pct_change()\n",
    "all_returns.head()"
   ]
  },
  {
   "cell_type": "code",
   "execution_count": 36,
   "id": "0920b064-8374-44a5-96e0-f14dcd887c40",
   "metadata": {},
   "outputs": [],
   "source": [
    "enb_wg = 0.5\n",
    "imo_wg = 0.5\n",
    "\n"
   ]
  },
  {
   "cell_type": "code",
   "execution_count": 37,
   "id": "dd7dfbe7-523c-45eb-b264-06ef1eab3af0",
   "metadata": {},
   "outputs": [
    {
     "data": {
      "text/plain": [
       "Trade DATE\n",
       "1/10/2019         NaN\n",
       "1/11/2019    0.014817\n",
       "1/14/2019   -0.019593\n",
       "1/15/2019   -0.006099\n",
       "1/16/2019   -0.021978\n",
       "               ...   \n",
       "9/28/2018   -0.023414\n",
       "9/4/2018     0.028258\n",
       "9/5/2018    -0.014993\n",
       "9/6/2018    -0.061104\n",
       "9/7/2018    -0.005910\n",
       "Length: 250, dtype: float64"
      ]
     },
     "execution_count": 37,
     "metadata": {},
     "output_type": "execute_result"
    }
   ],
   "source": [
    "\n",
    "portfolio_returns = enb_wg*all_returns['ENB']+imo_wg*all_returns['IMO']\n",
    "portfolio_returns"
   ]
  },
  {
   "cell_type": "code",
   "execution_count": 39,
   "id": "fadea581-1eb5-496c-8cb9-2fab22f25d2c",
   "metadata": {},
   "outputs": [
    {
     "data": {
      "text/plain": [
       "Trade DATE\n",
       "1/10/2019         NaN\n",
       "1/11/2019    0.014817\n",
       "1/14/2019   -0.019593\n",
       "1/15/2019   -0.006099\n",
       "1/16/2019   -0.021978\n",
       "dtype: float64"
      ]
     },
     "execution_count": 39,
     "metadata": {},
     "output_type": "execute_result"
    }
   ],
   "source": [
    "weights= [0.5, 0.5]\n",
    "portfolio_returns2 = all_returns.dot(weights)\n",
    "\n",
    "portfolio_returns2.head()\n"
   ]
  },
  {
   "cell_type": "code",
   "execution_count": 40,
   "id": "3b8a7a3d-a717-41da-9794-2369ccb4d1ce",
   "metadata": {},
   "outputs": [
    {
     "data": {
      "text/plain": [
       "Symbol\n",
       "ENB    2.778211\n",
       "IMO    1.360668\n",
       "dtype: float64"
      ]
     },
     "execution_count": 40,
     "metadata": {},
     "output_type": "execute_result"
    }
   ],
   "source": [
    "volatility = all_returns.std()*np.sqrt(252)\n",
    "volatility\n"
   ]
  },
  {
   "cell_type": "code",
   "execution_count": 44,
   "id": "a9920851-2fac-4f10-9102-8e5681a25dfc",
   "metadata": {},
   "outputs": [
    {
     "data": {
      "text/plain": [
       "Trade DATE\n",
       "1/10/2019         NaN\n",
       "1/11/2019    1.014817\n",
       "1/14/2019    0.994934\n",
       "1/15/2019    0.988865\n",
       "1/16/2019    0.967132\n",
       "               ...   \n",
       "9/28/2018    4.357119\n",
       "9/4/2018     4.480243\n",
       "9/5/2018     4.413070\n",
       "9/6/2018     4.143412\n",
       "9/7/2018     4.118925\n",
       "Length: 250, dtype: float64"
      ]
     },
     "execution_count": 44,
     "metadata": {},
     "output_type": "execute_result"
    }
   ],
   "source": [
    "intial_investment = 10000\n",
    "cumulative_returns = (1+portfolio_returns).cumprod()\n",
    "cumulative_returns"
   ]
  },
  {
   "cell_type": "code",
   "execution_count": 45,
   "id": "0fb10bb2-7fc0-463a-9728-578c6e7d326b",
   "metadata": {},
   "outputs": [
    {
     "data": {
      "text/plain": [
       "Trade DATE\n",
       "1/10/2019             NaN\n",
       "1/11/2019    10148.168886\n",
       "1/14/2019     9949.339642\n",
       "1/15/2019     9888.654799\n",
       "1/16/2019     9671.320040\n",
       "                 ...     \n",
       "9/28/2018    43571.190572\n",
       "9/4/2018     44802.433149\n",
       "9/5/2018     44130.700643\n",
       "9/6/2018     41434.124171\n",
       "9/7/2018     41189.253863\n",
       "Length: 250, dtype: float64"
      ]
     },
     "execution_count": 45,
     "metadata": {},
     "output_type": "execute_result"
    }
   ],
   "source": [
    "cumulative_profit= intial_investment * cumulative_returns\n",
    "cumulative_profit\n"
   ]
  },
  {
   "cell_type": "code",
   "execution_count": 46,
   "id": "0b515c60-1aac-4b87-9642-bd8676f597d9",
   "metadata": {},
   "outputs": [
    {
     "data": {
      "text/plain": [
       "<AxesSubplot:xlabel='Trade DATE'>"
      ]
     },
     "execution_count": 46,
     "metadata": {},
     "output_type": "execute_result"
    },
    {
     "data": {
      "image/png": "[encoded data removed]",
      "text/plain": [
       "<Figure size 432x288 with 1 Axes>"
      ]
     },
     "metadata": {
      "needs_background": "light"
     },
     "output_type": "display_data"
    }
   ],
   "source": [
    "cumulative_profit.plot()"
   ]
  },
  {
   "cell_type": "code",
   "execution_count": null,
   "id": "46882f81-2023-43db-b2a3-f0c6075a54af",
   "metadata": {},
   "outputs": [],
   "source": [
    "def get_cumulative_profit(weight_array,intial_investment):\n",
    "    #weights= [0.5, 0.5]\n",
    "    portfolio_returns2 = all_returns.dot(weight_array)\n",
    "    cumulative_profit = intial_investment * cumulative_returns\n",
    "    cumulative_returns = (1+portfolio_returns).cumprod()\n",
    "    intial_investment = 10000\n",
    "    final_profit = cumulative_returns.iloc[-1]\n",
    "    return final_profit\n",
    "\n",
    "get_cumulative_profit(all_returns\n",
    "\n",
    "\n"
   ]
  }
 ],
 "metadata": {
  "kernelspec": {
   "display_name": "Python 3 (ipykernel)",
   "language": "python",
   "name": "python3"
  },
  "language_info": {
   "codemirror_mode": {
    "name": "ipython",
    "version": 3
   },
   "file_extension": ".py",
   "mimetype": "text/x-python",
   "name": "python",
   "nbconvert_exporter": "python",
   "pygments_lexer": "ipython3",
   "version": "3.7.11"
  }
 },
 "nbformat": 4,
 "nbformat_minor": 5
}
