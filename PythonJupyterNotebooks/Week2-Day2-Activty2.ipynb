{
 "cells": [
  {
   "cell_type": "code",
   "execution_count": 1,
   "id": "6049b927-812e-411b-b5ab-4f254c431f57",
   "metadata": {},
   "outputs": [
    {
     "data": {
      "text/plain": [
       "['Water', 'Butter', 'Eggs', 'Apples', ' Cinnamon', 'Sugar', 'Milk']"
      ]
     },
     "execution_count": 1,
     "metadata": {},
     "output_type": "execute_result"
    }
   ],
   "source": [
    "#grocery list\n",
    "\n",
    "grocery_list =  ['Water', 'Butter', 'Eggs', 'Apples', ' Cinnamon', 'Sugar', 'Milk']\n",
    "grocery_list"
   ]
  },
  {
   "cell_type": "code",
   "execution_count": 3,
   "id": "93860a0d-b17f-4a40-bce4-2857013213c2",
   "metadata": {},
   "outputs": [
    {
     "data": {
      "text/plain": [
       "['Water', 'Butter']"
      ]
     },
     "execution_count": 3,
     "metadata": {},
     "output_type": "execute_result"
    }
   ],
   "source": [
    "first_two_items = grocery_list[0:2]\n",
    "first_two_items"
   ]
  },
  {
   "cell_type": "code",
   "execution_count": 8,
   "id": "ec2011dd-6f56-4925-a104-7f9466ce5821",
   "metadata": {},
   "outputs": [
    {
     "data": {
      "text/plain": [
       "['Eggs', 'Apples', ' Cinnamon', 'Sugar', 'Milk']"
      ]
     },
     "execution_count": 8,
     "metadata": {},
     "output_type": "execute_result"
    }
   ],
   "source": [
    "last_five_items = grocery_list[-5:]\n",
    "last_five_items"
   ]
  },
  {
   "cell_type": "code",
   "execution_count": 9,
   "id": "0f5c97f5-a2a7-439c-ab4b-b13bf44f49d0",
   "metadata": {},
   "outputs": [
    {
     "data": {
      "text/plain": [
       "['Water', 'Butter', 'Eggs', 'Apples', ' Cinnamon', 'Sugar', 'Milk', 'flour']"
      ]
     },
     "execution_count": 9,
     "metadata": {},
     "output_type": "execute_result"
    }
   ],
   "source": [
    "#add flour to list\n",
    "grocery_list.append('flour')\n",
    "grocery_list"
   ]
  },
  {
   "cell_type": "code",
   "execution_count": 10,
   "id": "a876be71-009b-405a-8aa1-5e6118cdbf53",
   "metadata": {},
   "outputs": [],
   "source": [
    "#Change apples to gala apples. (Mike decides to be more specific with the type of apples needed.)"
   ]
  },
  {
   "cell_type": "code",
   "execution_count": 11,
   "id": "d8dc326c-25b6-4b0b-8464-4702b371c83e",
   "metadata": {},
   "outputs": [
    {
     "data": {
      "text/plain": [
       "3"
      ]
     },
     "execution_count": 11,
     "metadata": {},
     "output_type": "execute_result"
    }
   ],
   "source": [
    "grocery_list.index('Apples')"
   ]
  },
  {
   "cell_type": "code",
   "execution_count": 12,
   "id": "3307a273-72bc-4fe8-b3cf-09f5f0ba036a",
   "metadata": {},
   "outputs": [
    {
     "data": {
      "text/plain": [
       "['Water', 'Butter', 'Eggs', ' Cinnamon', 'Sugar', 'Milk', 'flour']"
      ]
     },
     "execution_count": 12,
     "metadata": {},
     "output_type": "execute_result"
    }
   ],
   "source": [
    "grocery_list.pop(grocery_list.index('Apples'))\n",
    "grocery_list"
   ]
  },
  {
   "cell_type": "code",
   "execution_count": 13,
   "id": "f662d973-5696-4c76-880b-d8ed28de7a6e",
   "metadata": {},
   "outputs": [
    {
     "data": {
      "text/plain": [
       "['Water',\n",
       " 'Butter',\n",
       " 'Eggs',\n",
       " 'Gala Apples',\n",
       " ' Cinnamon',\n",
       " 'Sugar',\n",
       " 'Milk',\n",
       " 'flour']"
      ]
     },
     "execution_count": 13,
     "metadata": {},
     "output_type": "execute_result"
    }
   ],
   "source": [
    "grocery_list.insert(3,'Gala Apples')\n",
    "grocery_list"
   ]
  },
  {
   "cell_type": "code",
   "execution_count": 17,
   "id": "8b9861be-ff4a-4ca9-b72d-e51201979a75",
   "metadata": {},
   "outputs": [
    {
     "name": "stdout",
     "output_type": "stream",
     "text": [
      "the total number of items on the grocery list 9\n"
     ]
    }
   ],
   "source": [
    "#Determine the total number of items on the grocery list.\n",
    "print(\"the total number of items on the grocery list\" , len(grocery_list))"
   ]
  },
  {
   "cell_type": "code",
   "execution_count": 18,
   "id": "ffb2f932-6f5e-43f7-94d1-851a60939d16",
   "metadata": {},
   "outputs": [
    {
     "name": "stdout",
     "output_type": "stream",
     "text": [
      "the total number of items on the grocery list 9\n"
     ]
    }
   ],
   "source": [
    "print(f\"the total number of items on the grocery list {len(grocery_list)}\")"
   ]
  },
  {
   "cell_type": "code",
   "execution_count": null,
   "id": "9e9b4cf7-c1dc-420e-baea-be2b7324d578",
   "metadata": {},
   "outputs": [],
   "source": []
  }
 ],
 "metadata": {
  "kernelspec": {
   "display_name": "Python 3 (ipykernel)",
   "language": "python",
   "name": "python3"
  },
  "language_info": {
   "codemirror_mode": {
    "name": "ipython",
    "version": 3
   },
   "file_extension": ".py",
   "mimetype": "text/x-python",
   "name": "python",
   "nbconvert_exporter": "python",
   "pygments_lexer": "ipython3",
   "version": "3.9.7"
  }
 },
 "nbformat": 4,
 "nbformat_minor": 5
}
