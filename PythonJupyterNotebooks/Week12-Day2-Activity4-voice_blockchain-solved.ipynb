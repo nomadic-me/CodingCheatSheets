{
 "cells": [
  {
   "cell_type": "markdown",
   "metadata": {},
   "source": [
    "# The Voice of the Blockchain\n",
    "\n",
    "Canada lies at the frontier of the blockchain sector with increasing adoption rates and favorable regulations. In this activity you will retrieve news articles regarding blockchain in Canada for both English and French languages to capture the voice of the blockchain."
   ]
  },
  {
   "cell_type": "code",
   "execution_count": 1,
   "metadata": {},
   "outputs": [],
   "source": [
    "# Initial imports\n",
    "import os\n",
    "import pandas as pd\n",
    "from path import Path\n",
    "from dotenv import load_dotenv\n",
    "from newsapi import NewsApiClient"
   ]
  },
  {
   "cell_type": "code",
   "execution_count": 2,
   "metadata": {},
   "outputs": [],
   "source": [
    "# Load environment variables and retrieve the News API key\n",
    "load_dotenv()\n",
    "api_key = os.getenv(\"NEWSAPI\")"
   ]
  },
  {
   "cell_type": "code",
   "execution_count": 3,
   "metadata": {},
   "outputs": [],
   "source": [
    "# Create the newsapi client\n",
    "newsapi = NewsApiClient(api_key=api_key)"
   ]
  },
  {
   "cell_type": "markdown",
   "metadata": {},
   "source": [
    "## Getting News Articles in English\n",
    "\n",
    "In this section you have to fetch all the news articles using the News API with the keywords `blockchain`, `canada`, and `2020` in English.\n",
    "\n"
   ]
  },
  {
   "cell_type": "code",
   "execution_count": 4,
   "metadata": {},
   "outputs": [
    {
     "data": {
      "text/plain": [
       "141"
      ]
     },
     "execution_count": 4,
     "metadata": {},
     "output_type": "execute_result"
    }
   ],
   "source": [
    "# Fetch news about Canada and Blockchain in 2020 in the English language\n",
    "blockchain_news_en = newsapi.get_everything(\n",
    "    q=\"blockchain AND canada AND 2020\",\n",
    "    language=\"en\"\n",
    ")\n",
    "\n",
    "# Show the total number of news\n",
    "blockchain_news_en[\"totalResults\"]"
   ]
  },
  {
   "cell_type": "markdown",
   "metadata": {},
   "source": [
    "## Getting News Articles in French\n",
    "\n",
    "Fetching news in French will require keywords on this language, so retrieve all the news articles using the News API using the keywords `blockchain`, `canada`, and `2020`."
   ]
  },
  {
   "cell_type": "code",
   "execution_count": 5,
   "metadata": {},
   "outputs": [
    {
     "data": {
      "text/plain": [
       "1"
      ]
     },
     "execution_count": 5,
     "metadata": {},
     "output_type": "execute_result"
    }
   ],
   "source": [
    "# Fetch news about Canada and Blockchain in 2020 in the French language\n",
    "blockchain_news_fr = newsapi.get_everything(\n",
    "    q=\"blockchain AND canada AND 2020\",\n",
    "    language=\"fr\"\n",
    ")\n",
    "\n",
    "# Show the total number of news\n",
    "blockchain_news_fr[\"totalResults\"]"
   ]
  },
  {
   "cell_type": "markdown",
   "metadata": {},
   "source": [
    "## Create a DataFrame with All the Results\n",
    "\n",
    "The first task on this section is to create a function called `create_df(news, language)` that will transform the `articles` list in a DataFrame. This function will receive two parameters: `news` is the articles' list and `language` is a string to specify the language of the news articles.\n",
    "\n",
    "The resulting DataFrame should have the following columns:\n",
    "\n",
    "* Title: The article's title\n",
    "* Description: The article's description\n",
    "* Text: The article's content\n",
    "* Date: The date when the article was published, using the format `YYY-MM-DD` (eg. 2019-07-11)\n",
    "* Language: A string specifying the news language (`en` for English, `fr` for French)"
   ]
  },
  {
   "cell_type": "code",
   "execution_count": 6,
   "metadata": {},
   "outputs": [],
   "source": [
    "# Function to create a dataframe for english news and french news\n",
    "def create_df(news, language):\n",
    "    articles = []\n",
    "    for article in news:\n",
    "        try:\n",
    "            title = article[\"title\"]\n",
    "            description = article[\"description\"]\n",
    "            text = article[\"content\"]\n",
    "            date = article[\"publishedAt\"][:10]\n",
    "\n",
    "            articles.append({\n",
    "                \"title\": title,\n",
    "                \"description\": description,\n",
    "                \"text\": text,\n",
    "                \"date\": date,\n",
    "                \"language\": language\n",
    "            })\n",
    "        except AttributeError:\n",
    "            pass\n",
    "\n",
    "    return pd.DataFrame(articles)"
   ]
  },
  {
   "cell_type": "markdown",
   "metadata": {},
   "source": [
    "Use the create_df() function to create a DataFrame for the English news and another for the French news."
   ]
  },
  {
   "cell_type": "code",
   "execution_count": 7,
   "metadata": {},
   "outputs": [],
   "source": [
    "# Create a DataFrame with the news in English\n",
    "blockchain_en_df = create_df(blockchain_news_en[\"articles\"], \"en\")\n",
    "\n",
    "# Create a DataFrame with the news in French\n",
    "blockchain_fr_df = create_df(blockchain_news_fr[\"articles\"], \"fr\")"
   ]
  },
  {
   "cell_type": "markdown",
   "metadata": {},
   "source": [
    "Concatenate both DataFrames having the English news at the top and the French news at the bottom."
   ]
  },
  {
   "cell_type": "code",
   "execution_count": 8,
   "metadata": {},
   "outputs": [],
   "source": [
    "# Concatenate dataframes\n",
    "blockchain_df = pd.concat([blockchain_en_df, blockchain_fr_df])"
   ]
  },
  {
   "cell_type": "code",
   "execution_count": 9,
   "metadata": {},
   "outputs": [
    {
     "data": {
      "text/html": [
       "<div>\n",
       "<style scoped>\n",
       "    .dataframe tbody tr th:only-of-type {\n",
       "        vertical-align: middle;\n",
       "    }\n",
       "\n",
       "    .dataframe tbody tr th {\n",
       "        vertical-align: top;\n",
       "    }\n",
       "\n",
       "    .dataframe thead th {\n",
       "        text-align: right;\n",
       "    }\n",
       "</style>\n",
       "<table border=\"1\" class=\"dataframe\">\n",
       "  <thead>\n",
       "    <tr style=\"text-align: right;\">\n",
       "      <th></th>\n",
       "      <th>title</th>\n",
       "      <th>description</th>\n",
       "      <th>text</th>\n",
       "      <th>date</th>\n",
       "      <th>language</th>\n",
       "    </tr>\n",
       "  </thead>\n",
       "  <tbody>\n",
       "    <tr>\n",
       "      <th>0</th>\n",
       "      <td>Hit by cryptocurrency curbs, Chinese fund mana...</td>\n",
       "      <td>As the price of bitcoin soars, Chinese cryptoc...</td>\n",
       "      <td>SHANGHAI/HONG KONG (Reuters) - As the price of...</td>\n",
       "      <td>2020-11-23</td>\n",
       "      <td>en</td>\n",
       "    </tr>\n",
       "    <tr>\n",
       "      <th>1</th>\n",
       "      <td>Hit by cryptocurrency curbs, Chinese fund mana...</td>\n",
       "      <td>As the price of bitcoin soars, Chinese cryptoc...</td>\n",
       "      <td>By Samuel Shen, Alun John\\r\\nSHANGHAI/HONG KON...</td>\n",
       "      <td>2020-11-23</td>\n",
       "      <td>en</td>\n",
       "    </tr>\n",
       "    <tr>\n",
       "      <th>2</th>\n",
       "      <td>Riot Blockchain Announces Appointment of New D...</td>\n",
       "      <td>Riot Blockchain, Inc. (NASDAQ: RIOT) (\"Riot\" o...</td>\n",
       "      <td>CASTLE ROCK, Colo., Nov. 17, 2020 /PRNewswire/...</td>\n",
       "      <td>2020-11-17</td>\n",
       "      <td>en</td>\n",
       "    </tr>\n",
       "    <tr>\n",
       "      <th>3</th>\n",
       "      <td>Enterprise Gaming Canada Inc. and Bermuda Isla...</td>\n",
       "      <td>MONTREAL--(BUSINESS WIRE)--Enterprise Gaming C...</td>\n",
       "      <td>MONTREAL--(BUSINESS WIRE)--Enterprise Gaming C...</td>\n",
       "      <td>2020-11-19</td>\n",
       "      <td>en</td>\n",
       "    </tr>\n",
       "    <tr>\n",
       "      <th>4</th>\n",
       "      <td>The 22nd China Hi-Tech Fair Concludes with Suc...</td>\n",
       "      <td>/CNW/ -- The 5-day hi-tech feast, the 22nd Chi...</td>\n",
       "      <td>A set of figures show what CHTF2020 has achiev...</td>\n",
       "      <td>2020-11-16</td>\n",
       "      <td>en</td>\n",
       "    </tr>\n",
       "  </tbody>\n",
       "</table>\n",
       "</div>"
      ],
      "text/plain": [
       "                                               title  \\\n",
       "0  Hit by cryptocurrency curbs, Chinese fund mana...   \n",
       "1  Hit by cryptocurrency curbs, Chinese fund mana...   \n",
       "2  Riot Blockchain Announces Appointment of New D...   \n",
       "3  Enterprise Gaming Canada Inc. and Bermuda Isla...   \n",
       "4  The 22nd China Hi-Tech Fair Concludes with Suc...   \n",
       "\n",
       "                                         description  \\\n",
       "0  As the price of bitcoin soars, Chinese cryptoc...   \n",
       "1  As the price of bitcoin soars, Chinese cryptoc...   \n",
       "2  Riot Blockchain, Inc. (NASDAQ: RIOT) (\"Riot\" o...   \n",
       "3  MONTREAL--(BUSINESS WIRE)--Enterprise Gaming C...   \n",
       "4  /CNW/ -- The 5-day hi-tech feast, the 22nd Chi...   \n",
       "\n",
       "                                                text        date language  \n",
       "0  SHANGHAI/HONG KONG (Reuters) - As the price of...  2020-11-23       en  \n",
       "1  By Samuel Shen, Alun John\\r\\nSHANGHAI/HONG KON...  2020-11-23       en  \n",
       "2  CASTLE ROCK, Colo., Nov. 17, 2020 /PRNewswire/...  2020-11-17       en  \n",
       "3  MONTREAL--(BUSINESS WIRE)--Enterprise Gaming C...  2020-11-19       en  \n",
       "4  A set of figures show what CHTF2020 has achiev...  2020-11-16       en  "
      ]
     },
     "execution_count": 9,
     "metadata": {},
     "output_type": "execute_result"
    }
   ],
   "source": [
    "# Show the head articles (they are in English)\n",
    "blockchain_df.head()"
   ]
  },
  {
   "cell_type": "code",
   "execution_count": 10,
   "metadata": {},
   "outputs": [
    {
     "data": {
      "text/html": [
       "<div>\n",
       "<style scoped>\n",
       "    .dataframe tbody tr th:only-of-type {\n",
       "        vertical-align: middle;\n",
       "    }\n",
       "\n",
       "    .dataframe tbody tr th {\n",
       "        vertical-align: top;\n",
       "    }\n",
       "\n",
       "    .dataframe thead th {\n",
       "        text-align: right;\n",
       "    }\n",
       "</style>\n",
       "<table border=\"1\" class=\"dataframe\">\n",
       "  <thead>\n",
       "    <tr style=\"text-align: right;\">\n",
       "      <th></th>\n",
       "      <th>title</th>\n",
       "      <th>description</th>\n",
       "      <th>text</th>\n",
       "      <th>date</th>\n",
       "      <th>language</th>\n",
       "    </tr>\n",
       "  </thead>\n",
       "  <tbody>\n",
       "    <tr>\n",
       "      <th>16</th>\n",
       "      <td>United States Customs Brokerage Market - Growt...</td>\n",
       "      <td>The United States Customs Brokerage market is ...</td>\n",
       "      <td>The United States Customs Brokerage market is ...</td>\n",
       "      <td>2020-12-04</td>\n",
       "      <td>en</td>\n",
       "    </tr>\n",
       "    <tr>\n",
       "      <th>17</th>\n",
       "      <td>2020 Tech Trailblazers Award winners announced...</td>\n",
       "      <td>Expert judges recognise some of the world’s to...</td>\n",
       "      <td>Expert judges recognise some of the world’s to...</td>\n",
       "      <td>2020-12-08</td>\n",
       "      <td>en</td>\n",
       "    </tr>\n",
       "    <tr>\n",
       "      <th>18</th>\n",
       "      <td>Digital Asset Custody Company, Brane, Announce...</td>\n",
       "      <td>Brane Inc., a leading digital asset custodian,...</td>\n",
       "      <td>OTTAWA, ON, Dec. 8, 2020 /PRNewswire/ -- Brane...</td>\n",
       "      <td>2020-12-08</td>\n",
       "      <td>en</td>\n",
       "    </tr>\n",
       "    <tr>\n",
       "      <th>19</th>\n",
       "      <td>Hyperledger Welcomes 10 New Members, Including...</td>\n",
       "      <td>Hyperledger Welcomes 10 New Members, Including...</td>\n",
       "      <td>Hyperledger Welcomes 10 New Members, Including...</td>\n",
       "      <td>2020-12-10</td>\n",
       "      <td>en</td>\n",
       "    </tr>\n",
       "    <tr>\n",
       "      <th>0</th>\n",
       "      <td>Objectif Lune : le temps de la reconquête ?</td>\n",
       "      <td>Plusieurs programmes actuels visent à envoyer ...</td>\n",
       "      <td>Eugene Cernan sur la Lune, le 13 décembre 1972...</td>\n",
       "      <td>2020-11-22</td>\n",
       "      <td>fr</td>\n",
       "    </tr>\n",
       "  </tbody>\n",
       "</table>\n",
       "</div>"
      ],
      "text/plain": [
       "                                                title  \\\n",
       "16  United States Customs Brokerage Market - Growt...   \n",
       "17  2020 Tech Trailblazers Award winners announced...   \n",
       "18  Digital Asset Custody Company, Brane, Announce...   \n",
       "19  Hyperledger Welcomes 10 New Members, Including...   \n",
       "0         Objectif Lune : le temps de la reconquête ?   \n",
       "\n",
       "                                          description  \\\n",
       "16  The United States Customs Brokerage market is ...   \n",
       "17  Expert judges recognise some of the world’s to...   \n",
       "18  Brane Inc., a leading digital asset custodian,...   \n",
       "19  Hyperledger Welcomes 10 New Members, Including...   \n",
       "0   Plusieurs programmes actuels visent à envoyer ...   \n",
       "\n",
       "                                                 text        date language  \n",
       "16  The United States Customs Brokerage market is ...  2020-12-04       en  \n",
       "17  Expert judges recognise some of the world’s to...  2020-12-08       en  \n",
       "18  OTTAWA, ON, Dec. 8, 2020 /PRNewswire/ -- Brane...  2020-12-08       en  \n",
       "19  Hyperledger Welcomes 10 New Members, Including...  2020-12-10       en  \n",
       "0   Eugene Cernan sur la Lune, le 13 décembre 1972...  2020-11-22       fr  "
      ]
     },
     "execution_count": 10,
     "metadata": {},
     "output_type": "execute_result"
    }
   ],
   "source": [
    "# Show the tail articles (they are in French)\n",
    "blockchain_df.tail()"
   ]
  },
  {
   "cell_type": "markdown",
   "metadata": {},
   "source": [
    "Save tha final DataFrame as a CSV file for further analysis in the forthcoming activities."
   ]
  },
  {
   "cell_type": "code",
   "execution_count": 11,
   "metadata": {},
   "outputs": [],
   "source": [
    "# Save to CSV\n",
    "file_path = Path(\"../Resources/blockchain_news_en_fr.csv\")\n",
    "blockchain_df.to_csv(file_path, index=False, encoding='utf-8-sig')"
   ]
  }
 ],
 "metadata": {
  "file_extension": ".py",
  "kernelspec": {
   "display_name": "Python [conda env:dev3.7]",
   "language": "python",
   "name": "conda-env-dev3.7-py"
  },
  "language_info": {
   "codemirror_mode": {
    "name": "ipython",
    "version": 3
   },
   "file_extension": ".py",
   "mimetype": "text/x-python",
   "name": "python",
   "nbconvert_exporter": "python",
   "pygments_lexer": "ipython3",
   "version": "3.7.7"
  },
  "mimetype": "text/x-python",
  "name": "python",
  "npconvert_exporter": "python",
  "pygments_lexer": "ipython3",
  "version": 3
 },
 "nbformat": 4,
 "nbformat_minor": 4
}
