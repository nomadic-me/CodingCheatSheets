{
 "cells": [
  {
   "cell_type": "code",
   "execution_count": 4,
   "id": "cafbb8ad-02c1-41b8-8e9e-7e0a2c09d54b",
   "metadata": {},
   "outputs": [
    {
     "name": "stdout",
     "output_type": "stream",
     "text": [
      "10\n"
     ]
    }
   ],
   "source": [
    "def bcd(x,y):   \n",
    "    while y !=0:    \n",
    "        t=x\n",
    "        x=y\n",
    "        y=t%y\n",
    "    return x\n",
    "print (bcd(40,30))\n",
    "        "
   ]
  },
  {
   "cell_type": "code",
   "execution_count": 2,
   "id": "0cd15cda",
   "metadata": {},
   "outputs": [],
   "source": [
    "class robot():\n",
    "    def __init__(self,name,color,weight):\n",
    "        self.name=name\n",
    "        self.color=color\n",
    "        self.weight=weight\n",
    "    def introduce_self(self):\n",
    "        print(\"My name is \" + self.name +\" and my color is \"+self.color)\n",
    "        "
   ]
  },
  {
   "cell_type": "code",
   "execution_count": 4,
   "id": "44b398f3",
   "metadata": {},
   "outputs": [
    {
     "name": "stdout",
     "output_type": "stream",
     "text": [
      "My name is Tom and my color is Red\n"
     ]
    }
   ],
   "source": [
    "r1=robot(\"Tom\",\"Red\",100)\n",
    "r1.introduce_self()"
   ]
  },
  {
   "cell_type": "code",
   "execution_count": 5,
   "id": "61e5478d-1c7c-4295-a911-16a7119e4d06",
   "metadata": {},
   "outputs": [
    {
     "data": {
      "text/plain": [
       "'Albert'"
      ]
     },
     "execution_count": 5,
     "metadata": {},
     "output_type": "execute_result"
    }
   ],
   "source": [
    "a=['John', 'Sam', 'Albert','Oliver','Leslie']\n",
    "a[2]"
   ]
  },
  {
   "cell_type": "code",
   "execution_count": 13,
   "id": "b204b7a1-fe1e-4b20-8aab-e30c1a49b543",
   "metadata": {},
   "outputs": [
    {
     "data": {
      "text/plain": [
       "['Albert', 'Leslie']"
      ]
     },
     "execution_count": 13,
     "metadata": {},
     "output_type": "execute_result"
    }
   ],
   "source": [
    "[a[2]]+[a[-1]]"
   ]
  },
  {
   "cell_type": "code",
   "execution_count": 14,
   "id": "8b2be875-d69f-42ad-9cfc-442fe5fdeaf9",
   "metadata": {},
   "outputs": [],
   "source": [
    "x=3"
   ]
  },
  {
   "cell_type": "code",
   "execution_count": 15,
   "id": "5cee11a1-c98c-4dea-bc8a-3c516dc0aaf0",
   "metadata": {},
   "outputs": [
    {
     "data": {
      "text/plain": [
       "int"
      ]
     },
     "execution_count": 15,
     "metadata": {},
     "output_type": "execute_result"
    }
   ],
   "source": [
    "type(x)"
   ]
  },
  {
   "cell_type": "code",
   "execution_count": 16,
   "id": "c6e35db8-010c-46fb-a0eb-9442a2819cb1",
   "metadata": {},
   "outputs": [],
   "source": [
    "x=str(3)"
   ]
  },
  {
   "cell_type": "code",
   "execution_count": 17,
   "id": "a7957960-497d-4369-ab81-f9c176f6f856",
   "metadata": {},
   "outputs": [
    {
     "data": {
      "text/plain": [
       "str"
      ]
     },
     "execution_count": 17,
     "metadata": {},
     "output_type": "execute_result"
    }
   ],
   "source": [
    "type(x)"
   ]
  },
  {
   "cell_type": "code",
   "execution_count": 18,
   "id": "79c34326-5841-4e19-aaf2-c16676f1d19a",
   "metadata": {},
   "outputs": [
    {
     "data": {
      "text/plain": [
       "'3'"
      ]
     },
     "execution_count": 18,
     "metadata": {},
     "output_type": "execute_result"
    }
   ],
   "source": [
    "x"
   ]
  },
  {
   "cell_type": "code",
   "execution_count": 20,
   "id": "a2837da9-999b-4c2d-96b3-d349e81c21d8",
   "metadata": {},
   "outputs": [
    {
     "data": {
      "text/plain": [
       "'31'"
      ]
     },
     "execution_count": 20,
     "metadata": {},
     "output_type": "execute_result"
    }
   ],
   "source": [
    "x+'1'"
   ]
  },
  {
   "cell_type": "code",
   "execution_count": null,
   "id": "1d311499-b02b-4ee1-bebf-45824cf16134",
   "metadata": {},
   "outputs": [],
   "source": []
  },
  {
   "cell_type": "code",
   "execution_count": null,
   "id": "705ffcd0-41d7-46dc-8bc3-5efba7b6cbf9",
   "metadata": {},
   "outputs": [],
   "source": []
  },
  {
   "cell_type": "code",
   "execution_count": 10,
   "id": "44835fa9-2f8c-4dd1-87ac-8348ae88555d",
   "metadata": {},
   "outputs": [
    {
     "data": {
      "text/plain": [
       "['Albert', 'Oliver', 'Leslie']"
      ]
     },
     "execution_count": 10,
     "metadata": {},
     "output_type": "execute_result"
    }
   ],
   "source": [
    "a[-3:]"
   ]
  },
  {
   "cell_type": "code",
   "execution_count": 22,
   "id": "2eff8b25-c7cb-4e37-8b1b-559ac2d0f31a",
   "metadata": {},
   "outputs": [
    {
     "data": {
      "text/plain": [
       "['Leslie', 'Oliver', 'Albert', 'Sam', 'John']"
      ]
     },
     "execution_count": 22,
     "metadata": {},
     "output_type": "execute_result"
    }
   ],
   "source": [
    "a[::-1]"
   ]
  },
  {
   "cell_type": "code",
   "execution_count": 23,
   "id": "4e849ab5-5bd5-4253-975c-0b35cfc96ba4",
   "metadata": {},
   "outputs": [],
   "source": [
    "#queue=FIFO Stack=LIFO Collection=\n",
    "a.append('Faye')"
   ]
  },
  {
   "cell_type": "code",
   "execution_count": 24,
   "id": "c81e58a2-17da-46bd-84ee-2fa9817798b3",
   "metadata": {},
   "outputs": [
    {
     "data": {
      "text/plain": [
       "['John', 'Sam', 'Albert', 'Oliver', 'Leslie', 'Faye']"
      ]
     },
     "execution_count": 24,
     "metadata": {},
     "output_type": "execute_result"
    }
   ],
   "source": [
    "a"
   ]
  },
  {
   "cell_type": "code",
   "execution_count": 25,
   "id": "d25f8518-74ac-4989-8c04-ed6ab9d6bc33",
   "metadata": {},
   "outputs": [
    {
     "data": {
      "text/plain": [
       "'Faye'"
      ]
     },
     "execution_count": 25,
     "metadata": {},
     "output_type": "execute_result"
    }
   ],
   "source": [
    "a.pop()# popping the last one - stack implementation"
   ]
  },
  {
   "cell_type": "code",
   "execution_count": 26,
   "id": "a1463e3c-478c-487e-840c-f9602783ff67",
   "metadata": {},
   "outputs": [
    {
     "data": {
      "text/plain": [
       "['John', 'Sam', 'Albert', 'Oliver', 'Leslie']"
      ]
     },
     "execution_count": 26,
     "metadata": {},
     "output_type": "execute_result"
    }
   ],
   "source": [
    "a"
   ]
  },
  {
   "cell_type": "code",
   "execution_count": 27,
   "id": "648040a2-c0d2-4bcd-996a-539c69117c61",
   "metadata": {},
   "outputs": [
    {
     "data": {
      "text/plain": [
       "'John'"
      ]
     },
     "execution_count": 27,
     "metadata": {},
     "output_type": "execute_result"
    }
   ],
   "source": [
    "a.pop(0)"
   ]
  },
  {
   "cell_type": "code",
   "execution_count": 28,
   "id": "16d95e6b-bdfa-410e-8680-6773c1b124e4",
   "metadata": {},
   "outputs": [
    {
     "data": {
      "text/plain": [
       "['Sam', 'Albert', 'Oliver', 'Leslie']"
      ]
     },
     "execution_count": 28,
     "metadata": {},
     "output_type": "execute_result"
    }
   ],
   "source": [
    "a"
   ]
  },
  {
   "cell_type": "code",
   "execution_count": 29,
   "id": "01ff9bf4-4dd6-4012-a527-416be633591b",
   "metadata": {},
   "outputs": [
    {
     "data": {
      "text/plain": [
       "'Sam'"
      ]
     },
     "execution_count": 29,
     "metadata": {},
     "output_type": "execute_result"
    }
   ],
   "source": [
    "a[0]"
   ]
  },
  {
   "cell_type": "code",
   "execution_count": 31,
   "id": "461601d8-82b5-49b4-9e0b-7c97a4faa153",
   "metadata": {},
   "outputs": [
    {
     "data": {
      "text/plain": [
       "'Leslie'"
      ]
     },
     "execution_count": 31,
     "metadata": {},
     "output_type": "execute_result"
    }
   ],
   "source": [
    "a[::-1][0]"
   ]
  },
  {
   "cell_type": "code",
   "execution_count": 32,
   "id": "468ac05d-1686-4cc4-8542-661ab4445c64",
   "metadata": {},
   "outputs": [
    {
     "data": {
      "text/plain": [
       "'Leslie'"
      ]
     },
     "execution_count": 32,
     "metadata": {},
     "output_type": "execute_result"
    }
   ],
   "source": [
    "a[-1]"
   ]
  },
  {
   "cell_type": "code",
   "execution_count": 33,
   "id": "90a6fe7f-ba24-4b47-9dd6-793653d361dc",
   "metadata": {},
   "outputs": [
    {
     "data": {
      "text/plain": [
       "['Sam', 'Albert', 'Oliver', 'Leslie']"
      ]
     },
     "execution_count": 33,
     "metadata": {},
     "output_type": "execute_result"
    }
   ],
   "source": [
    "a"
   ]
  },
  {
   "cell_type": "code",
   "execution_count": 34,
   "id": "0e7dacbb-a1a9-49f1-b3e5-47c95134a303",
   "metadata": {},
   "outputs": [
    {
     "data": {
      "text/plain": [
       "2"
      ]
     },
     "execution_count": 34,
     "metadata": {},
     "output_type": "execute_result"
    }
   ],
   "source": [
    "a.index('Oliver')"
   ]
  },
  {
   "cell_type": "code",
   "execution_count": 35,
   "id": "39ebb110-2026-4925-8d38-80908335d169",
   "metadata": {},
   "outputs": [],
   "source": [
    "a.insert(1,'John')"
   ]
  },
  {
   "cell_type": "code",
   "execution_count": 36,
   "id": "4e1a3401-3bdb-44fd-a3b0-66e03ef0c99a",
   "metadata": {},
   "outputs": [
    {
     "data": {
      "text/plain": [
       "['Sam', 'John', 'Albert', 'Oliver', 'Leslie']"
      ]
     },
     "execution_count": 36,
     "metadata": {},
     "output_type": "execute_result"
    }
   ],
   "source": [
    "a"
   ]
  },
  {
   "cell_type": "code",
   "execution_count": 37,
   "id": "da96525c-f316-4105-9570-86fc1beb295e",
   "metadata": {},
   "outputs": [],
   "source": [
    "a.remove('John')"
   ]
  },
  {
   "cell_type": "code",
   "execution_count": 38,
   "id": "e83929a5-3b21-4107-a2c7-1a3e234a368c",
   "metadata": {},
   "outputs": [
    {
     "data": {
      "text/plain": [
       "['Sam', 'Albert', 'Oliver', 'Leslie']"
      ]
     },
     "execution_count": 38,
     "metadata": {},
     "output_type": "execute_result"
    }
   ],
   "source": [
    "a"
   ]
  },
  {
   "cell_type": "code",
   "execution_count": 39,
   "id": "4f0d37a8-fc9b-4b01-beee-321b594b50b2",
   "metadata": {},
   "outputs": [
    {
     "data": {
      "text/plain": [
       "'Albert'"
      ]
     },
     "execution_count": 39,
     "metadata": {},
     "output_type": "execute_result"
    }
   ],
   "source": [
    "a.pop(1)"
   ]
  },
  {
   "cell_type": "code",
   "execution_count": 40,
   "id": "ec07a01c-4a32-4305-8418-59fc806d47e0",
   "metadata": {},
   "outputs": [
    {
     "data": {
      "text/plain": [
       "['Sam', 'Oliver', 'Leslie']"
      ]
     },
     "execution_count": 40,
     "metadata": {},
     "output_type": "execute_result"
    }
   ],
   "source": [
    "a"
   ]
  },
  {
   "cell_type": "code",
   "execution_count": 41,
   "id": "5e73fa61-17b4-4b49-91ea-61896214354b",
   "metadata": {},
   "outputs": [],
   "source": [
    "a=['Sam', 'Albert', 'Oliver', 'Leslie', 'John', 'John']"
   ]
  },
  {
   "cell_type": "code",
   "execution_count": 42,
   "id": "b325fa60-1bca-443a-9b01-40349d29faa6",
   "metadata": {},
   "outputs": [],
   "source": [
    "a.remove('John')"
   ]
  },
  {
   "cell_type": "code",
   "execution_count": 43,
   "id": "e7389b5a-24df-4115-a05f-a1349b5958ec",
   "metadata": {},
   "outputs": [
    {
     "data": {
      "text/plain": [
       "['Sam', 'Albert', 'Oliver', 'Leslie', 'John']"
      ]
     },
     "execution_count": 43,
     "metadata": {},
     "output_type": "execute_result"
    }
   ],
   "source": [
    "a"
   ]
  },
  {
   "cell_type": "code",
   "execution_count": 48,
   "id": "c823c4f1-76a5-4b58-98bd-d5ff82797ded",
   "metadata": {},
   "outputs": [],
   "source": [
    "a.insert(-2,'Faye')"
   ]
  },
  {
   "cell_type": "code",
   "execution_count": 47,
   "id": "76820789-e5be-4767-9e62-ecf15b59c32d",
   "metadata": {},
   "outputs": [
    {
     "data": {
      "text/plain": [
       "['Sam', 'Albert', 'Oliver', 'Leslie', 'Faye', 'John']"
      ]
     },
     "execution_count": 47,
     "metadata": {},
     "output_type": "execute_result"
    }
   ],
   "source": [
    "a"
   ]
  },
  {
   "cell_type": "code",
   "execution_count": 51,
   "id": "f9389327-8e15-4679-b046-b32a97c2fb09",
   "metadata": {},
   "outputs": [
    {
     "data": {
      "text/plain": [
       "((0, 'Sam'),\n",
       " (1, 'Albert'),\n",
       " (2, 'Oliver'),\n",
       " (3, 'Leslie'),\n",
       " (4, 'Faye'),\n",
       " (5, 'Faye'),\n",
       " (6, 'John'))"
      ]
     },
     "execution_count": 51,
     "metadata": {},
     "output_type": "execute_result"
    }
   ],
   "source": [
    "tuple(enumerate(a))"
   ]
  },
  {
   "cell_type": "code",
   "execution_count": 54,
   "id": "9fe043e5-9660-4380-a1a2-928d83d48ed1",
   "metadata": {},
   "outputs": [],
   "source": [
    "pie=['Water'\n",
    ",'Butter'\n",
    ",'Eggs'\n",
    ",'Apples'\n",
    ",'Cinnamon'\n",
    ",'Sugar'\n",
    ",'Milk']"
   ]
  },
  {
   "cell_type": "code",
   "execution_count": 55,
   "id": "ba65898b-66c6-4f80-af60-cd97c10acf51",
   "metadata": {},
   "outputs": [
    {
     "data": {
      "text/plain": [
       "['Water', 'Butter', 'Eggs', 'Apples', 'Cinnamon', 'Sugar', 'Milk']"
      ]
     },
     "execution_count": 55,
     "metadata": {},
     "output_type": "execute_result"
    }
   ],
   "source": [
    "pie"
   ]
  },
  {
   "cell_type": "code",
   "execution_count": 57,
   "id": "f33f9720-e6aa-416c-a429-ab414a66f6bc",
   "metadata": {},
   "outputs": [
    {
     "data": {
      "text/plain": [
       "['Water', 'Butter']"
      ]
     },
     "execution_count": 57,
     "metadata": {},
     "output_type": "execute_result"
    }
   ],
   "source": [
    "pie[:2]"
   ]
  },
  {
   "cell_type": "code",
   "execution_count": 59,
   "id": "27143b6a-a013-4047-9dea-195c488cbb60",
   "metadata": {},
   "outputs": [
    {
     "data": {
      "text/plain": [
       "['Eggs', 'Apples', 'Cinnamon', 'Sugar', 'Milk']"
      ]
     },
     "execution_count": 59,
     "metadata": {},
     "output_type": "execute_result"
    }
   ],
   "source": [
    "pie[-5:]"
   ]
  },
  {
   "cell_type": "code",
   "execution_count": 60,
   "id": "41f01b21-2172-4166-8e13-0038cba954bd",
   "metadata": {},
   "outputs": [
    {
     "data": {
      "text/plain": [
       "['Butter', 'Apples', 'Sugar']"
      ]
     },
     "execution_count": 60,
     "metadata": {},
     "output_type": "execute_result"
    }
   ],
   "source": [
    "pie[1::2]"
   ]
  },
  {
   "cell_type": "code",
   "execution_count": 61,
   "id": "208e7626-e627-4b3e-b76b-c91c31f7f840",
   "metadata": {},
   "outputs": [],
   "source": [
    "pie.append('flour')"
   ]
  },
  {
   "cell_type": "code",
   "execution_count": 62,
   "id": "f2042d35-5366-429b-a0f7-9ad047744934",
   "metadata": {},
   "outputs": [
    {
     "data": {
      "text/plain": [
       "['Water', 'Butter', 'Eggs', 'Apples', 'Cinnamon', 'Sugar', 'Milk', 'flour']"
      ]
     },
     "execution_count": 62,
     "metadata": {},
     "output_type": "execute_result"
    }
   ],
   "source": [
    "pie"
   ]
  },
  {
   "cell_type": "code",
   "execution_count": 64,
   "id": "5921c287-4194-4710-882e-cf8e1080b808",
   "metadata": {},
   "outputs": [],
   "source": [
    "pie[pie.index('Apples')]='gala apples'"
   ]
  },
  {
   "cell_type": "code",
   "execution_count": 65,
   "id": "e3e3ca81-a01c-4e2e-bcc7-a325ba990133",
   "metadata": {},
   "outputs": [
    {
     "data": {
      "text/plain": [
       "['Water',\n",
       " 'Butter',\n",
       " 'Eggs',\n",
       " 'gala apples',\n",
       " 'Cinnamon',\n",
       " 'Sugar',\n",
       " 'Milk',\n",
       " 'flour']"
      ]
     },
     "execution_count": 65,
     "metadata": {},
     "output_type": "execute_result"
    }
   ],
   "source": [
    "pie"
   ]
  },
  {
   "cell_type": "code",
   "execution_count": 66,
   "id": "80d8d392-bd92-4fd4-bd92-78320e13a37e",
   "metadata": {},
   "outputs": [
    {
     "data": {
      "text/plain": [
       "8"
      ]
     },
     "execution_count": 66,
     "metadata": {},
     "output_type": "execute_result"
    }
   ],
   "source": [
    "len(pie)"
   ]
  },
  {
   "cell_type": "code",
   "execution_count": 103,
   "id": "a3a02ed9-396b-495b-b020-b91a82db607f",
   "metadata": {},
   "outputs": [],
   "source": [
    "trading = [ -224,  352, 252, 354, -544,\n",
    "                -650,   56, 123, -43,  254,\n",
    "                 325, -123,  47, 321,  123,\n",
    "                 133, -151, 613, 232, -311 ]"
   ]
  },
  {
   "cell_type": "code",
   "execution_count": 70,
   "id": "05d1a833-ab4a-4a8f-8571-edf909e0abac",
   "metadata": {},
   "outputs": [],
   "source": [
    "sum=0\n",
    "count=0\n",
    "for i in trading_pnl:\n",
    "    sum=sum+i\n",
    "    count=count+1"
   ]
  },
  {
   "cell_type": "code",
   "execution_count": 71,
   "id": "c65f47a5-e848-46a6-b07f-d1c8eee60271",
   "metadata": {},
   "outputs": [
    {
     "data": {
      "text/plain": [
       "20"
      ]
     },
     "execution_count": 71,
     "metadata": {},
     "output_type": "execute_result"
    }
   ],
   "source": [
    "count"
   ]
  },
  {
   "cell_type": "code",
   "execution_count": 69,
   "id": "efffd4d5-0c49-44ec-9926-7ec0a5b7a535",
   "metadata": {},
   "outputs": [
    {
     "data": {
      "text/plain": [
       "1139"
      ]
     },
     "execution_count": 69,
     "metadata": {},
     "output_type": "execute_result"
    }
   ],
   "source": [
    "sum"
   ]
  },
  {
   "cell_type": "code",
   "execution_count": 146,
   "id": "e59ebee1-988d-45b8-beab-df151575a357",
   "metadata": {
    "tags": []
   },
   "outputs": [
    {
     "data": {
      "text/plain": [
       "range(0, 20)"
      ]
     },
     "execution_count": 146,
     "metadata": {},
     "output_type": "execute_result"
    }
   ],
   "source": [
    "range(0,len(trading))"
   ]
  },
  {
   "cell_type": "code",
   "execution_count": 148,
   "id": "1e5c859c-37ce-4093-b3a2-b6e7013dd061",
   "metadata": {},
   "outputs": [],
   "source": [
    "trading = [ -224,  352, 252, 354, -544,\n",
    "                -650,   56, 123, -43,  254,\n",
    "                 325, -123,  47, 321,  123,\n",
    "                 133, -151, 613, 232, -311 ]"
   ]
  },
  {
   "cell_type": "code",
   "execution_count": 150,
   "id": "fdcc7e15-76b4-4f0b-b793-c5ff68504ba7",
   "metadata": {},
   "outputs": [],
   "source": [
    "minimum = trading[0]\n",
    "for i in range(len(trading)) :\n",
    "    # print(trading[i+1])\n",
    "    if minimum <= trading[i]:\n",
    "        minimum = minimum\n",
    "    else:\n",
    "        minimum = trading[i]\n",
    "    "
   ]
  },
  {
   "cell_type": "code",
   "execution_count": 151,
   "id": "a1bb8958-f428-484f-8ff9-3234f7bb3265",
   "metadata": {},
   "outputs": [
    {
     "data": {
      "text/plain": [
       "-650"
      ]
     },
     "execution_count": 151,
     "metadata": {},
     "output_type": "execute_result"
    }
   ],
   "source": [
    "minimum"
   ]
  },
  {
   "cell_type": "code",
   "execution_count": 87,
   "id": "20a4f3ea-9466-4ebd-96ee-61cbe5980400",
   "metadata": {},
   "outputs": [],
   "source": [
    "# Initialize a dictionary\n",
    "trading_pnl = {\n",
    "    \"title\": \"Trading Log\",\n",
    "    \"03-18-2019\": -224,\n",
    "    \"03-19-2019\": 352,\n",
    "    \"03-20-2019\": 252,\n",
    "    \"03-21-2019\": 354,\n",
    "    \"03-22-2019\": -544,\n",
    "    \"03-23-2019\": -650,\n",
    "    \"03-24-2019\": 56,\n",
    "    \"03-25-2019\": 123,\n",
    "    \"03-26-2019\": -43,\n",
    "    \"03-27-2019\": 254,\n",
    "    \"03-28-2019\": 325,\n",
    "    \"03-29-2019\": -123,\n",
    "    \"03-30-2019\": 47,\n",
    "    \"03-31-2019\": 321,\n",
    "    \"04-01-2019\": 123,\n",
    "    \"04-02-2019\": 133,\n",
    "    \"04-03-2019\": -151,\n",
    "    \"04-04-2019\": 613,\n",
    "    \"04-05-2019\": 232,\n",
    "    \"04-06-2019\": -311\n",
    "}"
   ]
  },
  {
   "cell_type": "code",
   "execution_count": 88,
   "id": "32b1a35a-b2cf-4e9f-9c6c-b4acd24db7e8",
   "metadata": {},
   "outputs": [
    {
     "data": {
      "text/plain": [
       "252"
      ]
     },
     "execution_count": 88,
     "metadata": {},
     "output_type": "execute_result"
    }
   ],
   "source": [
    "trading_pnl[ \"03-20-2019\"]"
   ]
  },
  {
   "cell_type": "code",
   "execution_count": 110,
   "id": "ed1c6582-1941-4b57-bd1d-9f0c03c89d46",
   "metadata": {},
   "outputs": [
    {
     "name": "stdout",
     "output_type": "stream",
     "text": [
      "dict_values(['Trading Log', -224, 352, 252, 354, -544, -650, 56, 123, -43, 254, 325, -123, 47, 321, 123, 133, -151, 613, 232, -311])\n"
     ]
    }
   ],
   "source": [
    "print(trading_pnl.values())"
   ]
  },
  {
   "cell_type": "code",
   "execution_count": null,
   "id": "0bfc0cd8-2c7a-452c-900d-0fff12838af3",
   "metadata": {},
   "outputs": [],
   "source": [
    "closing_prices=[]\n",
    "for key in trading_pnl.keys():\n",
    "    print(key)\n",
    "    print(f\"the value for {key} is {trading_pnl[key]}\")\n",
    "    closing_prices.append(trading_pnl[key])\n",
    "    closing_prices"
   ]
  },
  {
   "cell_type": "code",
   "execution_count": 127,
   "id": "f9376cd3-9a61-4e05-92fe-1041db066cbc",
   "metadata": {},
   "outputs": [],
   "source": [
    "new_dic={}"
   ]
  },
  {
   "cell_type": "code",
   "execution_count": 129,
   "id": "0221636d-3d41-40b3-bb8e-57cd7cee3222",
   "metadata": {},
   "outputs": [],
   "source": [
    "for i in range(0,len(closing_prices)):\n",
    "    new_dic[i+1]=closing_prices[i]"
   ]
  },
  {
   "cell_type": "code",
   "execution_count": 132,
   "id": "a3ede48d-b781-463f-8626-abf42a7b9f62",
   "metadata": {},
   "outputs": [],
   "source": [
    "\n",
    "# Dictionary of Dicts\n",
    "stocks_nested_dict = {\n",
    "    \"APPL\": {\n",
    "        \"name\": \"Apple\",\n",
    "        \"exchange\": \"NASDAQ\",\n",
    "        \"market_cap\": 937.7\n",
    "    },\n",
    "    \"MU\": {\n",
    "        \"name\": \"Micron Technology\",\n",
    "        \"exchange\": \"NASDAQ\",\n",
    "        \"market_cap\": 48.03\n",
    "    },\n",
    "    \"AMD\": {\n",
    "        \"name\": \"Advanced Micro Devices\",\n",
    "        \"exchange\": \"NASDAQ\",\n",
    "        \"market_cap\": 29.94\n",
    "    },\n",
    "    \"TWTR\": {\n",
    "        \"name\": \"Twitter\",\n",
    "        \"exchange\": \"NASDAQ\",\n",
    "        \"market_cap\": 26.42\n",
    "    }\n",
    "}"
   ]
  },
  {
   "cell_type": "code",
   "execution_count": 135,
   "id": "0165f73b-0019-45c2-8e3a-4610b9c466fc",
   "metadata": {},
   "outputs": [
    {
     "data": {
      "text/plain": [
       "937.7"
      ]
     },
     "execution_count": 135,
     "metadata": {},
     "output_type": "execute_result"
    }
   ],
   "source": [
    "stocks_nested_dict['APPL']['market_cap']"
   ]
  },
  {
   "cell_type": "code",
   "execution_count": 139,
   "id": "4ed9eb8d-58e6-4f67-b7e8-6a3f6e54402f",
   "metadata": {},
   "outputs": [
    {
     "name": "stdout",
     "output_type": "stream",
     "text": [
      "937.7\n",
      "48.03\n",
      "29.94\n",
      "26.42\n"
     ]
    }
   ],
   "source": [
    "for i in stocks_nested_dict.keys():\n",
    "    print(stocks_nested_dict[i]['market_cap'])"
   ]
  },
  {
   "cell_type": "code",
   "execution_count": 152,
   "id": "10be8150-258f-48e6-92eb-392d90a54b4c",
   "metadata": {},
   "outputs": [],
   "source": [
    "# List of Lists\n",
    "ceo_nested_list = [\n",
    "    [\"Warren Buffet\", 88, \"CEO of Berkshire Hathaway\"],\n",
    "    [\"Jeff Bezos\", 55, \"CEO of Amazon\"],\n",
    "    [\"Harry Markowitz\", 91, \"Professor of Finance\"]\n",
    "]"
   ]
  },
  {
   "cell_type": "code",
   "execution_count": 154,
   "id": "16782d0b-9668-4c0e-b2ac-b452707fa098",
   "metadata": {},
   "outputs": [
    {
     "data": {
      "text/plain": [
       "88"
      ]
     },
     "execution_count": 154,
     "metadata": {},
     "output_type": "execute_result"
    }
   ],
   "source": [
    "ceo_nested_list[0][1]"
   ]
  },
  {
   "cell_type": "code",
   "execution_count": null,
   "id": "e74fb44f-7dde-487c-97b5-7ccea791ab81",
   "metadata": {},
   "outputs": [],
   "source": []
  },
  {
   "cell_type": "code",
   "execution_count": null,
   "id": "66013ca9-7c55-4144-a99b-8815aa70c844",
   "metadata": {},
   "outputs": [],
   "source": []
  },
  {
   "cell_type": "code",
   "execution_count": null,
   "id": "79a081cf-9b64-48c9-a61b-6c96702affc6",
   "metadata": {},
   "outputs": [],
   "source": []
  },
  {
   "cell_type": "code",
   "execution_count": null,
   "id": "787e58b1-f86b-42c8-bc5f-765a9d29a911",
   "metadata": {},
   "outputs": [],
   "source": []
  },
  {
   "cell_type": "code",
   "execution_count": null,
   "id": "bc17122a-0857-4ef1-ab49-adfd2edb999b",
   "metadata": {},
   "outputs": [],
   "source": []
  },
  {
   "cell_type": "code",
   "execution_count": null,
   "id": "7a1edc8b-cf45-44ca-83f3-f4505039b965",
   "metadata": {},
   "outputs": [],
   "source": []
  },
  {
   "cell_type": "code",
   "execution_count": null,
   "id": "8ce04beb-596e-4fae-8e78-854113957796",
   "metadata": {},
   "outputs": [],
   "source": []
  },
  {
   "cell_type": "code",
   "execution_count": null,
   "id": "bf0f7dae-f28b-48f2-b710-a63f6e8be016",
   "metadata": {},
   "outputs": [],
   "source": []
  },
  {
   "cell_type": "code",
   "execution_count": null,
   "id": "87fb27d8-1d76-4bdf-8113-da141d742ece",
   "metadata": {},
   "outputs": [],
   "source": []
  },
  {
   "cell_type": "code",
   "execution_count": null,
   "id": "337f5869-f33b-4c7a-b750-e4ce0656baea",
   "metadata": {},
   "outputs": [],
   "source": []
  },
  {
   "cell_type": "code",
   "execution_count": null,
   "id": "e521cba1-6e2c-4652-aaf5-3420d3470900",
   "metadata": {},
   "outputs": [],
   "source": []
  },
  {
   "cell_type": "code",
   "execution_count": null,
   "id": "07e66411-5511-4135-9d4b-454e666cc02a",
   "metadata": {},
   "outputs": [],
   "source": []
  },
  {
   "cell_type": "code",
   "execution_count": null,
   "id": "62e06666-5624-4167-b5e6-0785efbb2d5e",
   "metadata": {},
   "outputs": [],
   "source": []
  },
  {
   "cell_type": "code",
   "execution_count": null,
   "id": "fecaa040-5635-445d-9597-225c24463113",
   "metadata": {},
   "outputs": [],
   "source": []
  },
  {
   "cell_type": "code",
   "execution_count": null,
   "id": "eee60557-6dd5-40b9-9152-91946e04ce3d",
   "metadata": {},
   "outputs": [],
   "source": []
  },
  {
   "cell_type": "code",
   "execution_count": null,
   "id": "042f77ce-45ae-461a-a6ad-bdbd505c3b6c",
   "metadata": {},
   "outputs": [],
   "source": []
  },
  {
   "cell_type": "code",
   "execution_count": null,
   "id": "7d1a7a91-f1fc-47a3-b9b7-112278785b59",
   "metadata": {},
   "outputs": [],
   "source": []
  },
  {
   "cell_type": "code",
   "execution_count": null,
   "id": "5fd26f92-e6d2-4972-856f-fb2e2e27f838",
   "metadata": {},
   "outputs": [],
   "source": []
  },
  {
   "cell_type": "code",
   "execution_count": null,
   "id": "e5b81557-a317-4b55-abfb-b6467170bda6",
   "metadata": {},
   "outputs": [],
   "source": []
  },
  {
   "cell_type": "code",
   "execution_count": null,
   "id": "8839cd45-0fca-4960-8424-3ed253157e0e",
   "metadata": {},
   "outputs": [],
   "source": []
  },
  {
   "cell_type": "code",
   "execution_count": null,
   "id": "3faf68da-e2fb-40ab-a1f8-f8d77b97aa98",
   "metadata": {},
   "outputs": [],
   "source": []
  },
  {
   "cell_type": "code",
   "execution_count": null,
   "id": "f1c105ac-90fe-4a27-8e3d-2fff0443a698",
   "metadata": {},
   "outputs": [],
   "source": []
  },
  {
   "cell_type": "code",
   "execution_count": null,
   "id": "37799c80-44f0-405f-9eb5-edcd0281b3f5",
   "metadata": {},
   "outputs": [],
   "source": []
  },
  {
   "cell_type": "code",
   "execution_count": null,
   "id": "9a3c098f-2c6c-4b44-ad94-e09fae1df9a4",
   "metadata": {},
   "outputs": [],
   "source": []
  },
  {
   "cell_type": "code",
   "execution_count": null,
   "id": "7d4fb710-f8f2-41d4-b842-e6ca6dcfc2ff",
   "metadata": {},
   "outputs": [],
   "source": []
  },
  {
   "cell_type": "code",
   "execution_count": null,
   "id": "54b05f91-e3c5-4858-b004-9785e2405969",
   "metadata": {},
   "outputs": [],
   "source": []
  },
  {
   "cell_type": "code",
   "execution_count": null,
   "id": "9216ee1a-d561-4eae-a2d5-10d667227834",
   "metadata": {},
   "outputs": [],
   "source": []
  },
  {
   "cell_type": "code",
   "execution_count": null,
   "id": "2d10918b-e030-448a-ab7d-38776eb7906d",
   "metadata": {},
   "outputs": [],
   "source": []
  },
  {
   "cell_type": "code",
   "execution_count": null,
   "id": "4f45a1ed-f833-4692-ba31-12c6e5e49fe2",
   "metadata": {},
   "outputs": [],
   "source": []
  },
  {
   "cell_type": "code",
   "execution_count": null,
   "id": "54d73658-299e-422d-acd0-42984e5e3858",
   "metadata": {},
   "outputs": [],
   "source": []
  },
  {
   "cell_type": "code",
   "execution_count": null,
   "id": "172f2d2f-1f5e-4ba4-8a38-daa2a1adc953",
   "metadata": {},
   "outputs": [],
   "source": []
  },
  {
   "cell_type": "code",
   "execution_count": null,
   "id": "c882c57f-5a20-4c2a-b026-22e6cf1ae377",
   "metadata": {},
   "outputs": [],
   "source": []
  },
  {
   "cell_type": "code",
   "execution_count": null,
   "id": "f7a065af-8416-4f0b-9fe9-685fcc6a8d46",
   "metadata": {},
   "outputs": [],
   "source": []
  },
  {
   "cell_type": "code",
   "execution_count": null,
   "id": "20656f7e-cde9-476c-8d35-04192c2fe752",
   "metadata": {},
   "outputs": [],
   "source": []
  },
  {
   "cell_type": "code",
   "execution_count": null,
   "id": "671d70a1-789b-4596-bd62-73a71cb3363d",
   "metadata": {},
   "outputs": [],
   "source": []
  },
  {
   "cell_type": "code",
   "execution_count": null,
   "id": "838880bd-0ef1-4e92-897b-ff71aff43862",
   "metadata": {},
   "outputs": [],
   "source": []
  },
  {
   "cell_type": "code",
   "execution_count": null,
   "id": "c3f83294-683c-4acf-b641-195c4a3e3ed0",
   "metadata": {},
   "outputs": [],
   "source": []
  },
  {
   "cell_type": "code",
   "execution_count": null,
   "id": "c62b36d9-af56-4e64-94a8-2742efeac4ec",
   "metadata": {},
   "outputs": [],
   "source": []
  },
  {
   "cell_type": "code",
   "execution_count": null,
   "id": "7f6d71cd-6f0d-442e-aed3-b82dc8946e76",
   "metadata": {},
   "outputs": [],
   "source": []
  },
  {
   "cell_type": "code",
   "execution_count": null,
   "id": "320d3e6a-280d-4677-af40-f7874f953209",
   "metadata": {},
   "outputs": [],
   "source": []
  },
  {
   "cell_type": "code",
   "execution_count": null,
   "id": "52cb6ae3-8d52-480e-aa82-6a7dbbc07e9e",
   "metadata": {},
   "outputs": [],
   "source": []
  },
  {
   "cell_type": "code",
   "execution_count": null,
   "id": "7ad2ce2a",
   "metadata": {},
   "outputs": [],
   "source": []
  },
  {
   "cell_type": "code",
   "execution_count": null,
   "id": "451de1ed",
   "metadata": {},
   "outputs": [],
   "source": []
  },
  {
   "cell_type": "code",
   "execution_count": null,
   "id": "cddc4b24",
   "metadata": {},
   "outputs": [],
   "source": []
  },
  {
   "cell_type": "code",
   "execution_count": null,
   "id": "062ca416",
   "metadata": {},
   "outputs": [],
   "source": []
  },
  {
   "cell_type": "code",
   "execution_count": null,
   "id": "a6b209f1",
   "metadata": {},
   "outputs": [],
   "source": []
  }
 ],
 "metadata": {
  "kernelspec": {
   "display_name": "Python 3 (ipykernel)",
   "language": "python",
   "name": "python3"
  },
  "language_info": {
   "codemirror_mode": {
    "name": "ipython",
    "version": 3
   },
   "file_extension": ".py",
   "mimetype": "text/x-python",
   "name": "python",
   "nbconvert_exporter": "python",
   "pygments_lexer": "ipython3",
   "version": "3.9.7"
  }
 },
 "nbformat": 4,
 "nbformat_minor": 5
}
