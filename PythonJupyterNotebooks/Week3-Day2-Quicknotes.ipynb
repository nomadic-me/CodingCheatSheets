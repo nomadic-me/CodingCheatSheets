{
 "cells": [
  {
   "cell_type": "markdown",
   "id": "97f8f5f6-71b3-4742-baaa-28bce28eea34",
   "metadata": {},
   "source": [
    "# Hello World\n",
    "## Subtitle "
   ]
  },
  {
   "cell_type": "markdown",
   "id": "af1b610f-c0dc-4bbd-8138-1df311b00e40",
   "metadata": {},
   "source": [
    "| Heading 1 | Heading 2|\n",
    "|---|---|\n",
    "|Row 1| Row1 Column2|"
   ]
  },
  {
   "cell_type": "raw",
   "id": "1cb32f34-ea58-4fa3-a342-a9c67d1a7e0c",
   "metadata": {},
   "source": [
    "Hi\n"
   ]
  },
  {
   "cell_type": "code",
   "execution_count": 1,
   "id": "d031423d-531a-494b-9a41-f1c092c1f5e2",
   "metadata": {},
   "outputs": [
    {
     "name": "stdout",
     "output_type": "stream",
     "text": [
      "Hello\n"
     ]
    }
   ],
   "source": [
    "print(\"Hello\")"
   ]
  },
  {
   "cell_type": "code",
   "execution_count": null,
   "id": "a65a2bda-c9dc-4181-b762-c41acf9ebbe5",
   "metadata": {},
   "outputs": [],
   "source": []
  }
 ],
 "metadata": {
  "kernelspec": {
   "display_name": "Python 3 (ipykernel)",
   "language": "python",
   "name": "python3"
  },
  "language_info": {
   "codemirror_mode": {
    "name": "ipython",
    "version": 3
   },
   "file_extension": ".py",
   "mimetype": "text/x-python",
   "name": "python",
   "nbconvert_exporter": "python",
   "pygments_lexer": "ipython3",
   "version": "3.7.11"
  }
 },
 "nbformat": 4,
 "nbformat_minor": 5
}
