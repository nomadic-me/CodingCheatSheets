{
 "cells": [
  {
   "cell_type": "code",
   "execution_count": 6,
   "id": "f9d644b6-452a-44a0-a418-0244d29c51c7",
   "metadata": {},
   "outputs": [
    {
     "name": "stdout",
     "output_type": "stream",
     "text": [
      "\n",
      "Dictionary with the use of Integer Keys: \n",
      "{1: 'Geeks', 2: 'For', 3: 'Geeks'}\n"
     ]
    }
   ],
   "source": [
    "# Creating a Dictionary\n",
    "# with Integer Keys\n",
    "Dict = {1: 'Geeks', 2: 'For', 3: 'Geeks'}\n",
    "print(\"\\nDictionary with the use of Integer Keys: \")\n",
    "print(Dict)\n",
    "\n",
    "\n",
    "\n"
   ]
  },
  {
   "cell_type": "code",
   "execution_count": 7,
   "id": "444294c0-3be0-4dfd-8a39-96cc8c340f7a",
   "metadata": {},
   "outputs": [],
   "source": [
    "Dict = {1: 'John' , 2: 'Alice', 3: 'Bob'}"
   ]
  },
  {
   "cell_type": "code",
   "execution_count": 8,
   "id": "26402613-122d-4ab8-884c-af468adccab0",
   "metadata": {},
   "outputs": [
    {
     "data": {
      "text/plain": [
       "dict_keys([1, 2, 3])"
      ]
     },
     "execution_count": 8,
     "metadata": {},
     "output_type": "execute_result"
    }
   ],
   "source": [
    "Dict.keys()"
   ]
  },
  {
   "cell_type": "code",
   "execution_count": 9,
   "id": "80bcc452-9cce-4cc1-a743-ce079cdb7da1",
   "metadata": {},
   "outputs": [
    {
     "data": {
      "text/plain": [
       "dict_values(['John', 'Alice', 'Bob'])"
      ]
     },
     "execution_count": 9,
     "metadata": {},
     "output_type": "execute_result"
    }
   ],
   "source": [
    "Dict.values()"
   ]
  },
  {
   "cell_type": "code",
   "execution_count": 10,
   "id": "dccf2128-35eb-4f42-82ad-181ad14aeab9",
   "metadata": {},
   "outputs": [
    {
     "data": {
      "text/plain": [
       "dict_values(['John', 'Alice', 'Bob'])"
      ]
     },
     "execution_count": 10,
     "metadata": {},
     "output_type": "execute_result"
    }
   ],
   "source": [
    "Dict.values()"
   ]
  },
  {
   "cell_type": "code",
   "execution_count": 11,
   "id": "1b297403-1342-4ad2-8809-849daffb2e03",
   "metadata": {},
   "outputs": [],
   "source": [
    "Dict[4]='Vanessa'"
   ]
  },
  {
   "cell_type": "code",
   "execution_count": 12,
   "id": "ec1d64f5-4cdb-4a8a-be2d-d9cc99e617c7",
   "metadata": {},
   "outputs": [
    {
     "data": {
      "text/plain": [
       "dict_values(['John', 'Alice', 'Bob', 'Vanessa'])"
      ]
     },
     "execution_count": 12,
     "metadata": {},
     "output_type": "execute_result"
    }
   ],
   "source": [
    "Dict.values()"
   ]
  },
  {
   "cell_type": "code",
   "execution_count": 13,
   "id": "1f6b6e5a-74e5-49dd-b0d7-7ae76d227e45",
   "metadata": {},
   "outputs": [
    {
     "data": {
      "text/plain": [
       "{1: 'John', 2: 'Alice', 3: 'Bob', 4: 'Vanessa'}"
      ]
     },
     "execution_count": 13,
     "metadata": {},
     "output_type": "execute_result"
    }
   ],
   "source": [
    "Dict"
   ]
  },
  {
   "cell_type": "code",
   "execution_count": 14,
   "id": "09ca1ede-0eb9-400a-9ec9-354ca6eb2fce",
   "metadata": {},
   "outputs": [],
   "source": [
    "del Dict[4]"
   ]
  },
  {
   "cell_type": "code",
   "execution_count": 15,
   "id": "d4b65e7c-6c5e-4d4f-bf75-10bbc644c1d0",
   "metadata": {},
   "outputs": [
    {
     "data": {
      "text/plain": [
       "{1: 'John', 2: 'Alice', 3: 'Bob'}"
      ]
     },
     "execution_count": 15,
     "metadata": {},
     "output_type": "execute_result"
    }
   ],
   "source": [
    "Dict"
   ]
  },
  {
   "cell_type": "code",
   "execution_count": 16,
   "id": "3e31c2a8-f126-4454-8ab8-0f8e6d6e3253",
   "metadata": {},
   "outputs": [],
   "source": [
    "Dict['new person'] = 'Vanessa'"
   ]
  },
  {
   "cell_type": "code",
   "execution_count": 17,
   "id": "7117804d-d1df-45ce-8e7d-b95bdf3ffb48",
   "metadata": {},
   "outputs": [
    {
     "data": {
      "text/plain": [
       "{1: 'John', 2: 'Alice', 3: 'Bob', 'new person': 'Vanessa'}"
      ]
     },
     "execution_count": 17,
     "metadata": {},
     "output_type": "execute_result"
    }
   ],
   "source": [
    "Dict"
   ]
  },
  {
   "cell_type": "code",
   "execution_count": 18,
   "id": "0d155e90-e851-439b-92dc-b873aea60347",
   "metadata": {},
   "outputs": [],
   "source": [
    "# Initialize a dictionary\n",
    "trading_pnl = {\n",
    "    \"title\": \"Trading Log\",\n",
    "    \"03-18-2019\": -224,\n",
    "    \"03-19-2019\": 352,\n",
    "    \"03-20-2019\": 252,\n",
    "    \"03-21-2019\": 354,\n",
    "    \"03-22-2019\": -544,\n",
    "    \"03-23-2019\": -650,\n",
    "    \"03-24-2019\": 56,\n",
    "    \"03-25-2019\": 123,\n",
    "    \"03-26-2019\": -43,\n",
    "    \"03-27-2019\": 254,\n",
    "    \"03-28-2019\": 325,\n",
    "    \"03-29-2019\": -123,\n",
    "    \"03-30-2019\": 47,\n",
    "    \"03-31-2019\": 321,\n",
    "    \"04-01-2019\": 123,\n",
    "    \"04-02-2019\": 133,\n",
    "    \"04-03-2019\": -151,\n",
    "    \"04-04-2019\": 613,\n",
    "    \"04-05-2019\": 232,\n",
    "    \"04-06-2019\": -311\n",
    "}"
   ]
  },
  {
   "cell_type": "code",
   "execution_count": 19,
   "id": "9bf71353-3eec-4c45-ab85-031a4d64b29e",
   "metadata": {},
   "outputs": [
    {
     "data": {
      "text/plain": [
       "123"
      ]
     },
     "execution_count": 19,
     "metadata": {},
     "output_type": "execute_result"
    }
   ],
   "source": [
    "trading_pnl[\"03-25-2019\"]"
   ]
  },
  {
   "cell_type": "code",
   "execution_count": 20,
   "id": "e9855e74-c7ef-4624-969c-a0a33e4c0221",
   "metadata": {},
   "outputs": [
    {
     "name": "stdout",
     "output_type": "stream",
     "text": [
      "title\n",
      "the value for title is Trading Log\n",
      "03-18-2019\n",
      "the value for 03-18-2019 is -224\n",
      "03-19-2019\n",
      "the value for 03-19-2019 is 352\n",
      "03-20-2019\n",
      "the value for 03-20-2019 is 252\n",
      "03-21-2019\n",
      "the value for 03-21-2019 is 354\n",
      "03-22-2019\n",
      "the value for 03-22-2019 is -544\n",
      "03-23-2019\n",
      "the value for 03-23-2019 is -650\n",
      "03-24-2019\n",
      "the value for 03-24-2019 is 56\n",
      "03-25-2019\n",
      "the value for 03-25-2019 is 123\n",
      "03-26-2019\n",
      "the value for 03-26-2019 is -43\n",
      "03-27-2019\n",
      "the value for 03-27-2019 is 254\n",
      "03-28-2019\n",
      "the value for 03-28-2019 is 325\n",
      "03-29-2019\n",
      "the value for 03-29-2019 is -123\n",
      "03-30-2019\n",
      "the value for 03-30-2019 is 47\n",
      "03-31-2019\n",
      "the value for 03-31-2019 is 321\n",
      "04-01-2019\n",
      "the value for 04-01-2019 is 123\n",
      "04-02-2019\n",
      "the value for 04-02-2019 is 133\n",
      "04-03-2019\n",
      "the value for 04-03-2019 is -151\n",
      "04-04-2019\n",
      "the value for 04-04-2019 is 613\n",
      "04-05-2019\n",
      "the value for 04-05-2019 is 232\n",
      "04-06-2019\n",
      "the value for 04-06-2019 is -311\n"
     ]
    }
   ],
   "source": [
    "closing_prices=[]\n",
    "for key in trading_pnl.keys():\n",
    "    print(key)\n",
    "    print(f\"the value for {key} is {trading_pnl[key]}\")\n",
    "    closing_prices.append(trading_pnl[key])"
   ]
  },
  {
   "cell_type": "raw",
   "id": "67961f1e-84bc-4fe3-9fbf-f69097d8e712",
   "metadata": {},
   "source": [
    "print(f\"the value for {key} is{trading_pnl[key]\")"
   ]
  },
  {
   "cell_type": "code",
   "execution_count": 21,
   "id": "fdcc1a1f-1bef-48b6-85f8-c399c7fb74f7",
   "metadata": {},
   "outputs": [
    {
     "data": {
      "text/plain": [
       "['Trading Log',\n",
       " -224,\n",
       " 352,\n",
       " 252,\n",
       " 354,\n",
       " -544,\n",
       " -650,\n",
       " 56,\n",
       " 123,\n",
       " -43,\n",
       " 254,\n",
       " 325,\n",
       " -123,\n",
       " 47,\n",
       " 321,\n",
       " 123,\n",
       " 133,\n",
       " -151,\n",
       " 613,\n",
       " 232,\n",
       " -311]"
      ]
     },
     "execution_count": 21,
     "metadata": {},
     "output_type": "execute_result"
    }
   ],
   "source": [
    "closing_prices\n",
    "\n"
   ]
  },
  {
   "cell_type": "code",
   "execution_count": 24,
   "id": "502f4e42-bab2-4b39-81a0-8e313c894a75",
   "metadata": {},
   "outputs": [],
   "source": [
    "#closing"
   ]
  },
  {
   "cell_type": "code",
   "execution_count": 25,
   "id": "81a454d7-141b-4cf9-8049-a4d1c332e65c",
   "metadata": {},
   "outputs": [],
   "source": [
    "closing_prices = closing_prices[1:]"
   ]
  },
  {
   "cell_type": "code",
   "execution_count": 26,
   "id": "ebca40db-2755-4974-a281-a28ad79ee51c",
   "metadata": {},
   "outputs": [
    {
     "data": {
      "text/plain": [
       "[352,\n",
       " 252,\n",
       " 354,\n",
       " -544,\n",
       " -650,\n",
       " 56,\n",
       " 123,\n",
       " -43,\n",
       " 254,\n",
       " 325,\n",
       " -123,\n",
       " 47,\n",
       " 321,\n",
       " 123,\n",
       " 133,\n",
       " -151,\n",
       " 613,\n",
       " 232,\n",
       " -311]"
      ]
     },
     "execution_count": 26,
     "metadata": {},
     "output_type": "execute_result"
    }
   ],
   "source": [
    "closing_prices"
   ]
  },
  {
   "cell_type": "code",
   "execution_count": 27,
   "id": "4e22973b-19b5-41aa-ba62-868d1ad3ad78",
   "metadata": {},
   "outputs": [],
   "source": [
    "new_dict={}"
   ]
  },
  {
   "cell_type": "code",
   "execution_count": 28,
   "id": "08dbeb2e-666a-4d91-b3f4-69cb7df202f4",
   "metadata": {},
   "outputs": [],
   "source": [
    "for i in range (0,len(closing_prices)):\n",
    "    new_dict[i+1]=closing_prices[i]"
   ]
  },
  {
   "cell_type": "code",
   "execution_count": 29,
   "id": "7c94ad1d-709f-4122-8074-2fddb15ea4b6",
   "metadata": {},
   "outputs": [
    {
     "data": {
      "text/plain": [
       "{1: 352,\n",
       " 2: 252,\n",
       " 3: 354,\n",
       " 4: -544,\n",
       " 5: -650,\n",
       " 6: 56,\n",
       " 7: 123,\n",
       " 8: -43,\n",
       " 9: 254,\n",
       " 10: 325,\n",
       " 11: -123,\n",
       " 12: 47,\n",
       " 13: 321,\n",
       " 14: 123,\n",
       " 15: 133,\n",
       " 16: -151,\n",
       " 17: 613,\n",
       " 18: 232,\n",
       " 19: -311}"
      ]
     },
     "execution_count": 29,
     "metadata": {},
     "output_type": "execute_result"
    }
   ],
   "source": [
    "new_dict"
   ]
  },
  {
   "cell_type": "code",
   "execution_count": 30,
   "id": "54da09dd-1ef8-4691-bb3d-47ce00338620",
   "metadata": {},
   "outputs": [],
   "source": [
    "# Dictionary of Dicts\n",
    "stocks_nested_dict = {\n",
    "    \"APPL\": {\n",
    "        \"name\": \"Apple\",\n",
    "        \"exchange\": \"NASDAQ\",\n",
    "        \"market_cap\": 937.7\n",
    "    },\n",
    "    \"MU\": {\n",
    "        \"name\": \"Micron Technology\",\n",
    "        \"exchange\": \"NASDAQ\",\n",
    "        \"market_cap\": 48.03\n",
    "    },\n",
    "    \"AMD\": {\n",
    "        \"name\": \"Advanced Micro Devices\",\n",
    "        \"exchange\": \"NASDAQ\",\n",
    "        \"market_cap\": 29.94\n",
    "    },\n",
    "    \"TWTR\": {\n",
    "        \"name\": \"Twitter\",\n",
    "        \"exchange\": \"NASDAQ\",\n",
    "        \"market_cap\": 26.42\n",
    "    }\n",
    "}"
   ]
  },
  {
   "cell_type": "code",
   "execution_count": 31,
   "id": "addd2328-ee2b-4d41-98f2-c5e393900b4b",
   "metadata": {},
   "outputs": [],
   "source": [
    "stocks_nested_dict['APPL']['market_cap']= 999"
   ]
  },
  {
   "cell_type": "code",
   "execution_count": 32,
   "id": "ced0f03d-b397-46df-b580-361a3d60f089",
   "metadata": {},
   "outputs": [
    {
     "data": {
      "text/plain": [
       "{'APPL': {'name': 'Apple', 'exchange': 'NASDAQ', 'market_cap': 999},\n",
       " 'MU': {'name': 'Micron Technology',\n",
       "  'exchange': 'NASDAQ',\n",
       "  'market_cap': 48.03},\n",
       " 'AMD': {'name': 'Advanced Micro Devices',\n",
       "  'exchange': 'NASDAQ',\n",
       "  'market_cap': 29.94},\n",
       " 'TWTR': {'name': 'Twitter', 'exchange': 'NASDAQ', 'market_cap': 26.42}}"
      ]
     },
     "execution_count": 32,
     "metadata": {},
     "output_type": "execute_result"
    }
   ],
   "source": [
    "stocks_nested_dict"
   ]
  },
  {
   "cell_type": "code",
   "execution_count": 33,
   "id": "3eae634f-4be5-4f5b-9858-eb01c71471ac",
   "metadata": {},
   "outputs": [
    {
     "name": "stdout",
     "output_type": "stream",
     "text": [
      "999\n",
      "48.03\n",
      "29.94\n",
      "26.42\n"
     ]
    }
   ],
   "source": [
    "for ticker in stocks_nested_dict.keys():\n",
    "    print(stocks_nested_dict[ticker]['market_cap'])"
   ]
  },
  {
   "cell_type": "code",
   "execution_count": 34,
   "id": "1b9507d1-3475-476b-a2e8-9ada82a558bc",
   "metadata": {},
   "outputs": [],
   "source": [
    "def add_two(x):\n",
    "    y=x+2\n",
    "    return y"
   ]
  },
  {
   "cell_type": "code",
   "execution_count": 35,
   "id": "0ce70130-9874-4c1f-8ef8-0d9a92a81142",
   "metadata": {},
   "outputs": [
    {
     "data": {
      "text/plain": [
       "5"
      ]
     },
     "execution_count": 35,
     "metadata": {},
     "output_type": "execute_result"
    }
   ],
   "source": [
    "add_two(3)"
   ]
  },
  {
   "cell_type": "code",
   "execution_count": 36,
   "id": "942ed0f4-bc74-4a55-a0a2-2761d060629a",
   "metadata": {},
   "outputs": [
    {
     "data": {
      "text/plain": [
       "6"
      ]
     },
     "execution_count": 36,
     "metadata": {},
     "output_type": "execute_result"
    }
   ],
   "source": [
    "add_two(4)"
   ]
  },
  {
   "cell_type": "code",
   "execution_count": 37,
   "id": "3ef71a88-0ea5-4259-85c8-488a57bf2d29",
   "metadata": {},
   "outputs": [],
   "source": [
    "def get_market_cap(ticker):\n",
    "    return stocks_nested_dict[ticker]['market_cap']"
   ]
  },
  {
   "cell_type": "code",
   "execution_count": 38,
   "id": "0d20991b-1f79-4373-8a03-e57618836b3f",
   "metadata": {},
   "outputs": [
    {
     "data": {
      "text/plain": [
       "999"
      ]
     },
     "execution_count": 38,
     "metadata": {},
     "output_type": "execute_result"
    }
   ],
   "source": [
    "get_market_cap('APPL')"
   ]
  },
  {
   "cell_type": "code",
   "execution_count": 39,
   "id": "e7f52373-885b-4fb8-b34c-a1decbecb591",
   "metadata": {},
   "outputs": [],
   "source": [
    "# List of Lists\n",
    "ceo_nested_list = [\n",
    "    [\"Warren Buffet\", 88, \"CEO of Berkshire Hathaway\"],\n",
    "    [\"Jeff Bezos\", 55, \"CEO of Amazon\"],\n",
    "    [\"Harry Markowitz\", 91, \"Professor of Finance\"]\n",
    "]"
   ]
  },
  {
   "cell_type": "code",
   "execution_count": 40,
   "id": "88923e4f-3a7a-478f-bd05-b690fcd9af2c",
   "metadata": {},
   "outputs": [
    {
     "data": {
      "text/plain": [
       "88"
      ]
     },
     "execution_count": 40,
     "metadata": {},
     "output_type": "execute_result"
    }
   ],
   "source": [
    "ceo_nested_list[0][1] "
   ]
  },
  {
   "cell_type": "code",
   "execution_count": null,
   "id": "eb80065f-6721-41fc-8dee-d5e78d090a16",
   "metadata": {},
   "outputs": [],
   "source": []
  },
  {
   "cell_type": "code",
   "execution_count": null,
   "id": "b1906787-0671-4159-9895-3dbc5b89ce38",
   "metadata": {},
   "outputs": [],
   "source": []
  },
  {
   "cell_type": "code",
   "execution_count": null,
   "id": "4d04e13d-de45-4bd2-b3e7-2c15c70353ff",
   "metadata": {},
   "outputs": [],
   "source": []
  },
  {
   "cell_type": "code",
   "execution_count": null,
   "id": "b0c69f2f-bb28-4265-8e62-f0fe1761941c",
   "metadata": {},
   "outputs": [],
   "source": []
  }
 ],
 "metadata": {
  "kernelspec": {
   "display_name": "Python 3 (ipykernel)",
   "language": "python",
   "name": "python3"
  },
  "language_info": {
   "codemirror_mode": {
    "name": "ipython",
    "version": 3
   },
   "file_extension": ".py",
   "mimetype": "text/x-python",
   "name": "python",
   "nbconvert_exporter": "python",
   "pygments_lexer": "ipython3",
   "version": "3.9.7"
  }
 },
 "nbformat": 4,
 "nbformat_minor": 5
}
