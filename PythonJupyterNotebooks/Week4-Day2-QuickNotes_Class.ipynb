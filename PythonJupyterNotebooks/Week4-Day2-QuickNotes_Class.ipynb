{
 "cells": [
  {
   "cell_type": "code",
   "execution_count": 1,
   "id": "c9a9368e-f9f1-4052-a2a5-8d337dd24deb",
   "metadata": {},
   "outputs": [],
   "source": [
    "class stock:\n",
    "    def _int_(self,ticker_name, start_dt,end_dt):\n",
    "        self.ticker_name = timer_name\n",
    "        self.start_dt = start_dt\n",
    "        self.end_dt = end_dt\n",
    "        self.data = self.get_data()\n",
    "        \n",
    "    def get_data(self):\n",
    "        return API.get_data(self.ticker_name, self.start_dt, self.end_dt)"
   ]
  },
  {
   "cell_type": "code",
   "execution_count": null,
   "id": "2127037a-6a4b-4a6c-8f9a-3c774a54107e",
   "metadata": {},
   "outputs": [],
   "source": []
  }
 ],
 "metadata": {
  "kernelspec": {
   "display_name": "Python 3 (ipykernel)",
   "language": "python",
   "name": "python3"
  },
  "language_info": {
   "codemirror_mode": {
    "name": "ipython",
    "version": 3
   },
   "file_extension": ".py",
   "mimetype": "text/x-python",
   "name": "python",
   "nbconvert_exporter": "python",
   "pygments_lexer": "ipython3",
   "version": "3.9.7"
  }
 },
 "nbformat": 4,
 "nbformat_minor": 5
}
