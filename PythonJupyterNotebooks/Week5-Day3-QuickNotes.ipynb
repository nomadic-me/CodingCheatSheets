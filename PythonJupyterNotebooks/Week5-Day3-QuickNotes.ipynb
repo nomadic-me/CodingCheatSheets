{
 "cells": [
  {
   "cell_type": "code",
   "execution_count": 45,
   "id": "b12f219d-d528-4078-9fb0-8ec64ed5ee64",
   "metadata": {},
   "outputs": [],
   "source": [
    "from dotenv import load_dotenv\n",
    "from datetime import datetime\n",
    "import os\n",
    "import requests\n",
    "import pandas as pd\n",
    "import seaborn as sns\n",
    "from alpaca_trade_api.rest import REST, TimeFrame\n",
    "from MCForecastTools import MCSimulation\n"
   ]
  },
  {
   "cell_type": "code",
   "execution_count": 46,
   "id": "896feff0-d862-4e4d-a9d9-a882534736b0",
   "metadata": {},
   "outputs": [],
   "source": [
    "load_dotenv()\n",
    "api_key=os.getenv(\"ALPACA_API_KEY\")\n",
    "api_secret_key=os.getenv(\"ALPACA_SECRET_KEY\")"
   ]
  },
  {
   "cell_type": "code",
   "execution_count": 47,
   "id": "c6fd0af1-de09-4c7c-abbc-b01ff47debc9",
   "metadata": {},
   "outputs": [],
   "source": [
    "tickers = [\"TSLA\",\"KO\",\"RBLX\"]\n",
    "timeframe=\"1DAY\""
   ]
  },
  {
   "cell_type": "code",
   "execution_count": 48,
   "id": "7cfbf65d-d2e3-4d23-bf15-f780483ab3c7",
   "metadata": {},
   "outputs": [],
   "source": [
    "api = REST(api_key , api_secret_key, api_version='v2')\n",
    "yearly = api.get_bars(tickers, TimeFrame.Day, \"2020-03-01\", \"2022-03-01\", adjustment='raw').df"
   ]
  },
  {
   "cell_type": "code",
   "execution_count": 49,
   "id": "19df7502-fde7-4098-8557-9e6bd285d62a",
   "metadata": {},
   "outputs": [
    {
     "data": {
      "text/html": [
       "<div>\n",
       "<style scoped>\n",
       "    .dataframe tbody tr th:only-of-type {\n",
       "        vertical-align: middle;\n",
       "    }\n",
       "\n",
       "    .dataframe tbody tr th {\n",
       "        vertical-align: top;\n",
       "    }\n",
       "\n",
       "    .dataframe thead th {\n",
       "        text-align: right;\n",
       "    }\n",
       "</style>\n",
       "<table border=\"1\" class=\"dataframe\">\n",
       "  <thead>\n",
       "    <tr style=\"text-align: right;\">\n",
       "      <th></th>\n",
       "      <th>open</th>\n",
       "      <th>high</th>\n",
       "      <th>low</th>\n",
       "      <th>close</th>\n",
       "      <th>volume</th>\n",
       "      <th>trade_count</th>\n",
       "      <th>vwap</th>\n",
       "      <th>symbol</th>\n",
       "    </tr>\n",
       "    <tr>\n",
       "      <th>timestamp</th>\n",
       "      <th></th>\n",
       "      <th></th>\n",
       "      <th></th>\n",
       "      <th></th>\n",
       "      <th></th>\n",
       "      <th></th>\n",
       "      <th></th>\n",
       "      <th></th>\n",
       "    </tr>\n",
       "  </thead>\n",
       "  <tbody>\n",
       "    <tr>\n",
       "      <th>2020-03-02 05:00:00+00:00</th>\n",
       "      <td>53.90</td>\n",
       "      <td>55.9600</td>\n",
       "      <td>53.7000</td>\n",
       "      <td>55.92</td>\n",
       "      <td>25698629</td>\n",
       "      <td>158600</td>\n",
       "      <td>54.999164</td>\n",
       "      <td>KO</td>\n",
       "    </tr>\n",
       "    <tr>\n",
       "      <th>2020-03-03 05:00:00+00:00</th>\n",
       "      <td>56.78</td>\n",
       "      <td>57.4900</td>\n",
       "      <td>55.6400</td>\n",
       "      <td>56.06</td>\n",
       "      <td>27099173</td>\n",
       "      <td>186893</td>\n",
       "      <td>56.353393</td>\n",
       "      <td>KO</td>\n",
       "    </tr>\n",
       "    <tr>\n",
       "      <th>2020-03-04 05:00:00+00:00</th>\n",
       "      <td>56.41</td>\n",
       "      <td>59.0000</td>\n",
       "      <td>56.4100</td>\n",
       "      <td>58.92</td>\n",
       "      <td>20526142</td>\n",
       "      <td>111121</td>\n",
       "      <td>58.215396</td>\n",
       "      <td>KO</td>\n",
       "    </tr>\n",
       "    <tr>\n",
       "      <th>2020-03-05 05:00:00+00:00</th>\n",
       "      <td>57.74</td>\n",
       "      <td>58.1700</td>\n",
       "      <td>56.1900</td>\n",
       "      <td>56.74</td>\n",
       "      <td>17948494</td>\n",
       "      <td>127407</td>\n",
       "      <td>57.054751</td>\n",
       "      <td>KO</td>\n",
       "    </tr>\n",
       "    <tr>\n",
       "      <th>2020-03-06 05:00:00+00:00</th>\n",
       "      <td>54.71</td>\n",
       "      <td>55.9100</td>\n",
       "      <td>53.9800</td>\n",
       "      <td>55.26</td>\n",
       "      <td>22353968</td>\n",
       "      <td>157331</td>\n",
       "      <td>55.003228</td>\n",
       "      <td>KO</td>\n",
       "    </tr>\n",
       "    <tr>\n",
       "      <th>...</th>\n",
       "      <td>...</td>\n",
       "      <td>...</td>\n",
       "      <td>...</td>\n",
       "      <td>...</td>\n",
       "      <td>...</td>\n",
       "      <td>...</td>\n",
       "      <td>...</td>\n",
       "      <td>...</td>\n",
       "    </tr>\n",
       "    <tr>\n",
       "      <th>2022-02-23 05:00:00+00:00</th>\n",
       "      <td>830.43</td>\n",
       "      <td>835.2997</td>\n",
       "      <td>760.5600</td>\n",
       "      <td>764.04</td>\n",
       "      <td>31448251</td>\n",
       "      <td>1227396</td>\n",
       "      <td>789.202418</td>\n",
       "      <td>TSLA</td>\n",
       "    </tr>\n",
       "    <tr>\n",
       "      <th>2022-02-24 05:00:00+00:00</th>\n",
       "      <td>700.39</td>\n",
       "      <td>802.4800</td>\n",
       "      <td>700.0000</td>\n",
       "      <td>800.77</td>\n",
       "      <td>44600581</td>\n",
       "      <td>1291607</td>\n",
       "      <td>755.168642</td>\n",
       "      <td>TSLA</td>\n",
       "    </tr>\n",
       "    <tr>\n",
       "      <th>2022-02-25 05:00:00+00:00</th>\n",
       "      <td>809.66</td>\n",
       "      <td>819.5000</td>\n",
       "      <td>782.4005</td>\n",
       "      <td>809.87</td>\n",
       "      <td>24620202</td>\n",
       "      <td>726859</td>\n",
       "      <td>802.144572</td>\n",
       "      <td>TSLA</td>\n",
       "    </tr>\n",
       "    <tr>\n",
       "      <th>2022-02-28 05:00:00+00:00</th>\n",
       "      <td>815.72</td>\n",
       "      <td>876.8600</td>\n",
       "      <td>814.7075</td>\n",
       "      <td>870.43</td>\n",
       "      <td>32122124</td>\n",
       "      <td>848292</td>\n",
       "      <td>855.749058</td>\n",
       "      <td>TSLA</td>\n",
       "    </tr>\n",
       "    <tr>\n",
       "      <th>2022-03-01 05:00:00+00:00</th>\n",
       "      <td>869.97</td>\n",
       "      <td>889.8800</td>\n",
       "      <td>853.7800</td>\n",
       "      <td>864.37</td>\n",
       "      <td>24157613</td>\n",
       "      <td>648573</td>\n",
       "      <td>867.666133</td>\n",
       "      <td>TSLA</td>\n",
       "    </tr>\n",
       "  </tbody>\n",
       "</table>\n",
       "<p>1257 rows × 8 columns</p>\n",
       "</div>"
      ],
      "text/plain": [
       "                             open      high       low   close    volume  \\\n",
       "timestamp                                                                 \n",
       "2020-03-02 05:00:00+00:00   53.90   55.9600   53.7000   55.92  25698629   \n",
       "2020-03-03 05:00:00+00:00   56.78   57.4900   55.6400   56.06  27099173   \n",
       "2020-03-04 05:00:00+00:00   56.41   59.0000   56.4100   58.92  20526142   \n",
       "2020-03-05 05:00:00+00:00   57.74   58.1700   56.1900   56.74  17948494   \n",
       "2020-03-06 05:00:00+00:00   54.71   55.9100   53.9800   55.26  22353968   \n",
       "...                           ...       ...       ...     ...       ...   \n",
       "2022-02-23 05:00:00+00:00  830.43  835.2997  760.5600  764.04  31448251   \n",
       "2022-02-24 05:00:00+00:00  700.39  802.4800  700.0000  800.77  44600581   \n",
       "2022-02-25 05:00:00+00:00  809.66  819.5000  782.4005  809.87  24620202   \n",
       "2022-02-28 05:00:00+00:00  815.72  876.8600  814.7075  870.43  32122124   \n",
       "2022-03-01 05:00:00+00:00  869.97  889.8800  853.7800  864.37  24157613   \n",
       "\n",
       "                           trade_count        vwap symbol  \n",
       "timestamp                                                  \n",
       "2020-03-02 05:00:00+00:00       158600   54.999164     KO  \n",
       "2020-03-03 05:00:00+00:00       186893   56.353393     KO  \n",
       "2020-03-04 05:00:00+00:00       111121   58.215396     KO  \n",
       "2020-03-05 05:00:00+00:00       127407   57.054751     KO  \n",
       "2020-03-06 05:00:00+00:00       157331   55.003228     KO  \n",
       "...                                ...         ...    ...  \n",
       "2022-02-23 05:00:00+00:00      1227396  789.202418   TSLA  \n",
       "2022-02-24 05:00:00+00:00      1291607  755.168642   TSLA  \n",
       "2022-02-25 05:00:00+00:00       726859  802.144572   TSLA  \n",
       "2022-02-28 05:00:00+00:00       848292  855.749058   TSLA  \n",
       "2022-03-01 05:00:00+00:00       648573  867.666133   TSLA  \n",
       "\n",
       "[1257 rows x 8 columns]"
      ]
     },
     "execution_count": 49,
     "metadata": {},
     "output_type": "execute_result"
    }
   ],
   "source": [
    "yearly"
   ]
  },
  {
   "cell_type": "code",
   "execution_count": 50,
   "id": "485a5719-ebc6-4fc1-b8a7-596f511caf69",
   "metadata": {},
   "outputs": [
    {
     "data": {
      "text/html": [
       "<div>\n",
       "<style scoped>\n",
       "    .dataframe tbody tr th:only-of-type {\n",
       "        vertical-align: middle;\n",
       "    }\n",
       "\n",
       "    .dataframe tbody tr th {\n",
       "        vertical-align: top;\n",
       "    }\n",
       "\n",
       "    .dataframe thead th {\n",
       "        text-align: right;\n",
       "    }\n",
       "</style>\n",
       "<table border=\"1\" class=\"dataframe\">\n",
       "  <thead>\n",
       "    <tr style=\"text-align: right;\">\n",
       "      <th>symbol</th>\n",
       "      <th>KO</th>\n",
       "      <th>RBLX</th>\n",
       "      <th>TSLA</th>\n",
       "    </tr>\n",
       "  </thead>\n",
       "  <tbody>\n",
       "    <tr>\n",
       "      <th>2020-03-02</th>\n",
       "      <td>55.92</td>\n",
       "      <td>NaN</td>\n",
       "      <td>743.62</td>\n",
       "    </tr>\n",
       "    <tr>\n",
       "      <th>2020-03-03</th>\n",
       "      <td>56.06</td>\n",
       "      <td>NaN</td>\n",
       "      <td>745.51</td>\n",
       "    </tr>\n",
       "    <tr>\n",
       "      <th>2020-03-04</th>\n",
       "      <td>58.92</td>\n",
       "      <td>NaN</td>\n",
       "      <td>749.50</td>\n",
       "    </tr>\n",
       "    <tr>\n",
       "      <th>2020-03-05</th>\n",
       "      <td>56.74</td>\n",
       "      <td>NaN</td>\n",
       "      <td>724.54</td>\n",
       "    </tr>\n",
       "    <tr>\n",
       "      <th>2020-03-06</th>\n",
       "      <td>55.26</td>\n",
       "      <td>NaN</td>\n",
       "      <td>703.48</td>\n",
       "    </tr>\n",
       "    <tr>\n",
       "      <th>...</th>\n",
       "      <td>...</td>\n",
       "      <td>...</td>\n",
       "      <td>...</td>\n",
       "    </tr>\n",
       "    <tr>\n",
       "      <th>2022-02-23</th>\n",
       "      <td>61.59</td>\n",
       "      <td>45.68</td>\n",
       "      <td>764.04</td>\n",
       "    </tr>\n",
       "    <tr>\n",
       "      <th>2022-02-24</th>\n",
       "      <td>60.51</td>\n",
       "      <td>50.10</td>\n",
       "      <td>800.77</td>\n",
       "    </tr>\n",
       "    <tr>\n",
       "      <th>2022-02-25</th>\n",
       "      <td>62.85</td>\n",
       "      <td>50.05</td>\n",
       "      <td>809.87</td>\n",
       "    </tr>\n",
       "    <tr>\n",
       "      <th>2022-02-28</th>\n",
       "      <td>62.24</td>\n",
       "      <td>51.57</td>\n",
       "      <td>870.43</td>\n",
       "    </tr>\n",
       "    <tr>\n",
       "      <th>2022-03-01</th>\n",
       "      <td>61.97</td>\n",
       "      <td>50.22</td>\n",
       "      <td>864.37</td>\n",
       "    </tr>\n",
       "  </tbody>\n",
       "</table>\n",
       "<p>505 rows × 3 columns</p>\n",
       "</div>"
      ],
      "text/plain": [
       "symbol         KO   RBLX    TSLA\n",
       "2020-03-02  55.92    NaN  743.62\n",
       "2020-03-03  56.06    NaN  745.51\n",
       "2020-03-04  58.92    NaN  749.50\n",
       "2020-03-05  56.74    NaN  724.54\n",
       "2020-03-06  55.26    NaN  703.48\n",
       "...           ...    ...     ...\n",
       "2022-02-23  61.59  45.68  764.04\n",
       "2022-02-24  60.51  50.10  800.77\n",
       "2022-02-25  62.85  50.05  809.87\n",
       "2022-02-28  62.24  51.57  870.43\n",
       "2022-03-01  61.97  50.22  864.37\n",
       "\n",
       "[505 rows x 3 columns]"
      ]
     },
     "execution_count": 50,
     "metadata": {},
     "output_type": "execute_result"
    }
   ],
   "source": [
    "yearly.index=yearly.index.date\n",
    "yearly=yearly[['close', 'symbol']]\n",
    "table = pd.pivot_table(yearly, values='close', index=[yearly.index, columns=['symbol'])\n",
    "table"
   ]
  },
  {
   "cell_type": "code",
   "execution_count": 51,
   "id": "33158374-ba4a-4a37-9e16-1d63905fb7fd",
   "metadata": {},
   "outputs": [
    {
     "data": {
      "text/plain": [
       "2021-03-11   -0.010886\n",
       "2021-03-12   -0.010220\n",
       "2021-03-15    0.013304\n",
       "2021-03-16    0.003723\n",
       "2021-03-17    0.000390\n",
       "                ...   \n",
       "2022-02-23   -0.011079\n",
       "2022-02-24   -0.017535\n",
       "2022-02-25    0.038671\n",
       "2022-02-28   -0.009706\n",
       "2022-03-01   -0.004338\n",
       "Name: KO, Length: 246, dtype: float64"
      ]
     },
     "execution_count": 51,
     "metadata": {},
     "output_type": "execute_result"
    }
   ],
   "source": [
    "df_making_money = table.pct_change()\n",
    "df_making_money.dropna(inplace=True)\n",
    "df_making_money['KO']"
   ]
  },
  {
   "cell_type": "code",
   "execution_count": 52,
   "id": "42d61112-ea5e-4c0e-b334-7ddd20c872bb",
   "metadata": {},
   "outputs": [
    {
     "data": {
      "text/plain": [
       "<AxesSubplot:ylabel='Frequency'>"
      ]
     },
     "execution_count": 52,
     "metadata": {},
     "output_type": "execute_result"
    },
    {
     "data": {
      "image/png": "[encoded data removed]",
      "text/plain": [
       "<Figure size 432x288 with 1 Axes>"
      ]
     },
     "metadata": {
      "needs_background": "light"
     },
     "output_type": "display_data"
    }
   ],
   "source": [
    "df_making_money['KO'].plot.hist()"
   ]
  },
  {
   "cell_type": "code",
   "execution_count": 53,
   "id": "fd7a5761-c234-4698-8108-623bdcff8ef8",
   "metadata": {},
   "outputs": [
    {
     "data": {
      "text/plain": [
       "<AxesSubplot:ylabel='Density'>"
      ]
     },
     "execution_count": 53,
     "metadata": {},
     "output_type": "execute_result"
    },
    {
     "data": {
      "image/png": "[encoded data removed]",
      "text/plain": [
       "<Figure size 432x288 with 1 Axes>"
      ]
     },
     "metadata": {
      "needs_background": "light"
     },
     "output_type": "display_data"
    }
   ],
   "source": [
    "df_making_money['KO'].plot.density()"
   ]
  },
  {
   "cell_type": "code",
   "execution_count": 54,
   "id": "9888681d-693e-44d8-bce4-f2e83701ac56",
   "metadata": {},
   "outputs": [
    {
     "data": {
      "text/plain": [
       "<AxesSubplot:ylabel='Density'>"
      ]
     },
     "execution_count": 54,
     "metadata": {},
     "output_type": "execute_result"
    },
    {
     "data": {
      "image/png": "[encoded data removed]",
      "text/plain": [
       "<Figure size 432x288 with 1 Axes>"
      ]
     },
     "metadata": {
      "needs_background": "light"
     },
     "output_type": "display_data"
    }
   ],
   "source": [
    "df_making_money['KO'].plot.hist()\n",
    "df_making_money['KO'].plot.density()"
   ]
  },
  {
   "cell_type": "code",
   "execution_count": 55,
   "id": "c56dd334-be75-49e3-886c-d0f631e55f2a",
   "metadata": {},
   "outputs": [
    {
     "name": "stderr",
     "output_type": "stream",
     "text": [
      "/Users/satishsurath/opt/anaconda3/envs/alpacaenv/lib/python3.7/site-packages/seaborn/distributions.py:2619: FutureWarning: `distplot` is a deprecated function and will be removed in a future version. Please adapt your code to use either `displot` (a figure-level function with similar flexibility) or `histplot` (an axes-level function for histograms).\n",
      "  warnings.warn(msg, FutureWarning)\n"
     ]
    },
    {
     "data": {
      "text/plain": [
       "<AxesSubplot:xlabel='KO', ylabel='Density'>"
      ]
     },
     "execution_count": 55,
     "metadata": {},
     "output_type": "execute_result"
    },
    {
     "data": {
      "image/png": "[encoded data removed]",
      "text/plain": [
       "<Figure size 432x288 with 1 Axes>"
      ]
     },
     "metadata": {
      "needs_background": "light"
     },
     "output_type": "display_data"
    }
   ],
   "source": [
    "sns.distplot(df_making_money['KO'])"
   ]
  },
  {
   "cell_type": "code",
   "execution_count": 56,
   "id": "c2f713e8-f48f-44da-b4f6-d5aa27c7cacf",
   "metadata": {},
   "outputs": [
    {
     "name": "stderr",
     "output_type": "stream",
     "text": [
      "/Users/satishsurath/opt/anaconda3/envs/alpacaenv/lib/python3.7/site-packages/seaborn/distributions.py:2619: FutureWarning: `distplot` is a deprecated function and will be removed in a future version. Please adapt your code to use either `displot` (a figure-level function with similar flexibility) or `histplot` (an axes-level function for histograms).\n",
      "  warnings.warn(msg, FutureWarning)\n",
      "/Users/satishsurath/opt/anaconda3/envs/alpacaenv/lib/python3.7/site-packages/seaborn/distributions.py:2619: FutureWarning: `distplot` is a deprecated function and will be removed in a future version. Please adapt your code to use either `displot` (a figure-level function with similar flexibility) or `histplot` (an axes-level function for histograms).\n",
      "  warnings.warn(msg, FutureWarning)\n"
     ]
    },
    {
     "data": {
      "text/plain": [
       "<AxesSubplot:xlabel='KO', ylabel='Density'>"
      ]
     },
     "execution_count": 56,
     "metadata": {},
     "output_type": "execute_result"
    },
    {
     "data": {
      "image/png": "[encoded data removed]",
      "text/plain": [
       "<Figure size 432x288 with 1 Axes>"
      ]
     },
     "metadata": {
      "needs_background": "light"
     },
     "output_type": "display_data"
    }
   ],
   "source": [
    "sns.distplot(df_making_money['RBLX'])\n",
    "sns.distplot(df_making_money['KO'])"
   ]
  },
  {
   "cell_type": "code",
   "execution_count": 63,
   "id": "091b5e47-105e-4ec7-8407-f3f3658d1f13",
   "metadata": {},
   "outputs": [
    {
     "data": {
      "text/html": [
       "<div>\n",
       "<style scoped>\n",
       "    .dataframe tbody tr th:only-of-type {\n",
       "        vertical-align: middle;\n",
       "    }\n",
       "\n",
       "    .dataframe tbody tr th {\n",
       "        vertical-align: top;\n",
       "    }\n",
       "\n",
       "    .dataframe thead th {\n",
       "        text-align: right;\n",
       "    }\n",
       "</style>\n",
       "<table border=\"1\" class=\"dataframe\">\n",
       "  <thead>\n",
       "    <tr style=\"text-align: right;\">\n",
       "      <th></th>\n",
       "      <th>symbol</th>\n",
       "      <th>KO</th>\n",
       "      <th>RBLX</th>\n",
       "      <th>TSLA</th>\n",
       "    </tr>\n",
       "    <tr>\n",
       "      <th></th>\n",
       "      <th>symbol</th>\n",
       "      <th></th>\n",
       "      <th></th>\n",
       "      <th></th>\n",
       "    </tr>\n",
       "  </thead>\n",
       "  <tbody>\n",
       "    <tr>\n",
       "      <th rowspan=\"2\" valign=\"top\">2020-03-02</th>\n",
       "      <th>KO</th>\n",
       "      <td>55.92</td>\n",
       "      <td>NaN</td>\n",
       "      <td>NaN</td>\n",
       "    </tr>\n",
       "    <tr>\n",
       "      <th>TSLA</th>\n",
       "      <td>NaN</td>\n",
       "      <td>NaN</td>\n",
       "      <td>743.62</td>\n",
       "    </tr>\n",
       "    <tr>\n",
       "      <th rowspan=\"2\" valign=\"top\">2020-03-03</th>\n",
       "      <th>KO</th>\n",
       "      <td>56.06</td>\n",
       "      <td>NaN</td>\n",
       "      <td>NaN</td>\n",
       "    </tr>\n",
       "    <tr>\n",
       "      <th>TSLA</th>\n",
       "      <td>NaN</td>\n",
       "      <td>NaN</td>\n",
       "      <td>745.51</td>\n",
       "    </tr>\n",
       "    <tr>\n",
       "      <th>2020-03-04</th>\n",
       "      <th>KO</th>\n",
       "      <td>58.92</td>\n",
       "      <td>NaN</td>\n",
       "      <td>NaN</td>\n",
       "    </tr>\n",
       "    <tr>\n",
       "      <th>...</th>\n",
       "      <th>...</th>\n",
       "      <td>...</td>\n",
       "      <td>...</td>\n",
       "      <td>...</td>\n",
       "    </tr>\n",
       "    <tr>\n",
       "      <th rowspan=\"2\" valign=\"top\">2022-02-28</th>\n",
       "      <th>RBLX</th>\n",
       "      <td>NaN</td>\n",
       "      <td>51.57</td>\n",
       "      <td>NaN</td>\n",
       "    </tr>\n",
       "    <tr>\n",
       "      <th>TSLA</th>\n",
       "      <td>NaN</td>\n",
       "      <td>NaN</td>\n",
       "      <td>870.43</td>\n",
       "    </tr>\n",
       "    <tr>\n",
       "      <th rowspan=\"3\" valign=\"top\">2022-03-01</th>\n",
       "      <th>KO</th>\n",
       "      <td>61.97</td>\n",
       "      <td>NaN</td>\n",
       "      <td>NaN</td>\n",
       "    </tr>\n",
       "    <tr>\n",
       "      <th>RBLX</th>\n",
       "      <td>NaN</td>\n",
       "      <td>50.22</td>\n",
       "      <td>NaN</td>\n",
       "    </tr>\n",
       "    <tr>\n",
       "      <th>TSLA</th>\n",
       "      <td>NaN</td>\n",
       "      <td>NaN</td>\n",
       "      <td>864.37</td>\n",
       "    </tr>\n",
       "  </tbody>\n",
       "</table>\n",
       "<p>1257 rows × 3 columns</p>\n",
       "</div>"
      ],
      "text/plain": [
       "symbol                KO   RBLX    TSLA\n",
       "           symbol                      \n",
       "2020-03-02 KO      55.92    NaN     NaN\n",
       "           TSLA      NaN    NaN  743.62\n",
       "2020-03-03 KO      56.06    NaN     NaN\n",
       "           TSLA      NaN    NaN  745.51\n",
       "2020-03-04 KO      58.92    NaN     NaN\n",
       "...                  ...    ...     ...\n",
       "2022-02-28 RBLX      NaN  51.57     NaN\n",
       "           TSLA      NaN    NaN  870.43\n",
       "2022-03-01 KO      61.97    NaN     NaN\n",
       "           RBLX      NaN  50.22     NaN\n",
       "           TSLA      NaN    NaN  864.37\n",
       "\n",
       "[1257 rows x 3 columns]"
      ]
     },
     "execution_count": 63,
     "metadata": {},
     "output_type": "execute_result"
    }
   ],
   "source": [
    "#Create an object for Monte Carlo Simulation\n",
    "table2 = pd.pivot_table(yearly, values='close', index=[yearly.index,'symbol'], columns=['symbol'])\n",
    "table2"
   ]
  },
  {
   "cell_type": "code",
   "execution_count": 64,
   "id": "57f77321-3383-48e9-a1b7-d1f5efbe41ef",
   "metadata": {},
   "outputs": [
    {
     "ename": "IndexError",
     "evalue": "Too many levels: Index has only 1 level, not 2",
     "output_type": "error",
     "traceback": [
      "\u001b[0;31m---------------------------------------------------------------------------\u001b[0m",
      "\u001b[0;31mIndexError\u001b[0m                                Traceback (most recent call last)",
      "\u001b[0;32m/var/folders/q5/1gnbsjzj6lz_k_lxmh46qzjw0000gn/T/ipykernel_31693/3291938688.py\u001b[0m in \u001b[0;36m<module>\u001b[0;34m\u001b[0m\n\u001b[1;32m      4\u001b[0m     \u001b[0mweights\u001b[0m \u001b[0;34m=\u001b[0m \u001b[0;34m[\u001b[0m\u001b[0;36m.60\u001b[0m\u001b[0;34m,\u001b[0m\u001b[0;36m.30\u001b[0m\u001b[0;34m,\u001b[0m\u001b[0;36m.1\u001b[0m\u001b[0;34m]\u001b[0m\u001b[0;34m,\u001b[0m\u001b[0;34m\u001b[0m\u001b[0;34m\u001b[0m\u001b[0m\n\u001b[1;32m      5\u001b[0m     \u001b[0mnum_simulation\u001b[0m \u001b[0;34m=\u001b[0m \u001b[0;36m500\u001b[0m\u001b[0;34m,\u001b[0m\u001b[0;34m\u001b[0m\u001b[0;34m\u001b[0m\u001b[0m\n\u001b[0;32m----> 6\u001b[0;31m     \u001b[0mnum_trading_days\u001b[0m \u001b[0;34m=\u001b[0m \u001b[0;36m252\u001b[0m\u001b[0;34m*\u001b[0m\u001b[0;36m5\u001b[0m\u001b[0;34m\u001b[0m\u001b[0;34m\u001b[0m\u001b[0m\n\u001b[0m\u001b[1;32m      7\u001b[0m )\n",
      "\u001b[0;32m~/Developer/OnlineResources/PythonJupyterNotebooks/MCForecastTools.py\u001b[0m in \u001b[0;36m__init__\u001b[0;34m(self, portfolio_data, weights, num_simulation, num_trading_days)\u001b[0m\n\u001b[1;32m     59\u001b[0m \u001b[0;34m\u001b[0m\u001b[0m\n\u001b[1;32m     60\u001b[0m         \u001b[0;31m# Calculate daily return if not within dataframe\u001b[0m\u001b[0;34m\u001b[0m\u001b[0;34m\u001b[0m\u001b[0;34m\u001b[0m\u001b[0m\n\u001b[0;32m---> 61\u001b[0;31m         \u001b[0;32mif\u001b[0m \u001b[0;32mnot\u001b[0m \u001b[0;34m\"daily_return\"\u001b[0m \u001b[0;32min\u001b[0m \u001b[0mportfolio_data\u001b[0m\u001b[0;34m.\u001b[0m\u001b[0mcolumns\u001b[0m\u001b[0;34m.\u001b[0m\u001b[0mget_level_values\u001b[0m\u001b[0;34m(\u001b[0m\u001b[0;36m1\u001b[0m\u001b[0;34m)\u001b[0m\u001b[0;34m.\u001b[0m\u001b[0munique\u001b[0m\u001b[0;34m(\u001b[0m\u001b[0;34m)\u001b[0m\u001b[0;34m:\u001b[0m\u001b[0;34m\u001b[0m\u001b[0;34m\u001b[0m\u001b[0m\n\u001b[0m\u001b[1;32m     62\u001b[0m             \u001b[0mclose_df\u001b[0m \u001b[0;34m=\u001b[0m \u001b[0mportfolio_data\u001b[0m\u001b[0;34m.\u001b[0m\u001b[0mxs\u001b[0m\u001b[0;34m(\u001b[0m\u001b[0;34m'close'\u001b[0m\u001b[0;34m,\u001b[0m\u001b[0mlevel\u001b[0m\u001b[0;34m=\u001b[0m\u001b[0;36m1\u001b[0m\u001b[0;34m,\u001b[0m\u001b[0maxis\u001b[0m\u001b[0;34m=\u001b[0m\u001b[0;36m1\u001b[0m\u001b[0;34m)\u001b[0m\u001b[0;34m.\u001b[0m\u001b[0mpct_change\u001b[0m\u001b[0;34m(\u001b[0m\u001b[0;34m)\u001b[0m\u001b[0;34m\u001b[0m\u001b[0;34m\u001b[0m\u001b[0m\n\u001b[1;32m     63\u001b[0m             \u001b[0mtickers\u001b[0m \u001b[0;34m=\u001b[0m \u001b[0mportfolio_data\u001b[0m\u001b[0;34m.\u001b[0m\u001b[0mcolumns\u001b[0m\u001b[0;34m.\u001b[0m\u001b[0mget_level_values\u001b[0m\u001b[0;34m(\u001b[0m\u001b[0;36m0\u001b[0m\u001b[0;34m)\u001b[0m\u001b[0;34m.\u001b[0m\u001b[0munique\u001b[0m\u001b[0;34m(\u001b[0m\u001b[0;34m)\u001b[0m\u001b[0;34m\u001b[0m\u001b[0;34m\u001b[0m\u001b[0m\n",
      "\u001b[0;32m~/opt/anaconda3/envs/alpacaenv/lib/python3.7/site-packages/pandas/core/indexes/base.py\u001b[0m in \u001b[0;36m_get_level_values\u001b[0;34m(self, level)\u001b[0m\n\u001b[1;32m   1805\u001b[0m         \u001b[0mIndex\u001b[0m\u001b[0;34m(\u001b[0m\u001b[0;34m[\u001b[0m\u001b[0;34m'a'\u001b[0m\u001b[0;34m,\u001b[0m \u001b[0;34m'b'\u001b[0m\u001b[0;34m,\u001b[0m \u001b[0;34m'c'\u001b[0m\u001b[0;34m]\u001b[0m\u001b[0;34m,\u001b[0m \u001b[0mdtype\u001b[0m\u001b[0;34m=\u001b[0m\u001b[0;34m'object'\u001b[0m\u001b[0;34m)\u001b[0m\u001b[0;34m\u001b[0m\u001b[0;34m\u001b[0m\u001b[0m\n\u001b[1;32m   1806\u001b[0m         \"\"\"\n\u001b[0;32m-> 1807\u001b[0;31m         \u001b[0mself\u001b[0m\u001b[0;34m.\u001b[0m\u001b[0m_validate_index_level\u001b[0m\u001b[0;34m(\u001b[0m\u001b[0mlevel\u001b[0m\u001b[0;34m)\u001b[0m\u001b[0;34m\u001b[0m\u001b[0;34m\u001b[0m\u001b[0m\n\u001b[0m\u001b[1;32m   1808\u001b[0m         \u001b[0;32mreturn\u001b[0m \u001b[0mself\u001b[0m\u001b[0;34m\u001b[0m\u001b[0;34m\u001b[0m\u001b[0m\n\u001b[1;32m   1809\u001b[0m \u001b[0;34m\u001b[0m\u001b[0m\n",
      "\u001b[0;32m~/opt/anaconda3/envs/alpacaenv/lib/python3.7/site-packages/pandas/core/indexes/base.py\u001b[0m in \u001b[0;36m_validate_index_level\u001b[0;34m(self, level)\u001b[0m\n\u001b[1;32m   1725\u001b[0m             \u001b[0;32melif\u001b[0m \u001b[0mlevel\u001b[0m \u001b[0;34m>\u001b[0m \u001b[0;36m0\u001b[0m\u001b[0;34m:\u001b[0m\u001b[0;34m\u001b[0m\u001b[0;34m\u001b[0m\u001b[0m\n\u001b[1;32m   1726\u001b[0m                 raise IndexError(\n\u001b[0;32m-> 1727\u001b[0;31m                     \u001b[0;34mf\"Too many levels: Index has only 1 level, not {level + 1}\"\u001b[0m\u001b[0;34m\u001b[0m\u001b[0;34m\u001b[0m\u001b[0m\n\u001b[0m\u001b[1;32m   1728\u001b[0m                 )\n\u001b[1;32m   1729\u001b[0m         \u001b[0;32melif\u001b[0m \u001b[0mlevel\u001b[0m \u001b[0;34m!=\u001b[0m \u001b[0mself\u001b[0m\u001b[0;34m.\u001b[0m\u001b[0mname\u001b[0m\u001b[0;34m:\u001b[0m\u001b[0;34m\u001b[0m\u001b[0;34m\u001b[0m\u001b[0m\n",
      "\u001b[0;31mIndexError\u001b[0m: Too many levels: Index has only 1 level, not 2"
     ]
    }
   ],
   "source": [
    "# Configuring a Monte Carlo simulation to forecast five years cumulative returns\n",
    "MC_fiveyear = MCSimulation(\n",
    "    portfolio_data = table2,\n",
    "    weights = [.60,.30,.1],\n",
    "    num_simulation = 500,\n",
    "    num_trading_days = 252*5\n",
    ")"
   ]
  },
  {
   "cell_type": "code",
   "execution_count": null,
   "id": "22a51f9b-e722-4cba-a66b-827661095289",
   "metadata": {},
   "outputs": [],
   "source": []
  }
 ],
 "metadata": {
  "kernelspec": {
   "display_name": "Python 3 (ipykernel)",
   "language": "python",
   "name": "python3"
  },
  "language_info": {
   "codemirror_mode": {
    "name": "ipython",
    "version": 3
   },
   "file_extension": ".py",
   "mimetype": "text/x-python",
   "name": "python",
   "nbconvert_exporter": "python",
   "pygments_lexer": "ipython3",
   "version": "3.7.11"
  }
 },
 "nbformat": 4,
 "nbformat_minor": 5
}
