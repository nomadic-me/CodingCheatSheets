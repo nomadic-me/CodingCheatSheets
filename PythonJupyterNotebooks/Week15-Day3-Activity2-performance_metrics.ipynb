{
 "cells": [
  {
   "cell_type": "markdown",
   "metadata": {},
   "source": [
    "# Performance Metrics"
   ]
  },
  {
   "cell_type": "code",
   "execution_count": 1,
   "metadata": {},
   "outputs": [],
   "source": [
    "# Initial imports\n",
    "import pandas as pd\n",
    "import numpy as np\n",
    "from pathlib import Path\n",
    "import matplotlib.pyplot as plt\n",
    "from sklearn import svm\n",
    "from sklearn.preprocessing import StandardScaler\n",
    "from pandas.tseries.offsets import DateOffset\n",
    "from sklearn.metrics import classification_report"
   ]
  },
  {
   "cell_type": "markdown",
   "metadata": {},
   "source": [
    "## Load & Plot Data"
   ]
  },
  {
   "cell_type": "code",
   "execution_count": 5,
   "metadata": {},
   "outputs": [
    {
     "data": {
      "text/html": [
       "<div>\n",
       "<style scoped>\n",
       "    .dataframe tbody tr th:only-of-type {\n",
       "        vertical-align: middle;\n",
       "    }\n",
       "\n",
       "    .dataframe tbody tr th {\n",
       "        vertical-align: top;\n",
       "    }\n",
       "\n",
       "    .dataframe thead th {\n",
       "        text-align: right;\n",
       "    }\n",
       "</style>\n",
       "<table border=\"1\" class=\"dataframe\">\n",
       "  <thead>\n",
       "    <tr style=\"text-align: right;\">\n",
       "      <th></th>\n",
       "      <th>open</th>\n",
       "      <th>high</th>\n",
       "      <th>low</th>\n",
       "      <th>close</th>\n",
       "      <th>average</th>\n",
       "    </tr>\n",
       "    <tr>\n",
       "      <th>date</th>\n",
       "      <th></th>\n",
       "      <th></th>\n",
       "      <th></th>\n",
       "      <th></th>\n",
       "      <th></th>\n",
       "    </tr>\n",
       "  </thead>\n",
       "  <tbody>\n",
       "    <tr>\n",
       "      <th>2014-04-04</th>\n",
       "      <td>0.304791</td>\n",
       "      <td>0.349954</td>\n",
       "      <td>0.297853</td>\n",
       "      <td>0.345731</td>\n",
       "      <td>0.349954</td>\n",
       "    </tr>\n",
       "    <tr>\n",
       "      <th>2014-04-07</th>\n",
       "      <td>0.350160</td>\n",
       "      <td>0.373892</td>\n",
       "      <td>0.344413</td>\n",
       "      <td>0.354271</td>\n",
       "      <td>0.373892</td>\n",
       "    </tr>\n",
       "    <tr>\n",
       "      <th>2014-04-08</th>\n",
       "      <td>0.346175</td>\n",
       "      <td>0.352271</td>\n",
       "      <td>0.335063</td>\n",
       "      <td>0.336444</td>\n",
       "      <td>0.352271</td>\n",
       "    </tr>\n",
       "    <tr>\n",
       "      <th>2014-04-09</th>\n",
       "      <td>0.332714</td>\n",
       "      <td>0.343556</td>\n",
       "      <td>0.331396</td>\n",
       "      <td>0.338429</td>\n",
       "      <td>0.343556</td>\n",
       "    </tr>\n",
       "    <tr>\n",
       "      <th>2014-04-10</th>\n",
       "      <td>0.393561</td>\n",
       "      <td>0.405006</td>\n",
       "      <td>0.385878</td>\n",
       "      <td>0.387147</td>\n",
       "      <td>0.405006</td>\n",
       "    </tr>\n",
       "  </tbody>\n",
       "</table>\n",
       "</div>"
      ],
      "text/plain": [
       "                open      high       low     close   average\n",
       "date                                                        \n",
       "2014-04-04  0.304791  0.349954  0.297853  0.345731  0.349954\n",
       "2014-04-07  0.350160  0.373892  0.344413  0.354271  0.373892\n",
       "2014-04-08  0.346175  0.352271  0.335063  0.336444  0.352271\n",
       "2014-04-09  0.332714  0.343556  0.331396  0.338429  0.343556\n",
       "2014-04-10  0.393561  0.405006  0.385878  0.387147  0.405006"
      ]
     },
     "execution_count": 5,
     "metadata": {},
     "output_type": "execute_result"
    }
   ],
   "source": [
    "# Read in the daily data\n",
    "data_path = Path(\"Resources/Week15-Day3-Activity2-GOOG_implied_vol.csv\")\n",
    "ohlcv_df = pd.read_csv(\n",
    "    data_path,\n",
    "    index_col=\"date\",\n",
    "    infer_datetime_format=True,\n",
    "    parse_dates=True\n",
    ")\n",
    "\n",
    "# Display sample data\n",
    "ohlcv_df.head()"
   ]
  },
  {
   "cell_type": "code",
   "execution_count": 6,
   "metadata": {},
   "outputs": [
    {
     "data": {
      "text/plain": [
       "<AxesSubplot:xlabel='date'>"
      ]
     },
     "execution_count": 6,
     "metadata": {},
     "output_type": "execute_result"
    },
    {
     "data": {
      "image/png": "[encoded data removed]",
      "text/plain": [
       "<Figure size 432x288 with 1 Axes>"
      ]
     },
     "metadata": {
      "needs_background": "light"
     },
     "output_type": "display_data"
    }
   ],
   "source": [
    "# Plot the data\n",
    "ohlcv_df[\"average\"].plot()"
   ]
  },
  {
   "cell_type": "markdown",
   "metadata": {},
   "source": [
    "## Calculate Returns"
   ]
  },
  {
   "cell_type": "code",
   "execution_count": 7,
   "metadata": {},
   "outputs": [
    {
     "data": {
      "text/plain": [
       "date\n",
       "2014-04-04         NaN\n",
       "2014-04-07    0.068406\n",
       "2014-04-08   -0.057827\n",
       "2014-04-09   -0.024740\n",
       "2014-04-10    0.178865\n",
       "Name: Actual Returns, dtype: float64"
      ]
     },
     "execution_count": 7,
     "metadata": {},
     "output_type": "execute_result"
    }
   ],
   "source": [
    "# Filter the date index and close columns\n",
    "signals_df = ohlcv_df.loc[:, [\"average\"]]\n",
    "\n",
    "# Calculate percentage change in implied volatility \n",
    "# (Implied Volatility is a proxy for option price returns) \n",
    "signals_df[\"Actual Returns\"] = ( signals_df[\"average\"].pct_change())\n",
    "signals_df[\"Actual Returns\"].head()"
   ]
  },
  {
   "cell_type": "code",
   "execution_count": 8,
   "metadata": {},
   "outputs": [
    {
     "data": {
      "text/html": [
       "<div>\n",
       "<style scoped>\n",
       "    .dataframe tbody tr th:only-of-type {\n",
       "        vertical-align: middle;\n",
       "    }\n",
       "\n",
       "    .dataframe tbody tr th {\n",
       "        vertical-align: top;\n",
       "    }\n",
       "\n",
       "    .dataframe thead th {\n",
       "        text-align: right;\n",
       "    }\n",
       "</style>\n",
       "<table border=\"1\" class=\"dataframe\">\n",
       "  <thead>\n",
       "    <tr style=\"text-align: right;\">\n",
       "      <th></th>\n",
       "      <th>average</th>\n",
       "      <th>Actual Returns</th>\n",
       "    </tr>\n",
       "    <tr>\n",
       "      <th>date</th>\n",
       "      <th></th>\n",
       "      <th></th>\n",
       "    </tr>\n",
       "  </thead>\n",
       "  <tbody>\n",
       "    <tr>\n",
       "      <th>2014-04-07</th>\n",
       "      <td>0.373892</td>\n",
       "      <td>0.068406</td>\n",
       "    </tr>\n",
       "    <tr>\n",
       "      <th>2014-04-08</th>\n",
       "      <td>0.352271</td>\n",
       "      <td>-0.057827</td>\n",
       "    </tr>\n",
       "    <tr>\n",
       "      <th>2014-04-09</th>\n",
       "      <td>0.343556</td>\n",
       "      <td>-0.024740</td>\n",
       "    </tr>\n",
       "    <tr>\n",
       "      <th>2014-04-10</th>\n",
       "      <td>0.405006</td>\n",
       "      <td>0.178865</td>\n",
       "    </tr>\n",
       "    <tr>\n",
       "      <th>2014-04-11</th>\n",
       "      <td>0.411610</td>\n",
       "      <td>0.016305</td>\n",
       "    </tr>\n",
       "  </tbody>\n",
       "</table>\n",
       "</div>"
      ],
      "text/plain": [
       "             average  Actual Returns\n",
       "date                                \n",
       "2014-04-07  0.373892        0.068406\n",
       "2014-04-08  0.352271       -0.057827\n",
       "2014-04-09  0.343556       -0.024740\n",
       "2014-04-10  0.405006        0.178865\n",
       "2014-04-11  0.411610        0.016305"
      ]
     },
     "execution_count": 8,
     "metadata": {},
     "output_type": "execute_result"
    }
   ],
   "source": [
    "# Drop all NaN values from the DataFrame\n",
    "signals_df = signals_df.dropna()\n",
    "\n",
    "# Display sample data\n",
    "signals_df.head()"
   ]
  },
  {
   "cell_type": "markdown",
   "metadata": {},
   "source": [
    "## Build a Simple Trading Algorithm"
   ]
  },
  {
   "cell_type": "code",
   "execution_count": 9,
   "metadata": {},
   "outputs": [],
   "source": [
    "# Set the short window and long window\n",
    "short_window = 1\n",
    "long_window = 5\n",
    "\n",
    "# Generate the fast and slow simple moving averages (4 and 100 days, respectively)\n",
    "signals_df[\"SMA_Fast\"] = signals_df[\"average\"].rolling(window=short_window).mean()\n",
    "signals_df[\"SMA_Slow\"] = signals_df[\"average\"].rolling(window=long_window).mean()\n",
    "\n",
    "# Drop any NaN\n",
    "signals_df = signals_df.dropna()"
   ]
  },
  {
   "cell_type": "markdown",
   "metadata": {},
   "source": [
    "### Define a Simple Momentum Strategy"
   ]
  },
  {
   "cell_type": "code",
   "execution_count": 10,
   "metadata": {},
   "outputs": [],
   "source": [
    "# Initialize the new Signal column\n",
    "signals_df[\"Signal\"] = 0.0\n",
    "\n",
    "# When Actual Returns are greater than or equal to 0, generate signal to buy stock long\n",
    "signals_df.loc[(signals_df[\"Actual Returns\"] >= 0), \"Signal\"] = 1\n",
    "\n",
    "# When Actual Returns are less than 0, generate signal to sell stock short\n",
    "signals_df.loc[(signals_df[\"Actual Returns\"] < 0), \"Signal\"] = -1"
   ]
  },
  {
   "cell_type": "markdown",
   "metadata": {},
   "source": [
    "### Risk and Performance"
   ]
  },
  {
   "cell_type": "code",
   "execution_count": 11,
   "metadata": {},
   "outputs": [
    {
     "name": "stdout",
     "output_type": "stream",
     "text": [
      "Annualized Volatility: 240.41 %\n"
     ]
    }
   ],
   "source": [
    "# Annualized volatility of the option returns for Google\n",
    "annualized_volatility = round(signals_df[\"Actual Returns\"].std() * np.sqrt(252) * 100, 2)\n",
    "\n",
    "# Display results\n",
    "print(\"Annualized Volatility:\", annualized_volatility, \"%\")"
   ]
  },
  {
   "cell_type": "code",
   "execution_count": 14,
   "metadata": {},
   "outputs": [
    {
     "data": {
      "text/html": [
       "<div>\n",
       "<style scoped>\n",
       "    .dataframe tbody tr th:only-of-type {\n",
       "        vertical-align: middle;\n",
       "    }\n",
       "\n",
       "    .dataframe tbody tr th {\n",
       "        vertical-align: top;\n",
       "    }\n",
       "\n",
       "    .dataframe thead th {\n",
       "        text-align: right;\n",
       "    }\n",
       "</style>\n",
       "<table border=\"1\" class=\"dataframe\">\n",
       "  <thead>\n",
       "    <tr style=\"text-align: right;\">\n",
       "      <th></th>\n",
       "      <th>average</th>\n",
       "      <th>Actual Returns</th>\n",
       "      <th>SMA_Fast</th>\n",
       "      <th>SMA_Slow</th>\n",
       "      <th>Signal</th>\n",
       "      <th>Strategy Returns</th>\n",
       "    </tr>\n",
       "    <tr>\n",
       "      <th>date</th>\n",
       "      <th></th>\n",
       "      <th></th>\n",
       "      <th></th>\n",
       "      <th></th>\n",
       "      <th></th>\n",
       "      <th></th>\n",
       "    </tr>\n",
       "  </thead>\n",
       "  <tbody>\n",
       "    <tr>\n",
       "      <th>2021-03-12</th>\n",
       "      <td>0.305045</td>\n",
       "      <td>0.079247</td>\n",
       "      <td>0.305045</td>\n",
       "      <td>0.302660</td>\n",
       "      <td>1.0</td>\n",
       "      <td>-0.079247</td>\n",
       "    </tr>\n",
       "    <tr>\n",
       "      <th>2021-03-15</th>\n",
       "      <td>0.293456</td>\n",
       "      <td>-0.037989</td>\n",
       "      <td>0.293456</td>\n",
       "      <td>0.298190</td>\n",
       "      <td>-1.0</td>\n",
       "      <td>-0.037989</td>\n",
       "    </tr>\n",
       "    <tr>\n",
       "      <th>2021-03-16</th>\n",
       "      <td>0.267835</td>\n",
       "      <td>-0.087309</td>\n",
       "      <td>0.267835</td>\n",
       "      <td>0.287459</td>\n",
       "      <td>-1.0</td>\n",
       "      <td>0.087309</td>\n",
       "    </tr>\n",
       "    <tr>\n",
       "      <th>2021-03-17</th>\n",
       "      <td>0.278693</td>\n",
       "      <td>0.040541</td>\n",
       "      <td>0.278693</td>\n",
       "      <td>0.285535</td>\n",
       "      <td>1.0</td>\n",
       "      <td>-0.040541</td>\n",
       "    </tr>\n",
       "    <tr>\n",
       "      <th>2021-03-18</th>\n",
       "      <td>0.290996</td>\n",
       "      <td>0.044144</td>\n",
       "      <td>0.290996</td>\n",
       "      <td>0.287205</td>\n",
       "      <td>1.0</td>\n",
       "      <td>0.044144</td>\n",
       "    </tr>\n",
       "  </tbody>\n",
       "</table>\n",
       "</div>"
      ],
      "text/plain": [
       "             average  Actual Returns  SMA_Fast  SMA_Slow  Signal  \\\n",
       "date                                                               \n",
       "2021-03-12  0.305045        0.079247  0.305045  0.302660     1.0   \n",
       "2021-03-15  0.293456       -0.037989  0.293456  0.298190    -1.0   \n",
       "2021-03-16  0.267835       -0.087309  0.267835  0.287459    -1.0   \n",
       "2021-03-17  0.278693        0.040541  0.278693  0.285535     1.0   \n",
       "2021-03-18  0.290996        0.044144  0.290996  0.287205     1.0   \n",
       "\n",
       "            Strategy Returns  \n",
       "date                          \n",
       "2021-03-12         -0.079247  \n",
       "2021-03-15         -0.037989  \n",
       "2021-03-16          0.087309  \n",
       "2021-03-17         -0.040541  \n",
       "2021-03-18          0.044144  "
      ]
     },
     "execution_count": 14,
     "metadata": {},
     "output_type": "execute_result"
    }
   ],
   "source": [
    "# Calculate the strategy returns and add them to the signals_df DataFrame\n",
    "signals_df[\"Strategy Returns\"] = signals_df[\"Actual Returns\"] * signals_df[\"Signal\"].shift()\n",
    "signals_df.tail()"
   ]
  },
  {
   "cell_type": "code",
   "execution_count": 13,
   "metadata": {},
   "outputs": [
    {
     "data": {
      "text/plain": [
       "<AxesSubplot:xlabel='date'>"
      ]
     },
     "execution_count": 13,
     "metadata": {},
     "output_type": "execute_result"
    },
    {
     "data": {
      "image/png": "[encoded data removed]",
      "text/plain": [
       "<Figure size 432x288 with 1 Axes>"
      ]
     },
     "metadata": {
      "needs_background": "light"
     },
     "output_type": "display_data"
    }
   ],
   "source": [
    "# Calculate the strategy's returns\n",
    "strategy_returns = signals_df[\"Strategy Returns\"].cumsum()\n",
    "\n",
    "# Plot Strategy Returns to examine performance\n",
    "strategy_returns.plot()"
   ]
  },
  {
   "cell_type": "markdown",
   "metadata": {},
   "source": [
    "## Add Transaction Costs to a Backtest"
   ]
  },
  {
   "cell_type": "code",
   "execution_count": 15,
   "metadata": {},
   "outputs": [
    {
     "data": {
      "text/html": [
       "<div>\n",
       "<style scoped>\n",
       "    .dataframe tbody tr th:only-of-type {\n",
       "        vertical-align: middle;\n",
       "    }\n",
       "\n",
       "    .dataframe tbody tr th {\n",
       "        vertical-align: top;\n",
       "    }\n",
       "\n",
       "    .dataframe thead th {\n",
       "        text-align: right;\n",
       "    }\n",
       "</style>\n",
       "<table border=\"1\" class=\"dataframe\">\n",
       "  <thead>\n",
       "    <tr style=\"text-align: right;\">\n",
       "      <th></th>\n",
       "      <th>average</th>\n",
       "      <th>Actual Returns</th>\n",
       "      <th>SMA_Fast</th>\n",
       "      <th>SMA_Slow</th>\n",
       "      <th>Signal</th>\n",
       "      <th>Strategy Returns</th>\n",
       "      <th>Trades</th>\n",
       "    </tr>\n",
       "    <tr>\n",
       "      <th>date</th>\n",
       "      <th></th>\n",
       "      <th></th>\n",
       "      <th></th>\n",
       "      <th></th>\n",
       "      <th></th>\n",
       "      <th></th>\n",
       "      <th></th>\n",
       "    </tr>\n",
       "  </thead>\n",
       "  <tbody>\n",
       "    <tr>\n",
       "      <th>2014-04-11</th>\n",
       "      <td>0.411610</td>\n",
       "      <td>0.016305</td>\n",
       "      <td>0.411610</td>\n",
       "      <td>0.377267</td>\n",
       "      <td>1.0</td>\n",
       "      <td>NaN</td>\n",
       "      <td>NaN</td>\n",
       "    </tr>\n",
       "    <tr>\n",
       "      <th>2014-04-14</th>\n",
       "      <td>0.383449</td>\n",
       "      <td>-0.068418</td>\n",
       "      <td>0.383449</td>\n",
       "      <td>0.379178</td>\n",
       "      <td>-1.0</td>\n",
       "      <td>-0.068418</td>\n",
       "      <td>2.0</td>\n",
       "    </tr>\n",
       "    <tr>\n",
       "      <th>2014-04-15</th>\n",
       "      <td>0.392624</td>\n",
       "      <td>0.023929</td>\n",
       "      <td>0.392624</td>\n",
       "      <td>0.387249</td>\n",
       "      <td>1.0</td>\n",
       "      <td>-0.023929</td>\n",
       "      <td>2.0</td>\n",
       "    </tr>\n",
       "    <tr>\n",
       "      <th>2014-04-16</th>\n",
       "      <td>0.347747</td>\n",
       "      <td>-0.114301</td>\n",
       "      <td>0.347747</td>\n",
       "      <td>0.388087</td>\n",
       "      <td>-1.0</td>\n",
       "      <td>-0.114301</td>\n",
       "      <td>2.0</td>\n",
       "    </tr>\n",
       "    <tr>\n",
       "      <th>2014-04-17</th>\n",
       "      <td>0.347731</td>\n",
       "      <td>-0.000046</td>\n",
       "      <td>0.347731</td>\n",
       "      <td>0.376632</td>\n",
       "      <td>-1.0</td>\n",
       "      <td>0.000046</td>\n",
       "      <td>0.0</td>\n",
       "    </tr>\n",
       "  </tbody>\n",
       "</table>\n",
       "</div>"
      ],
      "text/plain": [
       "             average  Actual Returns  SMA_Fast  SMA_Slow  Signal  \\\n",
       "date                                                               \n",
       "2014-04-11  0.411610        0.016305  0.411610  0.377267     1.0   \n",
       "2014-04-14  0.383449       -0.068418  0.383449  0.379178    -1.0   \n",
       "2014-04-15  0.392624        0.023929  0.392624  0.387249     1.0   \n",
       "2014-04-16  0.347747       -0.114301  0.347747  0.388087    -1.0   \n",
       "2014-04-17  0.347731       -0.000046  0.347731  0.376632    -1.0   \n",
       "\n",
       "            Strategy Returns  Trades  \n",
       "date                                  \n",
       "2014-04-11               NaN     NaN  \n",
       "2014-04-14         -0.068418     2.0  \n",
       "2014-04-15         -0.023929     2.0  \n",
       "2014-04-16         -0.114301     2.0  \n",
       "2014-04-17          0.000046     0.0  "
      ]
     },
     "execution_count": 15,
     "metadata": {},
     "output_type": "execute_result"
    }
   ],
   "source": [
    "# Every time we change from long to short, or vice-versa, 2 trades occur\n",
    "signals_df[\"Trades\"] = np.abs(signals_df[\"Signal\"].diff())\n",
    "\n",
    "# Display sample data\n",
    "signals_df.head()"
   ]
  },
  {
   "cell_type": "code",
   "execution_count": 16,
   "metadata": {},
   "outputs": [
    {
     "data": {
      "text/plain": [
       "date\n",
       "2014-04-11     NaN\n",
       "2014-04-14    0.01\n",
       "2014-04-15    0.01\n",
       "2014-04-16    0.01\n",
       "2014-04-17    0.00\n",
       "Name: Trades, dtype: float64"
      ]
     },
     "execution_count": 16,
     "metadata": {},
     "output_type": "execute_result"
    }
   ],
   "source": [
    "# Calculate total daily trade costs\n",
    "cost_per_trade = 0.005\n",
    "daily_trade_costs = signals_df[\"Trades\"] * cost_per_trade\n",
    "\n",
    "# Display sample data\n",
    "daily_trade_costs.head()"
   ]
  },
  {
   "cell_type": "code",
   "execution_count": 19,
   "metadata": {},
   "outputs": [
    {
     "data": {
      "text/html": [
       "<div>\n",
       "<style scoped>\n",
       "    .dataframe tbody tr th:only-of-type {\n",
       "        vertical-align: middle;\n",
       "    }\n",
       "\n",
       "    .dataframe tbody tr th {\n",
       "        vertical-align: top;\n",
       "    }\n",
       "\n",
       "    .dataframe thead th {\n",
       "        text-align: right;\n",
       "    }\n",
       "</style>\n",
       "<table border=\"1\" class=\"dataframe\">\n",
       "  <thead>\n",
       "    <tr style=\"text-align: right;\">\n",
       "      <th></th>\n",
       "      <th>average</th>\n",
       "      <th>Actual Returns</th>\n",
       "      <th>SMA_Fast</th>\n",
       "      <th>SMA_Slow</th>\n",
       "      <th>Signal</th>\n",
       "      <th>Strategy Returns</th>\n",
       "      <th>Trades</th>\n",
       "      <th>Strategy Returns (After Costs)</th>\n",
       "    </tr>\n",
       "    <tr>\n",
       "      <th>date</th>\n",
       "      <th></th>\n",
       "      <th></th>\n",
       "      <th></th>\n",
       "      <th></th>\n",
       "      <th></th>\n",
       "      <th></th>\n",
       "      <th></th>\n",
       "      <th></th>\n",
       "    </tr>\n",
       "  </thead>\n",
       "  <tbody>\n",
       "    <tr>\n",
       "      <th>2021-03-12</th>\n",
       "      <td>0.305045</td>\n",
       "      <td>0.079247</td>\n",
       "      <td>0.305045</td>\n",
       "      <td>0.302660</td>\n",
       "      <td>1.0</td>\n",
       "      <td>-0.079247</td>\n",
       "      <td>2.0</td>\n",
       "      <td>-0.089247</td>\n",
       "    </tr>\n",
       "    <tr>\n",
       "      <th>2021-03-15</th>\n",
       "      <td>0.293456</td>\n",
       "      <td>-0.037989</td>\n",
       "      <td>0.293456</td>\n",
       "      <td>0.298190</td>\n",
       "      <td>-1.0</td>\n",
       "      <td>-0.037989</td>\n",
       "      <td>2.0</td>\n",
       "      <td>-0.047989</td>\n",
       "    </tr>\n",
       "    <tr>\n",
       "      <th>2021-03-16</th>\n",
       "      <td>0.267835</td>\n",
       "      <td>-0.087309</td>\n",
       "      <td>0.267835</td>\n",
       "      <td>0.287459</td>\n",
       "      <td>-1.0</td>\n",
       "      <td>0.087309</td>\n",
       "      <td>0.0</td>\n",
       "      <td>0.087309</td>\n",
       "    </tr>\n",
       "    <tr>\n",
       "      <th>2021-03-17</th>\n",
       "      <td>0.278693</td>\n",
       "      <td>0.040541</td>\n",
       "      <td>0.278693</td>\n",
       "      <td>0.285535</td>\n",
       "      <td>1.0</td>\n",
       "      <td>-0.040541</td>\n",
       "      <td>2.0</td>\n",
       "      <td>-0.050541</td>\n",
       "    </tr>\n",
       "    <tr>\n",
       "      <th>2021-03-18</th>\n",
       "      <td>0.290996</td>\n",
       "      <td>0.044144</td>\n",
       "      <td>0.290996</td>\n",
       "      <td>0.287205</td>\n",
       "      <td>1.0</td>\n",
       "      <td>0.044144</td>\n",
       "      <td>0.0</td>\n",
       "      <td>0.044144</td>\n",
       "    </tr>\n",
       "  </tbody>\n",
       "</table>\n",
       "</div>"
      ],
      "text/plain": [
       "             average  Actual Returns  SMA_Fast  SMA_Slow  Signal  \\\n",
       "date                                                               \n",
       "2021-03-12  0.305045        0.079247  0.305045  0.302660     1.0   \n",
       "2021-03-15  0.293456       -0.037989  0.293456  0.298190    -1.0   \n",
       "2021-03-16  0.267835       -0.087309  0.267835  0.287459    -1.0   \n",
       "2021-03-17  0.278693        0.040541  0.278693  0.285535     1.0   \n",
       "2021-03-18  0.290996        0.044144  0.290996  0.287205     1.0   \n",
       "\n",
       "            Strategy Returns  Trades  Strategy Returns (After Costs)  \n",
       "date                                                                  \n",
       "2021-03-12         -0.079247     2.0                       -0.089247  \n",
       "2021-03-15         -0.037989     2.0                       -0.047989  \n",
       "2021-03-16          0.087309     0.0                        0.087309  \n",
       "2021-03-17         -0.040541     2.0                       -0.050541  \n",
       "2021-03-18          0.044144     0.0                        0.044144  "
      ]
     },
     "execution_count": 19,
     "metadata": {},
     "output_type": "execute_result"
    }
   ],
   "source": [
    "# Calculate strategy returns after costs\n",
    "signals_df[\"Strategy Returns (After Costs)\"] = signals_df[\"Strategy Returns\"] - daily_trade_costs\n",
    "signals_df.tail()"
   ]
  },
  {
   "cell_type": "markdown",
   "metadata": {},
   "source": [
    "### Plot the stragegy returns before and after costs"
   ]
  },
  {
   "cell_type": "code",
   "execution_count": 20,
   "metadata": {},
   "outputs": [
    {
     "data": {
      "text/plain": [
       "<matplotlib.legend.Legend at 0x7f7ba90a8350>"
      ]
     },
     "execution_count": 20,
     "metadata": {},
     "output_type": "execute_result"
    },
    {
     "data": {
      "image/png": "[encoded data removed]",
      "text/plain": [
       "<Figure size 432x288 with 1 Axes>"
      ]
     },
     "metadata": {
      "needs_background": "light"
     },
     "output_type": "display_data"
    }
   ],
   "source": [
    "# Compute total strategy returns after costs\n",
    "strategy_returns_after_costs = signals_df[\"Strategy Returns (After Costs)\"].cumsum()\n",
    "\n",
    "# Plot stategy returns before and after costs\n",
    "strategy_returns_after_costs.plot(label=\"Strategy Returns (After Costs)\")\n",
    "strategy_returns.plot(label=\"Strategy Returns (Before Costs)\")\n",
    "plt.legend()"
   ]
  },
  {
   "cell_type": "markdown",
   "metadata": {},
   "source": [
    "## Other Performance Metrics\n",
    "\n",
    "### Sharpe Ratio"
   ]
  },
  {
   "cell_type": "code",
   "execution_count": 21,
   "metadata": {},
   "outputs": [
    {
     "name": "stdout",
     "output_type": "stream",
     "text": [
      "Sharpe Ratio: 0.701\n"
     ]
    }
   ],
   "source": [
    "# Calculate Sharpe Ratio\n",
    "annualized_return = signals_df[\"Strategy Returns\"].mean() * 252 \n",
    "annualized_std = signals_df[\"Strategy Returns\"].std() * np.sqrt(252)\n",
    "sharpe_ratio = round(annualized_return/annualized_std, 3)\n",
    "\n",
    "# Display results\n",
    "print(\"Sharpe Ratio:\", sharpe_ratio)"
   ]
  },
  {
   "cell_type": "markdown",
   "metadata": {},
   "source": [
    "### Best-Case/Worst-Case Weekly Performance"
   ]
  },
  {
   "cell_type": "code",
   "execution_count": 22,
   "metadata": {},
   "outputs": [
    {
     "name": "stderr",
     "output_type": "stream",
     "text": [
      "/Users/satishsurath/opt/anaconda3/envs/algotrading/lib/python3.7/site-packages/ipykernel_launcher.py:5: FutureWarning: weekofyear and week have been deprecated, please use DatetimeIndex.isocalendar().week instead, which returns a Series.  To exactly reproduce the behavior of week and weekofyear and return an Index, you may call pd.Int64Index(idx.isocalendar().week)\n",
      "  \"\"\"\n"
     ]
    },
    {
     "data": {
      "text/plain": [
       "date\n",
       "2014-04-11         NaN\n",
       "2014-04-14   -0.068418\n",
       "2014-04-15   -0.092346\n",
       "2014-04-16   -0.206647\n",
       "2014-04-17   -0.206601\n",
       "Name: Strategy Returns, dtype: float64"
      ]
     },
     "execution_count": 22,
     "metadata": {},
     "output_type": "execute_result"
    }
   ],
   "source": [
    "# Calculate weekly returns\n",
    "weekly_returns = signals_df[\"Strategy Returns\"].groupby(\n",
    "        by=[\n",
    "            signals_df.index.year,\n",
    "            signals_df.index.week\n",
    "        ]\n",
    "    ).cumsum()\n",
    "\n",
    "# Display results    \n",
    "weekly_returns.head()"
   ]
  },
  {
   "cell_type": "code",
   "execution_count": 23,
   "metadata": {},
   "outputs": [
    {
     "data": {
      "text/plain": [
       "count    1728.000000\n",
       "mean        0.024715\n",
       "std         0.320742\n",
       "min        -6.201070\n",
       "25%        -0.034072\n",
       "50%         0.018331\n",
       "75%         0.093290\n",
       "max         0.611968\n",
       "Name: Strategy Returns, dtype: float64"
      ]
     },
     "execution_count": 23,
     "metadata": {},
     "output_type": "execute_result"
    }
   ],
   "source": [
    "# Fetch descriptive statistics\n",
    "weekly_returns.describe()"
   ]
  },
  {
   "cell_type": "code",
   "execution_count": 24,
   "metadata": {},
   "outputs": [
    {
     "data": {
      "text/plain": [
       "<AxesSubplot:xlabel='date'>"
      ]
     },
     "execution_count": 24,
     "metadata": {},
     "output_type": "execute_result"
    },
    {
     "data": {
      "image/png": "[encoded data removed]",
      "text/plain": [
       "<Figure size 432x288 with 1 Axes>"
      ]
     },
     "metadata": {
      "needs_background": "light"
     },
     "output_type": "display_data"
    }
   ],
   "source": [
    "# Plot weekly returns\n",
    "weekly_returns.plot()"
   ]
  },
  {
   "cell_type": "code",
   "execution_count": null,
   "metadata": {},
   "outputs": [],
   "source": []
  }
 ],
 "metadata": {
  "kernelspec": {
   "display_name": "Python [conda env:algotrading]",
   "language": "python",
   "name": "conda-env-algotrading-py"
  },
  "language_info": {
   "codemirror_mode": {
    "name": "ipython",
    "version": 3
   },
   "file_extension": ".py",
   "mimetype": "text/x-python",
   "name": "python",
   "nbconvert_exporter": "python",
   "pygments_lexer": "ipython3",
   "version": "3.7.13"
  }
 },
 "nbformat": 4,
 "nbformat_minor": 4
}
