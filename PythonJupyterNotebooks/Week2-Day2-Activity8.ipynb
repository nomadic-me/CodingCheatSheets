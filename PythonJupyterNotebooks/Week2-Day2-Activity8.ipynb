{
 "cells": [
  {
   "cell_type": "code",
   "execution_count": 5,
   "id": "ba8dc28f-a4c6-4cf3-a9ac-c4b9b4728392",
   "metadata": {},
   "outputs": [],
   "source": [
    "# -*- coding: utf-8 -*-\n",
    "\"\"\"\n",
    "Student Activity: Weekly Gains.\n",
    "\n",
    "This script showcases how to use nested list/dict objects to\n",
    "calculate weekly gains of stock tickers.\n",
    "\"\"\"\n",
    "\n",
    "# Dictionary of List of Lists\n",
    "# Key: Stock Ticker | Value: List of Records\n",
    "# Record: Date, Open, High, Low, Close\n",
    "historical_stock_data = {\n",
    "    \"AAPL\": [\n",
    "        [\"04-17-2019\", 199.54, 203.38, 198.61, 203.13],\n",
    "        [\"04-18-2019\", 199.46, 201.37, 198.56, 199.25],\n",
    "        [\"04-19-2019\", 198.58, 199.85, 198.01, 199.23],\n",
    "        [\"04-20-2019\", 199.20, 200.14, 196.21, 198.87],\n",
    "\n",
    "    ],\n",
    "    \"MU\": [\n",
    "        [\"04-17-2019\", 43.20, 43.53, 42.79, 43.40],\n",
    "        [\"04-18-2019\", 43.36, 44.05, 42.76, 43.15],\n",
    "        [\"04-19-2019\", 42.26, 42.93, 42.08, 42.76],\n",
    "        [\"04-20-2019\", 42.17, 42.23, 41.20, 41.82],\n",
    "\n",
    "    ],\n",
    "    \"AMD\": [\n",
    "        [\"04-17-2019\", 27.60, 27.88, 27.34, 27.68],\n",
    "        [\"04-18-2019\", 28.21, 28.27, 27.22, 27.49],\n",
    "        [\"04-19-2019\", 27.72, 28.18, 27.49, 27.93],\n",
    "        [\"04-20-2019\", 27.80, 27.84, 26.96, 27.33],\n",
    "\n",
    "    ],\n",
    "    \"TWTR\": [\n",
    "        [\"04-17-2019\", 34.67, 34.86, 34.32, 34.40],\n",
    "        [\"04-18-2019\", 34.73, 34.90, 34.20, 34.48],\n",
    "        [\"04-19-2019\", 34.84, 34.99, 34.23, 34.46],\n",
    "        [\"04-20-2019\", 34.38, 35.03, 34.34, 34.71],\n",
    "\n",
    "    ]\n",
    "}\n",
    "\n",
    "# Dictionary of Dictionary\n",
    "# Key: Stock Ticker | Value: Dictionary\n",
    "new_records = {\n",
    "    \"AAPL\": {\n",
    "        \"date\": \"04-21-2019\",\n",
    "        \"open\": 200.85,\n",
    "        \"high\": 201.00,\n",
    "        \"low\": 198.44,\n",
    "        \"close\": 198.95\n",
    "    },\n",
    "    \"MU\": {\n",
    "        \"date\": \"04-21-2019\",\n",
    "        \"open\": 42.85,\n",
    "        \"high\": 43.20,\n",
    "        \"low\": 41.81,\n",
    "        \"close\": 42.01\n",
    "    },\n",
    "    \"AMD\": {\n",
    "        \"date\": \"04-21-2019\",\n",
    "        \"open\": 28.21,\n",
    "        \"high\": 28.38,\n",
    "        \"low\": 27.66,\n",
    "        \"close\": 27.85\n",
    "    },\n",
    "    \"TWTR\": {\n",
    "        \"date\": \"04-21-2019\",\n",
    "        \"open\": 34.67,\n",
    "        \"high\": 34.83,\n",
    "        \"low\": 34.11,\n",
    "        \"close\": 34.37\n",
    "    }\n",
    "}\n",
    "\n",
    "# @TODO: Set each ticker's new record: date, open, high, low, close\n",
    "\n",
    "\n",
    "#new_records[\"AAPL\"]\n",
    "\n"
   ]
  },
  {
   "cell_type": "code",
   "execution_count": 6,
   "id": "0f413dff-245c-4a69-aa84-0bf88f803119",
   "metadata": {},
   "outputs": [
    {
     "data": {
      "text/plain": [
       "[['04-17-2019', 199.54, 203.38, 198.61, 203.13],\n",
       " ['04-18-2019', 199.46, 201.37, 198.56, 199.25],\n",
       " ['04-19-2019', 198.58, 199.85, 198.01, 199.23],\n",
       " ['04-20-2019', 199.2, 200.14, 196.21, 198.87]]"
      ]
     },
     "execution_count": 6,
     "metadata": {},
     "output_type": "execute_result"
    }
   ],
   "source": [
    "#historical_stock_data['AAPL'].append(new_records['AAPL'])\n",
    "historical_stock_data['AAPL']\n",
    "\n",
    "\n"
   ]
  },
  {
   "cell_type": "code",
   "execution_count": 1,
   "id": "34858c0e-6b39-49a7-bc26-d224e2380fea",
   "metadata": {},
   "outputs": [],
   "source": [
    "#You can see that the above Data is in \"Lists\"\n"
   ]
  },
  {
   "cell_type": "code",
   "execution_count": 7,
   "id": "3603b7a1-852e-48a3-8589-b5a8da4059e0",
   "metadata": {},
   "outputs": [
    {
     "name": "stdout",
     "output_type": "stream",
     "text": [
      "04-21-2019\n",
      "200.85\n",
      "201.0\n",
      "198.44\n",
      "198.95\n"
     ]
    }
   ],
   "source": [
    "#creating a new \"List\" to store the data\n",
    "record_item = []\n",
    "for key in new_records['AAPL'].keys():\n",
    "    print(new_records['AAPL'][key])\n",
    "    #This is appending to our list\n",
    "    record_item.append(new_records['AAPL'][key])\n"
   ]
  },
  {
   "cell_type": "code",
   "execution_count": 12,
   "id": "2dfc41cd-65c2-4755-9f02-6d7452d84ab9",
   "metadata": {},
   "outputs": [
    {
     "data": {
      "text/plain": [
       "['04-21-2019', 200.85, 201.0, 198.44, 198.95]"
      ]
     },
     "execution_count": 12,
     "metadata": {},
     "output_type": "execute_result"
    }
   ],
   "source": [
    "# lets have a look at our new list after its been appended in the For look\n",
    "record_item"
   ]
  },
  {
   "cell_type": "code",
   "execution_count": 9,
   "id": "e7574ad9-f866-47f2-ace0-789b18c05870",
   "metadata": {},
   "outputs": [],
   "source": [
    "#this is perfect to be \"now\" appended to the historical_stock_data['AAPL']\n",
    "# so lets append\n",
    "historical_stock_data['AAPL'].append(record_item)"
   ]
  },
  {
   "cell_type": "code",
   "execution_count": 10,
   "id": "1c71e5bd-9c1a-477a-bb7f-4bb5d1042d38",
   "metadata": {},
   "outputs": [
    {
     "data": {
      "text/plain": [
       "[['04-17-2019', 199.54, 203.38, 198.61, 203.13],\n",
       " ['04-18-2019', 199.46, 201.37, 198.56, 199.25],\n",
       " ['04-19-2019', 198.58, 199.85, 198.01, 199.23],\n",
       " ['04-20-2019', 199.2, 200.14, 196.21, 198.87],\n",
       " ['04-21-2019', 200.85, 201.0, 198.44, 198.95]]"
      ]
     },
     "execution_count": 10,
     "metadata": {},
     "output_type": "execute_result"
    }
   ],
   "source": [
    "#lets print it to see how it looks\n",
    "historical_stock_data['AAPL']"
   ]
  },
  {
   "cell_type": "code",
   "execution_count": 13,
   "id": "a4dcc6d6-a668-4858-9e6c-09ed3f473ea0",
   "metadata": {},
   "outputs": [
    {
     "data": {
      "text/plain": [
       "{'AAPL': [['04-17-2019', 199.54, 203.38, 198.61, 203.13],\n",
       "  ['04-18-2019', 199.46, 201.37, 198.56, 199.25],\n",
       "  ['04-19-2019', 198.58, 199.85, 198.01, 199.23],\n",
       "  ['04-20-2019', 199.2, 200.14, 196.21, 198.87],\n",
       "  ['04-21-2019', 200.85, 201.0, 198.44, 198.95]],\n",
       " 'MU': [['04-17-2019', 43.2, 43.53, 42.79, 43.4],\n",
       "  ['04-18-2019', 43.36, 44.05, 42.76, 43.15],\n",
       "  ['04-19-2019', 42.26, 42.93, 42.08, 42.76],\n",
       "  ['04-20-2019', 42.17, 42.23, 41.2, 41.82]],\n",
       " 'AMD': [['04-17-2019', 27.6, 27.88, 27.34, 27.68],\n",
       "  ['04-18-2019', 28.21, 28.27, 27.22, 27.49],\n",
       "  ['04-19-2019', 27.72, 28.18, 27.49, 27.93],\n",
       "  ['04-20-2019', 27.8, 27.84, 26.96, 27.33]],\n",
       " 'TWTR': [['04-17-2019', 34.67, 34.86, 34.32, 34.4],\n",
       "  ['04-18-2019', 34.73, 34.9, 34.2, 34.48],\n",
       "  ['04-19-2019', 34.84, 34.99, 34.23, 34.46],\n",
       "  ['04-20-2019', 34.38, 35.03, 34.34, 34.71]]}"
      ]
     },
     "execution_count": 13,
     "metadata": {},
     "output_type": "execute_result"
    }
   ],
   "source": [
    "#lets print it to see how the whole Dictionary looks like historical_stock_data['AAPL']\n",
    "historical_stock_data\n"
   ]
  },
  {
   "cell_type": "code",
   "execution_count": 21,
   "id": "d6277d98-8a54-4af6-b7ea-bb33b2e7df35",
   "metadata": {},
   "outputs": [],
   "source": [
    "\n",
    "#historical_stock_data['AAPL']\n",
    "# @TODO: Choice 1: Add a new round of entries to the 'historical_stock_data' dictionary\n",
    "\n",
    "# Following the same logic Now for MU, AMD and TWTR - lets use a a function\n",
    "\n",
    "\n",
    "def Update_Stock_in_History(stock):\n",
    "    record_item_stock = []\n",
    "    for key in new_records[stock].keys():\n",
    "        #print(new_records[stock][key])\n",
    "        #This is appending to our list\n",
    "        record_item_stock.append(new_records[stock][key])\n",
    "    return record_item_stock\n",
    "\n"
   ]
  },
  {
   "cell_type": "code",
   "execution_count": 22,
   "id": "0170f59b-d387-4fa8-9893-c2a41b4e76ca",
   "metadata": {},
   "outputs": [],
   "source": [
    "#Now running the function\n",
    "historical_stock_data['MU'].append(Update_Stock_in_History(\"MU\"))\n",
    "historical_stock_data['AMD'].append(Update_Stock_in_History(\"AMD\"))\n",
    "historical_stock_data['TWTR'].append(Update_Stock_in_History(\"TWTR\"))\n",
    "\n"
   ]
  },
  {
   "cell_type": "code",
   "execution_count": 23,
   "id": "67b9d074-b9b5-430f-91ea-9e5d7634ce6e",
   "metadata": {},
   "outputs": [
    {
     "data": {
      "text/plain": [
       "{'AAPL': [['04-17-2019', 199.54, 203.38, 198.61, 203.13],\n",
       "  ['04-18-2019', 199.46, 201.37, 198.56, 199.25],\n",
       "  ['04-19-2019', 198.58, 199.85, 198.01, 199.23],\n",
       "  ['04-20-2019', 199.2, 200.14, 196.21, 198.87],\n",
       "  ['04-21-2019', 200.85, 201.0, 198.44, 198.95]],\n",
       " 'MU': [['04-17-2019', 43.2, 43.53, 42.79, 43.4],\n",
       "  ['04-18-2019', 43.36, 44.05, 42.76, 43.15],\n",
       "  ['04-19-2019', 42.26, 42.93, 42.08, 42.76],\n",
       "  ['04-20-2019', 42.17, 42.23, 41.2, 41.82],\n",
       "  ['04-21-2019', 42.85, 43.2, 41.81, 42.01],\n",
       "  ['04-21-2019', 42.85, 43.2, 41.81, 42.01],\n",
       "  ['04-21-2019', 42.85, 43.2, 41.81, 42.01]],\n",
       " 'AMD': [['04-17-2019', 27.6, 27.88, 27.34, 27.68],\n",
       "  ['04-18-2019', 28.21, 28.27, 27.22, 27.49],\n",
       "  ['04-19-2019', 27.72, 28.18, 27.49, 27.93],\n",
       "  ['04-20-2019', 27.8, 27.84, 26.96, 27.33],\n",
       "  ['04-21-2019', 28.21, 28.38, 27.66, 27.85],\n",
       "  ['04-21-2019', 28.21, 28.38, 27.66, 27.85],\n",
       "  ['04-21-2019', 28.21, 28.38, 27.66, 27.85]],\n",
       " 'TWTR': [['04-17-2019', 34.67, 34.86, 34.32, 34.4],\n",
       "  ['04-18-2019', 34.73, 34.9, 34.2, 34.48],\n",
       "  ['04-19-2019', 34.84, 34.99, 34.23, 34.46],\n",
       "  ['04-20-2019', 34.38, 35.03, 34.34, 34.71],\n",
       "  ['04-21-2019', 34.67, 34.83, 34.11, 34.37],\n",
       "  ['04-21-2019', 34.67, 34.83, 34.11, 34.37],\n",
       "  ['04-21-2019', 34.67, 34.83, 34.11, 34.37]]}"
      ]
     },
     "execution_count": 23,
     "metadata": {},
     "output_type": "execute_result"
    }
   ],
   "source": [
    "\n",
    "# @TODO: Print out the modified 'historical_stock_data' dictionary\n",
    "historical_stock_data"
   ]
  },
  {
   "cell_type": "code",
   "execution_count": null,
   "id": "48d3f7fd-19c6-4462-b066-6772809471a1",
   "metadata": {},
   "outputs": [],
   "source": []
  },
  {
   "cell_type": "code",
   "execution_count": null,
   "id": "a0c2666a-298b-4e8b-8be3-95e7736b69f6",
   "metadata": {},
   "outputs": [],
   "source": []
  },
  {
   "cell_type": "code",
   "execution_count": 24,
   "id": "8231c3ec-b59d-4a06-ba83-9f3f09614a0e",
   "metadata": {},
   "outputs": [],
   "source": [
    "\n",
    "\n",
    "\n",
    "\n",
    "# @TODO: Choice 2: Add a new round of entries via for loop to the 'historical_stock_data' dictionary\n",
    "\n",
    "\n",
    "\n",
    "\n",
    "\n",
    "\n",
    "\n"
   ]
  },
  {
   "cell_type": "code",
   "execution_count": null,
   "id": "52ecb148-5cb9-4900-87e7-02cf032591ea",
   "metadata": {},
   "outputs": [],
   "source": []
  },
  {
   "cell_type": "code",
   "execution_count": null,
   "id": "877f0616-58b8-4e83-adc3-cfd46398720d",
   "metadata": {},
   "outputs": [],
   "source": []
  }
 ],
 "metadata": {
  "kernelspec": {
   "display_name": "Python 3 (ipykernel)",
   "language": "python",
   "name": "python3"
  },
  "language_info": {
   "codemirror_mode": {
    "name": "ipython",
    "version": 3
   },
   "file_extension": ".py",
   "mimetype": "text/x-python",
   "name": "python",
   "nbconvert_exporter": "python",
   "pygments_lexer": "ipython3",
   "version": "3.9.7"
  }
 },
 "nbformat": 4,
 "nbformat_minor": 5
}
