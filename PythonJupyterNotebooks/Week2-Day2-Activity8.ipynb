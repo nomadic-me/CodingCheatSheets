{
 "cells": [
  {
   "cell_type": "code",
   "execution_count": 2,
   "id": "ba8dc28f-a4c6-4cf3-a9ac-c4b9b4728392",
   "metadata": {},
   "outputs": [
    {
     "data": {
      "text/plain": [
       "{'date': '04-21-2019',\n",
       " 'open': 200.85,\n",
       " 'high': 201.0,\n",
       " 'low': 198.44,\n",
       " 'close': 198.95}"
      ]
     },
     "execution_count": 2,
     "metadata": {},
     "output_type": "execute_result"
    }
   ],
   "source": [
    "# -*- coding: utf-8 -*-\n",
    "\"\"\"\n",
    "Student Activity: Weekly Gains.\n",
    "\n",
    "This script showcases how to use nested list/dict objects to\n",
    "calculate weekly gains of stock tickers.\n",
    "\"\"\"\n",
    "\n",
    "# Dictionary of List of Lists\n",
    "# Key: Stock Ticker | Value: List of Records\n",
    "# Record: Date, Open, High, Low, Close\n",
    "historical_stock_data = {\n",
    "    \"AAPL\": [\n",
    "        [\"04-17-2019\", 199.54, 203.38, 198.61, 203.13],\n",
    "        [\"04-18-2019\", 199.46, 201.37, 198.56, 199.25],\n",
    "        [\"04-19-2019\", 198.58, 199.85, 198.01, 199.23],\n",
    "        [\"04-20-2019\", 199.20, 200.14, 196.21, 198.87],\n",
    "\n",
    "    ],\n",
    "    \"MU\": [\n",
    "        [\"04-17-2019\", 43.20, 43.53, 42.79, 43.40],\n",
    "        [\"04-18-2019\", 43.36, 44.05, 42.76, 43.15],\n",
    "        [\"04-19-2019\", 42.26, 42.93, 42.08, 42.76],\n",
    "        [\"04-20-2019\", 42.17, 42.23, 41.20, 41.82],\n",
    "\n",
    "    ],\n",
    "    \"AMD\": [\n",
    "        [\"04-17-2019\", 27.60, 27.88, 27.34, 27.68],\n",
    "        [\"04-18-2019\", 28.21, 28.27, 27.22, 27.49],\n",
    "        [\"04-19-2019\", 27.72, 28.18, 27.49, 27.93],\n",
    "        [\"04-20-2019\", 27.80, 27.84, 26.96, 27.33],\n",
    "\n",
    "    ],\n",
    "    \"TWTR\": [\n",
    "        [\"04-17-2019\", 34.67, 34.86, 34.32, 34.40],\n",
    "        [\"04-18-2019\", 34.73, 34.90, 34.20, 34.48],\n",
    "        [\"04-19-2019\", 34.84, 34.99, 34.23, 34.46],\n",
    "        [\"04-20-2019\", 34.38, 35.03, 34.34, 34.71],\n",
    "\n",
    "    ]\n",
    "}\n",
    "\n",
    "# Dictionary of Dictionary\n",
    "# Key: Stock Ticker | Value: Dictionary\n",
    "new_records = {\n",
    "    \"AAPL\": {\n",
    "        \"date\": \"04-21-2019\",\n",
    "        \"open\": 200.85,\n",
    "        \"high\": 201.00,\n",
    "        \"low\": 198.44,\n",
    "        \"close\": 198.95\n",
    "    },\n",
    "    \"MU\": {\n",
    "        \"date\": \"04-21-2019\",\n",
    "        \"open\": 42.85,\n",
    "        \"high\": 43.20,\n",
    "        \"low\": 41.81,\n",
    "        \"close\": 42.01\n",
    "    },\n",
    "    \"AMD\": {\n",
    "        \"date\": \"04-21-2019\",\n",
    "        \"open\": 28.21,\n",
    "        \"high\": 28.38,\n",
    "        \"low\": 27.66,\n",
    "        \"close\": 27.85\n",
    "    },\n",
    "    \"TWTR\": {\n",
    "        \"date\": \"04-21-2019\",\n",
    "        \"open\": 34.67,\n",
    "        \"high\": 34.83,\n",
    "        \"low\": 34.11,\n",
    "        \"close\": 34.37\n",
    "    }\n",
    "}\n",
    "\n",
    "# @TODO: Set each ticker's new record: date, open, high, low, close\n",
    "\n",
    "\n",
    "new_records['AAPL']\n",
    "\n"
   ]
  },
  {
   "cell_type": "code",
   "execution_count": 5,
   "id": "0f413dff-245c-4a69-aa84-0bf88f803119",
   "metadata": {},
   "outputs": [
    {
     "data": {
      "text/plain": [
       "[['04-17-2019', 199.54, 203.38, 198.61, 203.13],\n",
       " ['04-18-2019', 199.46, 201.37, 198.56, 199.25],\n",
       " ['04-19-2019', 198.58, 199.85, 198.01, 199.23],\n",
       " ['04-20-2019', 199.2, 200.14, 196.21, 198.87],\n",
       " {'date': '04-21-2019',\n",
       "  'open': 200.85,\n",
       "  'high': 201.0,\n",
       "  'low': 198.44,\n",
       "  'close': 198.95}]"
      ]
     },
     "execution_count": 5,
     "metadata": {},
     "output_type": "execute_result"
    }
   ],
   "source": [
    "historical_stock_data['AAPL'].append(new_records['AAPL'])\n",
    "historical_stock_data['AAPL']\n",
    "\n",
    "\n"
   ]
  },
  {
   "cell_type": "code",
   "execution_count": 6,
   "id": "34858c0e-6b39-49a7-bc26-d224e2380fea",
   "metadata": {},
   "outputs": [
    {
     "data": {
      "text/plain": [
       "{'date': '04-21-2019',\n",
       " 'open': 200.85,\n",
       " 'high': 201.0,\n",
       " 'low': 198.44,\n",
       " 'close': 198.95}"
      ]
     },
     "execution_count": 6,
     "metadata": {},
     "output_type": "execute_result"
    }
   ],
   "source": [
    "historical_stock_data['AAPL'].pop()\n"
   ]
  },
  {
   "cell_type": "code",
   "execution_count": 12,
   "id": "3603b7a1-852e-48a3-8589-b5a8da4059e0",
   "metadata": {},
   "outputs": [
    {
     "ename": "SyntaxError",
     "evalue": "unexpected EOF while parsing (1835005579.py, line 25)",
     "output_type": "error",
     "traceback": [
      "\u001b[0;36m  File \u001b[0;32m\"/var/folders/q5/1gnbsjzj6lz_k_lxmh46qzjw0000gn/T/ipykernel_21365/1835005579.py\"\u001b[0;36m, line \u001b[0;32m25\u001b[0m\n\u001b[0;31m    \u001b[0m\n\u001b[0m    ^\u001b[0m\n\u001b[0;31mSyntaxError\u001b[0m\u001b[0;31m:\u001b[0m unexpected EOF while parsing\n"
     ]
    }
   ],
   "source": [
    "#historical_stock_data['AAPL']\n",
    "\n",
    "for key in new_records['AAPL'].keys():\n",
    "    print(new_records['AAPL'][key])\n",
    "    historical_stock_data['AAPL'].append(new_records['AAPL'][key]\n",
    "\n",
    "#historical_stock_data['AAPL']\n",
    "# @TODO: Choice 1: Add a new round of entries to the 'historical_stock_data' dictionary\n",
    "\n",
    "\n",
    "# @TODO: Choice 2: Add a new round of entries via for loop to the 'historical_stock_data' dictionary\n",
    "\n",
    "\n",
    "\n",
    "\n",
    "# @TODO: Print out the modified 'historical_stock_data' dictionary\n",
    "\n",
    "\n",
    "\n",
    "\n"
   ]
  },
  {
   "cell_type": "code",
   "execution_count": null,
   "id": "2dfc41cd-65c2-4755-9f02-6d7452d84ab9",
   "metadata": {},
   "outputs": [],
   "source": []
  }
 ],
 "metadata": {
  "kernelspec": {
   "display_name": "Python 3 (ipykernel)",
   "language": "python",
   "name": "python3"
  },
  "language_info": {
   "codemirror_mode": {
    "name": "ipython",
    "version": 3
   },
   "file_extension": ".py",
   "mimetype": "text/x-python",
   "name": "python",
   "nbconvert_exporter": "python",
   "pygments_lexer": "ipython3",
   "version": "3.9.7"
  }
 },
 "nbformat": 4,
 "nbformat_minor": 5
}
