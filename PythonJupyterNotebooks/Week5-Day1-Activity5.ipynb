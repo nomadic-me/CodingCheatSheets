{
 "cells": [
  {
   "cell_type": "code",
   "execution_count": 6,
   "id": "7f102b69-e8a4-494a-b2b9-8ded27573fcb",
   "metadata": {},
   "outputs": [],
   "source": [
    "\n",
    "import requests\n",
    "import json\n",
    "url = \"http://api.worldbank.org/v2/country/ca?format=json\""
   ]
  },
  {
   "cell_type": "code",
   "execution_count": 10,
   "id": "2c67b37e-346e-43e3-bb96-1654b17f58e3",
   "metadata": {},
   "outputs": [],
   "source": [
    "# Submit request and format output\n",
    "response_data = requests.get(url)"
   ]
  },
  {
   "cell_type": "code",
   "execution_count": 11,
   "id": "9b30fda9-fe1c-499c-9eb8-331a197df3f3",
   "metadata": {},
   "outputs": [
    {
     "name": "stdout",
     "output_type": "stream",
     "text": [
      "<Response [200]>\n"
     ]
    }
   ],
   "source": [
    "print(response_data)"
   ]
  },
  {
   "cell_type": "code",
   "execution_count": 28,
   "id": "3f82cc86-cca5-4c01-865e-90d046fa4fdc",
   "metadata": {},
   "outputs": [
    {
     "name": "stdout",
     "output_type": "stream",
     "text": [
      "[\n",
      "    {\n",
      "        \"page\": 1,\n",
      "        \"pages\": 1,\n",
      "        \"per_page\": \"50\",\n",
      "        \"total\": 1\n",
      "    },\n",
      "    [\n",
      "        {\n",
      "            \"id\": \"CAN\",\n",
      "            \"iso2Code\": \"CA\",\n",
      "            \"name\": \"Canada\",\n",
      "            \"region\": {\n",
      "                \"id\": \"NAC\",\n",
      "                \"iso2code\": \"XU\",\n",
      "                \"value\": \"North America\"\n",
      "            },\n",
      "            \"adminregion\": {\n",
      "                \"id\": \"\",\n",
      "                \"iso2code\": \"\",\n",
      "                \"value\": \"\"\n",
      "            },\n",
      "            \"incomeLevel\": {\n",
      "                \"id\": \"HIC\",\n",
      "                \"iso2code\": \"XD\",\n",
      "                \"value\": \"High income\"\n",
      "            },\n",
      "            \"lendingType\": {\n",
      "                \"id\": \"LNX\",\n",
      "                \"iso2code\": \"XX\",\n",
      "                \"value\": \"Not classified\"\n",
      "            },\n",
      "            \"capitalCity\": \"Ottawa\",\n",
      "            \"longitude\": \"-75.6919\",\n",
      "            \"latitude\": \"45.4215\"\n",
      "        }\n",
      "    ]\n",
      "]\n"
     ]
    }
   ],
   "source": [
    "print(json.dumps(response_data.json(),indent=4))"
   ]
  },
  {
   "cell_type": "code",
   "execution_count": 16,
   "id": "3ad1fa81-2aa5-4134-beaa-01993c2755cf",
   "metadata": {},
   "outputs": [],
   "source": [
    "data = response_data.json()"
   ]
  },
  {
   "cell_type": "code",
   "execution_count": 17,
   "id": "53f29b50-1d57-4441-af3d-be2b1a658230",
   "metadata": {},
   "outputs": [
    {
     "name": "stdout",
     "output_type": "stream",
     "text": [
      "[{'page': 1, 'pages': 1, 'per_page': '50', 'total': 1}, [{'id': 'CAN', 'iso2Code': 'CA', 'name': 'Canada', 'region': {'id': 'NAC', 'iso2code': 'XU', 'value': 'North America'}, 'adminregion': {'id': '', 'iso2code': '', 'value': ''}, 'incomeLevel': {'id': 'HIC', 'iso2code': 'XD', 'value': 'High income'}, 'lendingType': {'id': 'LNX', 'iso2code': 'XX', 'value': 'Not classified'}, 'capitalCity': 'Ottawa', 'longitude': '-75.6919', 'latitude': '45.4215'}]]\n"
     ]
    }
   ],
   "source": [
    "print(data)"
   ]
  },
  {
   "cell_type": "code",
   "execution_count": 31,
   "id": "abd5313e-8424-4397-8739-686c152c8582",
   "metadata": {},
   "outputs": [
    {
     "data": {
      "text/plain": [
       "list"
      ]
     },
     "execution_count": 31,
     "metadata": {},
     "output_type": "execute_result"
    }
   ],
   "source": [
    "type(data[1])"
   ]
  },
  {
   "cell_type": "code",
   "execution_count": 29,
   "id": "7550c4ec-a0f6-4cb5-8f31-11bfddfc19d4",
   "metadata": {},
   "outputs": [
    {
     "data": {
      "text/plain": [
       "{'id': 'CAN',\n",
       " 'iso2Code': 'CA',\n",
       " 'name': 'Canada',\n",
       " 'region': {'id': 'NAC', 'iso2code': 'XU', 'value': 'North America'},\n",
       " 'adminregion': {'id': '', 'iso2code': '', 'value': ''},\n",
       " 'incomeLevel': {'id': 'HIC', 'iso2code': 'XD', 'value': 'High income'},\n",
       " 'lendingType': {'id': 'LNX', 'iso2code': 'XX', 'value': 'Not classified'},\n",
       " 'capitalCity': 'Ottawa',\n",
       " 'longitude': '-75.6919',\n",
       " 'latitude': '45.4215'}"
      ]
     },
     "execution_count": 29,
     "metadata": {},
     "output_type": "execute_result"
    }
   ],
   "source": [
    "data[1][0]"
   ]
  },
  {
   "cell_type": "code",
   "execution_count": 30,
   "id": "dc9f1c82-1229-4559-aa3e-463eedb6b8b0",
   "metadata": {},
   "outputs": [
    {
     "data": {
      "text/plain": [
       "dict"
      ]
     },
     "execution_count": 30,
     "metadata": {},
     "output_type": "execute_result"
    }
   ],
   "source": [
    "type(data[1][0])"
   ]
  },
  {
   "cell_type": "code",
   "execution_count": 32,
   "id": "f6aa4b97-74aa-4612-be9a-65f4ccfb8efc",
   "metadata": {},
   "outputs": [
    {
     "data": {
      "text/plain": [
       "'45.4215'"
      ]
     },
     "execution_count": 32,
     "metadata": {},
     "output_type": "execute_result"
    }
   ],
   "source": [
    "data[1][0][\"latitude\"]"
   ]
  },
  {
   "cell_type": "code",
   "execution_count": null,
   "id": "0cbecc95-26eb-42b2-97c8-83670eb10303",
   "metadata": {},
   "outputs": [],
   "source": []
  }
 ],
 "metadata": {
  "kernelspec": {
   "display_name": "Python 3 (ipykernel)",
   "language": "python",
   "name": "python3"
  },
  "language_info": {
   "codemirror_mode": {
    "name": "ipython",
    "version": 3
   },
   "file_extension": ".py",
   "mimetype": "text/x-python",
   "name": "python",
   "nbconvert_exporter": "python",
   "pygments_lexer": "ipython3",
   "version": "3.7.11"
  }
 },
 "nbformat": 4,
 "nbformat_minor": 5
}
