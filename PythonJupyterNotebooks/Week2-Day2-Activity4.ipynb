{
 "cells": [
  {
   "cell_type": "code",
   "execution_count": null,
   "id": "25faca43-88af-488e-b5a2-c77b6a5d2dee",
   "metadata": {},
   "outputs": [],
   "source": [
    "# -*- coding: utf-8 -*-\n",
    "\"\"\"\n",
    "Student Do: Trading Log.\n",
    "\n",
    "This script demonstrates how to perform basic analysis of trading profits/losses\n",
    "over the course of a month (20 business days).\n",
    "\"\"\"\n"
   ]
  },
  {
   "cell_type": "code",
   "execution_count": 3,
   "id": "3022469a-eeb6-4389-aa81-6f7db04bf019",
   "metadata": {},
   "outputs": [
    {
     "ename": "SyntaxError",
     "evalue": "invalid syntax (3234025347.py, line 3)",
     "output_type": "error",
     "traceback": [
      "\u001b[0;36m  File \u001b[0;32m\"/var/folders/q5/1gnbsjzj6lz_k_lxmh46qzjw0000gn/T/ipykernel_20045/3234025347.py\"\u001b[0;36m, line \u001b[0;32m3\u001b[0m\n\u001b[0;31m    int maximum\u001b[0m\n\u001b[0m        ^\u001b[0m\n\u001b[0;31mSyntaxError\u001b[0m\u001b[0;31m:\u001b[0m invalid syntax\n"
     ]
    }
   ],
   "source": [
    "# @TODO: Initialize the metric variables\n",
    "\n",
    "maximum = 0\n",
    "minimum = 0\n"
   ]
  },
  {
   "cell_type": "code",
   "execution_count": 4,
   "id": "8b7ec2d9-f5c9-4427-bd53-bf1b6d71e889",
   "metadata": {},
   "outputs": [
    {
     "ename": "SyntaxError",
     "evalue": "invalid syntax (225719226.py, line 2)",
     "output_type": "error",
     "traceback": [
      "\u001b[0;36m  File \u001b[0;32m\"/var/folders/q5/1gnbsjzj6lz_k_lxmh46qzjw0000gn/T/ipykernel_20045/225719226.py\"\u001b[0;36m, line \u001b[0;32m2\u001b[0m\n\u001b[0;31m    int profitable_days = 0\u001b[0m\n\u001b[0m        ^\u001b[0m\n\u001b[0;31mSyntaxError\u001b[0m\u001b[0;31m:\u001b[0m invalid syntax\n"
     ]
    }
   ],
   "source": [
    "# @TODO: Initialize lists to hold profitable and unprofitable day profits/losses\n",
    "profitable_days = []\n",
    "unprofitable_days = []\n",
    "\n",
    "\n"
   ]
  },
  {
   "cell_type": "code",
   "execution_count": null,
   "id": "aeaceaf4-7eb5-4218-9cd3-d7c0491f6dfb",
   "metadata": {},
   "outputs": [],
   "source": [
    "# List of trading profits/losses\n",
    "trading_pnl = [ -224,  352, 252, 354, -544,\n",
    "                -650,   56, 123, -43,  254,\n",
    "                 325, -123,  47, 321,  123,\n",
    "                 133, -151, 613, 232, -311 ]\n",
    "\n",
    "\n",
    "\n",
    "\n",
    "\n"
   ]
  },
  {
   "cell_type": "code",
   "execution_count": null,
   "id": "8c87dae3-a845-4fec-b33a-d14f3501b081",
   "metadata": {},
   "outputs": [],
   "source": [
    "# @TODO: Iterate over each element of the list\n",
    "\n",
    "\n",
    "    "
   ]
  },
  {
   "cell_type": "code",
   "execution_count": null,
   "id": "ede19f0f-b9f7-4784-a6f2-900bcc5f6797",
   "metadata": {},
   "outputs": [],
   "source": [
    "# @TODO: Cumulatively sum up the total and count\n",
    "\n",
    "\n",
    "   "
   ]
  },
  {
   "cell_type": "code",
   "execution_count": null,
   "id": "4d8494fa-61f7-468d-94e2-8262bc4f9f37",
   "metadata": {},
   "outputs": [],
   "source": [
    " # @TODO: Write logic to determine minimum and maximum values\n",
    "\n",
    "\n",
    "\n",
    "\n",
    "\n",
    "\n",
    "   "
   ]
  },
  {
   "cell_type": "code",
   "execution_count": null,
   "id": "4b234c75-8b99-4acd-8da6-68ddc4f67b87",
   "metadata": {},
   "outputs": [],
   "source": [
    " # @TODO: Write logic to determine profitable vs. unprofitable days\n",
    "\n",
    "\n",
    "\n",
    "\n",
    "\n"
   ]
  },
  {
   "cell_type": "code",
   "execution_count": null,
   "id": "4c8ee913-5381-4ce5-9eba-31e804b8d735",
   "metadata": {},
   "outputs": [],
   "source": [
    "# @TODO: Calculate the average\n",
    "\n",
    "\n"
   ]
  },
  {
   "cell_type": "code",
   "execution_count": null,
   "id": "703a5c8e-ae4c-4536-b02e-4a136201c9b5",
   "metadata": {},
   "outputs": [],
   "source": [
    "# @TODO: Calculate count metrics\n",
    "\n",
    "\n",
    "\n",
    "\n",
    "\n",
    "\n"
   ]
  },
  {
   "cell_type": "code",
   "execution_count": null,
   "id": "703d1ca5-8eb7-4b63-b0b2-a0c51eecbcc7",
   "metadata": {},
   "outputs": [],
   "source": [
    "# @TODO: Calculate percentage metrics\n",
    "\n",
    "\n",
    "\n"
   ]
  },
  {
   "cell_type": "code",
   "execution_count": null,
   "id": "5684c3ee-d126-4097-bcfb-aa2b443c5e0c",
   "metadata": {},
   "outputs": [],
   "source": [
    "# @TODO: Print out the summary statistics\n",
    "\n",
    "\n",
    "\n",
    "\n"
   ]
  }
 ],
 "metadata": {
  "kernelspec": {
   "display_name": "Python 3 (ipykernel)",
   "language": "python",
   "name": "python3"
  },
  "language_info": {
   "codemirror_mode": {
    "name": "ipython",
    "version": 3
   },
   "file_extension": ".py",
   "mimetype": "text/x-python",
   "name": "python",
   "nbconvert_exporter": "python",
   "pygments_lexer": "ipython3",
   "version": "3.9.7"
  }
 },
 "nbformat": 4,
 "nbformat_minor": 5
}
