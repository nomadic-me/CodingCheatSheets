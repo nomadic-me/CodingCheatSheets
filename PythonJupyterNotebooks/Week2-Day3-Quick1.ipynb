{
 "cells": [
  {
   "cell_type": "markdown",
   "id": "31653a6d-72f9-4e51-b8c2-c81185299441",
   "metadata": {},
   "source": [
    "\n",
    "  "
   ]
  },
  {
   "cell_type": "code",
   "execution_count": null,
   "id": "d6e8152f-796e-4dac-80b7-57661891db19",
   "metadata": {},
   "outputs": [],
   "source": []
  },
  {
   "cell_type": "code",
   "execution_count": 10,
   "id": "07598b0a-821d-43c3-b3c2-9650408b7798",
   "metadata": {},
   "outputs": [],
   "source": [
    "# FV = PV x [ 1 + (i / n) ] (n x t)\n",
    "#• FV = Future value of money\n",
    "#• PV = Present value of money\n",
    "#• i = interest rate\n",
    "#• n = number of compounding periods per year\n",
    "#• t = number of years\n"
   ]
  },
  {
   "cell_type": "code",
   "execution_count": 11,
   "id": "66f62767-683b-46f8-8b5c-3fa8171ed332",
   "metadata": {},
   "outputs": [],
   "source": [
    "\n",
    "def get_future_value_of_money(pv,i,n,t):\n",
    "        future_value = pv * (1+(i/n))**(n*t)\n",
    "        return future_value\n",
    "\n",
    "    \n"
   ]
  },
  {
   "cell_type": "code",
   "execution_count": 13,
   "id": "aad01cba-ae12-4095-ba04-796bdbfc705d",
   "metadata": {},
   "outputs": [
    {
     "data": {
      "text/plain": [
       "11000.0"
      ]
     },
     "execution_count": 13,
     "metadata": {},
     "output_type": "execute_result"
    }
   ],
   "source": [
    "\n",
    "# present value is 10,000\n",
    "# interest is 10%\n",
    "# term is 1 year\n",
    "# number of compunding perios per year\n",
    "\n",
    "get_future_value_of_money(10000,0.1,1,1)\n"
   ]
  },
  {
   "cell_type": "code",
   "execution_count": 17,
   "id": "375d0ff9-109b-42e2-a77a-621bf38105e8",
   "metadata": {},
   "outputs": [
    {
     "data": {
      "text/plain": [
       "11038.128906249995"
      ]
     },
     "execution_count": 17,
     "metadata": {},
     "output_type": "execute_result"
    }
   ],
   "source": [
    "\n",
    "# present value is 10,000\n",
    "# interest is 10%\n",
    "# term is 1 year\n",
    "# number of compunding perios per quarter\n",
    "\n",
    "get_future_value_of_money(10000,0.1,4,1)"
   ]
  },
  {
   "cell_type": "code",
   "execution_count": 18,
   "id": "029a8cb1-120a-46c3-bf8b-7a85a09dc796",
   "metadata": {},
   "outputs": [
    {
     "data": {
      "text/plain": [
       "11047.130674412969"
      ]
     },
     "execution_count": 18,
     "metadata": {},
     "output_type": "execute_result"
    }
   ],
   "source": [
    "\n",
    "# present value is 10,000\n",
    "# interest is 10%\n",
    "# term is 1 year\n",
    "# number of compunding period per month\n",
    "\n",
    "get_future_value_of_money(10000,0.1,12,1)"
   ]
  },
  {
   "cell_type": "code",
   "execution_count": 19,
   "id": "9a8a5ed5-ef8e-49e0-9ff3-caee3c380128",
   "metadata": {},
   "outputs": [
    {
     "data": {
      "text/plain": [
       "11051.557816162325"
      ]
     },
     "execution_count": 19,
     "metadata": {},
     "output_type": "execute_result"
    }
   ],
   "source": [
    "# present value is 10,000\n",
    "# interest is 10%\n",
    "# term is 1 year\n",
    "# number of compunding period per day\n",
    "\n",
    "get_future_value_of_money(10000,0.1,365,1)"
   ]
  },
  {
   "cell_type": "code",
   "execution_count": 20,
   "id": "ca5e9874-3521-4ce9-b2ea-08e80cd8d994",
   "metadata": {},
   "outputs": [],
   "source": [
    "# net Present Value\n",
    "#NPV = ( Cash flow (1 + i)^t - Initial Invenst ment\n",
    "# Where i = Discovered Rate (ro rate that would be vovered using alterative \n",
    "# t= # of years\n",
    "# Example: a prepared project costs $1,000 and is projected to return the following\n",
    "# year 1,2,3,4 = $ 400\n",
    "# Is the project worth it\n",
    "\n"
   ]
  },
  {
   "cell_type": "code",
   "execution_count": 6,
   "id": "3042d1ac-08a8-4642-b18f-005722cbe48a",
   "metadata": {},
   "outputs": [
    {
     "name": "stdout",
     "output_type": "stream",
     "text": [
      "The Total Sum = 1,267.946178539717\n",
      "The NPM  = 267.94617853971704\n"
     ]
    }
   ],
   "source": [
    "cash_flow = [400,400,400,400]\n",
    "interest = 0.1\n",
    "t = len(cash_flow)\n",
    "total_sum = 0\n",
    "initial_investment = 1000\n",
    "\n",
    "for i in range(0,len(cash_flow)):\n",
    "    numerator = cash_flow[i]\n",
    "    denominator = (1+interest)**(i+1)\n",
    "    total_sum = total_sum + (numerator/denominator)\n",
    "print(f\"The Total Sum = {total_sum:,}\")\n",
    "print(f\"The NPM  = {(total_sum-initial_investment):,}\")   \n",
    "    "
   ]
  },
  {
   "cell_type": "code",
   "execution_count": 7,
   "id": "4499bee8-b392-41e2-8f73-50d218fab51d",
   "metadata": {},
   "outputs": [],
   "source": [
    "def get_net_present_value(cash_flow2,interest2,initial_investment2):\n",
    "    total_sum2 = 0\n",
    "    print(len(cash_flow2))\n",
    "    for i2 in range(0,len(cash_flow2)):\n",
    "        numerator2 = cash_flow2[i2]\n",
    "        denominator2 = (1+interest2)**(i2+1)\n",
    "        total_sum2 = total_sum2 + (numerator2/denominator2)\n",
    "    print(f\"The Total Sum = {total_sum2:,}\")\n",
    "    print(f\"The NPM  = {(total_sum2 - initial_investment2):,}\")\n",
    "    return (total_sum2 - initial_investment2)\n"
   ]
  },
  {
   "cell_type": "code",
   "execution_count": 8,
   "id": "e23d463a-e63e-4fd0-9d6d-7b0b870d15ab",
   "metadata": {},
   "outputs": [
    {
     "name": "stdout",
     "output_type": "stream",
     "text": [
      "4\n",
      "The Total Sum = 1,267.946178539717\n",
      "The NPM  = 267.94617853971704\n"
     ]
    },
    {
     "data": {
      "text/plain": [
       "267.94617853971704"
      ]
     },
     "execution_count": 8,
     "metadata": {},
     "output_type": "execute_result"
    }
   ],
   "source": [
    "get_net_present_value([400,400,400,400],0.1,1000)\n"
   ]
  },
  {
   "cell_type": "code",
   "execution_count": 21,
   "id": "48afab40-ff87-4c43-a4c4-bd2841657b92",
   "metadata": {},
   "outputs": [],
   "source": [
    "import numpy as np\n",
    "import numpy_financial as npf\n",
    "interest_rate3 = 0.1\n",
    "cash_flows3 = [-1000,400,400,400,400]\n"
   ]
  },
  {
   "cell_type": "code",
   "execution_count": 22,
   "id": "29bd6be7-9671-4f99-9b7a-f3593fde18ed",
   "metadata": {},
   "outputs": [
    {
     "data": {
      "text/plain": [
       "267.94617853971704"
      ]
     },
     "execution_count": 22,
     "metadata": {},
     "output_type": "execute_result"
    }
   ],
   "source": [
    "npf.npv(interest_rate3,cash_flows3)\n"
   ]
  },
  {
   "cell_type": "code",
   "execution_count": null,
   "id": "eb5586fb-a496-42b6-981f-159b1d719525",
   "metadata": {},
   "outputs": [],
   "source": []
  },
  {
   "cell_type": "code",
   "execution_count": null,
   "id": "dc102930-26d0-46bb-94c2-a1df7038a1b3",
   "metadata": {},
   "outputs": [],
   "source": []
  }
 ],
 "metadata": {
  "kernelspec": {
   "display_name": "Python 3 (ipykernel)",
   "language": "python",
   "name": "python3"
  },
  "language_info": {
   "codemirror_mode": {
    "name": "ipython",
    "version": 3
   },
   "file_extension": ".py",
   "mimetype": "text/x-python",
   "name": "python",
   "nbconvert_exporter": "python",
   "pygments_lexer": "ipython3",
   "version": "3.7.11"
  }
 },
 "nbformat": 4,
 "nbformat_minor": 5
}
