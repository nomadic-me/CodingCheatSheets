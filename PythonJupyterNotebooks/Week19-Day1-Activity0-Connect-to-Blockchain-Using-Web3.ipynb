{
 "cells": [
  {
   "cell_type": "code",
   "execution_count": 13,
   "metadata": {},
   "outputs": [],
   "source": [
    "# Import the Web3 library\n",
    "#from web3 import Web3\n",
    "from web3.auto import w3\n",
    "\n",
    "# Import the RPC Provider\n",
    "from web3 import EthereumTesterProvider\n",
    "from eth_tester import EthereumTester, MockBackend\n",
    "#>>> t = EthereumTester(backend=MockBackend())\n"
   ]
  },
  {
   "cell_type": "code",
   "execution_count": 14,
   "metadata": {},
   "outputs": [
    {
     "data": {
      "text/plain": [
       "('0xaBbACadABa000000000000000000000000000000',\n",
       " '0xaBbACaDaBA000000000000000000000000000001',\n",
       " '0xAbbAcaDaBA000000000000000000000000000002',\n",
       " '0xabBACadaBA000000000000000000000000000003',\n",
       " '0xabbAcADABa000000000000000000000000000004',\n",
       " '0xaBBACADABA000000000000000000000000000005',\n",
       " '0xaBbaCadaBA000000000000000000000000000006',\n",
       " '0xAbbAcAdaBA000000000000000000000000000007',\n",
       " '0xaBBAcadabA000000000000000000000000000008',\n",
       " '0xABbacaDabA000000000000000000000000000009')"
      ]
     },
     "execution_count": 14,
     "metadata": {},
     "output_type": "execute_result"
    }
   ],
   "source": [
    "t = EthereumTester(backend=MockBackend())\n",
    "t.get_accounts()"
   ]
  },
  {
   "cell_type": "code",
   "execution_count": 8,
   "metadata": {},
   "outputs": [
    {
     "name": "stderr",
     "output_type": "stream",
     "text": [
      "/Users/satishsurath/opt/anaconda3/envs/dev3.7/lib/python3.7/site-packages/eth_tester/backends/__init__.py:31: UserWarning: Ethereum Tester: No backend was explicitely set, and no *full* backends were available.  Falling back to the `MockBackend` which does not support all EVM functionality.  Please refer to the `eth-tester` documentation for information on what backends are available and how to set them.\n",
      "  \"Ethereum Tester: No backend was explicitely set, and no *full* \"\n"
     ]
    }
   ],
   "source": [
    "\n",
    "# Create an instance of Web3\n",
    "w3 = Web3()\n",
    "\n",
    "# Create an instance of the EthereumTesterProvider\n",
    "provider = EthereumTesterProvider()\n",
    "\n",
    "\n",
    "# Update the Web3 instance to include the provider\n",
    "w3 = Web3(provider)\n",
    "#w3 = Web3(Web3.IPCProvider('./path/to/geth.ipc'))\n",
    "\n"
   ]
  },
  {
   "cell_type": "code",
   "execution_count": 9,
   "metadata": {},
   "outputs": [
    {
     "data": {
      "text/plain": [
       "True"
      ]
     },
     "execution_count": 9,
     "metadata": {},
     "output_type": "execute_result"
    }
   ],
   "source": [
    "w3.isConnected()"
   ]
  },
  {
   "cell_type": "code",
   "execution_count": null,
   "metadata": {},
   "outputs": [],
   "source": [
    "# Access information for the most recent block\n",
    "w3.eth.get_block('latest')\n",
    "\n",
    "# Print a list of accounts on the blockchain\n",
    "print(w3.eth.accounts)\n",
    "\n",
    "# Access the balance of an account using the address\n",
    "print(w3.eth.get_balance(\"0xaBbACadABa000000000000000000000000000000\"))\n",
    "\n",
    "# Access the balance of an account using the address\n",
    "balance = w3.eth.get_balance(\"0xaBbACadABa000000000000000000000000000000\")\n",
    "\n",
    "\n",
    "# Convert balance from wei to ether\n",
    "w3.fromWei(balance, 'ether')"
   ]
  },
  {
   "cell_type": "code",
   "execution_count": null,
   "metadata": {},
   "outputs": [],
   "source": [
    "for a in w3.eth.accounts:\n",
    "    print(a)"
   ]
  },
  {
   "cell_type": "code",
   "execution_count": null,
   "metadata": {},
   "outputs": [],
   "source": [
    "print(type(w3.eth.accounts))"
   ]
  },
  {
   "cell_type": "code",
   "execution_count": null,
   "metadata": {},
   "outputs": [],
   "source": [
    "type(w3.eth.get_balance(\"0xaBbACadABa000000000000000000000000000000\"))"
   ]
  },
  {
   "cell_type": "code",
   "execution_count": null,
   "metadata": {},
   "outputs": [],
   "source": [
    "for a in w3.eth.accounts:\n",
    "    print(a + \" has a balance of \" + str(w3.eth.get_balance(a)) + \" Ether\" )\n"
   ]
  },
  {
   "cell_type": "code",
   "execution_count": null,
   "metadata": {},
   "outputs": [],
   "source": []
  }
 ],
 "metadata": {
  "kernelspec": {
   "display_name": "Python 3 (ipykernel)",
   "language": "python",
   "name": "python3"
  },
  "language_info": {
   "codemirror_mode": {
    "name": "ipython",
    "version": 3
   },
   "file_extension": ".py",
   "mimetype": "text/x-python",
   "name": "python",
   "nbconvert_exporter": "python",
   "pygments_lexer": "ipython3",
   "version": "3.7.7"
  }
 },
 "nbformat": 4,
 "nbformat_minor": 4
}
