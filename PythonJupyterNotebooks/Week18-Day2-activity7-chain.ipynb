{
 "cells": [
  {
   "cell_type": "code",
   "execution_count": 1,
   "id": "18cca48c-1750-49dc-b239-214d2dc6ef66",
   "metadata": {},
   "outputs": [],
   "source": [
    "# Imports\n",
    "from dataclasses import dataclass\n",
    "from datetime import datetime\n",
    "from typing import Any\n",
    "import hashlib\n",
    "from typing import List\n"
   ]
  },
  {
   "cell_type": "code",
   "execution_count": 2,
   "id": "8a3baa9b-429f-41d8-a8ba-c89106f43e15",
   "metadata": {},
   "outputs": [],
   "source": [
    "\n",
    "# Creating a dataclass called Block\n",
    "@dataclass\n",
    "class Block:\n",
    "    data: Any\n",
    "    creator_id: int\n",
    "    prev_hash: str = \"0\"\n",
    "    timestamp: str = datetime.utcnow().strftime(\"%H:%M:%S\")\n",
    "\n",
    "    def hash_block(self):\n",
    "        sha = hashlib.sha256()\n",
    "\n",
    "        data = str(self.data).encode()\n",
    "        sha.update(data)\n",
    "\n",
    "        timestamp = str(self.timestamp).encode()\n",
    "        sha.update(timestamp)\n",
    "\n",
    "        prev_hash = str(self.prev_hash).encode()\n",
    "        sha.update(prev_hash)\n",
    "\n",
    "        return sha.hexdigest()\n",
    "\n"
   ]
  },
  {
   "cell_type": "code",
   "execution_count": 3,
   "id": "beeb5feb-f92c-4ca1-a5db-469263108f21",
   "metadata": {},
   "outputs": [],
   "source": [
    "\n",
    "# Creating a data class called PyChain\n",
    "@dataclass\n",
    "class PyChain:\n",
    "    chain: List[Block]\n",
    "\n",
    "    def add_block(self, block):\n",
    "        self.chain += [block]\n"
   ]
  },
  {
   "cell_type": "code",
   "execution_count": 4,
   "id": "ecd342f6-206e-47d1-9613-ce5fdb1fa3c3",
   "metadata": {},
   "outputs": [],
   "source": [
    "\n",
    "# Initiating a new chain with the Genesis block\n",
    "pychain = PyChain([Block(data=\"Genesis\", creator_id=0)])\n"
   ]
  },
  {
   "cell_type": "code",
   "execution_count": 5,
   "id": "95e866e4-2e16-4394-93a8-ffcf6a808c99",
   "metadata": {},
   "outputs": [
    {
     "name": "stdout",
     "output_type": "stream",
     "text": [
      "PyChain(chain=[Block(data='Genesis', creator_id=0, prev_hash='0', timestamp='16:37:21')])\n"
     ]
    }
   ],
   "source": [
    "\n",
    "print(pychain)\n",
    "\n",
    "\n",
    "\n",
    "\n"
   ]
  },
  {
   "cell_type": "code",
   "execution_count": 6,
   "id": "64269d21-d22e-4308-9ab1-e9553baa7dde",
   "metadata": {},
   "outputs": [],
   "source": [
    "\n",
    "# Access the last block in the chain\n",
    "prev_block = pychain.chain[-1]\n",
    "\n",
    "\n"
   ]
  },
  {
   "cell_type": "code",
   "execution_count": 7,
   "id": "c4a61405-a860-4ffc-8adb-61c2a80bf67e",
   "metadata": {},
   "outputs": [],
   "source": [
    "\n",
    "# Calculate the hash for the last block in the chain\n",
    "prev_block_hash = prev_block.hash_block()\n"
   ]
  },
  {
   "cell_type": "code",
   "execution_count": 8,
   "id": "221a3bc5-2467-476c-8737-c34985e4ca1b",
   "metadata": {},
   "outputs": [],
   "source": [
    "\n",
    "# Create a new block\n",
    "new_block = Block(data=\"new_block\", creator_id=42, prev_hash=prev_block_hash)\n",
    "\n",
    "\n",
    "\n",
    "\n"
   ]
  },
  {
   "cell_type": "code",
   "execution_count": 9,
   "id": "2ba90e82-1c8a-470e-9807-89423111aff0",
   "metadata": {},
   "outputs": [
    {
     "name": "stdout",
     "output_type": "stream",
     "text": [
      "PyChain(chain=[Block(data='Genesis', creator_id=0, prev_hash='0', timestamp='16:37:21'), Block(data='new_block', creator_id=42, prev_hash='c03149491310ea71961b5d221aeb8aa99c3082e6e4d5663dd00148fcb0b84c2f', timestamp='16:37:21')])\n"
     ]
    }
   ],
   "source": [
    "# Add the new block to the chain\n",
    "pychain.add_block(new_block)\n",
    "print(pychain)\n",
    "\n"
   ]
  },
  {
   "cell_type": "code",
   "execution_count": 10,
   "id": "976ec519-5992-44b8-b99e-5d34cfee7131",
   "metadata": {},
   "outputs": [],
   "source": [
    "\n",
    "# # Calculate the block hash using the new method\n",
    "# block_hash = new_block.hash_block()\n",
    "\n",
    "# # Print the block's hash\n",
    "# print(block_hash)"
   ]
  },
  {
   "cell_type": "code",
   "execution_count": null,
   "id": "530788c3-db09-47f6-8f19-7bcf12b42728",
   "metadata": {},
   "outputs": [],
   "source": []
  }
 ],
 "metadata": {
  "kernelspec": {
   "display_name": "Python 3 (ipykernel)",
   "language": "python",
   "name": "python3"
  },
  "language_info": {
   "codemirror_mode": {
    "name": "ipython",
    "version": 3
   },
   "file_extension": ".py",
   "mimetype": "text/x-python",
   "name": "python",
   "nbconvert_exporter": "python",
   "pygments_lexer": "ipython3",
   "version": "3.8.13"
  }
 },
 "nbformat": 4,
 "nbformat_minor": 5
}
