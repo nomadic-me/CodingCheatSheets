{
 "cells": [
  {
   "cell_type": "code",
   "execution_count": 10,
   "id": "7dddb0b7-409c-4394-8795-97a273e40589",
   "metadata": {},
   "outputs": [],
   "source": [
    "# Hello Variable World Activity\n",
    "import numpy as np\n",
    "# Formulas Needed:\n",
    "# Increase = Current Price - Original Price\n",
    "# Percent Increase = Increase / Original x 100\n",
    "\n",
    "# Create float variable for original_price\n",
    "original_price = 198.87\n",
    "\n",
    "# Create float variable for current_price\n",
    "current_price = 164.85\n",
    "\n",
    "# Calculate difference between current_price and original_price\n",
    "increase = current_price - original_price\n",
    "\n",
    "# Calculate percent_increase\n",
    "percent_increase = increase / original_price * 100\n",
    "\n",
    "\n"
   ]
  },
  {
   "cell_type": "code",
   "execution_count": 12,
   "id": "ee8623f2-5d11-46a5-b7a8-cda0ffa701e0",
   "metadata": {},
   "outputs": [
    {
     "name": "stdout",
     "output_type": "stream",
     "text": [
      "Apple's original stock price was $198.87\n",
      "Apples current stock price is $164.85\n",
      "Apples price increase is -17.11%\n"
     ]
    }
   ],
   "source": [
    "# Print original_price\n",
    "print(f\"Apple's original stock price was ${original_price}\")\n",
    "\n",
    "# Print current_price\n",
    "print(f\"Apples current stock price is ${current_price}\")\n",
    "\n",
    "# Print percent_increase\n",
    "print(f\"Apples price increase is {np.round(percent_increase, 2)}%\")\n",
    "\n",
    "# CHALLENGE:\n",
    "# Use a format specifier with the f-string to print the percent increase with two decimal places:\n",
    "\n"
   ]
  },
  {
   "cell_type": "code",
   "execution_count": null,
   "id": "bd344862-e716-49c5-bec7-45bd090bdddb",
   "metadata": {},
   "outputs": [],
   "source": []
  },
  {
   "cell_type": "code",
   "execution_count": null,
   "id": "62544426-daf4-4db5-acc6-4afc3310cb73",
   "metadata": {},
   "outputs": [],
   "source": []
  }
 ],
 "metadata": {
  "kernelspec": {
   "display_name": "Python 3 (ipykernel)",
   "language": "python",
   "name": "python3"
  },
  "language_info": {
   "codemirror_mode": {
    "name": "ipython",
    "version": 3
   },
   "file_extension": ".py",
   "mimetype": "text/x-python",
   "name": "python",
   "nbconvert_exporter": "python",
   "pygments_lexer": "ipython3",
   "version": "3.9.7"
  }
 },
 "nbformat": 4,
 "nbformat_minor": 5
}
