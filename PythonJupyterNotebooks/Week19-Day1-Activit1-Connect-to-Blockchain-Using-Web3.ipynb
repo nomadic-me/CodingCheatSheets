{
 "cells": [
  {
   "cell_type": "code",
   "execution_count": 6,
   "metadata": {},
   "outputs": [
    {
     "name": "stdout",
     "output_type": "stream",
     "text": [
      "AttributeDict({'number': 0, 'parentHash': HexBytes('0x0000000000000000000000000000000000000000000000000000000000000000'), 'nonce': HexBytes('0x000000000000002a'), 'sha3Uncles': HexBytes('0x1dcc4de8dec75d7aab85b567b6ccd41ad312451b948a7413f0a142fd40d49347'), 'logs_bloom': 0, 'transactionsRoot': HexBytes('0x56e81f171bcc55a6ff8345e692c0f86e5b48e01b996cadc001622fb5e363b421'), 'receipts_root': '0x56e81f171bcc55a6ff8345e692c0f86e5b48e01b996cadc001622fb5e363b421', 'stateRoot': HexBytes('0x56e81f171bcc55a6ff8345e692c0f86e5b48e01b996cadc001622fb5e363b421'), 'miner': '0x0000000000000000000000000000000000000000', 'difficulty': 131072, 'totalDifficulty': 131072, 'size': 0, 'extraData': HexBytes('0x0000000000000000000000000000000000000000000000000000000000000000'), 'gasLimit': 3141592, 'gasUsed': 0, 'timestamp': 1656547418, 'transactions': [], 'uncles': [], 'hash': HexBytes('0x47654b559ac2bf68e7913c01318f0ab2a0c19a33dbf6600a069420cf3a221c36')})\n",
      "['0xaBbACadABa000000000000000000000000000000', '0xaBbACaDaBA000000000000000000000000000001', '0xAbbAcaDaBA000000000000000000000000000002', '0xabBACadaBA000000000000000000000000000003', '0xabbAcADABa000000000000000000000000000004', '0xaBBACADABA000000000000000000000000000005', '0xaBbaCadaBA000000000000000000000000000006', '0xAbbAcAdaBA000000000000000000000000000007', '0xaBBAcadabA000000000000000000000000000008', '0xABbacaDabA000000000000000000000000000009']\n",
      "1000000000000000000000000\n"
     ]
    },
    {
     "name": "stderr",
     "output_type": "stream",
     "text": [
      "/Users/satishsurath/opt/anaconda3/envs/dev3.7/lib/python3.7/site-packages/pkg_resources/__init__.py:126: PkgResourcesDeprecationWarning: 4.0.0-unsupported is an invalid version and will not be supported in a future release\n",
      "  PkgResourcesDeprecationWarning,\n",
      "/Users/satishsurath/opt/anaconda3/envs/dev3.7/lib/python3.7/site-packages/pkg_resources/_vendor/packaging/version.py:114: DeprecationWarning: Creating a LegacyVersion has been deprecated and will be removed in the next major release\n",
      "  DeprecationWarning,\n",
      "/Users/satishsurath/opt/anaconda3/envs/dev3.7/lib/python3.7/site-packages/eth_tester/backends/__init__.py:31: UserWarning: Ethereum Tester: No backend was explicitely set, and no *full* backends were available.  Falling back to the `MockBackend` which does not support all EVM functionality.  Please refer to the `eth-tester` documentation for information on what backends are available and how to set them.\n",
      "  \"Ethereum Tester: No backend was explicitely set, and no *full* \"\n"
     ]
    },
    {
     "data": {
      "text/plain": [
       "Decimal('1000000')"
      ]
     },
     "execution_count": 6,
     "metadata": {},
     "output_type": "execute_result"
    }
   ],
   "source": [
    "# Import the Web3 library\n",
    "from web3 import Web3\n",
    "\n",
    "# Import the RPC Provider\n",
    "from web3 import EthereumTesterProvider\n",
    "\n",
    "# Create an instance of Web3\n",
    "w3 = Web3()\n",
    "\n",
    "# Create an instance of the EthereumTesterProvider\n",
    "provider = EthereumTesterProvider()\n",
    "\n",
    "# Update the Web3 instance to include the provider\n",
    "w3 = Web3(provider)\n",
    "\n",
    "# Access information for the most recent block\n",
    "print(w3.eth.get_block('latest'))\n",
    "\n",
    "# Print a list of accounts on the blockchain\n",
    "print(w3.eth.accounts)\n",
    "\n",
    "# Access the balance of an account using the address\n",
    "print(w3.eth.get_balance(\"0xaBbACadABa000000000000000000000000000000\"))\n",
    "\n",
    "# Access the balance of an account using the address\n",
    "balance = w3.eth.get_balance(\"0xaBbACadABa000000000000000000000000000000\")\n",
    "\n",
    "\n",
    "# Convert balance from wei to ether\n",
    "w3.fromWei(balance, 'ether')"
   ]
  },
  {
   "cell_type": "code",
   "execution_count": 2,
   "metadata": {},
   "outputs": [
    {
     "name": "stdout",
     "output_type": "stream",
     "text": [
      "0xaBbACadABa000000000000000000000000000000\n",
      "0xaBbACaDaBA000000000000000000000000000001\n",
      "0xAbbAcaDaBA000000000000000000000000000002\n",
      "0xabBACadaBA000000000000000000000000000003\n",
      "0xabbAcADABa000000000000000000000000000004\n",
      "0xaBBACADABA000000000000000000000000000005\n",
      "0xaBbaCadaBA000000000000000000000000000006\n",
      "0xAbbAcAdaBA000000000000000000000000000007\n",
      "0xaBBAcadabA000000000000000000000000000008\n",
      "0xABbacaDabA000000000000000000000000000009\n"
     ]
    }
   ],
   "source": [
    "for a in w3.eth.accounts:\n",
    "    print(a)"
   ]
  },
  {
   "cell_type": "code",
   "execution_count": 3,
   "metadata": {},
   "outputs": [
    {
     "name": "stdout",
     "output_type": "stream",
     "text": [
      "<class 'list'>\n"
     ]
    }
   ],
   "source": [
    "print(type(w3.eth.accounts))"
   ]
  },
  {
   "cell_type": "code",
   "execution_count": 4,
   "metadata": {},
   "outputs": [
    {
     "data": {
      "text/plain": [
       "int"
      ]
     },
     "execution_count": 4,
     "metadata": {},
     "output_type": "execute_result"
    }
   ],
   "source": [
    "type(w3.eth.get_balance(\"0xaBbACadABa000000000000000000000000000000\"))"
   ]
  },
  {
   "cell_type": "code",
   "execution_count": 9,
   "metadata": {},
   "outputs": [
    {
     "name": "stdout",
     "output_type": "stream",
     "text": [
      "0xaBbACadABa000000000000000000000000000000 has a balance of 1000000 Ether\n",
      "0xaBbACaDaBA000000000000000000000000000001 has a balance of 1000000 Ether\n",
      "0xAbbAcaDaBA000000000000000000000000000002 has a balance of 1000000 Ether\n",
      "0xabBACadaBA000000000000000000000000000003 has a balance of 1000000 Ether\n",
      "0xabbAcADABa000000000000000000000000000004 has a balance of 1000000 Ether\n",
      "0xaBBACADABA000000000000000000000000000005 has a balance of 1000000 Ether\n",
      "0xaBbaCadaBA000000000000000000000000000006 has a balance of 1000000 Ether\n",
      "0xAbbAcAdaBA000000000000000000000000000007 has a balance of 1000000 Ether\n",
      "0xaBBAcadabA000000000000000000000000000008 has a balance of 1000000 Ether\n",
      "0xABbacaDabA000000000000000000000000000009 has a balance of 1000000 Ether\n"
     ]
    }
   ],
   "source": [
    "for a in w3.eth.accounts:\n",
    "    print(a + \" has a balance of \" + str(w3.fromWei(w3.eth.get_balance(a), 'ether')) + \" Ether\" )\n"
   ]
  },
  {
   "cell_type": "code",
   "execution_count": null,
   "metadata": {},
   "outputs": [],
   "source": []
  }
 ],
 "metadata": {
  "kernelspec": {
   "display_name": "Python 3 (ipykernel)",
   "language": "python",
   "name": "python3"
  },
  "language_info": {
   "codemirror_mode": {
    "name": "ipython",
    "version": 3
   },
   "file_extension": ".py",
   "mimetype": "text/x-python",
   "name": "python",
   "nbconvert_exporter": "python",
   "pygments_lexer": "ipython3",
   "version": "3.7.7"
  }
 },
 "nbformat": 4,
 "nbformat_minor": 4
}
